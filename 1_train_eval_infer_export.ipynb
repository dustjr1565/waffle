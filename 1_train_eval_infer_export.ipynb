{
 "cells": [
  {
   "attachments": {},
   "cell_type": "markdown",
   "metadata": {},
   "source": [
    "# Create Ultralytics Hub"
   ]
  },
  {
   "cell_type": "code",
   "execution_count": 1,
   "metadata": {},
   "outputs": [
    {
     "name": "stderr",
     "output_type": "stream",
     "text": [
      "/home/lhj/anaconda3/envs/waffle/lib/python3.9/site-packages/tqdm/auto.py:21: TqdmWarning: IProgress not found. Please update jupyter and ipywidgets. See https://ipywidgets.readthedocs.io/en/stable/user_install.html\n",
      "  from .autonotebook import tqdm as notebook_tqdm\n",
      "/home/lhj/anaconda3/envs/waffle/lib/python3.9/site-packages/waffle_hub/__init__.py:16: UserWarning: \n",
      "            torch 1.13.1+cu117 has not been tested.\n",
      "            We recommend you to use one of ['1.13.1']\n",
      "            \n",
      "  warnings.warn(\n",
      "/home/lhj/anaconda3/envs/waffle/lib/python3.9/site-packages/waffle_hub/__init__.py:56: UserWarning: \n",
      "                ultralytics 8.0.91 has not been tested.\n",
      "                We recommend you to use one of ['8.0.87']\n",
      "                \n",
      "  warnings.warn(\n"
     ]
    }
   ],
   "source": [
    "from waffle_hub.hub.adapter.ultralytics import UltralyticsHub\n",
    "from waffle_hub import TaskType"
   ]
  },
  {
   "cell_type": "code",
   "execution_count": 2,
   "metadata": {},
   "outputs": [
    {
     "data": {
      "text/plain": [
       "{'object_detection': {'yolov8': ['n', 's', 'm', 'l', 'x']},\n",
       " 'classification': {'yolov8': ['n', 's', 'm', 'l', 'x']},\n",
       " 'instance_segmentation': {'yolov8': ['n', 's', 'm', 'l', 'x']}}"
      ]
     },
     "execution_count": 2,
     "metadata": {},
     "output_type": "execute_result"
    }
   ],
   "source": [
    "UltralyticsHub.MODEL_TYPES"
   ]
  },
  {
   "cell_type": "code",
   "execution_count": 3,
   "metadata": {},
   "outputs": [],
   "source": [
    "ultralytics_hub = UltralyticsHub.new(\n",
    "    name=\"ultralytics_mnist_detection\",\n",
    "    task=TaskType.OBJECT_DETECTION,\n",
    "    model_type=\"yolov8\",\n",
    "    model_size=\"n\",\n",
    "    categories=[\"1\", \"2\"]\n",
    ")"
   ]
  },
  {
   "cell_type": "code",
   "execution_count": 4,
   "metadata": {},
   "outputs": [
    {
     "data": {
      "text/plain": [
       "[{'supercategory': 'object', 'name': '1'},\n",
       " {'supercategory': 'object', 'name': '2'}]"
      ]
     },
     "execution_count": 4,
     "metadata": {},
     "output_type": "execute_result"
    }
   ],
   "source": [
    "ultralytics_hub.categories"
   ]
  },
  {
   "attachments": {},
   "cell_type": "markdown",
   "metadata": {},
   "source": [
    "# Create Huggingface Hub "
   ]
  },
  {
   "cell_type": "code",
   "execution_count": 5,
   "metadata": {},
   "outputs": [
    {
     "name": "stderr",
     "output_type": "stream",
     "text": [
      "/home/lhj/anaconda3/envs/waffle/lib/python3.9/site-packages/waffle_hub/__init__.py:56: UserWarning: \n",
      "                transformers 4.28.1 has not been tested.\n",
      "                We recommend you to use one of ['4.27.4']\n",
      "                \n",
      "  warnings.warn(\n"
     ]
    }
   ],
   "source": [
    "from waffle_hub.hub.adapter.hugging_face import HuggingFaceHub\n",
    "from waffle_hub import TaskType"
   ]
  },
  {
   "cell_type": "code",
   "execution_count": 6,
   "metadata": {},
   "outputs": [
    {
     "data": {
      "text/plain": [
       "{'object_detection': {'DETA': {'base': 'jozhang97/deta-resnet-50'},\n",
       "  'DETR': {'base': 'facebook/detr-resnet-50',\n",
       "   'large': 'facebook/detr-resnet-101'},\n",
       "  'YOLOS': {'tiny': 'hustvl/yolos-tiny'}},\n",
       " 'classification': {'ViT': {'tiny': 'WinKawaks/vit-tiny-patch16-224',\n",
       "   'base': 'google/vit-base-patch16-224'}}}"
      ]
     },
     "execution_count": 6,
     "metadata": {},
     "output_type": "execute_result"
    }
   ],
   "source": [
    "HuggingFaceHub.MODEL_TYPES"
   ]
  },
  {
   "cell_type": "code",
   "execution_count": 7,
   "metadata": {},
   "outputs": [],
   "source": [
    "huggingface_hub = HuggingFaceHub.new(\n",
    "    name=\"huggingface_mnist_detection\",\n",
    "    task=TaskType.OBJECT_DETECTION,\n",
    "    model_type=\"DETR\",\n",
    "    model_size=\"base\",\n",
    "    categories=[\"1\", \"2\"]\n",
    ")"
   ]
  },
  {
   "attachments": {},
   "cell_type": "markdown",
   "metadata": {},
   "source": [
    "# Train"
   ]
  },
  {
   "attachments": {},
   "cell_type": "markdown",
   "metadata": {},
   "source": [
    "## Load Dataset"
   ]
  },
  {
   "cell_type": "code",
   "execution_count": 8,
   "metadata": {},
   "outputs": [],
   "source": [
    "from waffle_hub.dataset import Dataset\n",
    "from waffle_hub import DataType\n",
    "\n",
    "dataset = Dataset.load(\"mnist_det\")"
   ]
  },
  {
   "attachments": {},
   "cell_type": "markdown",
   "metadata": {},
   "source": [
    "## Ultralytics"
   ]
  },
  {
   "cell_type": "code",
   "execution_count": 9,
   "metadata": {},
   "outputs": [
    {
     "name": "stderr",
     "output_type": "stream",
     "text": [
      "/home/lhj/anaconda3/envs/waffle/lib/python3.9/site-packages/waffle_hub/dataset/dataset.py:1051: UserWarning: datasets/mnist_det/exports/YOLO already exists. Removing exist export and override.\n",
      "  warnings.warn(f\"{export_dir} already exists. Removing exist export and override.\")\n",
      "Ultralytics YOLOv8.0.91 🚀 Python-3.9.16 torch-1.13.1+cu117 CUDA:0 (NVIDIA GeForce RTX 4090, 24215MiB)\n",
      "\u001b[34m\u001b[1myolo/engine/trainer: \u001b[0mtask=detect, mode=train, model=yolov8n.pt, data=/home/lhj/ws/dev/waffle/datasets/mnist_det/exports/YOLO/data.yaml, epochs=50, patience=50, batch=16, imgsz=320, save=True, save_period=-1, cache=False, device=0, workers=2, project=hubs/ultralytics_mnist_detection, name=artifacts, exist_ok=False, pretrained=False, optimizer=SGD, verbose=True, seed=0, deterministic=True, single_cls=False, rect=True, cos_lr=False, close_mosaic=0, resume=False, amp=True, overlap_mask=True, mask_ratio=4, dropout=0.0, val=True, split=val, save_json=False, save_hybrid=False, conf=None, iou=0.7, max_det=300, half=False, dnn=False, plots=True, source=None, show=False, save_txt=False, save_conf=False, save_crop=False, show_labels=True, show_conf=True, vid_stride=1, line_thickness=3, visualize=False, augment=False, agnostic_nms=False, classes=None, retina_masks=False, boxes=True, format=torchscript, keras=False, optimize=False, int8=False, dynamic=False, simplify=False, opset=None, workspace=4, nms=False, lr0=0.01, lrf=0.01, momentum=0.937, weight_decay=0.0005, warmup_epochs=3.0, warmup_momentum=0.8, warmup_bias_lr=0.1, box=7.5, cls=0.5, dfl=1.5, pose=12.0, kobj=1.0, label_smoothing=0.0, nbs=64, hsv_h=0.015, hsv_s=0.7, hsv_v=0.4, degrees=0.0, translate=0.1, scale=0.5, shear=0.0, perspective=0.0, flipud=0.0, fliplr=0.5, mosaic=1.0, mixup=0.0, copy_paste=0.0, cfg=None, v5loader=False, tracker=botsort.yaml, save_dir=hubs/ultralytics_mnist_detection/artifacts\n",
      "Overriding model.yaml nc=80 with nc=2\n",
      "\n",
      "                   from  n    params  module                                       arguments                     \n",
      "  0                  -1  1       464  ultralytics.nn.modules.Conv                  [3, 16, 3, 2]                 \n",
      "  1                  -1  1      4672  ultralytics.nn.modules.Conv                  [16, 32, 3, 2]                \n",
      "  2                  -1  1      7360  ultralytics.nn.modules.C2f                   [32, 32, 1, True]             \n",
      "  3                  -1  1     18560  ultralytics.nn.modules.Conv                  [32, 64, 3, 2]                \n",
      "  4                  -1  2     49664  ultralytics.nn.modules.C2f                   [64, 64, 2, True]             \n",
      "  5                  -1  1     73984  ultralytics.nn.modules.Conv                  [64, 128, 3, 2]               \n",
      "  6                  -1  2    197632  ultralytics.nn.modules.C2f                   [128, 128, 2, True]           \n",
      "  7                  -1  1    295424  ultralytics.nn.modules.Conv                  [128, 256, 3, 2]              \n",
      "  8                  -1  1    460288  ultralytics.nn.modules.C2f                   [256, 256, 1, True]           \n",
      "  9                  -1  1    164608  ultralytics.nn.modules.SPPF                  [256, 256, 5]                 \n",
      " 10                  -1  1         0  torch.nn.modules.upsampling.Upsample         [None, 2, 'nearest']          \n",
      " 11             [-1, 6]  1         0  ultralytics.nn.modules.Concat                [1]                           \n",
      " 12                  -1  1    148224  ultralytics.nn.modules.C2f                   [384, 128, 1]                 \n",
      " 13                  -1  1         0  torch.nn.modules.upsampling.Upsample         [None, 2, 'nearest']          \n",
      " 14             [-1, 4]  1         0  ultralytics.nn.modules.Concat                [1]                           \n",
      " 15                  -1  1     37248  ultralytics.nn.modules.C2f                   [192, 64, 1]                  \n",
      " 16                  -1  1     36992  ultralytics.nn.modules.Conv                  [64, 64, 3, 2]                \n",
      " 17            [-1, 12]  1         0  ultralytics.nn.modules.Concat                [1]                           \n",
      " 18                  -1  1    123648  ultralytics.nn.modules.C2f                   [192, 128, 1]                 \n",
      " 19                  -1  1    147712  ultralytics.nn.modules.Conv                  [128, 128, 3, 2]              \n",
      " 20             [-1, 9]  1         0  ultralytics.nn.modules.Concat                [1]                           \n",
      " 21                  -1  1    493056  ultralytics.nn.modules.C2f                   [384, 256, 1]                 \n",
      " 22        [15, 18, 21]  1    751702  ultralytics.nn.modules.Detect                [2, [64, 128, 256]]           \n",
      "Model summary: 225 layers, 3011238 parameters, 3011222 gradients, 8.2 GFLOPs\n",
      "\n",
      "Transferred 319/355 items from pretrained weights\n",
      "\u001b[34m\u001b[1mTensorBoard: \u001b[0mStart with 'tensorboard --logdir hubs/ultralytics_mnist_detection/artifacts', view at http://localhost:6006/\n",
      "\u001b[34m\u001b[1mAMP: \u001b[0mrunning Automatic Mixed Precision (AMP) checks with YOLOv8n...\n",
      "\u001b[34m\u001b[1mAMP: \u001b[0mchecks passed ✅\n",
      "\u001b[34m\u001b[1moptimizer:\u001b[0m SGD(lr=0.01) with parameter groups 57 weight(decay=0.0), 64 weight(decay=0.0005), 63 bias\n",
      "\u001b[34m\u001b[1mtrain: \u001b[0mScanning /home/lhj/ws/dev/waffle/datasets/mnist_det/exports/YOLO/train/labels... 80 images, 0 backgrounds, 0 corrupt: 100%|██████████| 80/80 [00:00<00:00, 6320.05it/s]\n",
      "\u001b[34m\u001b[1mtrain: \u001b[0mNew cache created: /home/lhj/ws/dev/waffle/datasets/mnist_det/exports/YOLO/train/labels.cache\n",
      "\u001b[34m\u001b[1malbumentations: \u001b[0mBlur(p=0.01, blur_limit=(3, 7)), MedianBlur(p=0.01, blur_limit=(3, 7)), ToGray(p=0.01), CLAHE(p=0.01, clip_limit=(1, 4.0), tile_grid_size=(8, 8))\n",
      "WARNING ⚠️ 'rect=True' is incompatible with DataLoader shuffle, setting shuffle=False\n",
      "\u001b[34m\u001b[1mval: \u001b[0mScanning /home/lhj/ws/dev/waffle/datasets/mnist_det/exports/YOLO/val/labels... 10 images, 0 backgrounds, 0 corrupt: 100%|██████████| 10/10 [00:00<00:00, 4193.05it/s]\n",
      "\u001b[34m\u001b[1mval: \u001b[0mNew cache created: /home/lhj/ws/dev/waffle/datasets/mnist_det/exports/YOLO/val/labels.cache\n",
      "Plotting labels to hubs/ultralytics_mnist_detection/artifacts/labels.jpg... \n",
      "Image sizes 320 train, 320 val\n",
      "Using 2 dataloader workers\n",
      "Logging results to \u001b[1mhubs/ultralytics_mnist_detection/artifacts\u001b[0m\n",
      "Starting training for 50 epochs...\n",
      "\n",
      "      Epoch    GPU_mem   box_loss   cls_loss   dfl_loss  Instances       Size\n",
      "       1/50     0.753G      1.519      4.172      1.084         16        320: 100%|██████████| 5/5 [00:00<00:00,  5.89it/s]\n",
      "/home/lhj/anaconda3/envs/waffle/lib/python3.9/site-packages/torch/optim/lr_scheduler.py:138: UserWarning: Detected call of `lr_scheduler.step()` before `optimizer.step()`. In PyTorch 1.1.0 and later, you should call them in the opposite order: `optimizer.step()` before `lr_scheduler.step()`.  Failure to do this will result in PyTorch skipping the first value of the learning rate schedule. See more details at https://pytorch.org/docs/stable/optim.html#how-to-adjust-learning-rate\n",
      "  warnings.warn(\"Detected call of `lr_scheduler.step()` before `optimizer.step()`. \"\n",
      "                 Class     Images  Instances      Box(P          R      mAP50  mAP50-95): 100%|██████████| 1/1 [00:00<00:00, 16.59it/s]\n",
      "                   all         10         10    0.00223      0.667     0.0155     0.0136\n",
      "\n",
      "      Epoch    GPU_mem   box_loss   cls_loss   dfl_loss  Instances       Size\n",
      "       2/50     0.753G      1.476      4.018      1.078         16        320: 100%|██████████| 5/5 [00:00<00:00,  7.98it/s]\n",
      "                 Class     Images  Instances      Box(P          R      mAP50  mAP50-95): 100%|██████████| 1/1 [00:00<00:00, 17.17it/s]\n",
      "                   all         10         10    0.00222      0.667    0.00832    0.00719\n",
      "\n",
      "      Epoch    GPU_mem   box_loss   cls_loss   dfl_loss  Instances       Size\n",
      "       3/50     0.763G      1.396      4.009     0.9768         15        320: 100%|██████████| 5/5 [00:00<00:00,  7.91it/s]\n",
      "                 Class     Images  Instances      Box(P          R      mAP50  mAP50-95): 100%|██████████| 1/1 [00:00<00:00, 16.47it/s]\n",
      "                   all         10         10    0.00336          1     0.0106    0.00718\n",
      "\n",
      "      Epoch    GPU_mem   box_loss   cls_loss   dfl_loss  Instances       Size\n",
      "       4/50     0.763G     0.8721        3.6     0.8468         16        320: 100%|██████████| 5/5 [00:00<00:00,  8.05it/s]\n",
      "                 Class     Images  Instances      Box(P          R      mAP50  mAP50-95): 100%|██████████| 1/1 [00:00<00:00, 16.76it/s]\n",
      "                   all         10         10    0.00322          1     0.0142     0.0107\n",
      "\n",
      "      Epoch    GPU_mem   box_loss   cls_loss   dfl_loss  Instances       Size\n",
      "       5/50     0.763G     0.9442      3.325     0.8637         15        320: 100%|██████████| 5/5 [00:00<00:00,  8.08it/s]\n",
      "                 Class     Images  Instances      Box(P          R      mAP50  mAP50-95): 100%|██████████| 1/1 [00:00<00:00, 16.62it/s]\n",
      "                   all         10         10    0.00326          1     0.0163     0.0141\n",
      "\n",
      "      Epoch    GPU_mem   box_loss   cls_loss   dfl_loss  Instances       Size\n",
      "       6/50     0.763G      0.936      2.551     0.8485         15        320: 100%|██████████| 5/5 [00:00<00:00,  8.16it/s]\n",
      "                 Class     Images  Instances      Box(P          R      mAP50  mAP50-95): 100%|██████████| 1/1 [00:00<00:00, 16.52it/s]\n",
      "                   all         10         10    0.00328          1     0.0178     0.0142\n",
      "\n",
      "      Epoch    GPU_mem   box_loss   cls_loss   dfl_loss  Instances       Size\n",
      "       7/50     0.763G      0.889      1.762     0.8642         14        320: 100%|██████████| 5/5 [00:00<00:00,  8.06it/s]\n",
      "                 Class     Images  Instances      Box(P          R      mAP50  mAP50-95): 100%|██████████| 1/1 [00:00<00:00, 16.74it/s]\n",
      "                   all         10         10     0.0032          1      0.648      0.414\n",
      "\n",
      "      Epoch    GPU_mem   box_loss   cls_loss   dfl_loss  Instances       Size\n",
      "       8/50     0.763G     0.8886      1.507      0.845         16        320: 100%|██████████| 5/5 [00:00<00:00,  8.14it/s]\n",
      "                 Class     Images  Instances      Box(P          R      mAP50  mAP50-95): 100%|██████████| 1/1 [00:00<00:00, 16.78it/s]\n",
      "                   all         10         10    0.00321          1      0.913      0.741\n",
      "\n",
      "      Epoch    GPU_mem   box_loss   cls_loss   dfl_loss  Instances       Size\n",
      "       9/50     0.763G      0.871      1.303     0.8618         16        320: 100%|██████████| 5/5 [00:00<00:00,  8.15it/s]\n",
      "                 Class     Images  Instances      Box(P          R      mAP50  mAP50-95): 100%|██████████| 1/1 [00:00<00:00, 17.05it/s]\n",
      "                   all         10         10     0.0033          1      0.773      0.601\n",
      "\n",
      "      Epoch    GPU_mem   box_loss   cls_loss   dfl_loss  Instances       Size\n",
      "      10/50     0.763G     0.9455      1.354      0.871         15        320: 100%|██████████| 5/5 [00:00<00:00,  8.11it/s]\n",
      "                 Class     Images  Instances      Box(P          R      mAP50  mAP50-95): 100%|██████████| 1/1 [00:00<00:00, 16.41it/s]\n",
      "                   all         10         10    0.00334          1      0.694      0.576\n",
      "\n",
      "      Epoch    GPU_mem   box_loss   cls_loss   dfl_loss  Instances       Size\n",
      "      11/50     0.763G      1.039      1.313     0.8635         16        320: 100%|██████████| 5/5 [00:00<00:00,  8.19it/s]\n",
      "                 Class     Images  Instances      Box(P          R      mAP50  mAP50-95): 100%|██████████| 1/1 [00:00<00:00, 17.05it/s]\n",
      "                   all         10         10    0.00345          1      0.776      0.623\n",
      "\n",
      "      Epoch    GPU_mem   box_loss   cls_loss   dfl_loss  Instances       Size\n",
      "      12/50     0.763G     0.8931      1.276     0.8205         15        320: 100%|██████████| 5/5 [00:00<00:00,  8.24it/s]\n",
      "                 Class     Images  Instances      Box(P          R      mAP50  mAP50-95): 100%|██████████| 1/1 [00:00<00:00, 16.54it/s]\n",
      "                   all         10         10          1      0.802      0.832      0.718\n",
      "\n",
      "      Epoch    GPU_mem   box_loss   cls_loss   dfl_loss  Instances       Size\n",
      "      13/50     0.763G     0.8568      1.178     0.8642         16        320: 100%|██████████| 5/5 [00:00<00:00,  7.93it/s]\n",
      "                 Class     Images  Instances      Box(P          R      mAP50  mAP50-95): 100%|██████████| 1/1 [00:00<00:00, 16.50it/s]\n",
      "                   all         10         10      0.513          1      0.954      0.693\n",
      "\n",
      "      Epoch    GPU_mem   box_loss   cls_loss   dfl_loss  Instances       Size\n",
      "      14/50     0.763G     0.8742      1.237      0.887         16        320: 100%|██████████| 5/5 [00:00<00:00,  7.97it/s]\n",
      "                 Class     Images  Instances      Box(P          R      mAP50  mAP50-95): 100%|██████████| 1/1 [00:00<00:00, 16.78it/s]\n",
      "                   all         10         10          1      0.293      0.954      0.701\n",
      "\n",
      "      Epoch    GPU_mem   box_loss   cls_loss   dfl_loss  Instances       Size\n",
      "      15/50     0.763G     0.8342      1.136     0.8575         16        320: 100%|██████████| 5/5 [00:00<00:00,  8.04it/s]\n",
      "                 Class     Images  Instances      Box(P          R      mAP50  mAP50-95): 100%|██████████| 1/1 [00:00<00:00, 16.69it/s]\n",
      "                   all         10         10          1      0.546      0.995      0.801\n",
      "\n",
      "      Epoch    GPU_mem   box_loss   cls_loss   dfl_loss  Instances       Size\n",
      "      16/50     0.763G     0.9621      1.196     0.8739         16        320: 100%|██████████| 5/5 [00:00<00:00,  8.27it/s]\n",
      "                 Class     Images  Instances      Box(P          R      mAP50  mAP50-95): 100%|██████████| 1/1 [00:00<00:00, 16.89it/s]\n",
      "                   all         10         10          1      0.666      0.986      0.716\n",
      "\n",
      "      Epoch    GPU_mem   box_loss   cls_loss   dfl_loss  Instances       Size\n",
      "      17/50     0.763G     0.8349      1.109     0.8844         16        320: 100%|██████████| 5/5 [00:00<00:00,  8.26it/s]\n",
      "                 Class     Images  Instances      Box(P          R      mAP50  mAP50-95): 100%|██████████| 1/1 [00:00<00:00, 16.78it/s]\n",
      "                   all         10         10      0.928      0.867      0.969      0.788\n",
      "\n",
      "      Epoch    GPU_mem   box_loss   cls_loss   dfl_loss  Instances       Size\n",
      "      18/50     0.763G      0.967      1.124     0.9157         15        320: 100%|██████████| 5/5 [00:00<00:00,  8.04it/s]\n",
      "                 Class     Images  Instances      Box(P          R      mAP50  mAP50-95): 100%|██████████| 1/1 [00:00<00:00, 16.53it/s]\n",
      "                   all         10         10      0.909      0.806      0.969      0.707\n",
      "\n",
      "      Epoch    GPU_mem   box_loss   cls_loss   dfl_loss  Instances       Size\n",
      "      19/50     0.763G     0.8473      1.067      0.863         15        320: 100%|██████████| 5/5 [00:00<00:00,  8.28it/s]\n",
      "                 Class     Images  Instances      Box(P          R      mAP50  mAP50-95): 100%|██████████| 1/1 [00:00<00:00, 16.54it/s]\n",
      "                   all         10         10      0.883      0.966      0.928      0.692\n",
      "\n",
      "      Epoch    GPU_mem   box_loss   cls_loss   dfl_loss  Instances       Size\n",
      "      20/50     0.763G     0.8386      1.142     0.8945         15        320: 100%|██████████| 5/5 [00:00<00:00,  8.14it/s]\n",
      "                 Class     Images  Instances      Box(P          R      mAP50  mAP50-95): 100%|██████████| 1/1 [00:00<00:00, 16.83it/s]\n",
      "                   all         10         10      0.883      0.865      0.969      0.692\n",
      "\n",
      "      Epoch    GPU_mem   box_loss   cls_loss   dfl_loss  Instances       Size\n",
      "      21/50     0.763G     0.8669      1.169     0.8872         15        320: 100%|██████████| 5/5 [00:00<00:00,  8.33it/s]\n",
      "                 Class     Images  Instances      Box(P          R      mAP50  mAP50-95): 100%|██████████| 1/1 [00:00<00:00, 16.26it/s]\n",
      "                   all         10         10      0.855      0.928      0.933      0.721\n",
      "\n",
      "      Epoch    GPU_mem   box_loss   cls_loss   dfl_loss  Instances       Size\n",
      "      22/50     0.763G     0.8188      1.005     0.8531         16        320: 100%|██████████| 5/5 [00:00<00:00,  8.24it/s]\n",
      "                 Class     Images  Instances      Box(P          R      mAP50  mAP50-95): 100%|██████████| 1/1 [00:00<00:00, 16.29it/s]\n",
      "                   all         10         10      0.836      0.929      0.964      0.693\n",
      "\n",
      "      Epoch    GPU_mem   box_loss   cls_loss   dfl_loss  Instances       Size\n",
      "      23/50     0.763G     0.8281      1.012     0.9058         16        320: 100%|██████████| 5/5 [00:00<00:00,  8.21it/s]\n",
      "                 Class     Images  Instances      Box(P          R      mAP50  mAP50-95): 100%|██████████| 1/1 [00:00<00:00, 16.95it/s]\n",
      "                   all         10         10      0.894      0.977      0.995       0.78\n",
      "\n",
      "      Epoch    GPU_mem   box_loss   cls_loss   dfl_loss  Instances       Size\n",
      "      24/50     0.763G     0.9062      1.126     0.8909         16        320: 100%|██████████| 5/5 [00:00<00:00,  8.20it/s]\n",
      "                 Class     Images  Instances      Box(P          R      mAP50  mAP50-95): 100%|██████████| 1/1 [00:00<00:00, 16.75it/s]\n",
      "                   all         10         10      0.982      0.974      0.995      0.808\n",
      "\n",
      "      Epoch    GPU_mem   box_loss   cls_loss   dfl_loss  Instances       Size\n",
      "      25/50     0.763G     0.9139      1.056     0.9175         16        320: 100%|██████████| 5/5 [00:00<00:00,  8.30it/s]\n",
      "                 Class     Images  Instances      Box(P          R      mAP50  mAP50-95): 100%|██████████| 1/1 [00:00<00:00, 16.66it/s]\n",
      "                   all         10         10      0.987      0.962      0.995      0.817\n",
      "\n",
      "      Epoch    GPU_mem   box_loss   cls_loss   dfl_loss  Instances       Size\n",
      "      26/50     0.763G     0.8345      1.045     0.8673         14        320: 100%|██████████| 5/5 [00:00<00:00,  8.19it/s]\n",
      "                 Class     Images  Instances      Box(P          R      mAP50  mAP50-95): 100%|██████████| 1/1 [00:00<00:00, 16.84it/s]\n",
      "                   all         10         10      0.991      0.939      0.995      0.747\n",
      "\n",
      "      Epoch    GPU_mem   box_loss   cls_loss   dfl_loss  Instances       Size\n",
      "      27/50     0.763G     0.8254       1.02     0.8732         16        320: 100%|██████████| 5/5 [00:00<00:00,  8.28it/s]\n",
      "                 Class     Images  Instances      Box(P          R      mAP50  mAP50-95): 100%|██████████| 1/1 [00:00<00:00, 16.40it/s]\n",
      "                   all         10         10      0.958      0.942      0.995      0.758\n",
      "\n",
      "      Epoch    GPU_mem   box_loss   cls_loss   dfl_loss  Instances       Size\n",
      "      28/50     0.763G     0.8005      1.049     0.8583         15        320: 100%|██████████| 5/5 [00:00<00:00,  8.16it/s]\n",
      "                 Class     Images  Instances      Box(P          R      mAP50  mAP50-95): 100%|██████████| 1/1 [00:00<00:00, 16.57it/s]\n",
      "                   all         10         10      0.989      0.955      0.995      0.792\n",
      "\n",
      "      Epoch    GPU_mem   box_loss   cls_loss   dfl_loss  Instances       Size\n",
      "      29/50     0.763G      0.788     0.9747      0.877         16        320: 100%|██████████| 5/5 [00:00<00:00,  8.25it/s]\n",
      "                 Class     Images  Instances      Box(P          R      mAP50  mAP50-95): 100%|██████████| 1/1 [00:00<00:00, 16.67it/s]\n",
      "                   all         10         10      0.986      0.943      0.995       0.69\n",
      "\n",
      "      Epoch    GPU_mem   box_loss   cls_loss   dfl_loss  Instances       Size\n",
      "      30/50     0.763G     0.8396     0.9897     0.8673         14        320: 100%|██████████| 5/5 [00:00<00:00,  8.16it/s]\n",
      "                 Class     Images  Instances      Box(P          R      mAP50  mAP50-95): 100%|██████████| 1/1 [00:00<00:00, 16.80it/s]\n",
      "                   all         10         10      0.928       0.93      0.995      0.731\n",
      "\n",
      "      Epoch    GPU_mem   box_loss   cls_loss   dfl_loss  Instances       Size\n",
      "      31/50     0.763G     0.7954     0.9294     0.8656         16        320: 100%|██████████| 5/5 [00:00<00:00,  8.26it/s]\n",
      "                 Class     Images  Instances      Box(P          R      mAP50  mAP50-95): 100%|██████████| 1/1 [00:00<00:00, 16.28it/s]\n",
      "                   all         10         10      0.958      0.938      0.995      0.784\n",
      "\n",
      "      Epoch    GPU_mem   box_loss   cls_loss   dfl_loss  Instances       Size\n",
      "      32/50     0.763G     0.7702     0.9496     0.8848         16        320: 100%|██████████| 5/5 [00:00<00:00,  8.33it/s]\n",
      "                 Class     Images  Instances      Box(P          R      mAP50  mAP50-95): 100%|██████████| 1/1 [00:00<00:00, 16.70it/s]\n",
      "                   all         10         10       0.99      0.956      0.995      0.751\n",
      "\n",
      "      Epoch    GPU_mem   box_loss   cls_loss   dfl_loss  Instances       Size\n",
      "      33/50     0.763G     0.7906     0.9543     0.8876         15        320: 100%|██████████| 5/5 [00:00<00:00,  7.86it/s]\n",
      "                 Class     Images  Instances      Box(P          R      mAP50  mAP50-95): 100%|██████████| 1/1 [00:00<00:00, 16.23it/s]\n",
      "                   all         10         10      0.932      0.963      0.995      0.791\n",
      "\n",
      "      Epoch    GPU_mem   box_loss   cls_loss   dfl_loss  Instances       Size\n",
      "      34/50     0.763G     0.7382     0.8322     0.8608         16        320: 100%|██████████| 5/5 [00:00<00:00,  8.18it/s]\n",
      "                 Class     Images  Instances      Box(P          R      mAP50  mAP50-95): 100%|██████████| 1/1 [00:00<00:00, 16.38it/s]\n",
      "                   all         10         10      0.912      0.935      0.995      0.726\n",
      "\n",
      "      Epoch    GPU_mem   box_loss   cls_loss   dfl_loss  Instances       Size\n",
      "      35/50     0.763G     0.7578     0.8534     0.9092         16        320: 100%|██████████| 5/5 [00:00<00:00,  7.99it/s]\n",
      "                 Class     Images  Instances      Box(P          R      mAP50  mAP50-95): 100%|██████████| 1/1 [00:00<00:00, 16.36it/s]\n",
      "                   all         10         10      0.941      0.937      0.995      0.805\n",
      "\n",
      "      Epoch    GPU_mem   box_loss   cls_loss   dfl_loss  Instances       Size\n",
      "      36/50     0.763G      0.759     0.8622     0.8602         16        320: 100%|██████████| 5/5 [00:00<00:00,  8.27it/s]\n",
      "                 Class     Images  Instances      Box(P          R      mAP50  mAP50-95): 100%|██████████| 1/1 [00:00<00:00, 16.84it/s]\n",
      "                   all         10         10      0.942      0.992      0.995      0.846\n",
      "\n",
      "      Epoch    GPU_mem   box_loss   cls_loss   dfl_loss  Instances       Size\n",
      "      37/50     0.763G     0.6325     0.8019     0.8405         16        320: 100%|██████████| 5/5 [00:00<00:00,  8.24it/s]\n",
      "                 Class     Images  Instances      Box(P          R      mAP50  mAP50-95): 100%|██████████| 1/1 [00:00<00:00, 16.71it/s]\n",
      "                   all         10         10      0.958      0.993      0.995      0.788\n",
      "\n",
      "      Epoch    GPU_mem   box_loss   cls_loss   dfl_loss  Instances       Size\n",
      "      38/50     0.763G     0.6673     0.7835     0.8354         15        320: 100%|██████████| 5/5 [00:00<00:00,  8.03it/s]\n",
      "                 Class     Images  Instances      Box(P          R      mAP50  mAP50-95): 100%|██████████| 1/1 [00:00<00:00, 16.57it/s]\n",
      "                   all         10         10      0.976      0.999      0.995      0.784\n",
      "\n",
      "      Epoch    GPU_mem   box_loss   cls_loss   dfl_loss  Instances       Size\n",
      "      39/50     0.763G     0.6236     0.7799     0.8382         16        320: 100%|██████████| 5/5 [00:00<00:00,  8.33it/s]\n",
      "                 Class     Images  Instances      Box(P          R      mAP50  mAP50-95): 100%|██████████| 1/1 [00:00<00:00, 16.50it/s]\n",
      "                   all         10         10       0.96          1      0.995      0.848\n",
      "\n",
      "      Epoch    GPU_mem   box_loss   cls_loss   dfl_loss  Instances       Size\n",
      "      40/50     0.763G     0.6615     0.7937     0.8429         15        320: 100%|██████████| 5/5 [00:00<00:00,  8.09it/s]\n",
      "                 Class     Images  Instances      Box(P          R      mAP50  mAP50-95): 100%|██████████| 1/1 [00:00<00:00, 16.82it/s]\n",
      "                   all         10         10      0.972          1      0.995      0.803\n",
      "\n",
      "      Epoch    GPU_mem   box_loss   cls_loss   dfl_loss  Instances       Size\n",
      "      41/50     0.763G     0.6449     0.7812      0.825         15        320: 100%|██████████| 5/5 [00:00<00:00,  8.24it/s]\n",
      "                 Class     Images  Instances      Box(P          R      mAP50  mAP50-95): 100%|██████████| 1/1 [00:00<00:00, 16.87it/s]\n",
      "                   all         10         10       0.98          1      0.995      0.854\n",
      "\n",
      "      Epoch    GPU_mem   box_loss   cls_loss   dfl_loss  Instances       Size\n",
      "      42/50     0.763G     0.6408     0.7675     0.8539         15        320: 100%|██████████| 5/5 [00:00<00:00,  8.23it/s]\n",
      "                 Class     Images  Instances      Box(P          R      mAP50  mAP50-95): 100%|██████████| 1/1 [00:00<00:00, 16.22it/s]\n",
      "                   all         10         10      0.972          1      0.995      0.807\n",
      "\n",
      "      Epoch    GPU_mem   box_loss   cls_loss   dfl_loss  Instances       Size\n",
      "      43/50     0.763G     0.6768     0.7666      0.866         16        320: 100%|██████████| 5/5 [00:00<00:00,  8.21it/s]\n",
      "                 Class     Images  Instances      Box(P          R      mAP50  mAP50-95): 100%|██████████| 1/1 [00:00<00:00, 16.47it/s]\n",
      "                   all         10         10      0.974          1      0.995      0.808\n",
      "\n",
      "      Epoch    GPU_mem   box_loss   cls_loss   dfl_loss  Instances       Size\n",
      "      44/50     0.763G     0.6294       0.77     0.8196         16        320: 100%|██████████| 5/5 [00:00<00:00,  8.07it/s]\n",
      "                 Class     Images  Instances      Box(P          R      mAP50  mAP50-95): 100%|██████████| 1/1 [00:00<00:00, 16.60it/s]\n",
      "                   all         10         10      0.973          1      0.995      0.847\n",
      "\n",
      "      Epoch    GPU_mem   box_loss   cls_loss   dfl_loss  Instances       Size\n",
      "      45/50     0.763G     0.6039     0.7107     0.8275         16        320: 100%|██████████| 5/5 [00:00<00:00,  8.24it/s]\n",
      "                 Class     Images  Instances      Box(P          R      mAP50  mAP50-95): 100%|██████████| 1/1 [00:00<00:00, 16.46it/s]\n",
      "                   all         10         10      0.981          1      0.995      0.853\n",
      "\n",
      "      Epoch    GPU_mem   box_loss   cls_loss   dfl_loss  Instances       Size\n",
      "      46/50     0.763G     0.5384     0.7288     0.7955         15        320: 100%|██████████| 5/5 [00:00<00:00,  8.19it/s]\n",
      "                 Class     Images  Instances      Box(P          R      mAP50  mAP50-95): 100%|██████████| 1/1 [00:00<00:00, 16.54it/s]\n",
      "                   all         10         10      0.984          1      0.995      0.871\n",
      "\n",
      "      Epoch    GPU_mem   box_loss   cls_loss   dfl_loss  Instances       Size\n",
      "      47/50     0.763G     0.5997     0.7299     0.8243         16        320: 100%|██████████| 5/5 [00:00<00:00,  8.21it/s]\n",
      "                 Class     Images  Instances      Box(P          R      mAP50  mAP50-95): 100%|██████████| 1/1 [00:00<00:00, 16.25it/s]\n",
      "                   all         10         10      0.984          1      0.995      0.823\n",
      "\n",
      "      Epoch    GPU_mem   box_loss   cls_loss   dfl_loss  Instances       Size\n",
      "      48/50     0.763G      0.575     0.6942     0.8157         15        320: 100%|██████████| 5/5 [00:00<00:00,  8.04it/s]\n",
      "                 Class     Images  Instances      Box(P          R      mAP50  mAP50-95): 100%|██████████| 1/1 [00:00<00:00, 16.75it/s]\n",
      "                   all         10         10      0.982          1      0.995      0.836\n",
      "\n",
      "      Epoch    GPU_mem   box_loss   cls_loss   dfl_loss  Instances       Size\n",
      "      49/50     0.763G     0.6355     0.7362     0.8701         15        320: 100%|██████████| 5/5 [00:00<00:00,  8.18it/s]\n",
      "                 Class     Images  Instances      Box(P          R      mAP50  mAP50-95): 100%|██████████| 1/1 [00:00<00:00, 16.56it/s]\n",
      "                   all         10         10      0.979          1      0.995      0.875\n",
      "\n",
      "      Epoch    GPU_mem   box_loss   cls_loss   dfl_loss  Instances       Size\n",
      "      50/50     0.763G     0.5519     0.6776     0.8147         15        320: 100%|██████████| 5/5 [00:00<00:00,  8.27it/s]\n",
      "                 Class     Images  Instances      Box(P          R      mAP50  mAP50-95): 100%|██████████| 1/1 [00:00<00:00, 16.08it/s]\n",
      "                   all         10         10      0.978          1      0.995      0.875\n",
      "\n",
      "50 epochs completed in 0.011 hours.\n",
      "Optimizer stripped from hubs/ultralytics_mnist_detection/artifacts/weights/last.pt, 6.2MB\n",
      "Optimizer stripped from hubs/ultralytics_mnist_detection/artifacts/weights/best.pt, 6.2MB\n",
      "\n",
      "Validating hubs/ultralytics_mnist_detection/artifacts/weights/best.pt...\n",
      "Ultralytics YOLOv8.0.91 🚀 Python-3.9.16 torch-1.13.1+cu117 CUDA:0 (NVIDIA GeForce RTX 4090, 24215MiB)\n",
      "Model summary (fused): 168 layers, 3006038 parameters, 0 gradients, 8.1 GFLOPs\n",
      "                 Class     Images  Instances      Box(P          R      mAP50  mAP50-95): 100%|██████████| 1/1 [00:00<00:00, 16.84it/s]\n",
      "                   all         10         10      0.978          1      0.995      0.875\n",
      "                     1         10          3      0.959          1      0.995      0.818\n",
      "                     2         10          7      0.997          1      0.995      0.931\n",
      "Speed: 0.0ms preprocess, 4.3ms inference, 0.0ms loss, 0.3ms postprocess per image\n",
      "Results saved to \u001b[1mhubs/ultralytics_mnist_detection/artifacts\u001b[0m\n"
     ]
    },
    {
     "data": {
      "text/plain": [
       "TrainResult(best_ckpt_file=PosixPath('hubs/ultralytics_mnist_detection/weights/best_ckpt.pt'), last_ckpt_file=PosixPath('hubs/ultralytics_mnist_detection/weights/last_ckpt.pt'), metrics=[[{'tag': 'epoch', 'value': 0.0}, {'tag': 'train/box_loss', 'value': 1.519}, {'tag': 'train/cls_loss', 'value': 4.1718}, {'tag': 'train/dfl_loss', 'value': 1.0838}, {'tag': 'metrics/precision(B)', 'value': 0.00223}, {'tag': 'metrics/recall(B)', 'value': 0.66667}, {'tag': 'metrics/mAP50(B)', 'value': 0.01552}, {'tag': 'metrics/mAP50-95(B)', 'value': 0.01359}, {'tag': 'val/box_loss', 'value': 0.51572}, {'tag': 'val/cls_loss', 'value': 3.5799}, {'tag': 'val/dfl_loss', 'value': 0.84739}, {'tag': 'lr/pg0', 'value': 0.0964}, {'tag': 'lr/pg1', 'value': 0.0004}, {'tag': 'lr/pg2', 'value': 0.0004}], [{'tag': 'epoch', 'value': 1.0}, {'tag': 'train/box_loss', 'value': 1.4765}, {'tag': 'train/cls_loss', 'value': 4.0175}, {'tag': 'train/dfl_loss', 'value': 1.0779}, {'tag': 'metrics/precision(B)', 'value': 0.00222}, {'tag': 'metrics/recall(B)', 'value': 0.66667}, {'tag': 'metrics/mAP50(B)', 'value': 0.00832}, {'tag': 'metrics/mAP50-95(B)', 'value': 0.00719}, {'tag': 'val/box_loss', 'value': 0.52364}, {'tag': 'val/cls_loss', 'value': 3.5808}, {'tag': 'val/dfl_loss', 'value': 0.84447}, {'tag': 'lr/pg0', 'value': 0.091882}, {'tag': 'lr/pg1', 'value': 0.00088218}, {'tag': 'lr/pg2', 'value': 0.00088218}], [{'tag': 'epoch', 'value': 2.0}, {'tag': 'train/box_loss', 'value': 1.3957}, {'tag': 'train/cls_loss', 'value': 4.0094}, {'tag': 'train/dfl_loss', 'value': 0.97685}, {'tag': 'metrics/precision(B)', 'value': 0.00336}, {'tag': 'metrics/recall(B)', 'value': 1.0}, {'tag': 'metrics/mAP50(B)', 'value': 0.01058}, {'tag': 'metrics/mAP50-95(B)', 'value': 0.00718}, {'tag': 'val/box_loss', 'value': 0.75254}, {'tag': 'val/cls_loss', 'value': 3.6011}, {'tag': 'val/dfl_loss', 'value': 0.86191}, {'tag': 'lr/pg0', 'value': 0.087345}, {'tag': 'lr/pg1', 'value': 0.0013446}, {'tag': 'lr/pg2', 'value': 0.0013446}], [{'tag': 'epoch', 'value': 3.0}, {'tag': 'train/box_loss', 'value': 0.87209}, {'tag': 'train/cls_loss', 'value': 3.5997}, {'tag': 'train/dfl_loss', 'value': 0.84676}, {'tag': 'metrics/precision(B)', 'value': 0.00322}, {'tag': 'metrics/recall(B)', 'value': 1.0}, {'tag': 'metrics/mAP50(B)', 'value': 0.01419}, {'tag': 'metrics/mAP50-95(B)', 'value': 0.0107}, {'tag': 'val/box_loss', 'value': 0.64324}, {'tag': 'val/cls_loss', 'value': 3.5617}, {'tag': 'val/dfl_loss', 'value': 0.83003}, {'tag': 'lr/pg0', 'value': 0.082787}, {'tag': 'lr/pg1', 'value': 0.0017871}, {'tag': 'lr/pg2', 'value': 0.0017871}], [{'tag': 'epoch', 'value': 4.0}, {'tag': 'train/box_loss', 'value': 0.94421}, {'tag': 'train/cls_loss', 'value': 3.3245}, {'tag': 'train/dfl_loss', 'value': 0.86368}, {'tag': 'metrics/precision(B)', 'value': 0.00326}, {'tag': 'metrics/recall(B)', 'value': 1.0}, {'tag': 'metrics/mAP50(B)', 'value': 0.01631}, {'tag': 'metrics/mAP50-95(B)', 'value': 0.01412}, {'tag': 'val/box_loss', 'value': 0.56326}, {'tag': 'val/cls_loss', 'value': 3.4686}, {'tag': 'val/dfl_loss', 'value': 0.82539}, {'tag': 'lr/pg0', 'value': 0.07821}, {'tag': 'lr/pg1', 'value': 0.0022099}, {'tag': 'lr/pg2', 'value': 0.0022099}], [{'tag': 'epoch', 'value': 5.0}, {'tag': 'train/box_loss', 'value': 0.93604}, {'tag': 'train/cls_loss', 'value': 2.5513}, {'tag': 'train/dfl_loss', 'value': 0.8485}, {'tag': 'metrics/precision(B)', 'value': 0.00328}, {'tag': 'metrics/recall(B)', 'value': 1.0}, {'tag': 'metrics/mAP50(B)', 'value': 0.01783}, {'tag': 'metrics/mAP50-95(B)', 'value': 0.01419}, {'tag': 'val/box_loss', 'value': 0.61543}, {'tag': 'val/cls_loss', 'value': 3.3851}, {'tag': 'val/dfl_loss', 'value': 0.86136}, {'tag': 'lr/pg0', 'value': 0.073613}, {'tag': 'lr/pg1', 'value': 0.0026129}, {'tag': 'lr/pg2', 'value': 0.0026129}], [{'tag': 'epoch', 'value': 6.0}, {'tag': 'train/box_loss', 'value': 0.88897}, {'tag': 'train/cls_loss', 'value': 1.7619}, {'tag': 'train/dfl_loss', 'value': 0.86424}, {'tag': 'metrics/precision(B)', 'value': 0.0032}, {'tag': 'metrics/recall(B)', 'value': 1.0}, {'tag': 'metrics/mAP50(B)', 'value': 0.64792}, {'tag': 'metrics/mAP50-95(B)', 'value': 0.41407}, {'tag': 'val/box_loss', 'value': 0.89601}, {'tag': 'val/cls_loss', 'value': 3.1701}, {'tag': 'val/dfl_loss', 'value': 0.88008}, {'tag': 'lr/pg0', 'value': 0.068996}, {'tag': 'lr/pg1', 'value': 0.0029961}, {'tag': 'lr/pg2', 'value': 0.0029961}], [{'tag': 'epoch', 'value': 7.0}, {'tag': 'train/box_loss', 'value': 0.88865}, {'tag': 'train/cls_loss', 'value': 1.5067}, {'tag': 'train/dfl_loss', 'value': 0.845}, {'tag': 'metrics/precision(B)', 'value': 0.00321}, {'tag': 'metrics/recall(B)', 'value': 1.0}, {'tag': 'metrics/mAP50(B)', 'value': 0.9125}, {'tag': 'metrics/mAP50-95(B)', 'value': 0.74081}, {'tag': 'val/box_loss', 'value': 0.70099}, {'tag': 'val/cls_loss', 'value': 3.0}, {'tag': 'val/dfl_loss', 'value': 0.85533}, {'tag': 'lr/pg0', 'value': 0.064359}, {'tag': 'lr/pg1', 'value': 0.0033595}, {'tag': 'lr/pg2', 'value': 0.0033595}], [{'tag': 'epoch', 'value': 8.0}, {'tag': 'train/box_loss', 'value': 0.87099}, {'tag': 'train/cls_loss', 'value': 1.3034}, {'tag': 'train/dfl_loss', 'value': 0.86183}, {'tag': 'metrics/precision(B)', 'value': 0.0033}, {'tag': 'metrics/recall(B)', 'value': 1.0}, {'tag': 'metrics/mAP50(B)', 'value': 0.77275}, {'tag': 'metrics/mAP50-95(B)', 'value': 0.60136}, {'tag': 'val/box_loss', 'value': 0.65106}, {'tag': 'val/cls_loss', 'value': 2.9709}, {'tag': 'val/dfl_loss', 'value': 0.83177}, {'tag': 'lr/pg0', 'value': 0.059703}, {'tag': 'lr/pg1', 'value': 0.003703}, {'tag': 'lr/pg2', 'value': 0.003703}], [{'tag': 'epoch', 'value': 9.0}, {'tag': 'train/box_loss', 'value': 0.94549}, {'tag': 'train/cls_loss', 'value': 1.3541}, {'tag': 'train/dfl_loss', 'value': 0.87097}, {'tag': 'metrics/precision(B)', 'value': 0.00334}, {'tag': 'metrics/recall(B)', 'value': 1.0}, {'tag': 'metrics/mAP50(B)', 'value': 0.69384}, {'tag': 'metrics/mAP50-95(B)', 'value': 0.57554}, {'tag': 'val/box_loss', 'value': 0.69623}, {'tag': 'val/cls_loss', 'value': 2.9123}, {'tag': 'val/dfl_loss', 'value': 0.83548}, {'tag': 'lr/pg0', 'value': 0.055027}, {'tag': 'lr/pg1', 'value': 0.0040268}, {'tag': 'lr/pg2', 'value': 0.0040268}], [{'tag': 'epoch', 'value': 10.0}, {'tag': 'train/box_loss', 'value': 1.0392}, {'tag': 'train/cls_loss', 'value': 1.3133}, {'tag': 'train/dfl_loss', 'value': 0.86351}, {'tag': 'metrics/precision(B)', 'value': 0.00345}, {'tag': 'metrics/recall(B)', 'value': 1.0}, {'tag': 'metrics/mAP50(B)', 'value': 0.77639}, {'tag': 'metrics/mAP50-95(B)', 'value': 0.62306}, {'tag': 'val/box_loss', 'value': 0.75423}, {'tag': 'val/cls_loss', 'value': 2.8756}, {'tag': 'val/dfl_loss', 'value': 0.84436}, {'tag': 'lr/pg0', 'value': 0.050331}, {'tag': 'lr/pg1', 'value': 0.0043308}, {'tag': 'lr/pg2', 'value': 0.0043308}], [{'tag': 'epoch', 'value': 11.0}, {'tag': 'train/box_loss', 'value': 0.89313}, {'tag': 'train/cls_loss', 'value': 1.2763}, {'tag': 'train/dfl_loss', 'value': 0.82048}, {'tag': 'metrics/precision(B)', 'value': 1.0}, {'tag': 'metrics/recall(B)', 'value': 0.80202}, {'tag': 'metrics/mAP50(B)', 'value': 0.83166}, {'tag': 'metrics/mAP50-95(B)', 'value': 0.71815}, {'tag': 'val/box_loss', 'value': 0.68126}, {'tag': 'val/cls_loss', 'value': 2.7194}, {'tag': 'val/dfl_loss', 'value': 0.86865}, {'tag': 'lr/pg0', 'value': 0.045615}, {'tag': 'lr/pg1', 'value': 0.004615}, {'tag': 'lr/pg2', 'value': 0.004615}], [{'tag': 'epoch', 'value': 12.0}, {'tag': 'train/box_loss', 'value': 0.85681}, {'tag': 'train/cls_loss', 'value': 1.1778}, {'tag': 'train/dfl_loss', 'value': 0.86423}, {'tag': 'metrics/precision(B)', 'value': 0.51344}, {'tag': 'metrics/recall(B)', 'value': 1.0}, {'tag': 'metrics/mAP50(B)', 'value': 0.95375}, {'tag': 'metrics/mAP50-95(B)', 'value': 0.6928}, {'tag': 'val/box_loss', 'value': 0.84716}, {'tag': 'val/cls_loss', 'value': 2.6835}, {'tag': 'val/dfl_loss', 'value': 0.8792}, {'tag': 'lr/pg0', 'value': 0.040879}, {'tag': 'lr/pg1', 'value': 0.0048794}, {'tag': 'lr/pg2', 'value': 0.0048794}], [{'tag': 'epoch', 'value': 13.0}, {'tag': 'train/box_loss', 'value': 0.87422}, {'tag': 'train/cls_loss', 'value': 1.237}, {'tag': 'train/dfl_loss', 'value': 0.88696}, {'tag': 'metrics/precision(B)', 'value': 1.0}, {'tag': 'metrics/recall(B)', 'value': 0.29329}, {'tag': 'metrics/mAP50(B)', 'value': 0.95375}, {'tag': 'metrics/mAP50-95(B)', 'value': 0.70051}, {'tag': 'val/box_loss', 'value': 0.6889}, {'tag': 'val/cls_loss', 'value': 2.4908}, {'tag': 'val/dfl_loss', 'value': 0.85909}, {'tag': 'lr/pg0', 'value': 0.036124}, {'tag': 'lr/pg1', 'value': 0.0051239}, {'tag': 'lr/pg2', 'value': 0.0051239}], [{'tag': 'epoch', 'value': 14.0}, {'tag': 'train/box_loss', 'value': 0.8342}, {'tag': 'train/cls_loss', 'value': 1.1362}, {'tag': 'train/dfl_loss', 'value': 0.85749}, {'tag': 'metrics/precision(B)', 'value': 1.0}, {'tag': 'metrics/recall(B)', 'value': 0.5464}, {'tag': 'metrics/mAP50(B)', 'value': 0.995}, {'tag': 'metrics/mAP50-95(B)', 'value': 0.80125}, {'tag': 'val/box_loss', 'value': 0.71015}, {'tag': 'val/cls_loss', 'value': 2.2767}, {'tag': 'val/dfl_loss', 'value': 0.85513}, {'tag': 'lr/pg0', 'value': 0.031349}, {'tag': 'lr/pg1', 'value': 0.0053487}, {'tag': 'lr/pg2', 'value': 0.0053487}], [{'tag': 'epoch', 'value': 15.0}, {'tag': 'train/box_loss', 'value': 0.96213}, {'tag': 'train/cls_loss', 'value': 1.1956}, {'tag': 'train/dfl_loss', 'value': 0.87388}, {'tag': 'metrics/precision(B)', 'value': 1.0}, {'tag': 'metrics/recall(B)', 'value': 0.66616}, {'tag': 'metrics/mAP50(B)', 'value': 0.98625}, {'tag': 'metrics/mAP50-95(B)', 'value': 0.7155}, {'tag': 'val/box_loss', 'value': 0.93155}, {'tag': 'val/cls_loss', 'value': 2.3853}, {'tag': 'val/dfl_loss', 'value': 0.90568}, {'tag': 'lr/pg0', 'value': 0.026554}, {'tag': 'lr/pg1', 'value': 0.0055537}, {'tag': 'lr/pg2', 'value': 0.0055537}], [{'tag': 'epoch', 'value': 16.0}, {'tag': 'train/box_loss', 'value': 0.83486}, {'tag': 'train/cls_loss', 'value': 1.1093}, {'tag': 'train/dfl_loss', 'value': 0.88436}, {'tag': 'metrics/precision(B)', 'value': 0.92844}, {'tag': 'metrics/recall(B)', 'value': 0.86735}, {'tag': 'metrics/mAP50(B)', 'value': 0.96875}, {'tag': 'metrics/mAP50-95(B)', 'value': 0.7882}, {'tag': 'val/box_loss', 'value': 0.6427}, {'tag': 'val/cls_loss', 'value': 1.8091}, {'tag': 'val/dfl_loss', 'value': 0.86447}, {'tag': 'lr/pg0', 'value': 0.021739}, {'tag': 'lr/pg1', 'value': 0.0057389}, {'tag': 'lr/pg2', 'value': 0.0057389}], [{'tag': 'epoch', 'value': 17.0}, {'tag': 'train/box_loss', 'value': 0.967}, {'tag': 'train/cls_loss', 'value': 1.1242}, {'tag': 'train/dfl_loss', 'value': 0.91573}, {'tag': 'metrics/precision(B)', 'value': 0.9094}, {'tag': 'metrics/recall(B)', 'value': 0.80574}, {'tag': 'metrics/mAP50(B)', 'value': 0.96875}, {'tag': 'metrics/mAP50-95(B)', 'value': 0.70745}, {'tag': 'val/box_loss', 'value': 1.0184}, {'tag': 'val/cls_loss', 'value': 1.9264}, {'tag': 'val/dfl_loss', 'value': 0.92668}, {'tag': 'lr/pg0', 'value': 0.016904}, {'tag': 'lr/pg1', 'value': 0.0059043}, {'tag': 'lr/pg2', 'value': 0.0059043}], [{'tag': 'epoch', 'value': 18.0}, {'tag': 'train/box_loss', 'value': 0.84728}, {'tag': 'train/cls_loss', 'value': 1.0674}, {'tag': 'train/dfl_loss', 'value': 0.86298}, {'tag': 'metrics/precision(B)', 'value': 0.88333}, {'tag': 'metrics/recall(B)', 'value': 0.96581}, {'tag': 'metrics/mAP50(B)', 'value': 0.92806}, {'tag': 'metrics/mAP50-95(B)', 'value': 0.69195}, {'tag': 'val/box_loss', 'value': 0.68638}, {'tag': 'val/cls_loss', 'value': 1.6875}, {'tag': 'val/dfl_loss', 'value': 0.87308}, {'tag': 'lr/pg0', 'value': 0.01205}, {'tag': 'lr/pg1', 'value': 0.0060498}, {'tag': 'lr/pg2', 'value': 0.0060498}], [{'tag': 'epoch', 'value': 19.0}, {'tag': 'train/box_loss', 'value': 0.83862}, {'tag': 'train/cls_loss', 'value': 1.1421}, {'tag': 'train/dfl_loss', 'value': 0.89447}, {'tag': 'metrics/precision(B)', 'value': 0.88341}, {'tag': 'metrics/recall(B)', 'value': 0.86533}, {'tag': 'metrics/mAP50(B)', 'value': 0.96944}, {'tag': 'metrics/mAP50-95(B)', 'value': 0.69207}, {'tag': 'val/box_loss', 'value': 0.82575}, {'tag': 'val/cls_loss', 'value': 1.8148}, {'tag': 'val/dfl_loss', 'value': 0.88501}, {'tag': 'lr/pg0', 'value': 0.0071756}, {'tag': 'lr/pg1', 'value': 0.0061756}, {'tag': 'lr/pg2', 'value': 0.0061756}], [{'tag': 'epoch', 'value': 20.0}, {'tag': 'train/box_loss', 'value': 0.86689}, {'tag': 'train/cls_loss', 'value': 1.1688}, {'tag': 'train/dfl_loss', 'value': 0.88715}, {'tag': 'metrics/precision(B)', 'value': 0.85509}, {'tag': 'metrics/recall(B)', 'value': 0.92772}, {'tag': 'metrics/mAP50(B)', 'value': 0.93329}, {'tag': 'metrics/mAP50-95(B)', 'value': 0.72058}, {'tag': 'val/box_loss', 'value': 0.72265}, {'tag': 'val/cls_loss', 'value': 1.562}, {'tag': 'val/dfl_loss', 'value': 0.86782}, {'tag': 'lr/pg0', 'value': 0.00604}, {'tag': 'lr/pg1', 'value': 0.00604}, {'tag': 'lr/pg2', 'value': 0.00604}], [{'tag': 'epoch', 'value': 21.0}, {'tag': 'train/box_loss', 'value': 0.8188}, {'tag': 'train/cls_loss', 'value': 1.0053}, {'tag': 'train/dfl_loss', 'value': 0.85312}, {'tag': 'metrics/precision(B)', 'value': 0.83555}, {'tag': 'metrics/recall(B)', 'value': 0.92857}, {'tag': 'metrics/mAP50(B)', 'value': 0.964}, {'tag': 'metrics/mAP50-95(B)', 'value': 0.69332}, {'tag': 'val/box_loss', 'value': 0.94858}, {'tag': 'val/cls_loss', 'value': 1.3143}, {'tag': 'val/dfl_loss', 'value': 0.90372}, {'tag': 'lr/pg0', 'value': 0.00604}, {'tag': 'lr/pg1', 'value': 0.00604}, {'tag': 'lr/pg2', 'value': 0.00604}], [{'tag': 'epoch', 'value': 22.0}, {'tag': 'train/box_loss', 'value': 0.82806}, {'tag': 'train/cls_loss', 'value': 1.0123}, {'tag': 'train/dfl_loss', 'value': 0.90576}, {'tag': 'metrics/precision(B)', 'value': 0.89396}, {'tag': 'metrics/recall(B)', 'value': 0.97703}, {'tag': 'metrics/mAP50(B)', 'value': 0.995}, {'tag': 'metrics/mAP50-95(B)', 'value': 0.77982}, {'tag': 'val/box_loss', 'value': 0.7139}, {'tag': 'val/cls_loss', 'value': 1.3257}, {'tag': 'val/dfl_loss', 'value': 0.86058}, {'tag': 'lr/pg0', 'value': 0.005842}, {'tag': 'lr/pg1', 'value': 0.005842}, {'tag': 'lr/pg2', 'value': 0.005842}], [{'tag': 'epoch', 'value': 23.0}, {'tag': 'train/box_loss', 'value': 0.90624}, {'tag': 'train/cls_loss', 'value': 1.1257}, {'tag': 'train/dfl_loss', 'value': 0.89095}, {'tag': 'metrics/precision(B)', 'value': 0.98229}, {'tag': 'metrics/recall(B)', 'value': 0.97356}, {'tag': 'metrics/mAP50(B)', 'value': 0.995}, {'tag': 'metrics/mAP50-95(B)', 'value': 0.80762}, {'tag': 'val/box_loss', 'value': 0.68138}, {'tag': 'val/cls_loss', 'value': 1.1816}, {'tag': 'val/dfl_loss', 'value': 0.867}, {'tag': 'lr/pg0', 'value': 0.005644}, {'tag': 'lr/pg1', 'value': 0.005644}, {'tag': 'lr/pg2', 'value': 0.005644}], [{'tag': 'epoch', 'value': 24.0}, {'tag': 'train/box_loss', 'value': 0.91392}, {'tag': 'train/cls_loss', 'value': 1.0561}, {'tag': 'train/dfl_loss', 'value': 0.91751}, {'tag': 'metrics/precision(B)', 'value': 0.98686}, {'tag': 'metrics/recall(B)', 'value': 0.96225}, {'tag': 'metrics/mAP50(B)', 'value': 0.995}, {'tag': 'metrics/mAP50-95(B)', 'value': 0.81739}, {'tag': 'val/box_loss', 'value': 0.7181}, {'tag': 'val/cls_loss', 'value': 1.1319}, {'tag': 'val/dfl_loss', 'value': 0.86043}, {'tag': 'lr/pg0', 'value': 0.005446}, {'tag': 'lr/pg1', 'value': 0.005446}, {'tag': 'lr/pg2', 'value': 0.005446}], [{'tag': 'epoch', 'value': 25.0}, {'tag': 'train/box_loss', 'value': 0.83446}, {'tag': 'train/cls_loss', 'value': 1.0451}, {'tag': 'train/dfl_loss', 'value': 0.86725}, {'tag': 'metrics/precision(B)', 'value': 0.99076}, {'tag': 'metrics/recall(B)', 'value': 0.93873}, {'tag': 'metrics/mAP50(B)', 'value': 0.995}, {'tag': 'metrics/mAP50-95(B)', 'value': 0.74738}, {'tag': 'val/box_loss', 'value': 0.83562}, {'tag': 'val/cls_loss', 'value': 1.0517}, {'tag': 'val/dfl_loss', 'value': 0.88785}, {'tag': 'lr/pg0', 'value': 0.005248}, {'tag': 'lr/pg1', 'value': 0.005248}, {'tag': 'lr/pg2', 'value': 0.005248}], [{'tag': 'epoch', 'value': 26.0}, {'tag': 'train/box_loss', 'value': 0.82539}, {'tag': 'train/cls_loss', 'value': 1.0201}, {'tag': 'train/dfl_loss', 'value': 0.87316}, {'tag': 'metrics/precision(B)', 'value': 0.95777}, {'tag': 'metrics/recall(B)', 'value': 0.94152}, {'tag': 'metrics/mAP50(B)', 'value': 0.995}, {'tag': 'metrics/mAP50-95(B)', 'value': 0.75846}, {'tag': 'val/box_loss', 'value': 0.78866}, {'tag': 'val/cls_loss', 'value': 1.0904}, {'tag': 'val/dfl_loss', 'value': 0.86864}, {'tag': 'lr/pg0', 'value': 0.00505}, {'tag': 'lr/pg1', 'value': 0.00505}, {'tag': 'lr/pg2', 'value': 0.00505}], [{'tag': 'epoch', 'value': 27.0}, {'tag': 'train/box_loss', 'value': 0.80047}, {'tag': 'train/cls_loss', 'value': 1.0493}, {'tag': 'train/dfl_loss', 'value': 0.85825}, {'tag': 'metrics/precision(B)', 'value': 0.9893}, {'tag': 'metrics/recall(B)', 'value': 0.95511}, {'tag': 'metrics/mAP50(B)', 'value': 0.995}, {'tag': 'metrics/mAP50-95(B)', 'value': 0.79234}, {'tag': 'val/box_loss', 'value': 0.71617}, {'tag': 'val/cls_loss', 'value': 0.97685}, {'tag': 'val/dfl_loss', 'value': 0.86295}, {'tag': 'lr/pg0', 'value': 0.004852}, {'tag': 'lr/pg1', 'value': 0.004852}, {'tag': 'lr/pg2', 'value': 0.004852}], [{'tag': 'epoch', 'value': 28.0}, {'tag': 'train/box_loss', 'value': 0.78805}, {'tag': 'train/cls_loss', 'value': 0.97475}, {'tag': 'train/dfl_loss', 'value': 0.87696}, {'tag': 'metrics/precision(B)', 'value': 0.98602}, {'tag': 'metrics/recall(B)', 'value': 0.94348}, {'tag': 'metrics/mAP50(B)', 'value': 0.995}, {'tag': 'metrics/mAP50-95(B)', 'value': 0.68985}, {'tag': 'val/box_loss', 'value': 0.87493}, {'tag': 'val/cls_loss', 'value': 1.0162}, {'tag': 'val/dfl_loss', 'value': 0.88275}, {'tag': 'lr/pg0', 'value': 0.004654}, {'tag': 'lr/pg1', 'value': 0.004654}, {'tag': 'lr/pg2', 'value': 0.004654}], [{'tag': 'epoch', 'value': 29.0}, {'tag': 'train/box_loss', 'value': 0.83955}, {'tag': 'train/cls_loss', 'value': 0.98966}, {'tag': 'train/dfl_loss', 'value': 0.86732}, {'tag': 'metrics/precision(B)', 'value': 0.92821}, {'tag': 'metrics/recall(B)', 'value': 0.93015}, {'tag': 'metrics/mAP50(B)', 'value': 0.995}, {'tag': 'metrics/mAP50-95(B)', 'value': 0.73109}, {'tag': 'val/box_loss', 'value': 0.80872}, {'tag': 'val/cls_loss', 'value': 0.99428}, {'tag': 'val/dfl_loss', 'value': 0.87121}, {'tag': 'lr/pg0', 'value': 0.004456}, {'tag': 'lr/pg1', 'value': 0.004456}, {'tag': 'lr/pg2', 'value': 0.004456}], [{'tag': 'epoch', 'value': 30.0}, {'tag': 'train/box_loss', 'value': 0.79537}, {'tag': 'train/cls_loss', 'value': 0.92945}, {'tag': 'train/dfl_loss', 'value': 0.86559}, {'tag': 'metrics/precision(B)', 'value': 0.95839}, {'tag': 'metrics/recall(B)', 'value': 0.93833}, {'tag': 'metrics/mAP50(B)', 'value': 0.995}, {'tag': 'metrics/mAP50-95(B)', 'value': 0.78409}, {'tag': 'val/box_loss', 'value': 0.77977}, {'tag': 'val/cls_loss', 'value': 0.95821}, {'tag': 'val/dfl_loss', 'value': 0.86851}, {'tag': 'lr/pg0', 'value': 0.004258}, {'tag': 'lr/pg1', 'value': 0.004258}, {'tag': 'lr/pg2', 'value': 0.004258}], [{'tag': 'epoch', 'value': 31.0}, {'tag': 'train/box_loss', 'value': 0.77023}, {'tag': 'train/cls_loss', 'value': 0.94962}, {'tag': 'train/dfl_loss', 'value': 0.88479}, {'tag': 'metrics/precision(B)', 'value': 0.98989}, {'tag': 'metrics/recall(B)', 'value': 0.95648}, {'tag': 'metrics/mAP50(B)', 'value': 0.995}, {'tag': 'metrics/mAP50-95(B)', 'value': 0.75148}, {'tag': 'val/box_loss', 'value': 0.78007}, {'tag': 'val/cls_loss', 'value': 0.89375}, {'tag': 'val/dfl_loss', 'value': 0.87705}, {'tag': 'lr/pg0', 'value': 0.00406}, {'tag': 'lr/pg1', 'value': 0.00406}, {'tag': 'lr/pg2', 'value': 0.00406}], [{'tag': 'epoch', 'value': 32.0}, {'tag': 'train/box_loss', 'value': 0.79057}, {'tag': 'train/cls_loss', 'value': 0.95428}, {'tag': 'train/dfl_loss', 'value': 0.88757}, {'tag': 'metrics/precision(B)', 'value': 0.93244}, {'tag': 'metrics/recall(B)', 'value': 0.96261}, {'tag': 'metrics/mAP50(B)', 'value': 0.995}, {'tag': 'metrics/mAP50-95(B)', 'value': 0.79129}, {'tag': 'val/box_loss', 'value': 0.75298}, {'tag': 'val/cls_loss', 'value': 0.88759}, {'tag': 'val/dfl_loss', 'value': 0.87416}, {'tag': 'lr/pg0', 'value': 0.003862}, {'tag': 'lr/pg1', 'value': 0.003862}, {'tag': 'lr/pg2', 'value': 0.003862}], [{'tag': 'epoch', 'value': 33.0}, {'tag': 'train/box_loss', 'value': 0.73818}, {'tag': 'train/cls_loss', 'value': 0.83218}, {'tag': 'train/dfl_loss', 'value': 0.86076}, {'tag': 'metrics/precision(B)', 'value': 0.91245}, {'tag': 'metrics/recall(B)', 'value': 0.93454}, {'tag': 'metrics/mAP50(B)', 'value': 0.995}, {'tag': 'metrics/mAP50-95(B)', 'value': 0.72585}, {'tag': 'val/box_loss', 'value': 0.87456}, {'tag': 'val/cls_loss', 'value': 0.98438}, {'tag': 'val/dfl_loss', 'value': 0.90187}, {'tag': 'lr/pg0', 'value': 0.003664}, {'tag': 'lr/pg1', 'value': 0.003664}, {'tag': 'lr/pg2', 'value': 0.003664}], [{'tag': 'epoch', 'value': 34.0}, {'tag': 'train/box_loss', 'value': 0.75781}, {'tag': 'train/cls_loss', 'value': 0.85341}, {'tag': 'train/dfl_loss', 'value': 0.90921}, {'tag': 'metrics/precision(B)', 'value': 0.9415}, {'tag': 'metrics/recall(B)', 'value': 0.93708}, {'tag': 'metrics/mAP50(B)', 'value': 0.995}, {'tag': 'metrics/mAP50-95(B)', 'value': 0.80509}, {'tag': 'val/box_loss', 'value': 0.67393}, {'tag': 'val/cls_loss', 'value': 0.85319}, {'tag': 'val/dfl_loss', 'value': 0.86868}, {'tag': 'lr/pg0', 'value': 0.003466}, {'tag': 'lr/pg1', 'value': 0.003466}, {'tag': 'lr/pg2', 'value': 0.003466}], [{'tag': 'epoch', 'value': 35.0}, {'tag': 'train/box_loss', 'value': 0.75899}, {'tag': 'train/cls_loss', 'value': 0.86217}, {'tag': 'train/dfl_loss', 'value': 0.86025}, {'tag': 'metrics/precision(B)', 'value': 0.94246}, {'tag': 'metrics/recall(B)', 'value': 0.99159}, {'tag': 'metrics/mAP50(B)', 'value': 0.995}, {'tag': 'metrics/mAP50-95(B)', 'value': 0.84575}, {'tag': 'val/box_loss', 'value': 0.57185}, {'tag': 'val/cls_loss', 'value': 0.78657}, {'tag': 'val/dfl_loss', 'value': 0.85797}, {'tag': 'lr/pg0', 'value': 0.003268}, {'tag': 'lr/pg1', 'value': 0.003268}, {'tag': 'lr/pg2', 'value': 0.003268}], [{'tag': 'epoch', 'value': 36.0}, {'tag': 'train/box_loss', 'value': 0.63245}, {'tag': 'train/cls_loss', 'value': 0.8019}, {'tag': 'train/dfl_loss', 'value': 0.84047}, {'tag': 'metrics/precision(B)', 'value': 0.9576}, {'tag': 'metrics/recall(B)', 'value': 0.9928}, {'tag': 'metrics/mAP50(B)', 'value': 0.995}, {'tag': 'metrics/mAP50-95(B)', 'value': 0.78768}, {'tag': 'val/box_loss', 'value': 0.68497}, {'tag': 'val/cls_loss', 'value': 0.79247}, {'tag': 'val/dfl_loss', 'value': 0.87827}, {'tag': 'lr/pg0', 'value': 0.00307}, {'tag': 'lr/pg1', 'value': 0.00307}, {'tag': 'lr/pg2', 'value': 0.00307}], [{'tag': 'epoch', 'value': 37.0}, {'tag': 'train/box_loss', 'value': 0.66731}, {'tag': 'train/cls_loss', 'value': 0.78353}, {'tag': 'train/dfl_loss', 'value': 0.83544}, {'tag': 'metrics/precision(B)', 'value': 0.97591}, {'tag': 'metrics/recall(B)', 'value': 0.99855}, {'tag': 'metrics/mAP50(B)', 'value': 0.995}, {'tag': 'metrics/mAP50-95(B)', 'value': 0.78396}, {'tag': 'val/box_loss', 'value': 0.6314}, {'tag': 'val/cls_loss', 'value': 0.72621}, {'tag': 'val/dfl_loss', 'value': 0.86448}, {'tag': 'lr/pg0', 'value': 0.002872}, {'tag': 'lr/pg1', 'value': 0.002872}, {'tag': 'lr/pg2', 'value': 0.002872}], [{'tag': 'epoch', 'value': 38.0}, {'tag': 'train/box_loss', 'value': 0.62359}, {'tag': 'train/cls_loss', 'value': 0.77989}, {'tag': 'train/dfl_loss', 'value': 0.83821}, {'tag': 'metrics/precision(B)', 'value': 0.9597}, {'tag': 'metrics/recall(B)', 'value': 1.0}, {'tag': 'metrics/mAP50(B)', 'value': 0.995}, {'tag': 'metrics/mAP50-95(B)', 'value': 0.8478}, {'tag': 'val/box_loss', 'value': 0.59794}, {'tag': 'val/cls_loss', 'value': 0.75299}, {'tag': 'val/dfl_loss', 'value': 0.85508}, {'tag': 'lr/pg0', 'value': 0.002674}, {'tag': 'lr/pg1', 'value': 0.002674}, {'tag': 'lr/pg2', 'value': 0.002674}], [{'tag': 'epoch', 'value': 39.0}, {'tag': 'train/box_loss', 'value': 0.66152}, {'tag': 'train/cls_loss', 'value': 0.79367}, {'tag': 'train/dfl_loss', 'value': 0.84285}, {'tag': 'metrics/precision(B)', 'value': 0.97159}, {'tag': 'metrics/recall(B)', 'value': 1.0}, {'tag': 'metrics/mAP50(B)', 'value': 0.995}, {'tag': 'metrics/mAP50-95(B)', 'value': 0.80332}, {'tag': 'val/box_loss', 'value': 0.6401}, {'tag': 'val/cls_loss', 'value': 0.76566}, {'tag': 'val/dfl_loss', 'value': 0.85905}, {'tag': 'lr/pg0', 'value': 0.002476}, {'tag': 'lr/pg1', 'value': 0.002476}, {'tag': 'lr/pg2', 'value': 0.002476}], [{'tag': 'epoch', 'value': 40.0}, {'tag': 'train/box_loss', 'value': 0.64489}, {'tag': 'train/cls_loss', 'value': 0.7812}, {'tag': 'train/dfl_loss', 'value': 0.82501}, {'tag': 'metrics/precision(B)', 'value': 0.97996}, {'tag': 'metrics/recall(B)', 'value': 1.0}, {'tag': 'metrics/mAP50(B)', 'value': 0.995}, {'tag': 'metrics/mAP50-95(B)', 'value': 0.85414}, {'tag': 'val/box_loss', 'value': 0.60572}, {'tag': 'val/cls_loss', 'value': 0.72412}, {'tag': 'val/dfl_loss', 'value': 0.85649}, {'tag': 'lr/pg0', 'value': 0.002278}, {'tag': 'lr/pg1', 'value': 0.002278}, {'tag': 'lr/pg2', 'value': 0.002278}], [{'tag': 'epoch', 'value': 41.0}, {'tag': 'train/box_loss', 'value': 0.64079}, {'tag': 'train/cls_loss', 'value': 0.76747}, {'tag': 'train/dfl_loss', 'value': 0.85391}, {'tag': 'metrics/precision(B)', 'value': 0.97218}, {'tag': 'metrics/recall(B)', 'value': 1.0}, {'tag': 'metrics/mAP50(B)', 'value': 0.995}, {'tag': 'metrics/mAP50-95(B)', 'value': 0.80732}, {'tag': 'val/box_loss', 'value': 0.61813}, {'tag': 'val/cls_loss', 'value': 0.72431}, {'tag': 'val/dfl_loss', 'value': 0.86099}, {'tag': 'lr/pg0', 'value': 0.00208}, {'tag': 'lr/pg1', 'value': 0.00208}, {'tag': 'lr/pg2', 'value': 0.00208}], [{'tag': 'epoch', 'value': 42.0}, {'tag': 'train/box_loss', 'value': 0.67683}, {'tag': 'train/cls_loss', 'value': 0.76656}, {'tag': 'train/dfl_loss', 'value': 0.86599}, {'tag': 'metrics/precision(B)', 'value': 0.97355}, {'tag': 'metrics/recall(B)', 'value': 1.0}, {'tag': 'metrics/mAP50(B)', 'value': 0.995}, {'tag': 'metrics/mAP50-95(B)', 'value': 0.80804}, {'tag': 'val/box_loss', 'value': 0.68876}, {'tag': 'val/cls_loss', 'value': 0.73461}, {'tag': 'val/dfl_loss', 'value': 0.86239}, {'tag': 'lr/pg0', 'value': 0.001882}, {'tag': 'lr/pg1', 'value': 0.001882}, {'tag': 'lr/pg2', 'value': 0.001882}], [{'tag': 'epoch', 'value': 43.0}, {'tag': 'train/box_loss', 'value': 0.62936}, {'tag': 'train/cls_loss', 'value': 0.77001}, {'tag': 'train/dfl_loss', 'value': 0.81959}, {'tag': 'metrics/precision(B)', 'value': 0.97251}, {'tag': 'metrics/recall(B)', 'value': 1.0}, {'tag': 'metrics/mAP50(B)', 'value': 0.995}, {'tag': 'metrics/mAP50-95(B)', 'value': 0.84721}, {'tag': 'val/box_loss', 'value': 0.58338}, {'tag': 'val/cls_loss', 'value': 0.677}, {'tag': 'val/dfl_loss', 'value': 0.85235}, {'tag': 'lr/pg0', 'value': 0.001684}, {'tag': 'lr/pg1', 'value': 0.001684}, {'tag': 'lr/pg2', 'value': 0.001684}], [{'tag': 'epoch', 'value': 44.0}, {'tag': 'train/box_loss', 'value': 0.60387}, {'tag': 'train/cls_loss', 'value': 0.71065}, {'tag': 'train/dfl_loss', 'value': 0.82747}, {'tag': 'metrics/precision(B)', 'value': 0.9811}, {'tag': 'metrics/recall(B)', 'value': 1.0}, {'tag': 'metrics/mAP50(B)', 'value': 0.995}, {'tag': 'metrics/mAP50-95(B)', 'value': 0.85281}, {'tag': 'val/box_loss', 'value': 0.54992}, {'tag': 'val/cls_loss', 'value': 0.65668}, {'tag': 'val/dfl_loss', 'value': 0.84913}, {'tag': 'lr/pg0', 'value': 0.001486}, {'tag': 'lr/pg1', 'value': 0.001486}, {'tag': 'lr/pg2', 'value': 0.001486}], [{'tag': 'epoch', 'value': 45.0}, {'tag': 'train/box_loss', 'value': 0.53842}, {'tag': 'train/cls_loss', 'value': 0.72884}, {'tag': 'train/dfl_loss', 'value': 0.79554}, {'tag': 'metrics/precision(B)', 'value': 0.9839}, {'tag': 'metrics/recall(B)', 'value': 1.0}, {'tag': 'metrics/mAP50(B)', 'value': 0.995}, {'tag': 'metrics/mAP50-95(B)', 'value': 0.87122}, {'tag': 'val/box_loss', 'value': 0.57804}, {'tag': 'val/cls_loss', 'value': 0.65473}, {'tag': 'val/dfl_loss', 'value': 0.84959}, {'tag': 'lr/pg0', 'value': 0.001288}, {'tag': 'lr/pg1', 'value': 0.001288}, {'tag': 'lr/pg2', 'value': 0.001288}], [{'tag': 'epoch', 'value': 46.0}, {'tag': 'train/box_loss', 'value': 0.59971}, {'tag': 'train/cls_loss', 'value': 0.72992}, {'tag': 'train/dfl_loss', 'value': 0.82427}, {'tag': 'metrics/precision(B)', 'value': 0.98404}, {'tag': 'metrics/recall(B)', 'value': 1.0}, {'tag': 'metrics/mAP50(B)', 'value': 0.995}, {'tag': 'metrics/mAP50-95(B)', 'value': 0.82291}, {'tag': 'val/box_loss', 'value': 0.57821}, {'tag': 'val/cls_loss', 'value': 0.65307}, {'tag': 'val/dfl_loss', 'value': 0.85208}, {'tag': 'lr/pg0', 'value': 0.00109}, {'tag': 'lr/pg1', 'value': 0.00109}, {'tag': 'lr/pg2', 'value': 0.00109}], [{'tag': 'epoch', 'value': 47.0}, {'tag': 'train/box_loss', 'value': 0.57502}, {'tag': 'train/cls_loss', 'value': 0.69421}, {'tag': 'train/dfl_loss', 'value': 0.81567}, {'tag': 'metrics/precision(B)', 'value': 0.98222}, {'tag': 'metrics/recall(B)', 'value': 1.0}, {'tag': 'metrics/mAP50(B)', 'value': 0.995}, {'tag': 'metrics/mAP50-95(B)', 'value': 0.83583}, {'tag': 'val/box_loss', 'value': 0.53284}, {'tag': 'val/cls_loss', 'value': 0.61917}, {'tag': 'val/dfl_loss', 'value': 0.84631}, {'tag': 'lr/pg0', 'value': 0.000892}, {'tag': 'lr/pg1', 'value': 0.000892}, {'tag': 'lr/pg2', 'value': 0.000892}], [{'tag': 'epoch', 'value': 48.0}, {'tag': 'train/box_loss', 'value': 0.63551}, {'tag': 'train/cls_loss', 'value': 0.73616}, {'tag': 'train/dfl_loss', 'value': 0.87011}, {'tag': 'metrics/precision(B)', 'value': 0.97936}, {'tag': 'metrics/recall(B)', 'value': 1.0}, {'tag': 'metrics/mAP50(B)', 'value': 0.995}, {'tag': 'metrics/mAP50-95(B)', 'value': 0.87472}, {'tag': 'val/box_loss', 'value': 0.5353}, {'tag': 'val/cls_loss', 'value': 0.60173}, {'tag': 'val/dfl_loss', 'value': 0.84827}, {'tag': 'lr/pg0', 'value': 0.000694}, {'tag': 'lr/pg1', 'value': 0.000694}, {'tag': 'lr/pg2', 'value': 0.000694}], [{'tag': 'epoch', 'value': 49.0}, {'tag': 'train/box_loss', 'value': 0.55194}, {'tag': 'train/cls_loss', 'value': 0.67761}, {'tag': 'train/dfl_loss', 'value': 0.81468}, {'tag': 'metrics/precision(B)', 'value': 0.97809}, {'tag': 'metrics/recall(B)', 'value': 1.0}, {'tag': 'metrics/mAP50(B)', 'value': 0.995}, {'tag': 'metrics/mAP50-95(B)', 'value': 0.87472}, {'tag': 'val/box_loss', 'value': 0.52791}, {'tag': 'val/cls_loss', 'value': 0.60719}, {'tag': 'val/dfl_loss', 'value': 0.84775}, {'tag': 'lr/pg0', 'value': 0.000496}, {'tag': 'lr/pg1', 'value': 0.000496}, {'tag': 'lr/pg2', 'value': 0.000496}]])"
      ]
     },
     "execution_count": 9,
     "metadata": {},
     "output_type": "execute_result"
    }
   ],
   "source": [
    "dataset_dir = dataset.export(DataType.YOLO)\n",
    "train_result = ultralytics_hub.train(\n",
    "    dataset_dir,\n",
    "    image_size=320,\n",
    "    epochs=50,\n",
    "    batch_size=16\n",
    ")\n",
    "train_result"
   ]
  },
  {
   "attachments": {},
   "cell_type": "markdown",
   "metadata": {},
   "source": [
    "## Huggingface"
   ]
  },
  {
   "cell_type": "code",
   "execution_count": 10,
   "metadata": {},
   "outputs": [],
   "source": [
    "import torch\n",
    "torch.use_deterministic_algorithms(False)"
   ]
  },
  {
   "cell_type": "code",
   "execution_count": 11,
   "metadata": {},
   "outputs": [
    {
     "name": "stderr",
     "output_type": "stream",
     "text": [
      "/home/lhj/anaconda3/envs/waffle/lib/python3.9/site-packages/waffle_hub/dataset/dataset.py:1051: UserWarning: datasets/mnist_det/exports/HUGGINGFACE already exists. Removing exist export and override.\n",
      "  warnings.warn(f\"{export_dir} already exists. Removing exist export and override.\")\n",
      "Found cached dataset generator (/home/lhj/.cache/huggingface/datasets/generator/default-86efa360c0c5058c/0.0.0)\n",
      "Found cached dataset generator (/home/lhj/.cache/huggingface/datasets/generator/default-40edd7d2fd7e70a2/0.0.0)\n",
      "Found cached dataset generator (/home/lhj/.cache/huggingface/datasets/generator/default-8f0de55896cb4705/0.0.0)\n",
      "Could not find image processor class in the image processor config or the model config. Loading based on pattern matching with the model's feature extractor configuration.\n",
      "The `max_size` parameter is deprecated and will be removed in v4.26. Please specify in `size['longest_edge'] instead`.\n",
      "Some weights of DetrForObjectDetection were not initialized from the model checkpoint at facebook/detr-resnet-50 and are newly initialized because the shapes did not match:\n",
      "- class_labels_classifier.weight: found shape torch.Size([92, 256]) in the checkpoint and torch.Size([3, 256]) in the model instantiated\n",
      "- class_labels_classifier.bias: found shape torch.Size([92]) in the checkpoint and torch.Size([3]) in the model instantiated\n",
      "You should probably TRAIN this model on a down-stream task to be able to use it for predictions and inference.\n",
      "/home/lhj/anaconda3/envs/waffle/lib/python3.9/site-packages/waffle_hub/hub/adapter/hugging_face/train_input_helper.py:173: UserWarning: pretrained model's image size is (800, 800), but you set (320, 320).\n",
      "  warnings.warn(f\"pretrained model's image size is {size}, but you set {self.image_size}.\")\n",
      "/home/lhj/anaconda3/envs/waffle/lib/python3.9/site-packages/transformers/optimization.py:391: FutureWarning: This implementation of AdamW is deprecated and will be removed in a future version. Use the PyTorch implementation torch.optim.AdamW instead, or set `no_deprecation_warning=True` to disable this warning\n",
      "  warnings.warn(\n"
     ]
    },
    {
     "data": {
      "text/html": [
       "\n",
       "    <div>\n",
       "      \n",
       "      <progress value='6' max='250' style='width:300px; height:20px; vertical-align: middle;'></progress>\n",
       "      [  6/250 00:01 < 01:21, 3.01 it/s, Epoch 1/50]\n",
       "    </div>\n",
       "    <table border=\"1\" class=\"dataframe\">\n",
       "  <thead>\n",
       " <tr style=\"text-align: left;\">\n",
       "      <th>Epoch</th>\n",
       "      <th>Training Loss</th>\n",
       "      <th>Validation Loss</th>\n",
       "    </tr>\n",
       "  </thead>\n",
       "  <tbody>\n",
       "    <tr>\n",
       "      <td>1</td>\n",
       "      <td>No log</td>\n",
       "      <td>1.327695</td>\n",
       "    </tr>\n",
       "  </tbody>\n",
       "</table><p>"
      ],
      "text/plain": [
       "<IPython.core.display.HTML object>"
      ]
     },
     "metadata": {},
     "output_type": "display_data"
    },
    {
     "data": {
      "text/plain": [
       "TrainResult(best_ckpt_file=PosixPath('hubs/huggingface_mnist_detection/weights/best_ckpt'), last_ckpt_file=PosixPath('hubs/huggingface_mnist_detection/weights/last_ckpt'), metrics=[[{'tag': 'train_loss', 'value': 1.3276948928833008}, {'tag': 'train_runtime', 'value': 1.2183}, {'tag': 'train_samples_per_second', 'value': 65.666}, {'tag': 'train_steps_per_second', 'value': 8.208}, {'tag': 'epoch', 'value': 1.0}, {'tag': 'step', 'value': 5}, {'tag': 'loss', 'value': 1.4473}, {'tag': 'learning_rate', 'value': 4.9e-05}, {'tag': 'eval_loss', 'value': 1.2758986949920654}, {'tag': 'eval_runtime', 'value': 0.4765}, {'tag': 'eval_samples_per_second', 'value': 20.988}, {'tag': 'eval_steps_per_second', 'value': 4.198}], [{'tag': 'train_loss', 'value': 0.9963502883911133}, {'tag': 'train_runtime', 'value': 1.1847}, {'tag': 'train_samples_per_second', 'value': 67.529}, {'tag': 'train_steps_per_second', 'value': 8.441}, {'tag': 'epoch', 'value': 2.0}, {'tag': 'step', 'value': 10}, {'tag': 'loss', 'value': 0.8448}, {'tag': 'learning_rate', 'value': 4.8e-05}, {'tag': 'eval_loss', 'value': 1.0373308658599854}, {'tag': 'eval_runtime', 'value': 0.4806}, {'tag': 'eval_samples_per_second', 'value': 20.805}, {'tag': 'eval_steps_per_second', 'value': 4.161}], [{'tag': 'train_loss', 'value': 0.642241358757019}, {'tag': 'train_runtime', 'value': 1.2031}, {'tag': 'train_samples_per_second', 'value': 66.495}, {'tag': 'train_steps_per_second', 'value': 8.312}, {'tag': 'epoch', 'value': 3.0}, {'tag': 'step', 'value': 15}, {'tag': 'loss', 'value': 0.6967}, {'tag': 'learning_rate', 'value': 4.7e-05}, {'tag': 'eval_loss', 'value': 0.6867992877960205}, {'tag': 'eval_runtime', 'value': 0.4801}, {'tag': 'eval_samples_per_second', 'value': 20.831}, {'tag': 'eval_steps_per_second', 'value': 4.166}], [{'tag': 'train_loss', 'value': 0.49732351303100586}, {'tag': 'train_runtime', 'value': 1.2032}, {'tag': 'train_samples_per_second', 'value': 66.488}, {'tag': 'train_steps_per_second', 'value': 8.311}, {'tag': 'epoch', 'value': 4.0}, {'tag': 'step', 'value': 20}, {'tag': 'loss', 'value': 0.5744}, {'tag': 'learning_rate', 'value': 4.600000000000001e-05}, {'tag': 'eval_loss', 'value': 0.5769790410995483}, {'tag': 'eval_runtime', 'value': 0.4706}, {'tag': 'eval_samples_per_second', 'value': 21.25}, {'tag': 'eval_steps_per_second', 'value': 4.25}], [{'tag': 'train_loss', 'value': 0.5265426635742188}, {'tag': 'train_runtime', 'value': 1.1936}, {'tag': 'train_samples_per_second', 'value': 67.025}, {'tag': 'train_steps_per_second', 'value': 8.378}, {'tag': 'epoch', 'value': 5.0}, {'tag': 'step', 'value': 25}, {'tag': 'loss', 'value': 0.5309}, {'tag': 'learning_rate', 'value': 4.5e-05}, {'tag': 'eval_loss', 'value': 0.6074990034103394}, {'tag': 'eval_runtime', 'value': 0.4701}, {'tag': 'eval_samples_per_second', 'value': 21.274}, {'tag': 'eval_steps_per_second', 'value': 4.255}], [{'tag': 'train_loss', 'value': 0.5288225412368774}, {'tag': 'train_runtime', 'value': 1.1927}, {'tag': 'train_samples_per_second', 'value': 67.076}, {'tag': 'train_steps_per_second', 'value': 8.385}, {'tag': 'epoch', 'value': 6.0}, {'tag': 'step', 'value': 30}, {'tag': 'loss', 'value': 0.5436}, {'tag': 'learning_rate', 'value': 4.4000000000000006e-05}, {'tag': 'eval_loss', 'value': 0.5660825967788696}, {'tag': 'eval_runtime', 'value': 0.4871}, {'tag': 'eval_samples_per_second', 'value': 20.529}, {'tag': 'eval_steps_per_second', 'value': 4.106}], [{'tag': 'train_loss', 'value': 0.5314332246780396}, {'tag': 'train_runtime', 'value': 1.1892}, {'tag': 'train_samples_per_second', 'value': 67.275}, {'tag': 'train_steps_per_second', 'value': 8.409}, {'tag': 'epoch', 'value': 7.0}, {'tag': 'step', 'value': 35}, {'tag': 'loss', 'value': 0.5167}, {'tag': 'learning_rate', 'value': 4.3e-05}, {'tag': 'eval_loss', 'value': 0.5934401154518127}, {'tag': 'eval_runtime', 'value': 0.5289}, {'tag': 'eval_samples_per_second', 'value': 18.907}, {'tag': 'eval_steps_per_second', 'value': 3.781}], [{'tag': 'train_loss', 'value': 0.45716410875320435}, {'tag': 'train_runtime', 'value': 1.165}, {'tag': 'train_samples_per_second', 'value': 68.671}, {'tag': 'train_steps_per_second', 'value': 8.584}, {'tag': 'epoch', 'value': 8.0}, {'tag': 'step', 'value': 40}, {'tag': 'loss', 'value': 0.4924}, {'tag': 'learning_rate', 'value': 4.2e-05}, {'tag': 'eval_loss', 'value': 0.4482521414756775}, {'tag': 'eval_runtime', 'value': 0.5188}, {'tag': 'eval_samples_per_second', 'value': 19.277}, {'tag': 'eval_steps_per_second', 'value': 3.855}], [{'tag': 'train_loss', 'value': 0.5172680020332336}, {'tag': 'train_runtime', 'value': 1.2124}, {'tag': 'train_samples_per_second', 'value': 65.984}, {'tag': 'train_steps_per_second', 'value': 8.248}, {'tag': 'epoch', 'value': 9.0}, {'tag': 'step', 'value': 45}, {'tag': 'loss', 'value': 0.4965}, {'tag': 'learning_rate', 'value': 4.1e-05}, {'tag': 'eval_loss', 'value': 0.5780059695243835}, {'tag': 'eval_runtime', 'value': 0.4868}, {'tag': 'eval_samples_per_second', 'value': 20.542}, {'tag': 'eval_steps_per_second', 'value': 4.108}], [{'tag': 'train_loss', 'value': 0.5027318000793457}, {'tag': 'train_runtime', 'value': 1.2029}, {'tag': 'train_samples_per_second', 'value': 66.504}, {'tag': 'train_steps_per_second', 'value': 8.313}, {'tag': 'epoch', 'value': 10.0}, {'tag': 'step', 'value': 50}, {'tag': 'loss', 'value': 0.6329}, {'tag': 'learning_rate', 'value': 4e-05}, {'tag': 'eval_loss', 'value': 0.8684776425361633}, {'tag': 'eval_runtime', 'value': 0.4698}, {'tag': 'eval_samples_per_second', 'value': 21.284}, {'tag': 'eval_steps_per_second', 'value': 4.257}], [{'tag': 'train_loss', 'value': 0.4960043430328369}, {'tag': 'train_runtime', 'value': 1.2028}, {'tag': 'train_samples_per_second', 'value': 66.509}, {'tag': 'train_steps_per_second', 'value': 8.314}, {'tag': 'epoch', 'value': 11.0}, {'tag': 'step', 'value': 55}, {'tag': 'loss', 'value': 0.5964}, {'tag': 'learning_rate', 'value': 3.9000000000000006e-05}, {'tag': 'eval_loss', 'value': 0.4723118841648102}, {'tag': 'eval_runtime', 'value': 0.4943}, {'tag': 'eval_samples_per_second', 'value': 20.23}, {'tag': 'eval_steps_per_second', 'value': 4.046}], [{'tag': 'train_loss', 'value': 0.36136770248413086}, {'tag': 'train_runtime', 'value': 1.1962}, {'tag': 'train_samples_per_second', 'value': 66.879}, {'tag': 'train_steps_per_second', 'value': 8.36}, {'tag': 'epoch', 'value': 12.0}, {'tag': 'step', 'value': 60}, {'tag': 'loss', 'value': 0.492}, {'tag': 'learning_rate', 'value': 3.8e-05}, {'tag': 'eval_loss', 'value': 0.39916300773620605}, {'tag': 'eval_runtime', 'value': 0.4727}, {'tag': 'eval_samples_per_second', 'value': 21.153}, {'tag': 'eval_steps_per_second', 'value': 4.231}], [{'tag': 'train_loss', 'value': 0.38701364398002625}, {'tag': 'train_runtime', 'value': 1.2195}, {'tag': 'train_samples_per_second', 'value': 65.602}, {'tag': 'train_steps_per_second', 'value': 8.2}, {'tag': 'epoch', 'value': 13.0}, {'tag': 'step', 'value': 65}, {'tag': 'loss', 'value': 0.4633}, {'tag': 'learning_rate', 'value': 3.7e-05}, {'tag': 'eval_loss', 'value': 0.42669153213500977}, {'tag': 'eval_runtime', 'value': 0.4808}, {'tag': 'eval_samples_per_second', 'value': 20.8}, {'tag': 'eval_steps_per_second', 'value': 4.16}], [{'tag': 'train_loss', 'value': 0.4095466732978821}, {'tag': 'train_runtime', 'value': 1.2106}, {'tag': 'train_samples_per_second', 'value': 66.082}, {'tag': 'train_steps_per_second', 'value': 8.26}, {'tag': 'epoch', 'value': 14.0}, {'tag': 'step', 'value': 70}, {'tag': 'loss', 'value': 0.4229}, {'tag': 'learning_rate', 'value': 3.6e-05}, {'tag': 'eval_loss', 'value': 0.4814049303531647}, {'tag': 'eval_runtime', 'value': 0.5003}, {'tag': 'eval_samples_per_second', 'value': 19.988}, {'tag': 'eval_steps_per_second', 'value': 3.998}], [{'tag': 'train_loss', 'value': 0.38286399841308594}, {'tag': 'train_runtime', 'value': 1.2482}, {'tag': 'train_samples_per_second', 'value': 64.092}, {'tag': 'train_steps_per_second', 'value': 8.011}, {'tag': 'epoch', 'value': 15.0}, {'tag': 'step', 'value': 75}, {'tag': 'loss', 'value': 0.4429}, {'tag': 'learning_rate', 'value': 3.5e-05}, {'tag': 'eval_loss', 'value': 0.426285982131958}, {'tag': 'eval_runtime', 'value': 0.5076}, {'tag': 'eval_samples_per_second', 'value': 19.699}, {'tag': 'eval_steps_per_second', 'value': 3.94}], [{'tag': 'train_loss', 'value': 0.38920629024505615}, {'tag': 'train_runtime', 'value': 1.2023}, {'tag': 'train_samples_per_second', 'value': 66.54}, {'tag': 'train_steps_per_second', 'value': 8.317}, {'tag': 'epoch', 'value': 16.0}, {'tag': 'step', 'value': 80}, {'tag': 'loss', 'value': 0.3904}, {'tag': 'learning_rate', 'value': 3.4000000000000007e-05}, {'tag': 'eval_loss', 'value': 0.4372371733188629}, {'tag': 'eval_runtime', 'value': 0.4862}, {'tag': 'eval_samples_per_second', 'value': 20.567}, {'tag': 'eval_steps_per_second', 'value': 4.113}], [{'tag': 'train_loss', 'value': 0.3393668234348297}, {'tag': 'train_runtime', 'value': 1.2088}, {'tag': 'train_samples_per_second', 'value': 66.184}, {'tag': 'train_steps_per_second', 'value': 8.273}, {'tag': 'epoch', 'value': 17.0}, {'tag': 'step', 'value': 85}, {'tag': 'loss', 'value': 0.3754}, {'tag': 'learning_rate', 'value': 3.3e-05}, {'tag': 'eval_loss', 'value': 0.39769116044044495}, {'tag': 'eval_runtime', 'value': 0.485}, {'tag': 'eval_samples_per_second', 'value': 20.619}, {'tag': 'eval_steps_per_second', 'value': 4.124}], [{'tag': 'train_loss', 'value': 0.3352091908454895}, {'tag': 'train_runtime', 'value': 1.2323}, {'tag': 'train_samples_per_second', 'value': 64.917}, {'tag': 'train_steps_per_second', 'value': 8.115}, {'tag': 'epoch', 'value': 18.0}, {'tag': 'step', 'value': 90}, {'tag': 'loss', 'value': 0.3749}, {'tag': 'learning_rate', 'value': 3.2000000000000005e-05}, {'tag': 'eval_loss', 'value': 0.41611552238464355}, {'tag': 'eval_runtime', 'value': 0.472}, {'tag': 'eval_samples_per_second', 'value': 21.187}, {'tag': 'eval_steps_per_second', 'value': 4.237}], [{'tag': 'train_loss', 'value': 0.3240342438220978}, {'tag': 'train_runtime', 'value': 1.2123}, {'tag': 'train_samples_per_second', 'value': 65.991}, {'tag': 'train_steps_per_second', 'value': 8.249}, {'tag': 'epoch', 'value': 19.0}, {'tag': 'step', 'value': 95}, {'tag': 'loss', 'value': 0.3667}, {'tag': 'learning_rate', 'value': 3.1e-05}, {'tag': 'eval_loss', 'value': 0.38711151480674744}, {'tag': 'eval_runtime', 'value': 0.4716}, {'tag': 'eval_samples_per_second', 'value': 21.204}, {'tag': 'eval_steps_per_second', 'value': 4.241}], [{'tag': 'train_loss', 'value': 0.3521837592124939}, {'tag': 'train_runtime', 'value': 1.2236}, {'tag': 'train_samples_per_second', 'value': 65.379}, {'tag': 'train_steps_per_second', 'value': 8.172}, {'tag': 'epoch', 'value': 20.0}, {'tag': 'step', 'value': 100}, {'tag': 'loss', 'value': 0.3764}, {'tag': 'learning_rate', 'value': 3e-05}, {'tag': 'eval_loss', 'value': 0.4813466966152191}, {'tag': 'eval_runtime', 'value': 0.4734}, {'tag': 'eval_samples_per_second', 'value': 21.122}, {'tag': 'eval_steps_per_second', 'value': 4.224}], [{'tag': 'train_loss', 'value': 0.35478994250297546}, {'tag': 'train_runtime', 'value': 1.2245}, {'tag': 'train_samples_per_second', 'value': 65.333}, {'tag': 'train_steps_per_second', 'value': 8.167}, {'tag': 'epoch', 'value': 21.0}, {'tag': 'step', 'value': 105}, {'tag': 'loss', 'value': 0.3757}, {'tag': 'learning_rate', 'value': 2.9e-05}, {'tag': 'eval_loss', 'value': 0.3984057903289795}, {'tag': 'eval_runtime', 'value': 0.4812}, {'tag': 'eval_samples_per_second', 'value': 20.78}, {'tag': 'eval_steps_per_second', 'value': 4.156}], [{'tag': 'train_loss', 'value': 0.3606193959712982}, {'tag': 'train_runtime', 'value': 1.2287}, {'tag': 'train_samples_per_second', 'value': 65.11}, {'tag': 'train_steps_per_second', 'value': 8.139}, {'tag': 'epoch', 'value': 22.0}, {'tag': 'step', 'value': 110}, {'tag': 'loss', 'value': 0.3802}, {'tag': 'learning_rate', 'value': 2.8000000000000003e-05}, {'tag': 'eval_loss', 'value': 0.34442466497421265}, {'tag': 'eval_runtime', 'value': 0.4826}, {'tag': 'eval_samples_per_second', 'value': 20.719}, {'tag': 'eval_steps_per_second', 'value': 4.144}], [{'tag': 'train_loss', 'value': 0.3046052157878876}, {'tag': 'train_runtime', 'value': 1.2004}, {'tag': 'train_samples_per_second', 'value': 66.647}, {'tag': 'train_steps_per_second', 'value': 8.331}, {'tag': 'epoch', 'value': 23.0}, {'tag': 'step', 'value': 115}, {'tag': 'loss', 'value': 0.3803}, {'tag': 'learning_rate', 'value': 2.7000000000000002e-05}, {'tag': 'eval_loss', 'value': 0.37777024507522583}, {'tag': 'eval_runtime', 'value': 0.4779}, {'tag': 'eval_samples_per_second', 'value': 20.925}, {'tag': 'eval_steps_per_second', 'value': 4.185}], [{'tag': 'train_loss', 'value': 0.34082794189453125}, {'tag': 'train_runtime', 'value': 1.2179}, {'tag': 'train_samples_per_second', 'value': 65.688}, {'tag': 'train_steps_per_second', 'value': 8.211}, {'tag': 'epoch', 'value': 24.0}, {'tag': 'step', 'value': 120}, {'tag': 'loss', 'value': 0.3351}, {'tag': 'learning_rate', 'value': 2.6000000000000002e-05}, {'tag': 'eval_loss', 'value': 0.42026591300964355}, {'tag': 'eval_runtime', 'value': 0.4743}, {'tag': 'eval_samples_per_second', 'value': 21.085}, {'tag': 'eval_steps_per_second', 'value': 4.217}], [{'tag': 'train_loss', 'value': 0.3109773099422455}, {'tag': 'train_runtime', 'value': 1.2342}, {'tag': 'train_samples_per_second', 'value': 64.821}, {'tag': 'train_steps_per_second', 'value': 8.103}, {'tag': 'epoch', 'value': 25.0}, {'tag': 'step', 'value': 125}, {'tag': 'loss', 'value': 0.345}, {'tag': 'learning_rate', 'value': 2.5e-05}, {'tag': 'eval_loss', 'value': 0.3885696232318878}, {'tag': 'eval_runtime', 'value': 0.4775}, {'tag': 'eval_samples_per_second', 'value': 20.943}, {'tag': 'eval_steps_per_second', 'value': 4.189}], [{'tag': 'train_loss', 'value': 0.294782429933548}, {'tag': 'train_runtime', 'value': 1.2025}, {'tag': 'train_samples_per_second', 'value': 66.528}, {'tag': 'train_steps_per_second', 'value': 8.316}, {'tag': 'epoch', 'value': 26.0}, {'tag': 'step', 'value': 130}, {'tag': 'loss', 'value': 0.3545}, {'tag': 'learning_rate', 'value': 2.4e-05}, {'tag': 'eval_loss', 'value': 0.3659042716026306}, {'tag': 'eval_runtime', 'value': 0.4864}, {'tag': 'eval_samples_per_second', 'value': 20.558}, {'tag': 'eval_steps_per_second', 'value': 4.112}], [{'tag': 'train_loss', 'value': 0.3259724974632263}, {'tag': 'train_runtime', 'value': 1.2108}, {'tag': 'train_samples_per_second', 'value': 66.075}, {'tag': 'train_steps_per_second', 'value': 8.259}, {'tag': 'epoch', 'value': 27.0}, {'tag': 'step', 'value': 135}, {'tag': 'loss', 'value': 0.3248}, {'tag': 'learning_rate', 'value': 2.3000000000000003e-05}, {'tag': 'eval_loss', 'value': 0.41337499022483826}, {'tag': 'eval_runtime', 'value': 0.4925}, {'tag': 'eval_samples_per_second', 'value': 20.306}, {'tag': 'eval_steps_per_second', 'value': 4.061}], [{'tag': 'train_loss', 'value': 0.329460471868515}, {'tag': 'train_runtime', 'value': 1.2441}, {'tag': 'train_samples_per_second', 'value': 64.302}, {'tag': 'train_steps_per_second', 'value': 8.038}, {'tag': 'epoch', 'value': 28.0}, {'tag': 'step', 'value': 140}, {'tag': 'loss', 'value': 0.358}, {'tag': 'learning_rate', 'value': 2.2000000000000003e-05}, {'tag': 'eval_loss', 'value': 0.3977682590484619}, {'tag': 'eval_runtime', 'value': 0.4818}, {'tag': 'eval_samples_per_second', 'value': 20.755}, {'tag': 'eval_steps_per_second', 'value': 4.151}], [{'tag': 'train_loss', 'value': 0.2549959719181061}, {'tag': 'train_runtime', 'value': 1.2141}, {'tag': 'train_samples_per_second', 'value': 65.89}, {'tag': 'train_steps_per_second', 'value': 8.236}, {'tag': 'epoch', 'value': 29.0}, {'tag': 'step', 'value': 145}, {'tag': 'loss', 'value': 0.3175}, {'tag': 'learning_rate', 'value': 2.1e-05}, {'tag': 'eval_loss', 'value': 0.31319934129714966}, {'tag': 'eval_runtime', 'value': 0.4802}, {'tag': 'eval_samples_per_second', 'value': 20.825}, {'tag': 'eval_steps_per_second', 'value': 4.165}], [{'tag': 'train_loss', 'value': 0.2694734036922455}, {'tag': 'train_runtime', 'value': 1.2373}, {'tag': 'train_samples_per_second', 'value': 64.655}, {'tag': 'train_steps_per_second', 'value': 8.082}, {'tag': 'epoch', 'value': 30.0}, {'tag': 'step', 'value': 150}, {'tag': 'loss', 'value': 0.3249}, {'tag': 'learning_rate', 'value': 2e-05}, {'tag': 'eval_loss', 'value': 0.32037320733070374}, {'tag': 'eval_runtime', 'value': 0.4984}, {'tag': 'eval_samples_per_second', 'value': 20.064}, {'tag': 'eval_steps_per_second', 'value': 4.013}], [{'tag': 'train_loss', 'value': 0.32734742760658264}, {'tag': 'train_runtime', 'value': 1.2164}, {'tag': 'train_samples_per_second', 'value': 65.766}, {'tag': 'train_steps_per_second', 'value': 8.221}, {'tag': 'epoch', 'value': 31.0}, {'tag': 'step', 'value': 155}, {'tag': 'loss', 'value': 0.3224}, {'tag': 'learning_rate', 'value': 1.9e-05}, {'tag': 'eval_loss', 'value': 0.3839849829673767}, {'tag': 'eval_runtime', 'value': 0.4775}, {'tag': 'eval_samples_per_second', 'value': 20.943}, {'tag': 'eval_steps_per_second', 'value': 4.189}], [{'tag': 'train_loss', 'value': 0.27181339263916016}, {'tag': 'train_runtime', 'value': 1.2133}, {'tag': 'train_samples_per_second', 'value': 65.937}, {'tag': 'train_steps_per_second', 'value': 8.242}, {'tag': 'epoch', 'value': 32.0}, {'tag': 'step', 'value': 160}, {'tag': 'loss', 'value': 0.3287}, {'tag': 'learning_rate', 'value': 1.8e-05}, {'tag': 'eval_loss', 'value': 0.356400728225708}, {'tag': 'eval_runtime', 'value': 0.4799}, {'tag': 'eval_samples_per_second', 'value': 20.837}, {'tag': 'eval_steps_per_second', 'value': 4.167}], [{'tag': 'train_loss', 'value': 0.240751713514328}, {'tag': 'train_runtime', 'value': 1.2366}, {'tag': 'train_samples_per_second', 'value': 64.692}, {'tag': 'train_steps_per_second', 'value': 8.086}, {'tag': 'epoch', 'value': 33.0}, {'tag': 'step', 'value': 165}, {'tag': 'loss', 'value': 0.3179}, {'tag': 'learning_rate', 'value': 1.7000000000000003e-05}, {'tag': 'eval_loss', 'value': 0.33990925550460815}, {'tag': 'eval_runtime', 'value': 0.4745}, {'tag': 'eval_samples_per_second', 'value': 21.076}, {'tag': 'eval_steps_per_second', 'value': 4.215}], [{'tag': 'train_loss', 'value': 0.30812740325927734}, {'tag': 'train_runtime', 'value': 1.2022}, {'tag': 'train_samples_per_second', 'value': 66.547}, {'tag': 'train_steps_per_second', 'value': 8.318}, {'tag': 'epoch', 'value': 34.0}, {'tag': 'step', 'value': 170}, {'tag': 'loss', 'value': 0.321}, {'tag': 'learning_rate', 'value': 1.6000000000000003e-05}, {'tag': 'eval_loss', 'value': 0.43288499116897583}, {'tag': 'eval_runtime', 'value': 0.4776}, {'tag': 'eval_samples_per_second', 'value': 20.936}, {'tag': 'eval_steps_per_second', 'value': 4.187}], [{'tag': 'train_loss', 'value': 0.2806759178638458}, {'tag': 'train_runtime', 'value': 1.2214}, {'tag': 'train_samples_per_second', 'value': 65.497}, {'tag': 'train_steps_per_second', 'value': 8.187}, {'tag': 'epoch', 'value': 35.0}, {'tag': 'step', 'value': 175}, {'tag': 'loss', 'value': 0.3227}, {'tag': 'learning_rate', 'value': 1.5e-05}, {'tag': 'eval_loss', 'value': 0.34352803230285645}, {'tag': 'eval_runtime', 'value': 0.4788}, {'tag': 'eval_samples_per_second', 'value': 20.886}, {'tag': 'eval_steps_per_second', 'value': 4.177}], [{'tag': 'train_loss', 'value': 0.26465147733688354}, {'tag': 'train_runtime', 'value': 1.222}, {'tag': 'train_samples_per_second', 'value': 65.466}, {'tag': 'train_steps_per_second', 'value': 8.183}, {'tag': 'epoch', 'value': 36.0}, {'tag': 'step', 'value': 180}, {'tag': 'loss', 'value': 0.298}, {'tag': 'learning_rate', 'value': 1.4000000000000001e-05}, {'tag': 'eval_loss', 'value': 0.34676599502563477}, {'tag': 'eval_runtime', 'value': 0.4749}, {'tag': 'eval_samples_per_second', 'value': 21.055}, {'tag': 'eval_steps_per_second', 'value': 4.211}], [{'tag': 'train_loss', 'value': 0.26718229055404663}, {'tag': 'train_runtime', 'value': 1.2207}, {'tag': 'train_samples_per_second', 'value': 65.535}, {'tag': 'train_steps_per_second', 'value': 8.192}, {'tag': 'epoch', 'value': 37.0}, {'tag': 'step', 'value': 185}, {'tag': 'loss', 'value': 0.304}, {'tag': 'learning_rate', 'value': 1.3000000000000001e-05}, {'tag': 'eval_loss', 'value': 0.35879045724868774}, {'tag': 'eval_runtime', 'value': 0.5136}, {'tag': 'eval_samples_per_second', 'value': 19.47}, {'tag': 'eval_steps_per_second', 'value': 3.894}], [{'tag': 'train_loss', 'value': 0.2472291886806488}, {'tag': 'train_runtime', 'value': 1.2012}, {'tag': 'train_samples_per_second', 'value': 66.6}, {'tag': 'train_steps_per_second', 'value': 8.325}, {'tag': 'epoch', 'value': 38.0}, {'tag': 'step', 'value': 190}, {'tag': 'loss', 'value': 0.3015}, {'tag': 'learning_rate', 'value': 1.2e-05}, {'tag': 'eval_loss', 'value': 0.34056752920150757}, {'tag': 'eval_runtime', 'value': 0.537}, {'tag': 'eval_samples_per_second', 'value': 18.622}, {'tag': 'eval_steps_per_second', 'value': 3.724}], [{'tag': 'train_loss', 'value': 0.2576145529747009}, {'tag': 'train_runtime', 'value': 1.2021}, {'tag': 'train_samples_per_second', 'value': 66.55}, {'tag': 'train_steps_per_second', 'value': 8.319}, {'tag': 'epoch', 'value': 39.0}, {'tag': 'step', 'value': 195}, {'tag': 'loss', 'value': 0.3092}, {'tag': 'learning_rate', 'value': 1.1000000000000001e-05}, {'tag': 'eval_loss', 'value': 0.319885790348053}, {'tag': 'eval_runtime', 'value': 0.4902}, {'tag': 'eval_samples_per_second', 'value': 20.398}, {'tag': 'eval_steps_per_second', 'value': 4.08}], [{'tag': 'train_loss', 'value': 0.2408761978149414}, {'tag': 'train_runtime', 'value': 1.2124}, {'tag': 'train_samples_per_second', 'value': 65.983}, {'tag': 'train_steps_per_second', 'value': 8.248}, {'tag': 'epoch', 'value': 40.0}, {'tag': 'step', 'value': 200}, {'tag': 'loss', 'value': 0.3001}, {'tag': 'learning_rate', 'value': 1e-05}, {'tag': 'eval_loss', 'value': 0.33042100071907043}, {'tag': 'eval_runtime', 'value': 0.4861}, {'tag': 'eval_samples_per_second', 'value': 20.57}, {'tag': 'eval_steps_per_second', 'value': 4.114}], [{'tag': 'train_loss', 'value': 0.23999421298503876}, {'tag': 'train_runtime', 'value': 1.2394}, {'tag': 'train_samples_per_second', 'value': 64.548}, {'tag': 'train_steps_per_second', 'value': 8.068}, {'tag': 'epoch', 'value': 41.0}, {'tag': 'step', 'value': 205}, {'tag': 'loss', 'value': 0.2931}, {'tag': 'learning_rate', 'value': 9e-06}, {'tag': 'eval_loss', 'value': 0.3470805287361145}, {'tag': 'eval_runtime', 'value': 0.4906}, {'tag': 'eval_samples_per_second', 'value': 20.381}, {'tag': 'eval_steps_per_second', 'value': 4.076}], [{'tag': 'train_loss', 'value': 0.2570018172264099}, {'tag': 'train_runtime', 'value': 1.2566}, {'tag': 'train_samples_per_second', 'value': 63.665}, {'tag': 'train_steps_per_second', 'value': 7.958}, {'tag': 'epoch', 'value': 42.0}, {'tag': 'step', 'value': 210}, {'tag': 'loss', 'value': 0.2988}, {'tag': 'learning_rate', 'value': 8.000000000000001e-06}, {'tag': 'eval_loss', 'value': 0.34125107526779175}, {'tag': 'eval_runtime', 'value': 0.4775}, {'tag': 'eval_samples_per_second', 'value': 20.941}, {'tag': 'eval_steps_per_second', 'value': 4.188}], [{'tag': 'train_loss', 'value': 0.2500511705875397}, {'tag': 'train_runtime', 'value': 1.2042}, {'tag': 'train_samples_per_second', 'value': 66.434}, {'tag': 'train_steps_per_second', 'value': 8.304}, {'tag': 'epoch', 'value': 43.0}, {'tag': 'step', 'value': 215}, {'tag': 'loss', 'value': 0.2938}, {'tag': 'learning_rate', 'value': 7.000000000000001e-06}, {'tag': 'eval_loss', 'value': 0.3496057391166687}, {'tag': 'eval_runtime', 'value': 0.4891}, {'tag': 'eval_samples_per_second', 'value': 20.448}, {'tag': 'eval_steps_per_second', 'value': 4.09}], [{'tag': 'train_loss', 'value': 0.23018606007099152}, {'tag': 'train_runtime', 'value': 1.2141}, {'tag': 'train_samples_per_second', 'value': 65.891}, {'tag': 'train_steps_per_second', 'value': 8.236}, {'tag': 'epoch', 'value': 44.0}, {'tag': 'step', 'value': 220}, {'tag': 'loss', 'value': 0.2841}, {'tag': 'learning_rate', 'value': 6e-06}, {'tag': 'eval_loss', 'value': 0.33960604667663574}, {'tag': 'eval_runtime', 'value': 0.4931}, {'tag': 'eval_samples_per_second', 'value': 20.281}, {'tag': 'eval_steps_per_second', 'value': 4.056}], [{'tag': 'train_loss', 'value': 0.2174050360918045}, {'tag': 'train_runtime', 'value': 1.2505}, {'tag': 'train_samples_per_second', 'value': 63.973}, {'tag': 'train_steps_per_second', 'value': 7.997}, {'tag': 'epoch', 'value': 45.0}, {'tag': 'step', 'value': 225}, {'tag': 'loss', 'value': 0.2802}, {'tag': 'learning_rate', 'value': 5e-06}, {'tag': 'eval_loss', 'value': 0.33780574798583984}, {'tag': 'eval_runtime', 'value': 0.4981}, {'tag': 'eval_samples_per_second', 'value': 20.078}, {'tag': 'eval_steps_per_second', 'value': 4.016}], [{'tag': 'train_loss', 'value': 0.22354617714881897}, {'tag': 'train_runtime', 'value': 1.2126}, {'tag': 'train_samples_per_second', 'value': 65.973}, {'tag': 'train_steps_per_second', 'value': 8.247}, {'tag': 'epoch', 'value': 46.0}, {'tag': 'step', 'value': 230}, {'tag': 'loss', 'value': 0.2707}, {'tag': 'learning_rate', 'value': 4.000000000000001e-06}, {'tag': 'eval_loss', 'value': 0.3603547215461731}, {'tag': 'eval_runtime', 'value': 0.4756}, {'tag': 'eval_samples_per_second', 'value': 21.027}, {'tag': 'eval_steps_per_second', 'value': 4.205}], [{'tag': 'train_loss', 'value': 0.2183530628681183}, {'tag': 'train_runtime', 'value': 1.2363}, {'tag': 'train_samples_per_second', 'value': 64.707}, {'tag': 'train_steps_per_second', 'value': 8.088}, {'tag': 'epoch', 'value': 47.0}, {'tag': 'step', 'value': 235}, {'tag': 'loss', 'value': 0.2786}, {'tag': 'learning_rate', 'value': 3e-06}, {'tag': 'eval_loss', 'value': 0.33438295125961304}, {'tag': 'eval_runtime', 'value': 0.4792}, {'tag': 'eval_samples_per_second', 'value': 20.868}, {'tag': 'eval_steps_per_second', 'value': 4.174}], [{'tag': 'train_loss', 'value': 0.21410974860191345}, {'tag': 'train_runtime', 'value': 1.2075}, {'tag': 'train_samples_per_second', 'value': 66.253}, {'tag': 'train_steps_per_second', 'value': 8.282}, {'tag': 'epoch', 'value': 48.0}, {'tag': 'step', 'value': 240}, {'tag': 'loss', 'value': 0.2765}, {'tag': 'learning_rate', 'value': 2.0000000000000003e-06}, {'tag': 'eval_loss', 'value': 0.3265611529350281}, {'tag': 'eval_runtime', 'value': 0.4835}, {'tag': 'eval_samples_per_second', 'value': 20.68}, {'tag': 'eval_steps_per_second', 'value': 4.136}], [{'tag': 'train_loss', 'value': 0.2106158286333084}, {'tag': 'train_runtime', 'value': 1.2286}, {'tag': 'train_samples_per_second', 'value': 65.113}, {'tag': 'train_steps_per_second', 'value': 8.139}, {'tag': 'epoch', 'value': 49.0}, {'tag': 'step', 'value': 245}, {'tag': 'loss', 'value': 0.2777}, {'tag': 'learning_rate', 'value': 1.0000000000000002e-06}, {'tag': 'eval_loss', 'value': 0.3275963366031647}, {'tag': 'eval_runtime', 'value': 0.4739}, {'tag': 'eval_samples_per_second', 'value': 21.102}, {'tag': 'eval_steps_per_second', 'value': 4.22}], [{'tag': 'train_loss', 'value': 0.2184079885482788}, {'tag': 'train_runtime', 'value': 1.2067}, {'tag': 'train_samples_per_second', 'value': 66.296}, {'tag': 'train_steps_per_second', 'value': 8.287}, {'tag': 'epoch', 'value': 50.0}, {'tag': 'step', 'value': 250}, {'tag': 'loss', 'value': 0.2936}, {'tag': 'learning_rate', 'value': 0.0}, {'tag': 'eval_loss', 'value': 0.34371107816696167}, {'tag': 'eval_runtime', 'value': 0.4836}, {'tag': 'eval_samples_per_second', 'value': 20.678}, {'tag': 'eval_steps_per_second', 'value': 4.136}]])"
      ]
     },
     "execution_count": 11,
     "metadata": {},
     "output_type": "execute_result"
    }
   ],
   "source": [
    "dataset_dir = dataset.export(DataType.HUGGINGFACE)\n",
    "train_result = huggingface_hub.train(\n",
    "    dataset_dir,\n",
    "    image_size=320,\n",
    "    epochs=50,\n",
    "    batch_size=16\n",
    ")\n",
    "train_result"
   ]
  },
  {
   "attachments": {},
   "cell_type": "markdown",
   "metadata": {},
   "source": [
    "# Evaluate"
   ]
  },
  {
   "cell_type": "code",
   "execution_count": 12,
   "metadata": {},
   "outputs": [
    {
     "name": "stderr",
     "output_type": "stream",
     "text": [
      "100%|██████████| 3/3 [00:00<00:00, 24.37it/s]\n"
     ]
    },
    {
     "data": {
      "text/plain": [
       "EvaluateResult(metrics=[{'tag': 'mAP', 'value': 0.8066571950912476}])"
      ]
     },
     "execution_count": 12,
     "metadata": {},
     "output_type": "execute_result"
    }
   ],
   "source": [
    "ultralytics_hub = UltralyticsHub.load(\"ultralytics_mnist_detection\")\n",
    "ultralytics_hub.evaluate(\"mnist_det\", set_name=\"test\")"
   ]
  },
  {
   "cell_type": "code",
   "execution_count": 13,
   "metadata": {},
   "outputs": [
    {
     "name": "stderr",
     "output_type": "stream",
     "text": [
      "100%|██████████| 3/3 [00:00<00:00, 21.55it/s]\n"
     ]
    },
    {
     "data": {
      "text/plain": [
       "EvaluateResult(metrics=[{'tag': 'mAP', 'value': 0.12699943780899048}])"
      ]
     },
     "execution_count": 13,
     "metadata": {},
     "output_type": "execute_result"
    }
   ],
   "source": [
    "huggingface_hub = HuggingFaceHub.load(\"huggingface_mnist_detection\")\n",
    "huggingface_hub.evaluate(\"mnist_det\", set_name=\"test\")"
   ]
  },
  {
   "attachments": {},
   "cell_type": "markdown",
   "metadata": {},
   "source": [
    "# Inference"
   ]
  },
  {
   "cell_type": "code",
   "execution_count": 14,
   "metadata": {},
   "outputs": [],
   "source": [
    "import PIL.Image"
   ]
  },
  {
   "cell_type": "code",
   "execution_count": 15,
   "metadata": {},
   "outputs": [
    {
     "name": "stderr",
     "output_type": "stream",
     "text": [
      "100%|██████████| 25/25 [00:00<00:00, 54.73it/s]\n"
     ]
    },
    {
     "data": {
      "image/png": "[encoded data removed]",
      "text/plain": [
       "<PIL.PngImagePlugin.PngImageFile image mode=RGB size=300x300>"
      ]
     },
     "execution_count": 15,
     "metadata": {},
     "output_type": "execute_result"
    }
   ],
   "source": [
    "ultralytics_hub = UltralyticsHub.load(\"ultralytics_mnist_detection\")\n",
    "ultralytics_hub.inference(\"mnist/images\", draw=True)\n",
    "PIL.Image.open(ultralytics_hub.draw_dir / \"1.png\")"
   ]
  },
  {
   "cell_type": "code",
   "execution_count": 16,
   "metadata": {},
   "outputs": [
    {
     "name": "stderr",
     "output_type": "stream",
     "text": [
      "100%|██████████| 25/25 [00:00<00:00, 41.18it/s]\n"
     ]
    },
    {
     "data": {
      "image/png": "[encoded data removed]",
      "text/plain": [
       "<PIL.PngImagePlugin.PngImageFile image mode=RGB size=300x300>"
      ]
     },
     "execution_count": 16,
     "metadata": {},
     "output_type": "execute_result"
    }
   ],
   "source": [
    "huggingface_hub = HuggingFaceHub.load(\"huggingface_mnist_detection\")\n",
    "huggingface_hub.inference(\"mnist/images\", draw=True)\n",
    "PIL.Image.open(huggingface_hub.draw_dir / \"1.png\")"
   ]
  },
  {
   "attachments": {},
   "cell_type": "markdown",
   "metadata": {},
   "source": [
    "# Export to onnx"
   ]
  },
  {
   "cell_type": "code",
   "execution_count": 17,
   "metadata": {},
   "outputs": [
    {
     "name": "stderr",
     "output_type": "stream",
     "text": [
      "/home/lhj/anaconda3/envs/waffle/lib/python3.9/site-packages/ultralytics/nn/modules.py:474: TracerWarning: Converting a tensor to a Python boolean might cause the trace to be incorrect. We can't record the data flow of Python values, so this value will be treated as a constant in the future. This means that the trace might not generalize to other inputs!\n",
      "  elif self.dynamic or self.shape != shape:\n",
      "/home/lhj/anaconda3/envs/waffle/lib/python3.9/site-packages/ultralytics/yolo/utils/tal.py:241: TracerWarning: Iterating over a tensor might cause the trace to be incorrect. Passing a tensor of different shape won't change the number of iterations executed (and might lead to errors or silently give incorrect results).\n",
      "  for i, stride in enumerate(strides):\n",
      "/home/lhj/anaconda3/envs/waffle/lib/python3.9/site-packages/torch/onnx/utils.py:617: UserWarning: ONNX Preprocess - Removing mutation from node aten::sub_ on block input: 'tensor.1'. This changes graph semantics. (Triggered internally at ../torch/csrc/jit/passes/onnx/remove_inplace_ops_for_onnx.cpp:335.)\n",
      "  _C._jit_pass_onnx_remove_inplace_ops_for_onnx(graph, module)\n"
     ]
    },
    {
     "data": {
      "text/plain": [
       "ExportResult(export_file=PosixPath('hubs/ultralytics_mnist_detection/weights/model.onnx'))"
      ]
     },
     "execution_count": 17,
     "metadata": {},
     "output_type": "execute_result"
    }
   ],
   "source": [
    "ultralytics_hub.export()"
   ]
  },
  {
   "cell_type": "code",
   "execution_count": 18,
   "metadata": {},
   "outputs": [
    {
     "name": "stderr",
     "output_type": "stream",
     "text": [
      "/home/lhj/anaconda3/envs/waffle/lib/python3.9/site-packages/transformers/models/detr/modeling_detr.py:575: TracerWarning: Converting a tensor to a Python boolean might cause the trace to be incorrect. We can't record the data flow of Python values, so this value will be treated as a constant in the future. This means that the trace might not generalize to other inputs!\n",
      "  if attn_weights.size() != (batch_size * self.num_heads, target_len, source_len):\n",
      "/home/lhj/anaconda3/envs/waffle/lib/python3.9/site-packages/transformers/models/detr/modeling_detr.py:582: TracerWarning: Converting a tensor to a Python boolean might cause the trace to be incorrect. We can't record the data flow of Python values, so this value will be treated as a constant in the future. This means that the trace might not generalize to other inputs!\n",
      "  if attention_mask.size() != (batch_size, 1, target_len, source_len):\n",
      "/home/lhj/anaconda3/envs/waffle/lib/python3.9/site-packages/transformers/models/detr/modeling_detr.py:606: TracerWarning: Converting a tensor to a Python boolean might cause the trace to be incorrect. We can't record the data flow of Python values, so this value will be treated as a constant in the future. This means that the trace might not generalize to other inputs!\n",
      "  if attn_output.size() != (batch_size * self.num_heads, target_len, self.head_dim):\n",
      "/home/lhj/anaconda3/envs/waffle/lib/python3.9/site-packages/transformers/models/detr/image_processing_detr.py:1567: TracerWarning: Iterating over a tensor might cause the trace to be incorrect. Passing a tensor of different shape won't change the number of iterations executed (and might lead to errors or silently give incorrect results).\n",
      "  for s, l, b in zip(scores, labels, boxes):\n"
     ]
    },
    {
     "data": {
      "text/plain": [
       "ExportResult(export_file=PosixPath('hubs/huggingface_mnist_detection/weights/model.onnx'))"
      ]
     },
     "execution_count": 18,
     "metadata": {},
     "output_type": "execute_result"
    }
   ],
   "source": [
    "huggingface_hub.export()"
   ]
  },
  {
   "cell_type": "code",
   "execution_count": null,
   "metadata": {},
   "outputs": [],
   "source": []
  }
 ],
 "metadata": {
  "kernelspec": {
   "display_name": "waffle",
   "language": "python",
   "name": "python3"
  },
  "language_info": {
   "codemirror_mode": {
    "name": "ipython",
    "version": 3
   },
   "file_extension": ".py",
   "mimetype": "text/x-python",
   "name": "python",
   "nbconvert_exporter": "python",
   "pygments_lexer": "ipython3",
   "version": "3.9.16"
  },
  "orig_nbformat": 4
 },
 "nbformat": 4,
 "nbformat_minor": 2
}
