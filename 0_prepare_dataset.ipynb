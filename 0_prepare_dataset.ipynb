{
 "cells": [
  {
   "attachments": {},
   "cell_type": "markdown",
   "metadata": {},
   "source": [
    "# Download Sample dataset from [asset](https://github.com/snuailab/assets)"
   ]
  },
  {
   "cell_type": "code",
   "execution_count": 1,
   "metadata": {},
   "outputs": [
    {
     "name": "stdout",
     "output_type": "stream",
     "text": [
      "--2023-05-02 19:25:41--  https://github.com/snuailab/assets/raw/main/waffle/sample_dataset/mnist.zip\n",
      "Resolving github.com (github.com)... 20.200.245.247\n",
      "Connecting to github.com (github.com)|20.200.245.247|:443... connected.\n",
      "HTTP request sent, awaiting response... 302 Found\n",
      "Location: https://raw.githubusercontent.com/snuailab/assets/main/waffle/sample_dataset/mnist.zip [following]\n",
      "--2023-05-02 19:25:41--  https://raw.githubusercontent.com/snuailab/assets/main/waffle/sample_dataset/mnist.zip\n",
      "Resolving raw.githubusercontent.com (raw.githubusercontent.com)... 185.199.111.133, 185.199.109.133, 185.199.110.133, ...\n",
      "Connecting to raw.githubusercontent.com (raw.githubusercontent.com)|185.199.111.133|:443... connected.\n",
      "HTTP request sent, awaiting response... 200 OK\n",
      "Length: 157823 (154K) [application/zip]\n",
      "Saving to: ‘mnist.zip.1’\n",
      "\n",
      "mnist.zip.1         100%[===================>] 154.12K  --.-KB/s    in 0.01s   \n",
      "\n",
      "2023-05-02 19:25:41 (11.4 MB/s) - ‘mnist.zip.1’ saved [157823/157823]\n",
      "\n"
     ]
    }
   ],
   "source": [
    "! wget https://github.com/snuailab/assets/raw/main/waffle/sample_dataset/mnist.zip"
   ]
  },
  {
   "cell_type": "code",
   "execution_count": 2,
   "metadata": {},
   "outputs": [
    {
     "name": "stdout",
     "output_type": "stream",
     "text": [
      "Archive:  mnist.zip\n",
      "  inflating: coco.json               \n",
      "   creating: images/\n",
      "  inflating: images/1.png            \n",
      "  inflating: images/10.png           \n",
      "  inflating: images/100.png          \n",
      "  inflating: images/11.png           \n",
      "  inflating: images/12.png           \n",
      "  inflating: images/13.png           \n",
      "  inflating: images/14.png           \n",
      "  inflating: images/15.png           \n",
      "  inflating: images/16.png           \n",
      "  inflating: images/17.png           \n",
      "  inflating: images/18.png           \n",
      "  inflating: images/19.png           \n",
      "  inflating: images/2.png            \n",
      "  inflating: images/20.png           \n",
      "  inflating: images/21.png           \n",
      "  inflating: images/22.png           \n",
      "  inflating: images/23.png           \n",
      "  inflating: images/24.png           \n",
      "  inflating: images/25.png           \n",
      "  inflating: images/26.png           \n",
      "  inflating: images/27.png           \n",
      "  inflating: images/28.png           \n",
      "  inflating: images/29.png           \n",
      "  inflating: images/3.png            \n",
      "  inflating: images/30.png           \n",
      "  inflating: images/31.png           \n",
      "  inflating: images/32.png           \n",
      "  inflating: images/33.png           \n",
      "  inflating: images/34.png           \n",
      "  inflating: images/35.png           \n",
      "  inflating: images/36.png           \n",
      "  inflating: images/37.png           \n",
      "  inflating: images/38.png           \n",
      "  inflating: images/39.png           \n",
      "  inflating: images/4.png            \n",
      "  inflating: images/40.png           \n",
      "  inflating: images/41.png           \n",
      "  inflating: images/42.png           \n",
      "  inflating: images/43.png           \n",
      "  inflating: images/44.png           \n",
      "  inflating: images/45.png           \n",
      "  inflating: images/46.png           \n",
      "  inflating: images/47.png           \n",
      "  inflating: images/48.png           \n",
      "  inflating: images/49.png           \n",
      "  inflating: images/5.png            \n",
      "  inflating: images/50.png           \n",
      "  inflating: images/51.png           \n",
      "  inflating: images/52.png           \n",
      "  inflating: images/53.png           \n",
      "  inflating: images/54.png           \n",
      "  inflating: images/55.png           \n",
      "  inflating: images/56.png           \n",
      "  inflating: images/57.png           \n",
      "  inflating: images/58.png           \n",
      "  inflating: images/59.png           \n",
      "  inflating: images/6.png            \n",
      "  inflating: images/60.png           \n",
      "  inflating: images/61.png           \n",
      "  inflating: images/62.png           \n",
      "  inflating: images/63.png           \n",
      "  inflating: images/64.png           \n",
      "  inflating: images/65.png           \n",
      "  inflating: images/66.png           \n",
      "  inflating: images/67.png           \n",
      "  inflating: images/68.png           \n",
      "  inflating: images/69.png           \n",
      "  inflating: images/7.png            \n",
      "  inflating: images/70.png           \n",
      "  inflating: images/71.png           \n",
      "  inflating: images/72.png           \n",
      "  inflating: images/73.png           \n",
      "  inflating: images/74.png           \n",
      "  inflating: images/75.png           \n",
      "  inflating: images/76.png           \n",
      "  inflating: images/77.png           \n",
      "  inflating: images/78.png           \n",
      "  inflating: images/79.png           \n",
      "  inflating: images/8.png            \n",
      "  inflating: images/80.png           \n",
      "  inflating: images/81.png           \n",
      "  inflating: images/82.png           \n",
      "  inflating: images/83.png           \n",
      "  inflating: images/84.png           \n",
      "  inflating: images/85.png           \n",
      "  inflating: images/86.png           \n",
      "  inflating: images/87.png           \n",
      "  inflating: images/88.png           \n",
      "  inflating: images/89.png           \n",
      "  inflating: images/9.png            \n",
      "  inflating: images/90.png           \n",
      "  inflating: images/91.png           \n",
      "  inflating: images/92.png           \n",
      "  inflating: images/93.png           \n",
      "  inflating: images/94.png           \n",
      "  inflating: images/95.png           \n",
      "  inflating: images/96.png           \n",
      "  inflating: images/97.png           \n",
      "  inflating: images/98.png           \n",
      "  inflating: images/99.png           \n",
      "  inflating: test.json               \n",
      "  inflating: train.json              \n",
      "  inflating: val.json                \n"
     ]
    }
   ],
   "source": [
    "! unzip mnist.zip"
   ]
  },
  {
   "attachments": {},
   "cell_type": "markdown",
   "metadata": {},
   "source": [
    "# Convert to Waffle Dataset"
   ]
  },
  {
   "cell_type": "code",
   "execution_count": 3,
   "metadata": {},
   "outputs": [
    {
     "name": "stderr",
     "output_type": "stream",
     "text": [
      "/home/lhj/anaconda3/envs/waffle/lib/python3.9/site-packages/tqdm/auto.py:21: TqdmWarning: IProgress not found. Please update jupyter and ipywidgets. See https://ipywidgets.readthedocs.io/en/stable/user_install.html\n",
      "  from .autonotebook import tqdm as notebook_tqdm\n",
      "/home/lhj/anaconda3/envs/waffle/lib/python3.9/site-packages/waffle_hub/__init__.py:16: UserWarning: \n",
      "            torch 1.13.1+cu117 has not been tested.\n",
      "            We recommend you to use one of ['1.13.1']\n",
      "            \n",
      "  warnings.warn(\n"
     ]
    },
    {
     "name": "stdout",
     "output_type": "stream",
     "text": [
      "loading annotations into memory...\n",
      "Done (t=0.00s)\n",
      "creating index...\n",
      "index created!\n"
     ]
    },
    {
     "name": "stderr",
     "output_type": "stream",
     "text": [
      "1it [00:00, 94.25it/s]:   0%|          | 0/100 [00:00<?, ?it/s]\n",
      "Importing coco dataset: 100%|██████████| 100/100 [00:00<00:00, 8688.36it/s]\n"
     ]
    }
   ],
   "source": [
    "from waffle_hub.dataset import Dataset\n",
    "from waffle_hub import TaskType\n",
    "\n",
    "dataset = Dataset.from_coco(\n",
    "    name='mnist_det',\n",
    "    task=TaskType.OBJECT_DETECTION,\n",
    "    coco_file=\"./mnist/coco.json\",\n",
    "    coco_root_dir=\"./mnist/images\",\n",
    ")"
   ]
  },
  {
   "cell_type": "code",
   "execution_count": 5,
   "metadata": {},
   "outputs": [
    {
     "data": {
      "text/plain": [
       "['1', '2']"
      ]
     },
     "execution_count": 5,
     "metadata": {},
     "output_type": "execute_result"
    }
   ],
   "source": [
    "dataset.category_names"
   ]
  },
  {
   "attachments": {},
   "cell_type": "markdown",
   "metadata": {},
   "source": [
    "# Split Dataset"
   ]
  },
  {
   "cell_type": "code",
   "execution_count": 4,
   "metadata": {},
   "outputs": [
    {
     "data": {
      "text/plain": [
       "[PosixPath('datasets/mnist_det/sets/test.json'),\n",
       " PosixPath('datasets/mnist_det/sets/val.json'),\n",
       " PosixPath('datasets/mnist_det/sets/train.json'),\n",
       " PosixPath('datasets/mnist_det/sets/unlabeled.json')]"
      ]
     },
     "execution_count": 4,
     "metadata": {},
     "output_type": "execute_result"
    }
   ],
   "source": [
    "dataset.split(\n",
    "    train_ratio=0.8,\n",
    "    val_ratio=0.1,\n",
    "    test_ratio=0.1,\n",
    ")\n",
    "list(dataset.set_dir.iterdir())"
   ]
  },
  {
   "attachments": {},
   "cell_type": "markdown",
   "metadata": {},
   "source": [
    "# Export Dataset to other formats"
   ]
  },
  {
   "cell_type": "code",
   "execution_count": 6,
   "metadata": {},
   "outputs": [
    {
     "data": {
      "text/plain": [
       "'datasets/mnist_det/exports/YOLO'"
      ]
     },
     "execution_count": 6,
     "metadata": {},
     "output_type": "execute_result"
    }
   ],
   "source": [
    "from waffle_hub import DataType\n",
    "\n",
    "export_dir = dataset.export(DataType.YOLO)\n",
    "export_dir"
   ]
  },
  {
   "cell_type": "code",
   "execution_count": 7,
   "metadata": {},
   "outputs": [
    {
     "name": "stdout",
     "output_type": "stream",
     "text": [
      "Downloading and preparing dataset generator/default to /home/lhj/.cache/huggingface/datasets/generator/default-c7a2978114d02872/0.0.0...\n"
     ]
    },
    {
     "name": "stderr",
     "output_type": "stream",
     "text": [
      "                                                              \r"
     ]
    },
    {
     "name": "stdout",
     "output_type": "stream",
     "text": [
      "Dataset generator downloaded and prepared to /home/lhj/.cache/huggingface/datasets/generator/default-c7a2978114d02872/0.0.0. Subsequent calls will reuse this data.\n",
      "Downloading and preparing dataset generator/default to /home/lhj/.cache/huggingface/datasets/generator/default-cad1b75d1b04c3b6/0.0.0...\n"
     ]
    },
    {
     "name": "stderr",
     "output_type": "stream",
     "text": [
      "                                                        \r"
     ]
    },
    {
     "name": "stdout",
     "output_type": "stream",
     "text": [
      "Dataset generator downloaded and prepared to /home/lhj/.cache/huggingface/datasets/generator/default-cad1b75d1b04c3b6/0.0.0. Subsequent calls will reuse this data.\n",
      "Downloading and preparing dataset generator/default to /home/lhj/.cache/huggingface/datasets/generator/default-25d2fb6b442f65d1/0.0.0...\n"
     ]
    },
    {
     "name": "stderr",
     "output_type": "stream",
     "text": [
      "                                                        \r"
     ]
    },
    {
     "name": "stdout",
     "output_type": "stream",
     "text": [
      "Dataset generator downloaded and prepared to /home/lhj/.cache/huggingface/datasets/generator/default-25d2fb6b442f65d1/0.0.0. Subsequent calls will reuse this data.\n"
     ]
    },
    {
     "name": "stderr",
     "output_type": "stream",
     "text": [
      "                                                                                          \r"
     ]
    },
    {
     "data": {
      "text/plain": [
       "'datasets/mnist_det/exports/HUGGINGFACE'"
      ]
     },
     "execution_count": 7,
     "metadata": {},
     "output_type": "execute_result"
    }
   ],
   "source": [
    "export_dir = dataset.export(DataType.HUGGINGFACE)\n",
    "export_dir"
   ]
  },
  {
   "cell_type": "code",
   "execution_count": null,
   "metadata": {},
   "outputs": [],
   "source": []
  }
 ],
 "metadata": {
  "kernelspec": {
   "display_name": "waffle",
   "language": "python",
   "name": "python3"
  },
  "language_info": {
   "codemirror_mode": {
    "name": "ipython",
    "version": 3
   },
   "file_extension": ".py",
   "mimetype": "text/x-python",
   "name": "python",
   "nbconvert_exporter": "python",
   "pygments_lexer": "ipython3",
   "version": "3.9.16"
  },
  "orig_nbformat": 4
 },
 "nbformat": 4,
 "nbformat_minor": 2
}
