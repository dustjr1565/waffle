{
 "cells": [
  {
   "attachments": {},
   "cell_type": "markdown",
   "metadata": {},
   "source": [
    "## Create Ultralytics Hub"
   ]
  },
  {
   "cell_type": "code",
   "execution_count": 1,
   "metadata": {},
   "outputs": [
    {
     "name": "stderr",
     "output_type": "stream",
     "text": [
      "/home/lhj/anaconda3/envs/waffle/lib/python3.9/site-packages/tqdm/auto.py:21: TqdmWarning: IProgress not found. Please update jupyter and ipywidgets. See https://ipywidgets.readthedocs.io/en/stable/user_install.html\n",
      "  from .autonotebook import tqdm as notebook_tqdm\n",
      "/home/lhj/anaconda3/envs/waffle/lib/python3.9/site-packages/waffle_hub/__init__.py:16: UserWarning: \n",
      "            torch 1.13.1+cu117 has not been tested.\n",
      "            We recommend you to use one of ['1.13.1']\n",
      "            \n",
      "  warnings.warn(\n",
      "/home/lhj/anaconda3/envs/waffle/lib/python3.9/site-packages/waffle_hub/__init__.py:56: UserWarning: \n",
      "                ultralytics 8.0.91 has not been tested.\n",
      "                We recommend you to use one of ['8.0.87']\n",
      "                \n",
      "  warnings.warn(\n"
     ]
    }
   ],
   "source": [
    "from waffle_hub.hub.adapter.ultralytics import UltralyticsHub\n",
    "from waffle_hub import TaskType"
   ]
  },
  {
   "cell_type": "code",
   "execution_count": 2,
   "metadata": {},
   "outputs": [
    {
     "data": {
      "text/plain": [
       "{'object_detection': {'yolov8': ['n', 's', 'm', 'l', 'x']},\n",
       " 'classification': {'yolov8': ['n', 's', 'm', 'l', 'x']},\n",
       " 'instance_segmentation': {'yolov8': ['n', 's', 'm', 'l', 'x']}}"
      ]
     },
     "execution_count": 2,
     "metadata": {},
     "output_type": "execute_result"
    }
   ],
   "source": [
    "UltralyticsHub.MODEL_TYPES"
   ]
  },
  {
   "cell_type": "code",
   "execution_count": 3,
   "metadata": {},
   "outputs": [],
   "source": [
    "ultralytics_hub = UltralyticsHub.new(\n",
    "    name=\"ultralytics_mnist_detection\",\n",
    "    task=TaskType.OBJECT_DETECTION,\n",
    "    model_type=\"yolov8\",\n",
    "    model_size=\"n\",\n",
    "    categories=[\"1\", \"2\"]\n",
    ")"
   ]
  },
  {
   "cell_type": "code",
   "execution_count": 4,
   "metadata": {},
   "outputs": [
    {
     "data": {
      "text/plain": [
       "[{'supercategory': 'object', 'name': '1'},\n",
       " {'supercategory': 'object', 'name': '2'}]"
      ]
     },
     "execution_count": 4,
     "metadata": {},
     "output_type": "execute_result"
    }
   ],
   "source": [
    "ultralytics_hub.categories"
   ]
  },
  {
   "attachments": {},
   "cell_type": "markdown",
   "metadata": {},
   "source": [
    "## Create Huggingface Hub "
   ]
  },
  {
   "cell_type": "code",
   "execution_count": 5,
   "metadata": {},
   "outputs": [
    {
     "name": "stderr",
     "output_type": "stream",
     "text": [
      "/home/lhj/anaconda3/envs/waffle/lib/python3.9/site-packages/waffle_hub/__init__.py:56: UserWarning: \n",
      "                transformers 4.28.1 has not been tested.\n",
      "                We recommend you to use one of ['4.27.4']\n",
      "                \n",
      "  warnings.warn(\n"
     ]
    }
   ],
   "source": [
    "from waffle_hub.hub.adapter.hugging_face import HuggingFaceHub\n",
    "from waffle_hub import TaskType"
   ]
  },
  {
   "cell_type": "code",
   "execution_count": 6,
   "metadata": {},
   "outputs": [
    {
     "data": {
      "text/plain": [
       "{'object_detection': {'DETA': {'base': 'jozhang97/deta-resnet-50'},\n",
       "  'DETR': {'base': 'facebook/detr-resnet-50',\n",
       "   'large': 'facebook/detr-resnet-101'},\n",
       "  'YOLOS': {'tiny': 'hustvl/yolos-tiny'}},\n",
       " 'classification': {'ViT': {'tiny': 'WinKawaks/vit-tiny-patch16-224',\n",
       "   'base': 'google/vit-base-patch16-224'}}}"
      ]
     },
     "execution_count": 6,
     "metadata": {},
     "output_type": "execute_result"
    }
   ],
   "source": [
    "HuggingFaceHub.MODEL_TYPES"
   ]
  },
  {
   "cell_type": "code",
   "execution_count": 7,
   "metadata": {},
   "outputs": [],
   "source": [
    "huggingface_hub = HuggingFaceHub.new(\n",
    "    name=\"huggingface_mnist_detection\",\n",
    "    task=TaskType.OBJECT_DETECTION,\n",
    "    model_type=\"DETR\",\n",
    "    model_size=\"base\",\n",
    "    categories=[\"1\", \"2\"]\n",
    ")"
   ]
  },
  {
   "attachments": {},
   "cell_type": "markdown",
   "metadata": {},
   "source": [
    "## Create Tx Model Hub"
   ]
  },
  {
   "cell_type": "code",
   "execution_count": 8,
   "metadata": {},
   "outputs": [],
   "source": [
    "from waffle_hub.hub.adapter.tx_model import TxModelHub\n",
    "from waffle_hub import TaskType"
   ]
  },
  {
   "cell_type": "code",
   "execution_count": 9,
   "metadata": {},
   "outputs": [
    {
     "data": {
      "text/plain": [
       "{'object_detection': {'YOLOv5': ['s', 'm', 'l']},\n",
       " 'classification': {'Classifier': ['s', 'm', 'l']}}"
      ]
     },
     "execution_count": 9,
     "metadata": {},
     "output_type": "execute_result"
    }
   ],
   "source": [
    "TxModelHub.MODEL_TYPES"
   ]
  },
  {
   "cell_type": "code",
   "execution_count": 10,
   "metadata": {},
   "outputs": [],
   "source": [
    "tx_model_hub = TxModelHub.new(\n",
    "    name=\"tx_model_mnist_detection\",\n",
    "    task=TaskType.OBJECT_DETECTION,\n",
    "    model_type=\"YOLOv5\",\n",
    "    model_size=\"s\",\n",
    "    categories=[\"1\", \"2\"]\n",
    ")"
   ]
  },
  {
   "attachments": {},
   "cell_type": "markdown",
   "metadata": {},
   "source": [
    "## Train"
   ]
  },
  {
   "attachments": {},
   "cell_type": "markdown",
   "metadata": {},
   "source": [
    "### Load Dataset"
   ]
  },
  {
   "cell_type": "code",
   "execution_count": 11,
   "metadata": {},
   "outputs": [],
   "source": [
    "from waffle_hub.dataset import Dataset\n",
    "from waffle_hub import DataType\n",
    "\n",
    "dataset = Dataset.load(\"mnist_det\")"
   ]
  },
  {
   "attachments": {},
   "cell_type": "markdown",
   "metadata": {},
   "source": [
    "### Ultralytics"
   ]
  },
  {
   "cell_type": "code",
   "execution_count": 12,
   "metadata": {},
   "outputs": [
    {
     "name": "stderr",
     "output_type": "stream",
     "text": [
      "/home/lhj/anaconda3/envs/waffle/lib/python3.9/site-packages/waffle_hub/dataset/dataset.py:1051: UserWarning: datasets/mnist_det/exports/YOLO already exists. Removing exist export and override.\n",
      "  warnings.warn(f\"{export_dir} already exists. Removing exist export and override.\")\n",
      "Ultralytics YOLOv8.0.91 🚀 Python-3.9.16 torch-1.13.1+cu117 CUDA:0 (NVIDIA GeForce RTX 4090, 24215MiB)\n",
      "\u001b[34m\u001b[1myolo/engine/trainer: \u001b[0mtask=detect, mode=train, model=yolov8n.pt, data=/home/lhj/ws/dev/waffle/datasets/mnist_det/exports/YOLO/data.yaml, epochs=50, patience=50, batch=16, imgsz=320, save=True, save_period=-1, cache=False, device=0, workers=2, project=hubs/ultralytics_mnist_detection, name=artifacts, exist_ok=False, pretrained=False, optimizer=SGD, verbose=True, seed=0, deterministic=True, single_cls=False, rect=True, cos_lr=False, close_mosaic=0, resume=False, amp=True, overlap_mask=True, mask_ratio=4, dropout=0.0, val=True, split=val, save_json=False, save_hybrid=False, conf=None, iou=0.7, max_det=300, half=False, dnn=False, plots=True, source=None, show=False, save_txt=False, save_conf=False, save_crop=False, show_labels=True, show_conf=True, vid_stride=1, line_thickness=3, visualize=False, augment=False, agnostic_nms=False, classes=None, retina_masks=False, boxes=True, format=torchscript, keras=False, optimize=False, int8=False, dynamic=False, simplify=False, opset=None, workspace=4, nms=False, lr0=0.01, lrf=0.01, momentum=0.937, weight_decay=0.0005, warmup_epochs=3.0, warmup_momentum=0.8, warmup_bias_lr=0.1, box=7.5, cls=0.5, dfl=1.5, pose=12.0, kobj=1.0, label_smoothing=0.0, nbs=64, hsv_h=0.015, hsv_s=0.7, hsv_v=0.4, degrees=0.0, translate=0.1, scale=0.5, shear=0.0, perspective=0.0, flipud=0.0, fliplr=0.5, mosaic=1.0, mixup=0.0, copy_paste=0.0, cfg=None, v5loader=False, tracker=botsort.yaml, save_dir=hubs/ultralytics_mnist_detection/artifacts\n",
      "Overriding model.yaml nc=80 with nc=2\n",
      "\n",
      "                   from  n    params  module                                       arguments                     \n",
      "  0                  -1  1       464  ultralytics.nn.modules.Conv                  [3, 16, 3, 2]                 \n",
      "  1                  -1  1      4672  ultralytics.nn.modules.Conv                  [16, 32, 3, 2]                \n",
      "  2                  -1  1      7360  ultralytics.nn.modules.C2f                   [32, 32, 1, True]             \n",
      "  3                  -1  1     18560  ultralytics.nn.modules.Conv                  [32, 64, 3, 2]                \n",
      "  4                  -1  2     49664  ultralytics.nn.modules.C2f                   [64, 64, 2, True]             \n",
      "  5                  -1  1     73984  ultralytics.nn.modules.Conv                  [64, 128, 3, 2]               \n",
      "  6                  -1  2    197632  ultralytics.nn.modules.C2f                   [128, 128, 2, True]           \n",
      "  7                  -1  1    295424  ultralytics.nn.modules.Conv                  [128, 256, 3, 2]              \n",
      "  8                  -1  1    460288  ultralytics.nn.modules.C2f                   [256, 256, 1, True]           \n",
      "  9                  -1  1    164608  ultralytics.nn.modules.SPPF                  [256, 256, 5]                 \n",
      " 10                  -1  1         0  torch.nn.modules.upsampling.Upsample         [None, 2, 'nearest']          \n",
      " 11             [-1, 6]  1         0  ultralytics.nn.modules.Concat                [1]                           \n",
      " 12                  -1  1    148224  ultralytics.nn.modules.C2f                   [384, 128, 1]                 \n",
      " 13                  -1  1         0  torch.nn.modules.upsampling.Upsample         [None, 2, 'nearest']          \n",
      " 14             [-1, 4]  1         0  ultralytics.nn.modules.Concat                [1]                           \n",
      " 15                  -1  1     37248  ultralytics.nn.modules.C2f                   [192, 64, 1]                  \n",
      " 16                  -1  1     36992  ultralytics.nn.modules.Conv                  [64, 64, 3, 2]                \n",
      " 17            [-1, 12]  1         0  ultralytics.nn.modules.Concat                [1]                           \n",
      " 18                  -1  1    123648  ultralytics.nn.modules.C2f                   [192, 128, 1]                 \n",
      " 19                  -1  1    147712  ultralytics.nn.modules.Conv                  [128, 128, 3, 2]              \n",
      " 20             [-1, 9]  1         0  ultralytics.nn.modules.Concat                [1]                           \n",
      " 21                  -1  1    493056  ultralytics.nn.modules.C2f                   [384, 256, 1]                 \n",
      " 22        [15, 18, 21]  1    751702  ultralytics.nn.modules.Detect                [2, [64, 128, 256]]           \n",
      "Model summary: 225 layers, 3011238 parameters, 3011222 gradients, 8.2 GFLOPs\n",
      "\n",
      "Transferred 319/355 items from pretrained weights\n",
      "\u001b[34m\u001b[1mTensorBoard: \u001b[0mStart with 'tensorboard --logdir hubs/ultralytics_mnist_detection/artifacts', view at http://localhost:6006/\n",
      "\u001b[34m\u001b[1mAMP: \u001b[0mrunning Automatic Mixed Precision (AMP) checks with YOLOv8n...\n",
      "\u001b[34m\u001b[1mAMP: \u001b[0mchecks passed ✅\n",
      "\u001b[34m\u001b[1moptimizer:\u001b[0m SGD(lr=0.01) with parameter groups 57 weight(decay=0.0), 64 weight(decay=0.0005), 63 bias\n",
      "\u001b[34m\u001b[1mtrain: \u001b[0mScanning /home/lhj/ws/dev/waffle/datasets/mnist_det/exports/YOLO/train/labels... 80 images, 0 backgrounds, 0 corrupt: 100%|██████████| 80/80 [00:00<00:00, 7271.84it/s]\n",
      "\u001b[34m\u001b[1mtrain: \u001b[0mNew cache created: /home/lhj/ws/dev/waffle/datasets/mnist_det/exports/YOLO/train/labels.cache\n",
      "\u001b[34m\u001b[1malbumentations: \u001b[0mBlur(p=0.01, blur_limit=(3, 7)), MedianBlur(p=0.01, blur_limit=(3, 7)), ToGray(p=0.01), CLAHE(p=0.01, clip_limit=(1, 4.0), tile_grid_size=(8, 8))\n",
      "WARNING ⚠️ 'rect=True' is incompatible with DataLoader shuffle, setting shuffle=False\n",
      "\u001b[34m\u001b[1mval: \u001b[0mScanning /home/lhj/ws/dev/waffle/datasets/mnist_det/exports/YOLO/val/labels... 10 images, 0 backgrounds, 0 corrupt: 100%|██████████| 10/10 [00:00<00:00, 4388.27it/s]\n",
      "\u001b[34m\u001b[1mval: \u001b[0mNew cache created: /home/lhj/ws/dev/waffle/datasets/mnist_det/exports/YOLO/val/labels.cache\n",
      "Plotting labels to hubs/ultralytics_mnist_detection/artifacts/labels.jpg... \n",
      "Image sizes 320 train, 320 val\n",
      "Using 2 dataloader workers\n",
      "Logging results to \u001b[1mhubs/ultralytics_mnist_detection/artifacts\u001b[0m\n",
      "Starting training for 50 epochs...\n",
      "\n",
      "      Epoch    GPU_mem   box_loss   cls_loss   dfl_loss  Instances       Size\n",
      "       1/50     0.753G      1.519      4.172      1.084         16        320: 100%|██████████| 5/5 [00:00<00:00,  6.10it/s]\n",
      "/home/lhj/anaconda3/envs/waffle/lib/python3.9/site-packages/torch/optim/lr_scheduler.py:138: UserWarning: Detected call of `lr_scheduler.step()` before `optimizer.step()`. In PyTorch 1.1.0 and later, you should call them in the opposite order: `optimizer.step()` before `lr_scheduler.step()`.  Failure to do this will result in PyTorch skipping the first value of the learning rate schedule. See more details at https://pytorch.org/docs/stable/optim.html#how-to-adjust-learning-rate\n",
      "  warnings.warn(\"Detected call of `lr_scheduler.step()` before `optimizer.step()`. \"\n",
      "                 Class     Images  Instances      Box(P          R      mAP50  mAP50-95): 100%|██████████| 1/1 [00:00<00:00, 16.13it/s]\n",
      "                   all         10         10    0.00223      0.667     0.0155     0.0136\n",
      "\n",
      "      Epoch    GPU_mem   box_loss   cls_loss   dfl_loss  Instances       Size\n",
      "       2/50     0.753G      1.476      4.018      1.078         16        320: 100%|██████████| 5/5 [00:00<00:00,  8.10it/s]\n",
      "                 Class     Images  Instances      Box(P          R      mAP50  mAP50-95): 100%|██████████| 1/1 [00:00<00:00, 17.14it/s]\n",
      "                   all         10         10    0.00222      0.667    0.00832    0.00719\n",
      "\n",
      "      Epoch    GPU_mem   box_loss   cls_loss   dfl_loss  Instances       Size\n",
      "       3/50     0.763G      1.396      4.009     0.9768         15        320: 100%|██████████| 5/5 [00:00<00:00,  7.97it/s]\n",
      "                 Class     Images  Instances      Box(P          R      mAP50  mAP50-95): 100%|██████████| 1/1 [00:00<00:00, 16.72it/s]\n",
      "                   all         10         10    0.00336          1     0.0106    0.00718\n",
      "\n",
      "      Epoch    GPU_mem   box_loss   cls_loss   dfl_loss  Instances       Size\n",
      "       4/50     0.763G     0.8721        3.6     0.8468         16        320: 100%|██████████| 5/5 [00:00<00:00,  8.09it/s]\n",
      "                 Class     Images  Instances      Box(P          R      mAP50  mAP50-95): 100%|██████████| 1/1 [00:00<00:00, 16.85it/s]\n",
      "                   all         10         10    0.00322          1     0.0142     0.0107\n",
      "\n",
      "      Epoch    GPU_mem   box_loss   cls_loss   dfl_loss  Instances       Size\n",
      "       5/50     0.763G     0.9442      3.325     0.8637         15        320: 100%|██████████| 5/5 [00:00<00:00,  8.11it/s]\n",
      "                 Class     Images  Instances      Box(P          R      mAP50  mAP50-95): 100%|██████████| 1/1 [00:00<00:00, 16.60it/s]\n",
      "                   all         10         10    0.00326          1     0.0163     0.0141\n",
      "\n",
      "      Epoch    GPU_mem   box_loss   cls_loss   dfl_loss  Instances       Size\n",
      "       6/50     0.763G      0.936      2.551     0.8485         15        320: 100%|██████████| 5/5 [00:00<00:00,  8.16it/s]\n",
      "                 Class     Images  Instances      Box(P          R      mAP50  mAP50-95): 100%|██████████| 1/1 [00:00<00:00, 16.64it/s]\n",
      "                   all         10         10    0.00328          1     0.0178     0.0142\n",
      "\n",
      "      Epoch    GPU_mem   box_loss   cls_loss   dfl_loss  Instances       Size\n",
      "       7/50     0.763G      0.889      1.762     0.8642         14        320: 100%|██████████| 5/5 [00:00<00:00,  8.05it/s]\n",
      "                 Class     Images  Instances      Box(P          R      mAP50  mAP50-95): 100%|██████████| 1/1 [00:00<00:00, 17.10it/s]\n",
      "                   all         10         10     0.0032          1      0.648      0.414\n",
      "\n",
      "      Epoch    GPU_mem   box_loss   cls_loss   dfl_loss  Instances       Size\n",
      "       8/50     0.763G     0.8886      1.507      0.845         16        320: 100%|██████████| 5/5 [00:00<00:00,  8.19it/s]\n",
      "                 Class     Images  Instances      Box(P          R      mAP50  mAP50-95): 100%|██████████| 1/1 [00:00<00:00, 16.71it/s]\n",
      "                   all         10         10    0.00321          1      0.913      0.741\n",
      "\n",
      "      Epoch    GPU_mem   box_loss   cls_loss   dfl_loss  Instances       Size\n",
      "       9/50     0.763G      0.871      1.303     0.8618         16        320: 100%|██████████| 5/5 [00:00<00:00,  8.08it/s]\n",
      "                 Class     Images  Instances      Box(P          R      mAP50  mAP50-95): 100%|██████████| 1/1 [00:00<00:00, 16.85it/s]\n",
      "                   all         10         10     0.0033          1      0.773      0.601\n",
      "\n",
      "      Epoch    GPU_mem   box_loss   cls_loss   dfl_loss  Instances       Size\n",
      "      10/50     0.763G     0.9455      1.354      0.871         15        320: 100%|██████████| 5/5 [00:00<00:00,  8.18it/s]\n",
      "                 Class     Images  Instances      Box(P          R      mAP50  mAP50-95): 100%|██████████| 1/1 [00:00<00:00, 16.53it/s]\n",
      "                   all         10         10    0.00334          1      0.694      0.576\n",
      "\n",
      "      Epoch    GPU_mem   box_loss   cls_loss   dfl_loss  Instances       Size\n",
      "      11/50     0.763G      1.039      1.313     0.8635         16        320: 100%|██████████| 5/5 [00:00<00:00,  8.17it/s]\n",
      "                 Class     Images  Instances      Box(P          R      mAP50  mAP50-95): 100%|██████████| 1/1 [00:00<00:00, 16.64it/s]\n",
      "                   all         10         10    0.00345          1      0.776      0.623\n",
      "\n",
      "      Epoch    GPU_mem   box_loss   cls_loss   dfl_loss  Instances       Size\n",
      "      12/50     0.763G     0.8931      1.276     0.8205         15        320: 100%|██████████| 5/5 [00:00<00:00,  8.20it/s]\n",
      "                 Class     Images  Instances      Box(P          R      mAP50  mAP50-95): 100%|██████████| 1/1 [00:00<00:00, 16.56it/s]\n",
      "                   all         10         10          1      0.802      0.832      0.718\n",
      "\n",
      "      Epoch    GPU_mem   box_loss   cls_loss   dfl_loss  Instances       Size\n",
      "      13/50     0.763G     0.8568      1.178     0.8642         16        320: 100%|██████████| 5/5 [00:00<00:00,  8.28it/s]\n",
      "                 Class     Images  Instances      Box(P          R      mAP50  mAP50-95): 100%|██████████| 1/1 [00:00<00:00, 16.62it/s]\n",
      "                   all         10         10      0.513          1      0.954      0.693\n",
      "\n",
      "      Epoch    GPU_mem   box_loss   cls_loss   dfl_loss  Instances       Size\n",
      "      14/50     0.763G     0.8742      1.237      0.887         16        320: 100%|██████████| 5/5 [00:00<00:00,  8.17it/s]\n",
      "                 Class     Images  Instances      Box(P          R      mAP50  mAP50-95): 100%|██████████| 1/1 [00:00<00:00, 16.64it/s]\n",
      "                   all         10         10          1      0.293      0.954      0.701\n",
      "\n",
      "      Epoch    GPU_mem   box_loss   cls_loss   dfl_loss  Instances       Size\n",
      "      15/50     0.763G     0.8342      1.136     0.8575         16        320: 100%|██████████| 5/5 [00:00<00:00,  8.21it/s]\n",
      "                 Class     Images  Instances      Box(P          R      mAP50  mAP50-95): 100%|██████████| 1/1 [00:00<00:00, 17.07it/s]\n",
      "                   all         10         10          1      0.546      0.995      0.801\n",
      "\n",
      "      Epoch    GPU_mem   box_loss   cls_loss   dfl_loss  Instances       Size\n",
      "      16/50     0.763G     0.9621      1.196     0.8739         16        320: 100%|██████████| 5/5 [00:00<00:00,  8.30it/s]\n",
      "                 Class     Images  Instances      Box(P          R      mAP50  mAP50-95): 100%|██████████| 1/1 [00:00<00:00, 16.53it/s]\n",
      "                   all         10         10          1      0.666      0.986      0.716\n",
      "\n",
      "      Epoch    GPU_mem   box_loss   cls_loss   dfl_loss  Instances       Size\n",
      "      17/50     0.763G     0.8349      1.109     0.8844         16        320: 100%|██████████| 5/5 [00:00<00:00,  8.20it/s]\n",
      "                 Class     Images  Instances      Box(P          R      mAP50  mAP50-95): 100%|██████████| 1/1 [00:00<00:00, 16.51it/s]\n",
      "                   all         10         10      0.928      0.867      0.969      0.788\n",
      "\n",
      "      Epoch    GPU_mem   box_loss   cls_loss   dfl_loss  Instances       Size\n",
      "      18/50     0.763G      0.967      1.124     0.9157         15        320: 100%|██████████| 5/5 [00:00<00:00,  8.29it/s]\n",
      "                 Class     Images  Instances      Box(P          R      mAP50  mAP50-95): 100%|██████████| 1/1 [00:00<00:00, 16.46it/s]\n",
      "                   all         10         10      0.909      0.806      0.969      0.707\n",
      "\n",
      "      Epoch    GPU_mem   box_loss   cls_loss   dfl_loss  Instances       Size\n",
      "      19/50     0.763G     0.8473      1.067      0.863         15        320: 100%|██████████| 5/5 [00:00<00:00,  8.24it/s]\n",
      "                 Class     Images  Instances      Box(P          R      mAP50  mAP50-95): 100%|██████████| 1/1 [00:00<00:00, 16.80it/s]\n",
      "                   all         10         10      0.883      0.966      0.928      0.692\n",
      "\n",
      "      Epoch    GPU_mem   box_loss   cls_loss   dfl_loss  Instances       Size\n",
      "      20/50     0.763G     0.8386      1.142     0.8945         15        320: 100%|██████████| 5/5 [00:00<00:00,  8.19it/s]\n",
      "                 Class     Images  Instances      Box(P          R      mAP50  mAP50-95): 100%|██████████| 1/1 [00:00<00:00, 16.95it/s]\n",
      "                   all         10         10      0.883      0.865      0.969      0.692\n",
      "\n",
      "      Epoch    GPU_mem   box_loss   cls_loss   dfl_loss  Instances       Size\n",
      "      21/50     0.763G     0.8669      1.169     0.8872         15        320: 100%|██████████| 5/5 [00:00<00:00,  8.33it/s]\n",
      "                 Class     Images  Instances      Box(P          R      mAP50  mAP50-95): 100%|██████████| 1/1 [00:00<00:00, 16.58it/s]\n",
      "                   all         10         10      0.855      0.928      0.933      0.721\n",
      "\n",
      "      Epoch    GPU_mem   box_loss   cls_loss   dfl_loss  Instances       Size\n",
      "      22/50     0.763G     0.8188      1.005     0.8531         16        320: 100%|██████████| 5/5 [00:00<00:00,  8.23it/s]\n",
      "                 Class     Images  Instances      Box(P          R      mAP50  mAP50-95): 100%|██████████| 1/1 [00:00<00:00, 16.70it/s]\n",
      "                   all         10         10      0.836      0.929      0.964      0.693\n",
      "\n",
      "      Epoch    GPU_mem   box_loss   cls_loss   dfl_loss  Instances       Size\n",
      "      23/50     0.763G     0.8281      1.012     0.9058         16        320: 100%|██████████| 5/5 [00:00<00:00,  8.20it/s]\n",
      "                 Class     Images  Instances      Box(P          R      mAP50  mAP50-95): 100%|██████████| 1/1 [00:00<00:00, 16.53it/s]\n",
      "                   all         10         10      0.894      0.977      0.995       0.78\n",
      "\n",
      "      Epoch    GPU_mem   box_loss   cls_loss   dfl_loss  Instances       Size\n",
      "      24/50     0.763G     0.9062      1.126     0.8909         16        320: 100%|██████████| 5/5 [00:00<00:00,  8.10it/s]\n",
      "                 Class     Images  Instances      Box(P          R      mAP50  mAP50-95): 100%|██████████| 1/1 [00:00<00:00, 16.76it/s]\n",
      "                   all         10         10      0.982      0.974      0.995      0.808\n",
      "\n",
      "      Epoch    GPU_mem   box_loss   cls_loss   dfl_loss  Instances       Size\n",
      "      25/50     0.763G     0.9139      1.056     0.9175         16        320: 100%|██████████| 5/5 [00:00<00:00,  8.25it/s]\n",
      "                 Class     Images  Instances      Box(P          R      mAP50  mAP50-95): 100%|██████████| 1/1 [00:00<00:00, 16.45it/s]\n",
      "                   all         10         10      0.987      0.962      0.995      0.817\n",
      "\n",
      "      Epoch    GPU_mem   box_loss   cls_loss   dfl_loss  Instances       Size\n",
      "      26/50     0.763G     0.8345      1.045     0.8673         14        320: 100%|██████████| 5/5 [00:00<00:00,  8.24it/s]\n",
      "                 Class     Images  Instances      Box(P          R      mAP50  mAP50-95): 100%|██████████| 1/1 [00:00<00:00, 16.83it/s]\n",
      "                   all         10         10      0.991      0.939      0.995      0.747\n",
      "\n",
      "      Epoch    GPU_mem   box_loss   cls_loss   dfl_loss  Instances       Size\n",
      "      27/50     0.763G     0.8254       1.02     0.8732         16        320: 100%|██████████| 5/5 [00:00<00:00,  8.30it/s]\n",
      "                 Class     Images  Instances      Box(P          R      mAP50  mAP50-95): 100%|██████████| 1/1 [00:00<00:00, 16.82it/s]\n",
      "                   all         10         10      0.958      0.942      0.995      0.758\n",
      "\n",
      "      Epoch    GPU_mem   box_loss   cls_loss   dfl_loss  Instances       Size\n",
      "      28/50     0.763G     0.8005      1.049     0.8583         15        320: 100%|██████████| 5/5 [00:00<00:00,  8.21it/s]\n",
      "                 Class     Images  Instances      Box(P          R      mAP50  mAP50-95): 100%|██████████| 1/1 [00:00<00:00, 16.61it/s]\n",
      "                   all         10         10      0.989      0.955      0.995      0.792\n",
      "\n",
      "      Epoch    GPU_mem   box_loss   cls_loss   dfl_loss  Instances       Size\n",
      "      29/50     0.763G      0.788     0.9747      0.877         16        320: 100%|██████████| 5/5 [00:00<00:00,  8.26it/s]\n",
      "                 Class     Images  Instances      Box(P          R      mAP50  mAP50-95): 100%|██████████| 1/1 [00:00<00:00, 16.64it/s]\n",
      "                   all         10         10      0.986      0.943      0.995       0.69\n",
      "\n",
      "      Epoch    GPU_mem   box_loss   cls_loss   dfl_loss  Instances       Size\n",
      "      30/50     0.763G     0.8396     0.9897     0.8673         14        320: 100%|██████████| 5/5 [00:00<00:00,  8.28it/s]\n",
      "                 Class     Images  Instances      Box(P          R      mAP50  mAP50-95): 100%|██████████| 1/1 [00:00<00:00, 16.55it/s]\n",
      "                   all         10         10      0.928       0.93      0.995      0.731\n",
      "\n",
      "      Epoch    GPU_mem   box_loss   cls_loss   dfl_loss  Instances       Size\n",
      "      31/50     0.763G     0.7954     0.9294     0.8656         16        320: 100%|██████████| 5/5 [00:00<00:00,  8.27it/s]\n",
      "                 Class     Images  Instances      Box(P          R      mAP50  mAP50-95): 100%|██████████| 1/1 [00:00<00:00, 16.69it/s]\n",
      "                   all         10         10      0.958      0.938      0.995      0.784\n",
      "\n",
      "      Epoch    GPU_mem   box_loss   cls_loss   dfl_loss  Instances       Size\n",
      "      32/50     0.763G     0.7702     0.9496     0.8848         16        320: 100%|██████████| 5/5 [00:00<00:00,  8.21it/s]\n",
      "                 Class     Images  Instances      Box(P          R      mAP50  mAP50-95): 100%|██████████| 1/1 [00:00<00:00, 16.75it/s]\n",
      "                   all         10         10       0.99      0.956      0.995      0.751\n",
      "\n",
      "      Epoch    GPU_mem   box_loss   cls_loss   dfl_loss  Instances       Size\n",
      "      33/50     0.763G     0.7906     0.9543     0.8876         15        320: 100%|██████████| 5/5 [00:00<00:00,  8.29it/s]\n",
      "                 Class     Images  Instances      Box(P          R      mAP50  mAP50-95): 100%|██████████| 1/1 [00:00<00:00, 16.53it/s]\n",
      "                   all         10         10      0.932      0.963      0.995      0.791\n",
      "\n",
      "      Epoch    GPU_mem   box_loss   cls_loss   dfl_loss  Instances       Size\n",
      "      34/50     0.763G     0.7382     0.8322     0.8608         16        320: 100%|██████████| 5/5 [00:00<00:00,  8.18it/s]\n",
      "                 Class     Images  Instances      Box(P          R      mAP50  mAP50-95): 100%|██████████| 1/1 [00:00<00:00, 17.10it/s]\n",
      "                   all         10         10      0.912      0.935      0.995      0.726\n",
      "\n",
      "      Epoch    GPU_mem   box_loss   cls_loss   dfl_loss  Instances       Size\n",
      "      35/50     0.763G     0.7578     0.8534     0.9092         16        320: 100%|██████████| 5/5 [00:00<00:00,  8.29it/s]\n",
      "                 Class     Images  Instances      Box(P          R      mAP50  mAP50-95): 100%|██████████| 1/1 [00:00<00:00, 16.63it/s]\n",
      "                   all         10         10      0.941      0.937      0.995      0.805\n",
      "\n",
      "      Epoch    GPU_mem   box_loss   cls_loss   dfl_loss  Instances       Size\n",
      "      36/50     0.763G      0.759     0.8622     0.8602         16        320: 100%|██████████| 5/5 [00:00<00:00,  8.18it/s]\n",
      "                 Class     Images  Instances      Box(P          R      mAP50  mAP50-95): 100%|██████████| 1/1 [00:00<00:00, 16.60it/s]\n",
      "                   all         10         10      0.942      0.992      0.995      0.846\n",
      "\n",
      "      Epoch    GPU_mem   box_loss   cls_loss   dfl_loss  Instances       Size\n",
      "      37/50     0.763G     0.6325     0.8019     0.8405         16        320: 100%|██████████| 5/5 [00:00<00:00,  8.25it/s]\n",
      "                 Class     Images  Instances      Box(P          R      mAP50  mAP50-95): 100%|██████████| 1/1 [00:00<00:00, 16.77it/s]\n",
      "                   all         10         10      0.958      0.993      0.995      0.788\n",
      "\n",
      "      Epoch    GPU_mem   box_loss   cls_loss   dfl_loss  Instances       Size\n",
      "      38/50     0.763G     0.6673     0.7835     0.8354         15        320: 100%|██████████| 5/5 [00:00<00:00,  8.30it/s]\n",
      "                 Class     Images  Instances      Box(P          R      mAP50  mAP50-95): 100%|██████████| 1/1 [00:00<00:00, 16.94it/s]\n",
      "                   all         10         10      0.976      0.999      0.995      0.784\n",
      "\n",
      "      Epoch    GPU_mem   box_loss   cls_loss   dfl_loss  Instances       Size\n",
      "      39/50     0.763G     0.6236     0.7799     0.8382         16        320: 100%|██████████| 5/5 [00:00<00:00,  8.27it/s]\n",
      "                 Class     Images  Instances      Box(P          R      mAP50  mAP50-95): 100%|██████████| 1/1 [00:00<00:00, 17.09it/s]\n",
      "                   all         10         10       0.96          1      0.995      0.848\n",
      "\n",
      "      Epoch    GPU_mem   box_loss   cls_loss   dfl_loss  Instances       Size\n",
      "      40/50     0.763G     0.6615     0.7937     0.8429         15        320: 100%|██████████| 5/5 [00:00<00:00,  8.19it/s]\n",
      "                 Class     Images  Instances      Box(P          R      mAP50  mAP50-95): 100%|██████████| 1/1 [00:00<00:00, 16.70it/s]\n",
      "                   all         10         10      0.972          1      0.995      0.803\n",
      "\n",
      "      Epoch    GPU_mem   box_loss   cls_loss   dfl_loss  Instances       Size\n",
      "      41/50     0.763G     0.6449     0.7812      0.825         15        320: 100%|██████████| 5/5 [00:00<00:00,  8.29it/s]\n",
      "                 Class     Images  Instances      Box(P          R      mAP50  mAP50-95): 100%|██████████| 1/1 [00:00<00:00, 16.55it/s]\n",
      "                   all         10         10       0.98          1      0.995      0.854\n",
      "\n",
      "      Epoch    GPU_mem   box_loss   cls_loss   dfl_loss  Instances       Size\n",
      "      42/50     0.763G     0.6408     0.7675     0.8539         15        320: 100%|██████████| 5/5 [00:00<00:00,  8.34it/s]\n",
      "                 Class     Images  Instances      Box(P          R      mAP50  mAP50-95): 100%|██████████| 1/1 [00:00<00:00, 16.55it/s]\n",
      "                   all         10         10      0.972          1      0.995      0.807\n",
      "\n",
      "      Epoch    GPU_mem   box_loss   cls_loss   dfl_loss  Instances       Size\n",
      "      43/50     0.763G     0.6768     0.7666      0.866         16        320: 100%|██████████| 5/5 [00:00<00:00,  8.32it/s]\n",
      "                 Class     Images  Instances      Box(P          R      mAP50  mAP50-95): 100%|██████████| 1/1 [00:00<00:00, 16.62it/s]\n",
      "                   all         10         10      0.974          1      0.995      0.808\n",
      "\n",
      "      Epoch    GPU_mem   box_loss   cls_loss   dfl_loss  Instances       Size\n",
      "      44/50     0.763G     0.6294       0.77     0.8196         16        320: 100%|██████████| 5/5 [00:00<00:00,  8.21it/s]\n",
      "                 Class     Images  Instances      Box(P          R      mAP50  mAP50-95): 100%|██████████| 1/1 [00:00<00:00, 16.54it/s]\n",
      "                   all         10         10      0.973          1      0.995      0.847\n",
      "\n",
      "      Epoch    GPU_mem   box_loss   cls_loss   dfl_loss  Instances       Size\n",
      "      45/50     0.763G     0.6039     0.7107     0.8275         16        320: 100%|██████████| 5/5 [00:00<00:00,  8.30it/s]\n",
      "                 Class     Images  Instances      Box(P          R      mAP50  mAP50-95): 100%|██████████| 1/1 [00:00<00:00, 16.78it/s]\n",
      "                   all         10         10      0.981          1      0.995      0.853\n",
      "\n",
      "      Epoch    GPU_mem   box_loss   cls_loss   dfl_loss  Instances       Size\n",
      "      46/50     0.763G     0.5384     0.7288     0.7955         15        320: 100%|██████████| 5/5 [00:00<00:00,  8.30it/s]\n",
      "                 Class     Images  Instances      Box(P          R      mAP50  mAP50-95): 100%|██████████| 1/1 [00:00<00:00, 16.52it/s]\n",
      "                   all         10         10      0.984          1      0.995      0.871\n",
      "\n",
      "      Epoch    GPU_mem   box_loss   cls_loss   dfl_loss  Instances       Size\n",
      "      47/50     0.763G     0.5997     0.7299     0.8243         16        320: 100%|██████████| 5/5 [00:00<00:00,  8.35it/s]\n",
      "                 Class     Images  Instances      Box(P          R      mAP50  mAP50-95): 100%|██████████| 1/1 [00:00<00:00, 16.55it/s]\n",
      "                   all         10         10      0.984          1      0.995      0.823\n",
      "\n",
      "      Epoch    GPU_mem   box_loss   cls_loss   dfl_loss  Instances       Size\n",
      "      48/50     0.763G      0.575     0.6942     0.8157         15        320: 100%|██████████| 5/5 [00:00<00:00,  8.16it/s]\n",
      "                 Class     Images  Instances      Box(P          R      mAP50  mAP50-95): 100%|██████████| 1/1 [00:00<00:00, 16.81it/s]\n",
      "                   all         10         10      0.982          1      0.995      0.836\n",
      "\n",
      "      Epoch    GPU_mem   box_loss   cls_loss   dfl_loss  Instances       Size\n",
      "      49/50     0.763G     0.6355     0.7362     0.8701         15        320: 100%|██████████| 5/5 [00:00<00:00,  8.32it/s]\n",
      "                 Class     Images  Instances      Box(P          R      mAP50  mAP50-95): 100%|██████████| 1/1 [00:00<00:00, 16.45it/s]\n",
      "                   all         10         10      0.979          1      0.995      0.875\n",
      "\n",
      "      Epoch    GPU_mem   box_loss   cls_loss   dfl_loss  Instances       Size\n",
      "      50/50     0.763G     0.5519     0.6776     0.8147         15        320: 100%|██████████| 5/5 [00:00<00:00,  8.29it/s]\n",
      "                 Class     Images  Instances      Box(P          R      mAP50  mAP50-95): 100%|██████████| 1/1 [00:00<00:00, 15.57it/s]\n",
      "                   all         10         10      0.978          1      0.995      0.875\n",
      "\n",
      "50 epochs completed in 0.011 hours.\n",
      "Optimizer stripped from hubs/ultralytics_mnist_detection/artifacts/weights/last.pt, 6.2MB\n",
      "Optimizer stripped from hubs/ultralytics_mnist_detection/artifacts/weights/best.pt, 6.2MB\n",
      "\n",
      "Validating hubs/ultralytics_mnist_detection/artifacts/weights/best.pt...\n",
      "Ultralytics YOLOv8.0.91 🚀 Python-3.9.16 torch-1.13.1+cu117 CUDA:0 (NVIDIA GeForce RTX 4090, 24215MiB)\n",
      "Model summary (fused): 168 layers, 3006038 parameters, 0 gradients, 8.1 GFLOPs\n",
      "                 Class     Images  Instances      Box(P          R      mAP50  mAP50-95): 100%|██████████| 1/1 [00:00<00:00, 17.08it/s]\n",
      "                   all         10         10      0.978          1      0.995      0.875\n",
      "                     1         10          3      0.959          1      0.995      0.818\n",
      "                     2         10          7      0.997          1      0.995      0.931\n",
      "Speed: 0.0ms preprocess, 4.2ms inference, 0.0ms loss, 0.3ms postprocess per image\n",
      "Results saved to \u001b[1mhubs/ultralytics_mnist_detection/artifacts\u001b[0m\n"
     ]
    },
    {
     "data": {
      "text/plain": [
       "TrainResult(best_ckpt_file=PosixPath('hubs/ultralytics_mnist_detection/weights/best_ckpt.pt'), last_ckpt_file=PosixPath('hubs/ultralytics_mnist_detection/weights/last_ckpt.pt'), metrics=[[{'tag': 'epoch', 'value': 0.0}, {'tag': 'train/box_loss', 'value': 1.519}, {'tag': 'train/cls_loss', 'value': 4.1718}, {'tag': 'train/dfl_loss', 'value': 1.0838}, {'tag': 'metrics/precision(B)', 'value': 0.00223}, {'tag': 'metrics/recall(B)', 'value': 0.66667}, {'tag': 'metrics/mAP50(B)', 'value': 0.01552}, {'tag': 'metrics/mAP50-95(B)', 'value': 0.01359}, {'tag': 'val/box_loss', 'value': 0.51572}, {'tag': 'val/cls_loss', 'value': 3.5799}, {'tag': 'val/dfl_loss', 'value': 0.84739}, {'tag': 'lr/pg0', 'value': 0.0964}, {'tag': 'lr/pg1', 'value': 0.0004}, {'tag': 'lr/pg2', 'value': 0.0004}], [{'tag': 'epoch', 'value': 1.0}, {'tag': 'train/box_loss', 'value': 1.4765}, {'tag': 'train/cls_loss', 'value': 4.0175}, {'tag': 'train/dfl_loss', 'value': 1.0779}, {'tag': 'metrics/precision(B)', 'value': 0.00222}, {'tag': 'metrics/recall(B)', 'value': 0.66667}, {'tag': 'metrics/mAP50(B)', 'value': 0.00832}, {'tag': 'metrics/mAP50-95(B)', 'value': 0.00719}, {'tag': 'val/box_loss', 'value': 0.52364}, {'tag': 'val/cls_loss', 'value': 3.5808}, {'tag': 'val/dfl_loss', 'value': 0.84447}, {'tag': 'lr/pg0', 'value': 0.091882}, {'tag': 'lr/pg1', 'value': 0.00088218}, {'tag': 'lr/pg2', 'value': 0.00088218}], [{'tag': 'epoch', 'value': 2.0}, {'tag': 'train/box_loss', 'value': 1.3957}, {'tag': 'train/cls_loss', 'value': 4.0094}, {'tag': 'train/dfl_loss', 'value': 0.97685}, {'tag': 'metrics/precision(B)', 'value': 0.00336}, {'tag': 'metrics/recall(B)', 'value': 1.0}, {'tag': 'metrics/mAP50(B)', 'value': 0.01058}, {'tag': 'metrics/mAP50-95(B)', 'value': 0.00718}, {'tag': 'val/box_loss', 'value': 0.75254}, {'tag': 'val/cls_loss', 'value': 3.6011}, {'tag': 'val/dfl_loss', 'value': 0.86191}, {'tag': 'lr/pg0', 'value': 0.087345}, {'tag': 'lr/pg1', 'value': 0.0013446}, {'tag': 'lr/pg2', 'value': 0.0013446}], [{'tag': 'epoch', 'value': 3.0}, {'tag': 'train/box_loss', 'value': 0.87209}, {'tag': 'train/cls_loss', 'value': 3.5997}, {'tag': 'train/dfl_loss', 'value': 0.84676}, {'tag': 'metrics/precision(B)', 'value': 0.00322}, {'tag': 'metrics/recall(B)', 'value': 1.0}, {'tag': 'metrics/mAP50(B)', 'value': 0.01419}, {'tag': 'metrics/mAP50-95(B)', 'value': 0.0107}, {'tag': 'val/box_loss', 'value': 0.64324}, {'tag': 'val/cls_loss', 'value': 3.5617}, {'tag': 'val/dfl_loss', 'value': 0.83003}, {'tag': 'lr/pg0', 'value': 0.082787}, {'tag': 'lr/pg1', 'value': 0.0017871}, {'tag': 'lr/pg2', 'value': 0.0017871}], [{'tag': 'epoch', 'value': 4.0}, {'tag': 'train/box_loss', 'value': 0.94421}, {'tag': 'train/cls_loss', 'value': 3.3245}, {'tag': 'train/dfl_loss', 'value': 0.86368}, {'tag': 'metrics/precision(B)', 'value': 0.00326}, {'tag': 'metrics/recall(B)', 'value': 1.0}, {'tag': 'metrics/mAP50(B)', 'value': 0.01631}, {'tag': 'metrics/mAP50-95(B)', 'value': 0.01412}, {'tag': 'val/box_loss', 'value': 0.56326}, {'tag': 'val/cls_loss', 'value': 3.4686}, {'tag': 'val/dfl_loss', 'value': 0.82539}, {'tag': 'lr/pg0', 'value': 0.07821}, {'tag': 'lr/pg1', 'value': 0.0022099}, {'tag': 'lr/pg2', 'value': 0.0022099}], [{'tag': 'epoch', 'value': 5.0}, {'tag': 'train/box_loss', 'value': 0.93604}, {'tag': 'train/cls_loss', 'value': 2.5513}, {'tag': 'train/dfl_loss', 'value': 0.8485}, {'tag': 'metrics/precision(B)', 'value': 0.00328}, {'tag': 'metrics/recall(B)', 'value': 1.0}, {'tag': 'metrics/mAP50(B)', 'value': 0.01783}, {'tag': 'metrics/mAP50-95(B)', 'value': 0.01419}, {'tag': 'val/box_loss', 'value': 0.61543}, {'tag': 'val/cls_loss', 'value': 3.3851}, {'tag': 'val/dfl_loss', 'value': 0.86136}, {'tag': 'lr/pg0', 'value': 0.073613}, {'tag': 'lr/pg1', 'value': 0.0026129}, {'tag': 'lr/pg2', 'value': 0.0026129}], [{'tag': 'epoch', 'value': 6.0}, {'tag': 'train/box_loss', 'value': 0.88897}, {'tag': 'train/cls_loss', 'value': 1.7619}, {'tag': 'train/dfl_loss', 'value': 0.86424}, {'tag': 'metrics/precision(B)', 'value': 0.0032}, {'tag': 'metrics/recall(B)', 'value': 1.0}, {'tag': 'metrics/mAP50(B)', 'value': 0.64792}, {'tag': 'metrics/mAP50-95(B)', 'value': 0.41407}, {'tag': 'val/box_loss', 'value': 0.89601}, {'tag': 'val/cls_loss', 'value': 3.1701}, {'tag': 'val/dfl_loss', 'value': 0.88008}, {'tag': 'lr/pg0', 'value': 0.068996}, {'tag': 'lr/pg1', 'value': 0.0029961}, {'tag': 'lr/pg2', 'value': 0.0029961}], [{'tag': 'epoch', 'value': 7.0}, {'tag': 'train/box_loss', 'value': 0.88865}, {'tag': 'train/cls_loss', 'value': 1.5067}, {'tag': 'train/dfl_loss', 'value': 0.845}, {'tag': 'metrics/precision(B)', 'value': 0.00321}, {'tag': 'metrics/recall(B)', 'value': 1.0}, {'tag': 'metrics/mAP50(B)', 'value': 0.9125}, {'tag': 'metrics/mAP50-95(B)', 'value': 0.74081}, {'tag': 'val/box_loss', 'value': 0.70099}, {'tag': 'val/cls_loss', 'value': 3.0}, {'tag': 'val/dfl_loss', 'value': 0.85533}, {'tag': 'lr/pg0', 'value': 0.064359}, {'tag': 'lr/pg1', 'value': 0.0033595}, {'tag': 'lr/pg2', 'value': 0.0033595}], [{'tag': 'epoch', 'value': 8.0}, {'tag': 'train/box_loss', 'value': 0.87099}, {'tag': 'train/cls_loss', 'value': 1.3034}, {'tag': 'train/dfl_loss', 'value': 0.86183}, {'tag': 'metrics/precision(B)', 'value': 0.0033}, {'tag': 'metrics/recall(B)', 'value': 1.0}, {'tag': 'metrics/mAP50(B)', 'value': 0.77275}, {'tag': 'metrics/mAP50-95(B)', 'value': 0.60136}, {'tag': 'val/box_loss', 'value': 0.65106}, {'tag': 'val/cls_loss', 'value': 2.9709}, {'tag': 'val/dfl_loss', 'value': 0.83177}, {'tag': 'lr/pg0', 'value': 0.059703}, {'tag': 'lr/pg1', 'value': 0.003703}, {'tag': 'lr/pg2', 'value': 0.003703}], [{'tag': 'epoch', 'value': 9.0}, {'tag': 'train/box_loss', 'value': 0.94549}, {'tag': 'train/cls_loss', 'value': 1.3541}, {'tag': 'train/dfl_loss', 'value': 0.87097}, {'tag': 'metrics/precision(B)', 'value': 0.00334}, {'tag': 'metrics/recall(B)', 'value': 1.0}, {'tag': 'metrics/mAP50(B)', 'value': 0.69384}, {'tag': 'metrics/mAP50-95(B)', 'value': 0.57554}, {'tag': 'val/box_loss', 'value': 0.69623}, {'tag': 'val/cls_loss', 'value': 2.9123}, {'tag': 'val/dfl_loss', 'value': 0.83548}, {'tag': 'lr/pg0', 'value': 0.055027}, {'tag': 'lr/pg1', 'value': 0.0040268}, {'tag': 'lr/pg2', 'value': 0.0040268}], [{'tag': 'epoch', 'value': 10.0}, {'tag': 'train/box_loss', 'value': 1.0392}, {'tag': 'train/cls_loss', 'value': 1.3133}, {'tag': 'train/dfl_loss', 'value': 0.86351}, {'tag': 'metrics/precision(B)', 'value': 0.00345}, {'tag': 'metrics/recall(B)', 'value': 1.0}, {'tag': 'metrics/mAP50(B)', 'value': 0.77639}, {'tag': 'metrics/mAP50-95(B)', 'value': 0.62306}, {'tag': 'val/box_loss', 'value': 0.75423}, {'tag': 'val/cls_loss', 'value': 2.8756}, {'tag': 'val/dfl_loss', 'value': 0.84436}, {'tag': 'lr/pg0', 'value': 0.050331}, {'tag': 'lr/pg1', 'value': 0.0043308}, {'tag': 'lr/pg2', 'value': 0.0043308}], [{'tag': 'epoch', 'value': 11.0}, {'tag': 'train/box_loss', 'value': 0.89313}, {'tag': 'train/cls_loss', 'value': 1.2763}, {'tag': 'train/dfl_loss', 'value': 0.82048}, {'tag': 'metrics/precision(B)', 'value': 1.0}, {'tag': 'metrics/recall(B)', 'value': 0.80202}, {'tag': 'metrics/mAP50(B)', 'value': 0.83166}, {'tag': 'metrics/mAP50-95(B)', 'value': 0.71815}, {'tag': 'val/box_loss', 'value': 0.68126}, {'tag': 'val/cls_loss', 'value': 2.7194}, {'tag': 'val/dfl_loss', 'value': 0.86865}, {'tag': 'lr/pg0', 'value': 0.045615}, {'tag': 'lr/pg1', 'value': 0.004615}, {'tag': 'lr/pg2', 'value': 0.004615}], [{'tag': 'epoch', 'value': 12.0}, {'tag': 'train/box_loss', 'value': 0.85681}, {'tag': 'train/cls_loss', 'value': 1.1778}, {'tag': 'train/dfl_loss', 'value': 0.86423}, {'tag': 'metrics/precision(B)', 'value': 0.51344}, {'tag': 'metrics/recall(B)', 'value': 1.0}, {'tag': 'metrics/mAP50(B)', 'value': 0.95375}, {'tag': 'metrics/mAP50-95(B)', 'value': 0.6928}, {'tag': 'val/box_loss', 'value': 0.84716}, {'tag': 'val/cls_loss', 'value': 2.6835}, {'tag': 'val/dfl_loss', 'value': 0.8792}, {'tag': 'lr/pg0', 'value': 0.040879}, {'tag': 'lr/pg1', 'value': 0.0048794}, {'tag': 'lr/pg2', 'value': 0.0048794}], [{'tag': 'epoch', 'value': 13.0}, {'tag': 'train/box_loss', 'value': 0.87422}, {'tag': 'train/cls_loss', 'value': 1.237}, {'tag': 'train/dfl_loss', 'value': 0.88696}, {'tag': 'metrics/precision(B)', 'value': 1.0}, {'tag': 'metrics/recall(B)', 'value': 0.29329}, {'tag': 'metrics/mAP50(B)', 'value': 0.95375}, {'tag': 'metrics/mAP50-95(B)', 'value': 0.70051}, {'tag': 'val/box_loss', 'value': 0.6889}, {'tag': 'val/cls_loss', 'value': 2.4908}, {'tag': 'val/dfl_loss', 'value': 0.85909}, {'tag': 'lr/pg0', 'value': 0.036124}, {'tag': 'lr/pg1', 'value': 0.0051239}, {'tag': 'lr/pg2', 'value': 0.0051239}], [{'tag': 'epoch', 'value': 14.0}, {'tag': 'train/box_loss', 'value': 0.8342}, {'tag': 'train/cls_loss', 'value': 1.1362}, {'tag': 'train/dfl_loss', 'value': 0.85749}, {'tag': 'metrics/precision(B)', 'value': 1.0}, {'tag': 'metrics/recall(B)', 'value': 0.5464}, {'tag': 'metrics/mAP50(B)', 'value': 0.995}, {'tag': 'metrics/mAP50-95(B)', 'value': 0.80125}, {'tag': 'val/box_loss', 'value': 0.71015}, {'tag': 'val/cls_loss', 'value': 2.2767}, {'tag': 'val/dfl_loss', 'value': 0.85513}, {'tag': 'lr/pg0', 'value': 0.031349}, {'tag': 'lr/pg1', 'value': 0.0053487}, {'tag': 'lr/pg2', 'value': 0.0053487}], [{'tag': 'epoch', 'value': 15.0}, {'tag': 'train/box_loss', 'value': 0.96213}, {'tag': 'train/cls_loss', 'value': 1.1956}, {'tag': 'train/dfl_loss', 'value': 0.87388}, {'tag': 'metrics/precision(B)', 'value': 1.0}, {'tag': 'metrics/recall(B)', 'value': 0.66616}, {'tag': 'metrics/mAP50(B)', 'value': 0.98625}, {'tag': 'metrics/mAP50-95(B)', 'value': 0.7155}, {'tag': 'val/box_loss', 'value': 0.93155}, {'tag': 'val/cls_loss', 'value': 2.3853}, {'tag': 'val/dfl_loss', 'value': 0.90568}, {'tag': 'lr/pg0', 'value': 0.026554}, {'tag': 'lr/pg1', 'value': 0.0055537}, {'tag': 'lr/pg2', 'value': 0.0055537}], [{'tag': 'epoch', 'value': 16.0}, {'tag': 'train/box_loss', 'value': 0.83486}, {'tag': 'train/cls_loss', 'value': 1.1093}, {'tag': 'train/dfl_loss', 'value': 0.88436}, {'tag': 'metrics/precision(B)', 'value': 0.92844}, {'tag': 'metrics/recall(B)', 'value': 0.86735}, {'tag': 'metrics/mAP50(B)', 'value': 0.96875}, {'tag': 'metrics/mAP50-95(B)', 'value': 0.7882}, {'tag': 'val/box_loss', 'value': 0.6427}, {'tag': 'val/cls_loss', 'value': 1.8091}, {'tag': 'val/dfl_loss', 'value': 0.86447}, {'tag': 'lr/pg0', 'value': 0.021739}, {'tag': 'lr/pg1', 'value': 0.0057389}, {'tag': 'lr/pg2', 'value': 0.0057389}], [{'tag': 'epoch', 'value': 17.0}, {'tag': 'train/box_loss', 'value': 0.967}, {'tag': 'train/cls_loss', 'value': 1.1242}, {'tag': 'train/dfl_loss', 'value': 0.91573}, {'tag': 'metrics/precision(B)', 'value': 0.9094}, {'tag': 'metrics/recall(B)', 'value': 0.80574}, {'tag': 'metrics/mAP50(B)', 'value': 0.96875}, {'tag': 'metrics/mAP50-95(B)', 'value': 0.70745}, {'tag': 'val/box_loss', 'value': 1.0184}, {'tag': 'val/cls_loss', 'value': 1.9264}, {'tag': 'val/dfl_loss', 'value': 0.92668}, {'tag': 'lr/pg0', 'value': 0.016904}, {'tag': 'lr/pg1', 'value': 0.0059043}, {'tag': 'lr/pg2', 'value': 0.0059043}], [{'tag': 'epoch', 'value': 18.0}, {'tag': 'train/box_loss', 'value': 0.84728}, {'tag': 'train/cls_loss', 'value': 1.0674}, {'tag': 'train/dfl_loss', 'value': 0.86298}, {'tag': 'metrics/precision(B)', 'value': 0.88333}, {'tag': 'metrics/recall(B)', 'value': 0.96581}, {'tag': 'metrics/mAP50(B)', 'value': 0.92806}, {'tag': 'metrics/mAP50-95(B)', 'value': 0.69195}, {'tag': 'val/box_loss', 'value': 0.68638}, {'tag': 'val/cls_loss', 'value': 1.6875}, {'tag': 'val/dfl_loss', 'value': 0.87308}, {'tag': 'lr/pg0', 'value': 0.01205}, {'tag': 'lr/pg1', 'value': 0.0060498}, {'tag': 'lr/pg2', 'value': 0.0060498}], [{'tag': 'epoch', 'value': 19.0}, {'tag': 'train/box_loss', 'value': 0.83862}, {'tag': 'train/cls_loss', 'value': 1.1421}, {'tag': 'train/dfl_loss', 'value': 0.89447}, {'tag': 'metrics/precision(B)', 'value': 0.88341}, {'tag': 'metrics/recall(B)', 'value': 0.86533}, {'tag': 'metrics/mAP50(B)', 'value': 0.96944}, {'tag': 'metrics/mAP50-95(B)', 'value': 0.69207}, {'tag': 'val/box_loss', 'value': 0.82575}, {'tag': 'val/cls_loss', 'value': 1.8148}, {'tag': 'val/dfl_loss', 'value': 0.88501}, {'tag': 'lr/pg0', 'value': 0.0071756}, {'tag': 'lr/pg1', 'value': 0.0061756}, {'tag': 'lr/pg2', 'value': 0.0061756}], [{'tag': 'epoch', 'value': 20.0}, {'tag': 'train/box_loss', 'value': 0.86689}, {'tag': 'train/cls_loss', 'value': 1.1688}, {'tag': 'train/dfl_loss', 'value': 0.88715}, {'tag': 'metrics/precision(B)', 'value': 0.85509}, {'tag': 'metrics/recall(B)', 'value': 0.92772}, {'tag': 'metrics/mAP50(B)', 'value': 0.93329}, {'tag': 'metrics/mAP50-95(B)', 'value': 0.72058}, {'tag': 'val/box_loss', 'value': 0.72265}, {'tag': 'val/cls_loss', 'value': 1.562}, {'tag': 'val/dfl_loss', 'value': 0.86782}, {'tag': 'lr/pg0', 'value': 0.00604}, {'tag': 'lr/pg1', 'value': 0.00604}, {'tag': 'lr/pg2', 'value': 0.00604}], [{'tag': 'epoch', 'value': 21.0}, {'tag': 'train/box_loss', 'value': 0.8188}, {'tag': 'train/cls_loss', 'value': 1.0053}, {'tag': 'train/dfl_loss', 'value': 0.85312}, {'tag': 'metrics/precision(B)', 'value': 0.83555}, {'tag': 'metrics/recall(B)', 'value': 0.92857}, {'tag': 'metrics/mAP50(B)', 'value': 0.964}, {'tag': 'metrics/mAP50-95(B)', 'value': 0.69332}, {'tag': 'val/box_loss', 'value': 0.94858}, {'tag': 'val/cls_loss', 'value': 1.3143}, {'tag': 'val/dfl_loss', 'value': 0.90372}, {'tag': 'lr/pg0', 'value': 0.00604}, {'tag': 'lr/pg1', 'value': 0.00604}, {'tag': 'lr/pg2', 'value': 0.00604}], [{'tag': 'epoch', 'value': 22.0}, {'tag': 'train/box_loss', 'value': 0.82806}, {'tag': 'train/cls_loss', 'value': 1.0123}, {'tag': 'train/dfl_loss', 'value': 0.90576}, {'tag': 'metrics/precision(B)', 'value': 0.89396}, {'tag': 'metrics/recall(B)', 'value': 0.97703}, {'tag': 'metrics/mAP50(B)', 'value': 0.995}, {'tag': 'metrics/mAP50-95(B)', 'value': 0.77982}, {'tag': 'val/box_loss', 'value': 0.7139}, {'tag': 'val/cls_loss', 'value': 1.3257}, {'tag': 'val/dfl_loss', 'value': 0.86058}, {'tag': 'lr/pg0', 'value': 0.005842}, {'tag': 'lr/pg1', 'value': 0.005842}, {'tag': 'lr/pg2', 'value': 0.005842}], [{'tag': 'epoch', 'value': 23.0}, {'tag': 'train/box_loss', 'value': 0.90624}, {'tag': 'train/cls_loss', 'value': 1.1257}, {'tag': 'train/dfl_loss', 'value': 0.89095}, {'tag': 'metrics/precision(B)', 'value': 0.98229}, {'tag': 'metrics/recall(B)', 'value': 0.97356}, {'tag': 'metrics/mAP50(B)', 'value': 0.995}, {'tag': 'metrics/mAP50-95(B)', 'value': 0.80762}, {'tag': 'val/box_loss', 'value': 0.68138}, {'tag': 'val/cls_loss', 'value': 1.1816}, {'tag': 'val/dfl_loss', 'value': 0.867}, {'tag': 'lr/pg0', 'value': 0.005644}, {'tag': 'lr/pg1', 'value': 0.005644}, {'tag': 'lr/pg2', 'value': 0.005644}], [{'tag': 'epoch', 'value': 24.0}, {'tag': 'train/box_loss', 'value': 0.91392}, {'tag': 'train/cls_loss', 'value': 1.0561}, {'tag': 'train/dfl_loss', 'value': 0.91751}, {'tag': 'metrics/precision(B)', 'value': 0.98686}, {'tag': 'metrics/recall(B)', 'value': 0.96225}, {'tag': 'metrics/mAP50(B)', 'value': 0.995}, {'tag': 'metrics/mAP50-95(B)', 'value': 0.81739}, {'tag': 'val/box_loss', 'value': 0.7181}, {'tag': 'val/cls_loss', 'value': 1.1319}, {'tag': 'val/dfl_loss', 'value': 0.86043}, {'tag': 'lr/pg0', 'value': 0.005446}, {'tag': 'lr/pg1', 'value': 0.005446}, {'tag': 'lr/pg2', 'value': 0.005446}], [{'tag': 'epoch', 'value': 25.0}, {'tag': 'train/box_loss', 'value': 0.83446}, {'tag': 'train/cls_loss', 'value': 1.0451}, {'tag': 'train/dfl_loss', 'value': 0.86725}, {'tag': 'metrics/precision(B)', 'value': 0.99076}, {'tag': 'metrics/recall(B)', 'value': 0.93873}, {'tag': 'metrics/mAP50(B)', 'value': 0.995}, {'tag': 'metrics/mAP50-95(B)', 'value': 0.74738}, {'tag': 'val/box_loss', 'value': 0.83562}, {'tag': 'val/cls_loss', 'value': 1.0517}, {'tag': 'val/dfl_loss', 'value': 0.88785}, {'tag': 'lr/pg0', 'value': 0.005248}, {'tag': 'lr/pg1', 'value': 0.005248}, {'tag': 'lr/pg2', 'value': 0.005248}], [{'tag': 'epoch', 'value': 26.0}, {'tag': 'train/box_loss', 'value': 0.82539}, {'tag': 'train/cls_loss', 'value': 1.0201}, {'tag': 'train/dfl_loss', 'value': 0.87316}, {'tag': 'metrics/precision(B)', 'value': 0.95777}, {'tag': 'metrics/recall(B)', 'value': 0.94152}, {'tag': 'metrics/mAP50(B)', 'value': 0.995}, {'tag': 'metrics/mAP50-95(B)', 'value': 0.75846}, {'tag': 'val/box_loss', 'value': 0.78866}, {'tag': 'val/cls_loss', 'value': 1.0904}, {'tag': 'val/dfl_loss', 'value': 0.86864}, {'tag': 'lr/pg0', 'value': 0.00505}, {'tag': 'lr/pg1', 'value': 0.00505}, {'tag': 'lr/pg2', 'value': 0.00505}], [{'tag': 'epoch', 'value': 27.0}, {'tag': 'train/box_loss', 'value': 0.80047}, {'tag': 'train/cls_loss', 'value': 1.0493}, {'tag': 'train/dfl_loss', 'value': 0.85825}, {'tag': 'metrics/precision(B)', 'value': 0.9893}, {'tag': 'metrics/recall(B)', 'value': 0.95511}, {'tag': 'metrics/mAP50(B)', 'value': 0.995}, {'tag': 'metrics/mAP50-95(B)', 'value': 0.79234}, {'tag': 'val/box_loss', 'value': 0.71617}, {'tag': 'val/cls_loss', 'value': 0.97685}, {'tag': 'val/dfl_loss', 'value': 0.86295}, {'tag': 'lr/pg0', 'value': 0.004852}, {'tag': 'lr/pg1', 'value': 0.004852}, {'tag': 'lr/pg2', 'value': 0.004852}], [{'tag': 'epoch', 'value': 28.0}, {'tag': 'train/box_loss', 'value': 0.78805}, {'tag': 'train/cls_loss', 'value': 0.97475}, {'tag': 'train/dfl_loss', 'value': 0.87696}, {'tag': 'metrics/precision(B)', 'value': 0.98602}, {'tag': 'metrics/recall(B)', 'value': 0.94348}, {'tag': 'metrics/mAP50(B)', 'value': 0.995}, {'tag': 'metrics/mAP50-95(B)', 'value': 0.68985}, {'tag': 'val/box_loss', 'value': 0.87493}, {'tag': 'val/cls_loss', 'value': 1.0162}, {'tag': 'val/dfl_loss', 'value': 0.88275}, {'tag': 'lr/pg0', 'value': 0.004654}, {'tag': 'lr/pg1', 'value': 0.004654}, {'tag': 'lr/pg2', 'value': 0.004654}], [{'tag': 'epoch', 'value': 29.0}, {'tag': 'train/box_loss', 'value': 0.83955}, {'tag': 'train/cls_loss', 'value': 0.98966}, {'tag': 'train/dfl_loss', 'value': 0.86732}, {'tag': 'metrics/precision(B)', 'value': 0.92821}, {'tag': 'metrics/recall(B)', 'value': 0.93015}, {'tag': 'metrics/mAP50(B)', 'value': 0.995}, {'tag': 'metrics/mAP50-95(B)', 'value': 0.73109}, {'tag': 'val/box_loss', 'value': 0.80872}, {'tag': 'val/cls_loss', 'value': 0.99428}, {'tag': 'val/dfl_loss', 'value': 0.87121}, {'tag': 'lr/pg0', 'value': 0.004456}, {'tag': 'lr/pg1', 'value': 0.004456}, {'tag': 'lr/pg2', 'value': 0.004456}], [{'tag': 'epoch', 'value': 30.0}, {'tag': 'train/box_loss', 'value': 0.79537}, {'tag': 'train/cls_loss', 'value': 0.92945}, {'tag': 'train/dfl_loss', 'value': 0.86559}, {'tag': 'metrics/precision(B)', 'value': 0.95839}, {'tag': 'metrics/recall(B)', 'value': 0.93833}, {'tag': 'metrics/mAP50(B)', 'value': 0.995}, {'tag': 'metrics/mAP50-95(B)', 'value': 0.78409}, {'tag': 'val/box_loss', 'value': 0.77977}, {'tag': 'val/cls_loss', 'value': 0.95821}, {'tag': 'val/dfl_loss', 'value': 0.86851}, {'tag': 'lr/pg0', 'value': 0.004258}, {'tag': 'lr/pg1', 'value': 0.004258}, {'tag': 'lr/pg2', 'value': 0.004258}], [{'tag': 'epoch', 'value': 31.0}, {'tag': 'train/box_loss', 'value': 0.77023}, {'tag': 'train/cls_loss', 'value': 0.94962}, {'tag': 'train/dfl_loss', 'value': 0.88479}, {'tag': 'metrics/precision(B)', 'value': 0.98989}, {'tag': 'metrics/recall(B)', 'value': 0.95648}, {'tag': 'metrics/mAP50(B)', 'value': 0.995}, {'tag': 'metrics/mAP50-95(B)', 'value': 0.75148}, {'tag': 'val/box_loss', 'value': 0.78007}, {'tag': 'val/cls_loss', 'value': 0.89375}, {'tag': 'val/dfl_loss', 'value': 0.87705}, {'tag': 'lr/pg0', 'value': 0.00406}, {'tag': 'lr/pg1', 'value': 0.00406}, {'tag': 'lr/pg2', 'value': 0.00406}], [{'tag': 'epoch', 'value': 32.0}, {'tag': 'train/box_loss', 'value': 0.79057}, {'tag': 'train/cls_loss', 'value': 0.95428}, {'tag': 'train/dfl_loss', 'value': 0.88757}, {'tag': 'metrics/precision(B)', 'value': 0.93244}, {'tag': 'metrics/recall(B)', 'value': 0.96261}, {'tag': 'metrics/mAP50(B)', 'value': 0.995}, {'tag': 'metrics/mAP50-95(B)', 'value': 0.79129}, {'tag': 'val/box_loss', 'value': 0.75298}, {'tag': 'val/cls_loss', 'value': 0.88759}, {'tag': 'val/dfl_loss', 'value': 0.87416}, {'tag': 'lr/pg0', 'value': 0.003862}, {'tag': 'lr/pg1', 'value': 0.003862}, {'tag': 'lr/pg2', 'value': 0.003862}], [{'tag': 'epoch', 'value': 33.0}, {'tag': 'train/box_loss', 'value': 0.73818}, {'tag': 'train/cls_loss', 'value': 0.83218}, {'tag': 'train/dfl_loss', 'value': 0.86076}, {'tag': 'metrics/precision(B)', 'value': 0.91245}, {'tag': 'metrics/recall(B)', 'value': 0.93454}, {'tag': 'metrics/mAP50(B)', 'value': 0.995}, {'tag': 'metrics/mAP50-95(B)', 'value': 0.72585}, {'tag': 'val/box_loss', 'value': 0.87456}, {'tag': 'val/cls_loss', 'value': 0.98438}, {'tag': 'val/dfl_loss', 'value': 0.90187}, {'tag': 'lr/pg0', 'value': 0.003664}, {'tag': 'lr/pg1', 'value': 0.003664}, {'tag': 'lr/pg2', 'value': 0.003664}], [{'tag': 'epoch', 'value': 34.0}, {'tag': 'train/box_loss', 'value': 0.75781}, {'tag': 'train/cls_loss', 'value': 0.85341}, {'tag': 'train/dfl_loss', 'value': 0.90921}, {'tag': 'metrics/precision(B)', 'value': 0.9415}, {'tag': 'metrics/recall(B)', 'value': 0.93708}, {'tag': 'metrics/mAP50(B)', 'value': 0.995}, {'tag': 'metrics/mAP50-95(B)', 'value': 0.80509}, {'tag': 'val/box_loss', 'value': 0.67393}, {'tag': 'val/cls_loss', 'value': 0.85319}, {'tag': 'val/dfl_loss', 'value': 0.86868}, {'tag': 'lr/pg0', 'value': 0.003466}, {'tag': 'lr/pg1', 'value': 0.003466}, {'tag': 'lr/pg2', 'value': 0.003466}], [{'tag': 'epoch', 'value': 35.0}, {'tag': 'train/box_loss', 'value': 0.75899}, {'tag': 'train/cls_loss', 'value': 0.86217}, {'tag': 'train/dfl_loss', 'value': 0.86025}, {'tag': 'metrics/precision(B)', 'value': 0.94246}, {'tag': 'metrics/recall(B)', 'value': 0.99159}, {'tag': 'metrics/mAP50(B)', 'value': 0.995}, {'tag': 'metrics/mAP50-95(B)', 'value': 0.84575}, {'tag': 'val/box_loss', 'value': 0.57185}, {'tag': 'val/cls_loss', 'value': 0.78657}, {'tag': 'val/dfl_loss', 'value': 0.85797}, {'tag': 'lr/pg0', 'value': 0.003268}, {'tag': 'lr/pg1', 'value': 0.003268}, {'tag': 'lr/pg2', 'value': 0.003268}], [{'tag': 'epoch', 'value': 36.0}, {'tag': 'train/box_loss', 'value': 0.63245}, {'tag': 'train/cls_loss', 'value': 0.8019}, {'tag': 'train/dfl_loss', 'value': 0.84047}, {'tag': 'metrics/precision(B)', 'value': 0.9576}, {'tag': 'metrics/recall(B)', 'value': 0.9928}, {'tag': 'metrics/mAP50(B)', 'value': 0.995}, {'tag': 'metrics/mAP50-95(B)', 'value': 0.78768}, {'tag': 'val/box_loss', 'value': 0.68497}, {'tag': 'val/cls_loss', 'value': 0.79247}, {'tag': 'val/dfl_loss', 'value': 0.87827}, {'tag': 'lr/pg0', 'value': 0.00307}, {'tag': 'lr/pg1', 'value': 0.00307}, {'tag': 'lr/pg2', 'value': 0.00307}], [{'tag': 'epoch', 'value': 37.0}, {'tag': 'train/box_loss', 'value': 0.66731}, {'tag': 'train/cls_loss', 'value': 0.78353}, {'tag': 'train/dfl_loss', 'value': 0.83544}, {'tag': 'metrics/precision(B)', 'value': 0.97591}, {'tag': 'metrics/recall(B)', 'value': 0.99855}, {'tag': 'metrics/mAP50(B)', 'value': 0.995}, {'tag': 'metrics/mAP50-95(B)', 'value': 0.78396}, {'tag': 'val/box_loss', 'value': 0.6314}, {'tag': 'val/cls_loss', 'value': 0.72621}, {'tag': 'val/dfl_loss', 'value': 0.86448}, {'tag': 'lr/pg0', 'value': 0.002872}, {'tag': 'lr/pg1', 'value': 0.002872}, {'tag': 'lr/pg2', 'value': 0.002872}], [{'tag': 'epoch', 'value': 38.0}, {'tag': 'train/box_loss', 'value': 0.62359}, {'tag': 'train/cls_loss', 'value': 0.77989}, {'tag': 'train/dfl_loss', 'value': 0.83821}, {'tag': 'metrics/precision(B)', 'value': 0.9597}, {'tag': 'metrics/recall(B)', 'value': 1.0}, {'tag': 'metrics/mAP50(B)', 'value': 0.995}, {'tag': 'metrics/mAP50-95(B)', 'value': 0.8478}, {'tag': 'val/box_loss', 'value': 0.59794}, {'tag': 'val/cls_loss', 'value': 0.75299}, {'tag': 'val/dfl_loss', 'value': 0.85508}, {'tag': 'lr/pg0', 'value': 0.002674}, {'tag': 'lr/pg1', 'value': 0.002674}, {'tag': 'lr/pg2', 'value': 0.002674}], [{'tag': 'epoch', 'value': 39.0}, {'tag': 'train/box_loss', 'value': 0.66152}, {'tag': 'train/cls_loss', 'value': 0.79367}, {'tag': 'train/dfl_loss', 'value': 0.84285}, {'tag': 'metrics/precision(B)', 'value': 0.97159}, {'tag': 'metrics/recall(B)', 'value': 1.0}, {'tag': 'metrics/mAP50(B)', 'value': 0.995}, {'tag': 'metrics/mAP50-95(B)', 'value': 0.80332}, {'tag': 'val/box_loss', 'value': 0.6401}, {'tag': 'val/cls_loss', 'value': 0.76566}, {'tag': 'val/dfl_loss', 'value': 0.85905}, {'tag': 'lr/pg0', 'value': 0.002476}, {'tag': 'lr/pg1', 'value': 0.002476}, {'tag': 'lr/pg2', 'value': 0.002476}], [{'tag': 'epoch', 'value': 40.0}, {'tag': 'train/box_loss', 'value': 0.64489}, {'tag': 'train/cls_loss', 'value': 0.7812}, {'tag': 'train/dfl_loss', 'value': 0.82501}, {'tag': 'metrics/precision(B)', 'value': 0.97996}, {'tag': 'metrics/recall(B)', 'value': 1.0}, {'tag': 'metrics/mAP50(B)', 'value': 0.995}, {'tag': 'metrics/mAP50-95(B)', 'value': 0.85414}, {'tag': 'val/box_loss', 'value': 0.60572}, {'tag': 'val/cls_loss', 'value': 0.72412}, {'tag': 'val/dfl_loss', 'value': 0.85649}, {'tag': 'lr/pg0', 'value': 0.002278}, {'tag': 'lr/pg1', 'value': 0.002278}, {'tag': 'lr/pg2', 'value': 0.002278}], [{'tag': 'epoch', 'value': 41.0}, {'tag': 'train/box_loss', 'value': 0.64079}, {'tag': 'train/cls_loss', 'value': 0.76747}, {'tag': 'train/dfl_loss', 'value': 0.85391}, {'tag': 'metrics/precision(B)', 'value': 0.97218}, {'tag': 'metrics/recall(B)', 'value': 1.0}, {'tag': 'metrics/mAP50(B)', 'value': 0.995}, {'tag': 'metrics/mAP50-95(B)', 'value': 0.80732}, {'tag': 'val/box_loss', 'value': 0.61813}, {'tag': 'val/cls_loss', 'value': 0.72431}, {'tag': 'val/dfl_loss', 'value': 0.86099}, {'tag': 'lr/pg0', 'value': 0.00208}, {'tag': 'lr/pg1', 'value': 0.00208}, {'tag': 'lr/pg2', 'value': 0.00208}], [{'tag': 'epoch', 'value': 42.0}, {'tag': 'train/box_loss', 'value': 0.67683}, {'tag': 'train/cls_loss', 'value': 0.76656}, {'tag': 'train/dfl_loss', 'value': 0.86599}, {'tag': 'metrics/precision(B)', 'value': 0.97355}, {'tag': 'metrics/recall(B)', 'value': 1.0}, {'tag': 'metrics/mAP50(B)', 'value': 0.995}, {'tag': 'metrics/mAP50-95(B)', 'value': 0.80804}, {'tag': 'val/box_loss', 'value': 0.68876}, {'tag': 'val/cls_loss', 'value': 0.73461}, {'tag': 'val/dfl_loss', 'value': 0.86239}, {'tag': 'lr/pg0', 'value': 0.001882}, {'tag': 'lr/pg1', 'value': 0.001882}, {'tag': 'lr/pg2', 'value': 0.001882}], [{'tag': 'epoch', 'value': 43.0}, {'tag': 'train/box_loss', 'value': 0.62936}, {'tag': 'train/cls_loss', 'value': 0.77001}, {'tag': 'train/dfl_loss', 'value': 0.81959}, {'tag': 'metrics/precision(B)', 'value': 0.97251}, {'tag': 'metrics/recall(B)', 'value': 1.0}, {'tag': 'metrics/mAP50(B)', 'value': 0.995}, {'tag': 'metrics/mAP50-95(B)', 'value': 0.84721}, {'tag': 'val/box_loss', 'value': 0.58338}, {'tag': 'val/cls_loss', 'value': 0.677}, {'tag': 'val/dfl_loss', 'value': 0.85235}, {'tag': 'lr/pg0', 'value': 0.001684}, {'tag': 'lr/pg1', 'value': 0.001684}, {'tag': 'lr/pg2', 'value': 0.001684}], [{'tag': 'epoch', 'value': 44.0}, {'tag': 'train/box_loss', 'value': 0.60387}, {'tag': 'train/cls_loss', 'value': 0.71065}, {'tag': 'train/dfl_loss', 'value': 0.82747}, {'tag': 'metrics/precision(B)', 'value': 0.9811}, {'tag': 'metrics/recall(B)', 'value': 1.0}, {'tag': 'metrics/mAP50(B)', 'value': 0.995}, {'tag': 'metrics/mAP50-95(B)', 'value': 0.85281}, {'tag': 'val/box_loss', 'value': 0.54992}, {'tag': 'val/cls_loss', 'value': 0.65668}, {'tag': 'val/dfl_loss', 'value': 0.84913}, {'tag': 'lr/pg0', 'value': 0.001486}, {'tag': 'lr/pg1', 'value': 0.001486}, {'tag': 'lr/pg2', 'value': 0.001486}], [{'tag': 'epoch', 'value': 45.0}, {'tag': 'train/box_loss', 'value': 0.53842}, {'tag': 'train/cls_loss', 'value': 0.72884}, {'tag': 'train/dfl_loss', 'value': 0.79554}, {'tag': 'metrics/precision(B)', 'value': 0.9839}, {'tag': 'metrics/recall(B)', 'value': 1.0}, {'tag': 'metrics/mAP50(B)', 'value': 0.995}, {'tag': 'metrics/mAP50-95(B)', 'value': 0.87122}, {'tag': 'val/box_loss', 'value': 0.57804}, {'tag': 'val/cls_loss', 'value': 0.65473}, {'tag': 'val/dfl_loss', 'value': 0.84959}, {'tag': 'lr/pg0', 'value': 0.001288}, {'tag': 'lr/pg1', 'value': 0.001288}, {'tag': 'lr/pg2', 'value': 0.001288}], [{'tag': 'epoch', 'value': 46.0}, {'tag': 'train/box_loss', 'value': 0.59971}, {'tag': 'train/cls_loss', 'value': 0.72992}, {'tag': 'train/dfl_loss', 'value': 0.82427}, {'tag': 'metrics/precision(B)', 'value': 0.98404}, {'tag': 'metrics/recall(B)', 'value': 1.0}, {'tag': 'metrics/mAP50(B)', 'value': 0.995}, {'tag': 'metrics/mAP50-95(B)', 'value': 0.82291}, {'tag': 'val/box_loss', 'value': 0.57821}, {'tag': 'val/cls_loss', 'value': 0.65307}, {'tag': 'val/dfl_loss', 'value': 0.85208}, {'tag': 'lr/pg0', 'value': 0.00109}, {'tag': 'lr/pg1', 'value': 0.00109}, {'tag': 'lr/pg2', 'value': 0.00109}], [{'tag': 'epoch', 'value': 47.0}, {'tag': 'train/box_loss', 'value': 0.57502}, {'tag': 'train/cls_loss', 'value': 0.69421}, {'tag': 'train/dfl_loss', 'value': 0.81567}, {'tag': 'metrics/precision(B)', 'value': 0.98222}, {'tag': 'metrics/recall(B)', 'value': 1.0}, {'tag': 'metrics/mAP50(B)', 'value': 0.995}, {'tag': 'metrics/mAP50-95(B)', 'value': 0.83583}, {'tag': 'val/box_loss', 'value': 0.53284}, {'tag': 'val/cls_loss', 'value': 0.61917}, {'tag': 'val/dfl_loss', 'value': 0.84631}, {'tag': 'lr/pg0', 'value': 0.000892}, {'tag': 'lr/pg1', 'value': 0.000892}, {'tag': 'lr/pg2', 'value': 0.000892}], [{'tag': 'epoch', 'value': 48.0}, {'tag': 'train/box_loss', 'value': 0.63551}, {'tag': 'train/cls_loss', 'value': 0.73616}, {'tag': 'train/dfl_loss', 'value': 0.87011}, {'tag': 'metrics/precision(B)', 'value': 0.97936}, {'tag': 'metrics/recall(B)', 'value': 1.0}, {'tag': 'metrics/mAP50(B)', 'value': 0.995}, {'tag': 'metrics/mAP50-95(B)', 'value': 0.87472}, {'tag': 'val/box_loss', 'value': 0.5353}, {'tag': 'val/cls_loss', 'value': 0.60173}, {'tag': 'val/dfl_loss', 'value': 0.84827}, {'tag': 'lr/pg0', 'value': 0.000694}, {'tag': 'lr/pg1', 'value': 0.000694}, {'tag': 'lr/pg2', 'value': 0.000694}], [{'tag': 'epoch', 'value': 49.0}, {'tag': 'train/box_loss', 'value': 0.55194}, {'tag': 'train/cls_loss', 'value': 0.67761}, {'tag': 'train/dfl_loss', 'value': 0.81468}, {'tag': 'metrics/precision(B)', 'value': 0.97809}, {'tag': 'metrics/recall(B)', 'value': 1.0}, {'tag': 'metrics/mAP50(B)', 'value': 0.995}, {'tag': 'metrics/mAP50-95(B)', 'value': 0.87472}, {'tag': 'val/box_loss', 'value': 0.52791}, {'tag': 'val/cls_loss', 'value': 0.60719}, {'tag': 'val/dfl_loss', 'value': 0.84775}, {'tag': 'lr/pg0', 'value': 0.000496}, {'tag': 'lr/pg1', 'value': 0.000496}, {'tag': 'lr/pg2', 'value': 0.000496}]])"
      ]
     },
     "execution_count": 12,
     "metadata": {},
     "output_type": "execute_result"
    }
   ],
   "source": [
    "dataset_dir = dataset.export(DataType.YOLO)\n",
    "train_result = ultralytics_hub.train(\n",
    "    dataset_dir,\n",
    "    image_size=320,\n",
    "    epochs=50,\n",
    "    batch_size=16\n",
    ")\n",
    "train_result"
   ]
  },
  {
   "attachments": {},
   "cell_type": "markdown",
   "metadata": {},
   "source": [
    "### Huggingface"
   ]
  },
  {
   "cell_type": "code",
   "execution_count": 13,
   "metadata": {},
   "outputs": [],
   "source": [
    "import torch\n",
    "torch.use_deterministic_algorithms(False)"
   ]
  },
  {
   "cell_type": "code",
   "execution_count": 14,
   "metadata": {},
   "outputs": [
    {
     "name": "stderr",
     "output_type": "stream",
     "text": [
      "/home/lhj/anaconda3/envs/waffle/lib/python3.9/site-packages/waffle_hub/dataset/dataset.py:1051: UserWarning: datasets/mnist_det/exports/HUGGINGFACE already exists. Removing exist export and override.\n",
      "  warnings.warn(f\"{export_dir} already exists. Removing exist export and override.\")\n"
     ]
    },
    {
     "name": "stdout",
     "output_type": "stream",
     "text": [
      "Downloading and preparing dataset generator/default to /home/lhj/.cache/huggingface/datasets/generator/default-2829f4fedc3b4500/0.0.0...\n"
     ]
    },
    {
     "name": "stderr",
     "output_type": "stream",
     "text": [
      "                                                        \r"
     ]
    },
    {
     "name": "stdout",
     "output_type": "stream",
     "text": [
      "Dataset generator downloaded and prepared to /home/lhj/.cache/huggingface/datasets/generator/default-2829f4fedc3b4500/0.0.0. Subsequent calls will reuse this data.\n",
      "Downloading and preparing dataset generator/default to /home/lhj/.cache/huggingface/datasets/generator/default-d5fbddcc04d40766/0.0.0...\n"
     ]
    },
    {
     "name": "stderr",
     "output_type": "stream",
     "text": [
      "                                                        \r"
     ]
    },
    {
     "name": "stdout",
     "output_type": "stream",
     "text": [
      "Dataset generator downloaded and prepared to /home/lhj/.cache/huggingface/datasets/generator/default-d5fbddcc04d40766/0.0.0. Subsequent calls will reuse this data.\n",
      "Downloading and preparing dataset generator/default to /home/lhj/.cache/huggingface/datasets/generator/default-948875159fe8df55/0.0.0...\n"
     ]
    },
    {
     "name": "stderr",
     "output_type": "stream",
     "text": [
      "                                                        \r"
     ]
    },
    {
     "name": "stdout",
     "output_type": "stream",
     "text": [
      "Dataset generator downloaded and prepared to /home/lhj/.cache/huggingface/datasets/generator/default-948875159fe8df55/0.0.0. Subsequent calls will reuse this data.\n"
     ]
    },
    {
     "name": "stderr",
     "output_type": "stream",
     "text": [
      "Could not find image processor class in the image processor config or the model config. Loading based on pattern matching with the model's feature extractor configuration.\n",
      "The `max_size` parameter is deprecated and will be removed in v4.26. Please specify in `size['longest_edge'] instead`.\n",
      "Some weights of DetrForObjectDetection were not initialized from the model checkpoint at facebook/detr-resnet-50 and are newly initialized because the shapes did not match:\n",
      "- class_labels_classifier.weight: found shape torch.Size([92, 256]) in the checkpoint and torch.Size([3, 256]) in the model instantiated\n",
      "- class_labels_classifier.bias: found shape torch.Size([92]) in the checkpoint and torch.Size([3]) in the model instantiated\n",
      "You should probably TRAIN this model on a down-stream task to be able to use it for predictions and inference.\n",
      "/home/lhj/anaconda3/envs/waffle/lib/python3.9/site-packages/waffle_hub/hub/adapter/hugging_face/train_input_helper.py:173: UserWarning: pretrained model's image size is (800, 800), but you set (320, 320).\n",
      "  warnings.warn(f\"pretrained model's image size is {size}, but you set {self.image_size}.\")\n",
      "/home/lhj/anaconda3/envs/waffle/lib/python3.9/site-packages/transformers/optimization.py:391: FutureWarning: This implementation of AdamW is deprecated and will be removed in a future version. Use the PyTorch implementation torch.optim.AdamW instead, or set `no_deprecation_warning=True` to disable this warning\n",
      "  warnings.warn(\n"
     ]
    },
    {
     "data": {
      "text/html": [
       "\n",
       "    <div>\n",
       "      \n",
       "      <progress value='6' max='250' style='width:300px; height:20px; vertical-align: middle;'></progress>\n",
       "      [  6/250 00:01 < 01:20, 3.02 it/s, Epoch 1/50]\n",
       "    </div>\n",
       "    <table border=\"1\" class=\"dataframe\">\n",
       "  <thead>\n",
       " <tr style=\"text-align: left;\">\n",
       "      <th>Epoch</th>\n",
       "      <th>Training Loss</th>\n",
       "      <th>Validation Loss</th>\n",
       "    </tr>\n",
       "  </thead>\n",
       "  <tbody>\n",
       "    <tr>\n",
       "      <td>1</td>\n",
       "      <td>No log</td>\n",
       "      <td>1.385532</td>\n",
       "    </tr>\n",
       "  </tbody>\n",
       "</table><p>"
      ],
      "text/plain": [
       "<IPython.core.display.HTML object>"
      ]
     },
     "metadata": {},
     "output_type": "display_data"
    },
    {
     "data": {
      "text/plain": [
       "TrainResult(best_ckpt_file=PosixPath('hubs/huggingface_mnist_detection/weights/best_ckpt'), last_ckpt_file=PosixPath('hubs/huggingface_mnist_detection/weights/last_ckpt'), metrics=[[{'tag': 'train_loss', 'value': 1.3855316638946533}, {'tag': 'train_runtime', 'value': 1.1718}, {'tag': 'train_samples_per_second', 'value': 68.271}, {'tag': 'train_steps_per_second', 'value': 8.534}, {'tag': 'epoch', 'value': 1.0}, {'tag': 'step', 'value': 5}, {'tag': 'loss', 'value': 5.2548}, {'tag': 'learning_rate', 'value': 4.9e-05}, {'tag': 'eval_loss', 'value': 1.2507762908935547}, {'tag': 'eval_runtime', 'value': 0.4487}, {'tag': 'eval_samples_per_second', 'value': 22.287}, {'tag': 'eval_steps_per_second', 'value': 4.457}], [{'tag': 'train_loss', 'value': 1.116162896156311}, {'tag': 'train_runtime', 'value': 1.1658}, {'tag': 'train_samples_per_second', 'value': 68.621}, {'tag': 'train_steps_per_second', 'value': 8.578}, {'tag': 'epoch', 'value': 2.0}, {'tag': 'step', 'value': 10}, {'tag': 'loss', 'value': 2.6792}, {'tag': 'learning_rate', 'value': 4.8e-05}, {'tag': 'eval_loss', 'value': 1.0957908630371094}, {'tag': 'eval_runtime', 'value': 0.4468}, {'tag': 'eval_samples_per_second', 'value': 22.383}, {'tag': 'eval_steps_per_second', 'value': 4.477}], [{'tag': 'train_loss', 'value': 0.9697614908218384}, {'tag': 'train_runtime', 'value': 1.1611}, {'tag': 'train_samples_per_second', 'value': 68.898}, {'tag': 'train_steps_per_second', 'value': 8.612}, {'tag': 'epoch', 'value': 3.0}, {'tag': 'step', 'value': 15}, {'tag': 'loss', 'value': 0.9371}, {'tag': 'learning_rate', 'value': 4.7e-05}, {'tag': 'eval_loss', 'value': 0.9554109573364258}, {'tag': 'eval_runtime', 'value': 0.4522}, {'tag': 'eval_samples_per_second', 'value': 22.115}, {'tag': 'eval_steps_per_second', 'value': 4.423}], [{'tag': 'train_loss', 'value': 0.7892210483551025}, {'tag': 'train_runtime', 'value': 1.1683}, {'tag': 'train_samples_per_second', 'value': 68.475}, {'tag': 'train_steps_per_second', 'value': 8.559}, {'tag': 'epoch', 'value': 4.0}, {'tag': 'step', 'value': 20}, {'tag': 'loss', 'value': 0.7902}, {'tag': 'learning_rate', 'value': 4.600000000000001e-05}, {'tag': 'eval_loss', 'value': 0.7245649099349976}, {'tag': 'eval_runtime', 'value': 0.4513}, {'tag': 'eval_samples_per_second', 'value': 22.16}, {'tag': 'eval_steps_per_second', 'value': 4.432}], [{'tag': 'train_loss', 'value': 0.6094344258308411}, {'tag': 'train_runtime', 'value': 1.1653}, {'tag': 'train_samples_per_second', 'value': 68.652}, {'tag': 'train_steps_per_second', 'value': 8.582}, {'tag': 'epoch', 'value': 5.0}, {'tag': 'step', 'value': 25}, {'tag': 'loss', 'value': 0.6806}, {'tag': 'learning_rate', 'value': 4.5e-05}, {'tag': 'eval_loss', 'value': 0.5630266070365906}, {'tag': 'eval_runtime', 'value': 0.4509}, {'tag': 'eval_samples_per_second', 'value': 22.18}, {'tag': 'eval_steps_per_second', 'value': 4.436}], [{'tag': 'train_loss', 'value': 0.5720860958099365}, {'tag': 'train_runtime', 'value': 1.1654}, {'tag': 'train_samples_per_second', 'value': 68.648}, {'tag': 'train_steps_per_second', 'value': 8.581}, {'tag': 'epoch', 'value': 6.0}, {'tag': 'step', 'value': 30}, {'tag': 'loss', 'value': 0.6367}, {'tag': 'learning_rate', 'value': 4.4000000000000006e-05}, {'tag': 'eval_loss', 'value': 0.6396136283874512}, {'tag': 'eval_runtime', 'value': 0.4465}, {'tag': 'eval_samples_per_second', 'value': 22.397}, {'tag': 'eval_steps_per_second', 'value': 4.479}], [{'tag': 'train_loss', 'value': 0.5628016591072083}, {'tag': 'train_runtime', 'value': 1.1577}, {'tag': 'train_samples_per_second', 'value': 69.102}, {'tag': 'train_steps_per_second', 'value': 8.638}, {'tag': 'epoch', 'value': 7.0}, {'tag': 'step', 'value': 35}, {'tag': 'loss', 'value': 0.5938}, {'tag': 'learning_rate', 'value': 4.3e-05}, {'tag': 'eval_loss', 'value': 0.61188805103302}, {'tag': 'eval_runtime', 'value': 0.4501}, {'tag': 'eval_samples_per_second', 'value': 22.217}, {'tag': 'eval_steps_per_second', 'value': 4.443}], [{'tag': 'train_loss', 'value': 0.5682467222213745}, {'tag': 'train_runtime', 'value': 1.1719}, {'tag': 'train_samples_per_second', 'value': 68.265}, {'tag': 'train_steps_per_second', 'value': 8.533}, {'tag': 'epoch', 'value': 8.0}, {'tag': 'step', 'value': 40}, {'tag': 'loss', 'value': 0.5956}, {'tag': 'learning_rate', 'value': 4.2e-05}, {'tag': 'eval_loss', 'value': 0.5520668029785156}, {'tag': 'eval_runtime', 'value': 0.4566}, {'tag': 'eval_samples_per_second', 'value': 21.903}, {'tag': 'eval_steps_per_second', 'value': 4.381}], [{'tag': 'train_loss', 'value': 0.5007809996604919}, {'tag': 'train_runtime', 'value': 1.1982}, {'tag': 'train_samples_per_second', 'value': 66.767}, {'tag': 'train_steps_per_second', 'value': 8.346}, {'tag': 'epoch', 'value': 9.0}, {'tag': 'step', 'value': 45}, {'tag': 'loss', 'value': 0.5926}, {'tag': 'learning_rate', 'value': 4.1e-05}, {'tag': 'eval_loss', 'value': 0.5047541856765747}, {'tag': 'eval_runtime', 'value': 0.4565}, {'tag': 'eval_samples_per_second', 'value': 21.907}, {'tag': 'eval_steps_per_second', 'value': 4.381}], [{'tag': 'train_loss', 'value': 0.50834059715271}, {'tag': 'train_runtime', 'value': 1.1682}, {'tag': 'train_samples_per_second', 'value': 68.479}, {'tag': 'train_steps_per_second', 'value': 8.56}, {'tag': 'epoch', 'value': 10.0}, {'tag': 'step', 'value': 50}, {'tag': 'loss', 'value': 0.5381}, {'tag': 'learning_rate', 'value': 4e-05}, {'tag': 'eval_loss', 'value': 0.5392290353775024}, {'tag': 'eval_runtime', 'value': 0.4562}, {'tag': 'eval_samples_per_second', 'value': 21.919}, {'tag': 'eval_steps_per_second', 'value': 4.384}], [{'tag': 'train_loss', 'value': 0.48940911889076233}, {'tag': 'train_runtime', 'value': 1.1677}, {'tag': 'train_samples_per_second', 'value': 68.511}, {'tag': 'train_steps_per_second', 'value': 8.564}, {'tag': 'epoch', 'value': 11.0}, {'tag': 'step', 'value': 55}, {'tag': 'loss', 'value': 0.5034}, {'tag': 'learning_rate', 'value': 3.9000000000000006e-05}, {'tag': 'eval_loss', 'value': 0.4892626702785492}, {'tag': 'eval_runtime', 'value': 0.4617}, {'tag': 'eval_samples_per_second', 'value': 21.659}, {'tag': 'eval_steps_per_second', 'value': 4.332}], [{'tag': 'train_loss', 'value': 0.46669650077819824}, {'tag': 'train_runtime', 'value': 1.1685}, {'tag': 'train_samples_per_second', 'value': 68.461}, {'tag': 'train_steps_per_second', 'value': 8.558}, {'tag': 'epoch', 'value': 12.0}, {'tag': 'step', 'value': 60}, {'tag': 'loss', 'value': 0.497}, {'tag': 'learning_rate', 'value': 3.8e-05}, {'tag': 'eval_loss', 'value': 0.47923794388771057}, {'tag': 'eval_runtime', 'value': 0.4504}, {'tag': 'eval_samples_per_second', 'value': 22.204}, {'tag': 'eval_steps_per_second', 'value': 4.441}], [{'tag': 'train_loss', 'value': 0.47684845328330994}, {'tag': 'train_runtime', 'value': 1.1654}, {'tag': 'train_samples_per_second', 'value': 68.643}, {'tag': 'train_steps_per_second', 'value': 8.58}, {'tag': 'epoch', 'value': 13.0}, {'tag': 'step', 'value': 65}, {'tag': 'loss', 'value': 0.5113}, {'tag': 'learning_rate', 'value': 3.7e-05}, {'tag': 'eval_loss', 'value': 0.5093619227409363}, {'tag': 'eval_runtime', 'value': 0.4563}, {'tag': 'eval_samples_per_second', 'value': 21.917}, {'tag': 'eval_steps_per_second', 'value': 4.383}], [{'tag': 'train_loss', 'value': 0.4997107982635498}, {'tag': 'train_runtime', 'value': 1.1755}, {'tag': 'train_samples_per_second', 'value': 68.055}, {'tag': 'train_steps_per_second', 'value': 8.507}, {'tag': 'epoch', 'value': 14.0}, {'tag': 'step', 'value': 70}, {'tag': 'loss', 'value': 0.493}, {'tag': 'learning_rate', 'value': 3.6e-05}, {'tag': 'eval_loss', 'value': 0.5527489185333252}, {'tag': 'eval_runtime', 'value': 0.4537}, {'tag': 'eval_samples_per_second', 'value': 22.041}, {'tag': 'eval_steps_per_second', 'value': 4.408}], [{'tag': 'train_loss', 'value': 0.44894537329673767}, {'tag': 'train_runtime', 'value': 1.173}, {'tag': 'train_samples_per_second', 'value': 68.201}, {'tag': 'train_steps_per_second', 'value': 8.525}, {'tag': 'epoch', 'value': 15.0}, {'tag': 'step', 'value': 75}, {'tag': 'loss', 'value': 0.4749}, {'tag': 'learning_rate', 'value': 3.5e-05}, {'tag': 'eval_loss', 'value': 0.4567878246307373}, {'tag': 'eval_runtime', 'value': 0.4599}, {'tag': 'eval_samples_per_second', 'value': 21.746}, {'tag': 'eval_steps_per_second', 'value': 4.349}], [{'tag': 'train_loss', 'value': 0.43230360746383667}, {'tag': 'train_runtime', 'value': 1.1746}, {'tag': 'train_samples_per_second', 'value': 68.109}, {'tag': 'train_steps_per_second', 'value': 8.514}, {'tag': 'epoch', 'value': 16.0}, {'tag': 'step', 'value': 80}, {'tag': 'loss', 'value': 0.4652}, {'tag': 'learning_rate', 'value': 3.4000000000000007e-05}, {'tag': 'eval_loss', 'value': 0.48362937569618225}, {'tag': 'eval_runtime', 'value': 0.4604}, {'tag': 'eval_samples_per_second', 'value': 21.72}, {'tag': 'eval_steps_per_second', 'value': 4.344}], [{'tag': 'train_loss', 'value': 0.45379438996315}, {'tag': 'train_runtime', 'value': 1.1678}, {'tag': 'train_samples_per_second', 'value': 68.508}, {'tag': 'train_steps_per_second', 'value': 8.563}, {'tag': 'epoch', 'value': 17.0}, {'tag': 'step', 'value': 85}, {'tag': 'loss', 'value': 0.4377}, {'tag': 'learning_rate', 'value': 3.3e-05}, {'tag': 'eval_loss', 'value': 0.4290856719017029}, {'tag': 'eval_runtime', 'value': 0.4525}, {'tag': 'eval_samples_per_second', 'value': 22.1}, {'tag': 'eval_steps_per_second', 'value': 4.42}], [{'tag': 'train_loss', 'value': 0.40530914068222046}, {'tag': 'train_runtime', 'value': 1.1686}, {'tag': 'train_samples_per_second', 'value': 68.457}, {'tag': 'train_steps_per_second', 'value': 8.557}, {'tag': 'epoch', 'value': 18.0}, {'tag': 'step', 'value': 90}, {'tag': 'loss', 'value': 0.4505}, {'tag': 'learning_rate', 'value': 3.2000000000000005e-05}, {'tag': 'eval_loss', 'value': 0.42434707283973694}, {'tag': 'eval_runtime', 'value': 0.4579}, {'tag': 'eval_samples_per_second', 'value': 21.84}, {'tag': 'eval_steps_per_second', 'value': 4.368}], [{'tag': 'train_loss', 'value': 0.4644232392311096}, {'tag': 'train_runtime', 'value': 1.1687}, {'tag': 'train_samples_per_second', 'value': 68.452}, {'tag': 'train_steps_per_second', 'value': 8.557}, {'tag': 'epoch', 'value': 19.0}, {'tag': 'step', 'value': 95}, {'tag': 'loss', 'value': 0.4229}, {'tag': 'learning_rate', 'value': 3.1e-05}, {'tag': 'eval_loss', 'value': 0.4124431014060974}, {'tag': 'eval_runtime', 'value': 0.4593}, {'tag': 'eval_samples_per_second', 'value': 21.77}, {'tag': 'eval_steps_per_second', 'value': 4.354}], [{'tag': 'train_loss', 'value': 0.4102630615234375}, {'tag': 'train_runtime', 'value': 1.1704}, {'tag': 'train_samples_per_second', 'value': 68.355}, {'tag': 'train_steps_per_second', 'value': 8.544}, {'tag': 'epoch', 'value': 20.0}, {'tag': 'step', 'value': 100}, {'tag': 'loss', 'value': 0.4188}, {'tag': 'learning_rate', 'value': 3e-05}, {'tag': 'eval_loss', 'value': 0.506877601146698}, {'tag': 'eval_runtime', 'value': 0.4591}, {'tag': 'eval_samples_per_second', 'value': 21.783}, {'tag': 'eval_steps_per_second', 'value': 4.357}], [{'tag': 'train_loss', 'value': 0.42519599199295044}, {'tag': 'train_runtime', 'value': 1.17}, {'tag': 'train_samples_per_second', 'value': 68.377}, {'tag': 'train_steps_per_second', 'value': 8.547}, {'tag': 'epoch', 'value': 21.0}, {'tag': 'step', 'value': 105}, {'tag': 'loss', 'value': 0.4177}, {'tag': 'learning_rate', 'value': 2.9e-05}, {'tag': 'eval_loss', 'value': 0.486731618642807}, {'tag': 'eval_runtime', 'value': 0.4567}, {'tag': 'eval_samples_per_second', 'value': 21.895}, {'tag': 'eval_steps_per_second', 'value': 4.379}], [{'tag': 'train_loss', 'value': 0.39331433176994324}, {'tag': 'train_runtime', 'value': 1.1673}, {'tag': 'train_samples_per_second', 'value': 68.535}, {'tag': 'train_steps_per_second', 'value': 8.567}, {'tag': 'epoch', 'value': 22.0}, {'tag': 'step', 'value': 110}, {'tag': 'loss', 'value': 0.448}, {'tag': 'learning_rate', 'value': 2.8000000000000003e-05}, {'tag': 'eval_loss', 'value': 0.3879864811897278}, {'tag': 'eval_runtime', 'value': 0.4583}, {'tag': 'eval_samples_per_second', 'value': 21.817}, {'tag': 'eval_steps_per_second', 'value': 4.363}], [{'tag': 'train_loss', 'value': 0.40909242630004883}, {'tag': 'train_runtime', 'value': 1.1724}, {'tag': 'train_samples_per_second', 'value': 68.237}, {'tag': 'train_steps_per_second', 'value': 8.53}, {'tag': 'epoch', 'value': 23.0}, {'tag': 'step', 'value': 115}, {'tag': 'loss', 'value': 0.4292}, {'tag': 'learning_rate', 'value': 2.7000000000000002e-05}, {'tag': 'eval_loss', 'value': 0.4384569227695465}, {'tag': 'eval_runtime', 'value': 0.4584}, {'tag': 'eval_samples_per_second', 'value': 21.813}, {'tag': 'eval_steps_per_second', 'value': 4.363}], [{'tag': 'train_loss', 'value': 0.3766937851905823}, {'tag': 'train_runtime', 'value': 1.1735}, {'tag': 'train_samples_per_second', 'value': 68.171}, {'tag': 'train_steps_per_second', 'value': 8.521}, {'tag': 'epoch', 'value': 24.0}, {'tag': 'step', 'value': 120}, {'tag': 'loss', 'value': 0.4239}, {'tag': 'learning_rate', 'value': 2.6000000000000002e-05}, {'tag': 'eval_loss', 'value': 0.4203525483608246}, {'tag': 'eval_runtime', 'value': 0.4597}, {'tag': 'eval_samples_per_second', 'value': 21.755}, {'tag': 'eval_steps_per_second', 'value': 4.351}], [{'tag': 'train_loss', 'value': 0.3570360243320465}, {'tag': 'train_runtime', 'value': 1.1695}, {'tag': 'train_samples_per_second', 'value': 68.404}, {'tag': 'train_steps_per_second', 'value': 8.55}, {'tag': 'epoch', 'value': 25.0}, {'tag': 'step', 'value': 125}, {'tag': 'loss', 'value': 0.4064}, {'tag': 'learning_rate', 'value': 2.5e-05}, {'tag': 'eval_loss', 'value': 0.37610846757888794}, {'tag': 'eval_runtime', 'value': 0.4514}, {'tag': 'eval_samples_per_second', 'value': 22.151}, {'tag': 'eval_steps_per_second', 'value': 4.43}], [{'tag': 'train_loss', 'value': 0.34380871057510376}, {'tag': 'train_runtime', 'value': 1.1724}, {'tag': 'train_samples_per_second', 'value': 68.237}, {'tag': 'train_steps_per_second', 'value': 8.53}, {'tag': 'epoch', 'value': 26.0}, {'tag': 'step', 'value': 130}, {'tag': 'loss', 'value': 0.3763}, {'tag': 'learning_rate', 'value': 2.4e-05}, {'tag': 'eval_loss', 'value': 0.42806974053382874}, {'tag': 'eval_runtime', 'value': 0.4629}, {'tag': 'eval_samples_per_second', 'value': 21.601}, {'tag': 'eval_steps_per_second', 'value': 4.32}], [{'tag': 'train_loss', 'value': 0.37548738718032837}, {'tag': 'train_runtime', 'value': 1.1741}, {'tag': 'train_samples_per_second', 'value': 68.138}, {'tag': 'train_steps_per_second', 'value': 8.517}, {'tag': 'epoch', 'value': 27.0}, {'tag': 'step', 'value': 135}, {'tag': 'loss', 'value': 0.3836}, {'tag': 'learning_rate', 'value': 2.3000000000000003e-05}, {'tag': 'eval_loss', 'value': 0.39327436685562134}, {'tag': 'eval_runtime', 'value': 0.4622}, {'tag': 'eval_samples_per_second', 'value': 21.636}, {'tag': 'eval_steps_per_second', 'value': 4.327}], [{'tag': 'train_loss', 'value': 0.3448293209075928}, {'tag': 'train_runtime', 'value': 1.1668}, {'tag': 'train_samples_per_second', 'value': 68.563}, {'tag': 'train_steps_per_second', 'value': 8.57}, {'tag': 'epoch', 'value': 28.0}, {'tag': 'step', 'value': 140}, {'tag': 'loss', 'value': 0.3569}, {'tag': 'learning_rate', 'value': 2.2000000000000003e-05}, {'tag': 'eval_loss', 'value': 0.36112552881240845}, {'tag': 'eval_runtime', 'value': 0.4575}, {'tag': 'eval_samples_per_second', 'value': 21.856}, {'tag': 'eval_steps_per_second', 'value': 4.371}], [{'tag': 'train_loss', 'value': 0.3172988295555115}, {'tag': 'train_runtime', 'value': 1.1707}, {'tag': 'train_samples_per_second', 'value': 68.333}, {'tag': 'train_steps_per_second', 'value': 8.542}, {'tag': 'epoch', 'value': 29.0}, {'tag': 'step', 'value': 145}, {'tag': 'loss', 'value': 0.3804}, {'tag': 'learning_rate', 'value': 2.1e-05}, {'tag': 'eval_loss', 'value': 0.3893052339553833}, {'tag': 'eval_runtime', 'value': 0.4516}, {'tag': 'eval_samples_per_second', 'value': 22.144}, {'tag': 'eval_steps_per_second', 'value': 4.429}], [{'tag': 'train_loss', 'value': 0.316042423248291}, {'tag': 'train_runtime', 'value': 1.1686}, {'tag': 'train_samples_per_second', 'value': 68.458}, {'tag': 'train_steps_per_second', 'value': 8.557}, {'tag': 'epoch', 'value': 30.0}, {'tag': 'step', 'value': 150}, {'tag': 'loss', 'value': 0.361}, {'tag': 'learning_rate', 'value': 2e-05}, {'tag': 'eval_loss', 'value': 0.37002676725387573}, {'tag': 'eval_runtime', 'value': 0.46}, {'tag': 'eval_samples_per_second', 'value': 21.739}, {'tag': 'eval_steps_per_second', 'value': 4.348}], [{'tag': 'train_loss', 'value': 0.3621141016483307}, {'tag': 'train_runtime', 'value': 1.1456}, {'tag': 'train_samples_per_second', 'value': 69.832}, {'tag': 'train_steps_per_second', 'value': 8.729}, {'tag': 'epoch', 'value': 31.0}, {'tag': 'step', 'value': 155}, {'tag': 'loss', 'value': 0.3488}, {'tag': 'learning_rate', 'value': 1.9e-05}, {'tag': 'eval_loss', 'value': 0.455256849527359}, {'tag': 'eval_runtime', 'value': 0.4605}, {'tag': 'eval_samples_per_second', 'value': 21.714}, {'tag': 'eval_steps_per_second', 'value': 4.343}], [{'tag': 'train_loss', 'value': 0.3087203800678253}, {'tag': 'train_runtime', 'value': 1.1531}, {'tag': 'train_samples_per_second', 'value': 69.381}, {'tag': 'train_steps_per_second', 'value': 8.673}, {'tag': 'epoch', 'value': 32.0}, {'tag': 'step', 'value': 160}, {'tag': 'loss', 'value': 0.3508}, {'tag': 'learning_rate', 'value': 1.8e-05}, {'tag': 'eval_loss', 'value': 0.36367955803871155}, {'tag': 'eval_runtime', 'value': 0.4595}, {'tag': 'eval_samples_per_second', 'value': 21.763}, {'tag': 'eval_steps_per_second', 'value': 4.353}], [{'tag': 'train_loss', 'value': 0.3196394443511963}, {'tag': 'train_runtime', 'value': 1.2419}, {'tag': 'train_samples_per_second', 'value': 64.417}, {'tag': 'train_steps_per_second', 'value': 8.052}, {'tag': 'epoch', 'value': 33.0}, {'tag': 'step', 'value': 165}, {'tag': 'loss', 'value': 0.3562}, {'tag': 'learning_rate', 'value': 1.7000000000000003e-05}, {'tag': 'eval_loss', 'value': 0.326036274433136}, {'tag': 'eval_runtime', 'value': 0.4591}, {'tag': 'eval_samples_per_second', 'value': 21.783}, {'tag': 'eval_steps_per_second', 'value': 4.357}], [{'tag': 'train_loss', 'value': 0.32606521248817444}, {'tag': 'train_runtime', 'value': 1.1864}, {'tag': 'train_samples_per_second', 'value': 67.432}, {'tag': 'train_steps_per_second', 'value': 8.429}, {'tag': 'epoch', 'value': 34.0}, {'tag': 'step', 'value': 170}, {'tag': 'loss', 'value': 0.3585}, {'tag': 'learning_rate', 'value': 1.6000000000000003e-05}, {'tag': 'eval_loss', 'value': 0.3714372515678406}, {'tag': 'eval_runtime', 'value': 0.4622}, {'tag': 'eval_samples_per_second', 'value': 21.636}, {'tag': 'eval_steps_per_second', 'value': 4.327}], [{'tag': 'train_loss', 'value': 0.3009313642978668}, {'tag': 'train_runtime', 'value': 1.1715}, {'tag': 'train_samples_per_second', 'value': 68.29}, {'tag': 'train_steps_per_second', 'value': 8.536}, {'tag': 'epoch', 'value': 35.0}, {'tag': 'step', 'value': 175}, {'tag': 'loss', 'value': 0.3604}, {'tag': 'learning_rate', 'value': 1.5e-05}, {'tag': 'eval_loss', 'value': 0.3805556893348694}, {'tag': 'eval_runtime', 'value': 0.4599}, {'tag': 'eval_samples_per_second', 'value': 21.743}, {'tag': 'eval_steps_per_second', 'value': 4.349}], [{'tag': 'train_loss', 'value': 0.2820999026298523}, {'tag': 'train_runtime', 'value': 1.1717}, {'tag': 'train_samples_per_second', 'value': 68.275}, {'tag': 'train_steps_per_second', 'value': 8.534}, {'tag': 'epoch', 'value': 36.0}, {'tag': 'step', 'value': 180}, {'tag': 'loss', 'value': 0.3359}, {'tag': 'learning_rate', 'value': 1.4000000000000001e-05}, {'tag': 'eval_loss', 'value': 0.3148360252380371}, {'tag': 'eval_runtime', 'value': 0.4612}, {'tag': 'eval_samples_per_second', 'value': 21.682}, {'tag': 'eval_steps_per_second', 'value': 4.336}], [{'tag': 'train_loss', 'value': 0.3010083734989166}, {'tag': 'train_runtime', 'value': 1.1705}, {'tag': 'train_samples_per_second', 'value': 68.349}, {'tag': 'train_steps_per_second', 'value': 8.544}, {'tag': 'epoch', 'value': 37.0}, {'tag': 'step', 'value': 185}, {'tag': 'loss', 'value': 0.3514}, {'tag': 'learning_rate', 'value': 1.3000000000000001e-05}, {'tag': 'eval_loss', 'value': 0.35093894600868225}, {'tag': 'eval_runtime', 'value': 0.4593}, {'tag': 'eval_samples_per_second', 'value': 21.771}, {'tag': 'eval_steps_per_second', 'value': 4.354}], [{'tag': 'train_loss', 'value': 0.3155757486820221}, {'tag': 'train_runtime', 'value': 1.1744}, {'tag': 'train_samples_per_second', 'value': 68.119}, {'tag': 'train_steps_per_second', 'value': 8.515}, {'tag': 'epoch', 'value': 38.0}, {'tag': 'step', 'value': 190}, {'tag': 'loss', 'value': 0.3322}, {'tag': 'learning_rate', 'value': 1.2e-05}, {'tag': 'eval_loss', 'value': 0.36943158507347107}, {'tag': 'eval_runtime', 'value': 0.4623}, {'tag': 'eval_samples_per_second', 'value': 21.631}, {'tag': 'eval_steps_per_second', 'value': 4.326}], [{'tag': 'train_loss', 'value': 0.29229164123535156}, {'tag': 'train_runtime', 'value': 1.1735}, {'tag': 'train_samples_per_second', 'value': 68.174}, {'tag': 'train_steps_per_second', 'value': 8.522}, {'tag': 'epoch', 'value': 39.0}, {'tag': 'step', 'value': 195}, {'tag': 'loss', 'value': 0.3332}, {'tag': 'learning_rate', 'value': 1.1000000000000001e-05}, {'tag': 'eval_loss', 'value': 0.32007449865341187}, {'tag': 'eval_runtime', 'value': 0.4705}, {'tag': 'eval_samples_per_second', 'value': 21.253}, {'tag': 'eval_steps_per_second', 'value': 4.251}], [{'tag': 'train_loss', 'value': 0.28720229864120483}, {'tag': 'train_runtime', 'value': 1.172}, {'tag': 'train_samples_per_second', 'value': 68.262}, {'tag': 'train_steps_per_second', 'value': 8.533}, {'tag': 'epoch', 'value': 40.0}, {'tag': 'step', 'value': 200}, {'tag': 'loss', 'value': 0.3251}, {'tag': 'learning_rate', 'value': 1e-05}, {'tag': 'eval_loss', 'value': 0.33731579780578613}, {'tag': 'eval_runtime', 'value': 0.4666}, {'tag': 'eval_samples_per_second', 'value': 21.432}, {'tag': 'eval_steps_per_second', 'value': 4.286}], [{'tag': 'train_loss', 'value': 0.2932036519050598}, {'tag': 'train_runtime', 'value': 1.1724}, {'tag': 'train_samples_per_second', 'value': 68.235}, {'tag': 'train_steps_per_second', 'value': 8.529}, {'tag': 'epoch', 'value': 41.0}, {'tag': 'step', 'value': 205}, {'tag': 'loss', 'value': 0.3193}, {'tag': 'learning_rate', 'value': 9e-06}, {'tag': 'eval_loss', 'value': 0.33646273612976074}, {'tag': 'eval_runtime', 'value': 0.455}, {'tag': 'eval_samples_per_second', 'value': 21.979}, {'tag': 'eval_steps_per_second', 'value': 4.396}], [{'tag': 'train_loss', 'value': 0.27874556183815}, {'tag': 'train_runtime', 'value': 1.1722}, {'tag': 'train_samples_per_second', 'value': 68.247}, {'tag': 'train_steps_per_second', 'value': 8.531}, {'tag': 'epoch', 'value': 42.0}, {'tag': 'step', 'value': 210}, {'tag': 'loss', 'value': 0.3241}, {'tag': 'learning_rate', 'value': 8.000000000000001e-06}, {'tag': 'eval_loss', 'value': 0.3634243905544281}, {'tag': 'eval_runtime', 'value': 0.4525}, {'tag': 'eval_samples_per_second', 'value': 22.101}, {'tag': 'eval_steps_per_second', 'value': 4.42}], [{'tag': 'train_loss', 'value': 0.2531836926937103}, {'tag': 'train_runtime', 'value': 1.1701}, {'tag': 'train_samples_per_second', 'value': 68.368}, {'tag': 'train_steps_per_second', 'value': 8.546}, {'tag': 'epoch', 'value': 43.0}, {'tag': 'step', 'value': 215}, {'tag': 'loss', 'value': 0.3245}, {'tag': 'learning_rate', 'value': 7.000000000000001e-06}, {'tag': 'eval_loss', 'value': 0.3013628423213959}, {'tag': 'eval_runtime', 'value': 0.4578}, {'tag': 'eval_samples_per_second', 'value': 21.844}, {'tag': 'eval_steps_per_second', 'value': 4.369}], [{'tag': 'train_loss', 'value': 0.2542426884174347}, {'tag': 'train_runtime', 'value': 1.174}, {'tag': 'train_samples_per_second', 'value': 68.142}, {'tag': 'train_steps_per_second', 'value': 8.518}, {'tag': 'epoch', 'value': 44.0}, {'tag': 'step', 'value': 220}, {'tag': 'loss', 'value': 0.3095}, {'tag': 'learning_rate', 'value': 6e-06}, {'tag': 'eval_loss', 'value': 0.33255600929260254}, {'tag': 'eval_runtime', 'value': 0.4516}, {'tag': 'eval_samples_per_second', 'value': 22.144}, {'tag': 'eval_steps_per_second', 'value': 4.429}], [{'tag': 'train_loss', 'value': 0.2652783691883087}, {'tag': 'train_runtime', 'value': 1.1691}, {'tag': 'train_samples_per_second', 'value': 68.43}, {'tag': 'train_steps_per_second', 'value': 8.554}, {'tag': 'epoch', 'value': 45.0}, {'tag': 'step', 'value': 225}, {'tag': 'loss', 'value': 0.313}, {'tag': 'learning_rate', 'value': 5e-06}, {'tag': 'eval_loss', 'value': 0.3318539261817932}, {'tag': 'eval_runtime', 'value': 0.4564}, {'tag': 'eval_samples_per_second', 'value': 21.911}, {'tag': 'eval_steps_per_second', 'value': 4.382}], [{'tag': 'train_loss', 'value': 0.2640072703361511}, {'tag': 'train_runtime', 'value': 1.1775}, {'tag': 'train_samples_per_second', 'value': 67.942}, {'tag': 'train_steps_per_second', 'value': 8.493}, {'tag': 'epoch', 'value': 46.0}, {'tag': 'step', 'value': 230}, {'tag': 'loss', 'value': 0.3061}, {'tag': 'learning_rate', 'value': 4.000000000000001e-06}, {'tag': 'eval_loss', 'value': 0.33584803342819214}, {'tag': 'eval_runtime', 'value': 0.4541}, {'tag': 'eval_samples_per_second', 'value': 22.022}, {'tag': 'eval_steps_per_second', 'value': 4.404}], [{'tag': 'train_loss', 'value': 0.2537235617637634}, {'tag': 'train_runtime', 'value': 1.1721}, {'tag': 'train_samples_per_second', 'value': 68.255}, {'tag': 'train_steps_per_second', 'value': 8.532}, {'tag': 'epoch', 'value': 47.0}, {'tag': 'step', 'value': 235}, {'tag': 'loss', 'value': 0.3136}, {'tag': 'learning_rate', 'value': 3e-06}, {'tag': 'eval_loss', 'value': 0.3733289837837219}, {'tag': 'eval_runtime', 'value': 0.4567}, {'tag': 'eval_samples_per_second', 'value': 21.897}, {'tag': 'eval_steps_per_second', 'value': 4.379}], [{'tag': 'train_loss', 'value': 0.27394717931747437}, {'tag': 'train_runtime', 'value': 1.1786}, {'tag': 'train_samples_per_second', 'value': 67.875}, {'tag': 'train_steps_per_second', 'value': 8.484}, {'tag': 'epoch', 'value': 48.0}, {'tag': 'step', 'value': 240}, {'tag': 'loss', 'value': 0.3134}, {'tag': 'learning_rate', 'value': 2.0000000000000003e-06}, {'tag': 'eval_loss', 'value': 0.3344195485115051}, {'tag': 'eval_runtime', 'value': 0.4558}, {'tag': 'eval_samples_per_second', 'value': 21.938}, {'tag': 'eval_steps_per_second', 'value': 4.388}], [{'tag': 'train_loss', 'value': 0.276274174451828}, {'tag': 'train_runtime', 'value': 1.1862}, {'tag': 'train_samples_per_second', 'value': 67.443}, {'tag': 'train_steps_per_second', 'value': 8.43}, {'tag': 'epoch', 'value': 49.0}, {'tag': 'step', 'value': 245}, {'tag': 'loss', 'value': 0.3139}, {'tag': 'learning_rate', 'value': 1.0000000000000002e-06}, {'tag': 'eval_loss', 'value': 0.34479618072509766}, {'tag': 'eval_runtime', 'value': 0.4645}, {'tag': 'eval_samples_per_second', 'value': 21.527}, {'tag': 'eval_steps_per_second', 'value': 4.305}], [{'tag': 'train_loss', 'value': 0.2610689103603363}, {'tag': 'train_runtime', 'value': 1.169}, {'tag': 'train_samples_per_second', 'value': 68.432}, {'tag': 'train_steps_per_second', 'value': 8.554}, {'tag': 'epoch', 'value': 50.0}, {'tag': 'step', 'value': 250}, {'tag': 'loss', 'value': 0.3131}, {'tag': 'learning_rate', 'value': 0.0}, {'tag': 'eval_loss', 'value': 0.3211144804954529}, {'tag': 'eval_runtime', 'value': 0.4552}, {'tag': 'eval_samples_per_second', 'value': 21.967}, {'tag': 'eval_steps_per_second', 'value': 4.393}]])"
      ]
     },
     "execution_count": 14,
     "metadata": {},
     "output_type": "execute_result"
    }
   ],
   "source": [
    "dataset_dir = dataset.export(DataType.HUGGINGFACE)\n",
    "train_result = huggingface_hub.train(\n",
    "    dataset_dir,\n",
    "    image_size=320,\n",
    "    epochs=50,\n",
    "    batch_size=16\n",
    ")\n",
    "train_result"
   ]
  },
  {
   "cell_type": "code",
   "execution_count": 15,
   "metadata": {},
   "outputs": [
    {
     "name": "stderr",
     "output_type": "stream",
     "text": [
      "/home/lhj/anaconda3/envs/waffle/lib/python3.9/site-packages/waffle_hub/dataset/dataset.py:1051: UserWarning: datasets/mnist_det/exports/COCO already exists. Removing exist export and override.\n",
      "  warnings.warn(f\"{export_dir} already exists. Removing exist export and override.\")\n",
      "\u001b[32m2023-05-03 13:30:32.716\u001b[0m | \u001b[33m\u001b[1mWARNING \u001b[0m | \u001b[36mautocare_tx_model.core.utils.checkpoint\u001b[0m:\u001b[36mload_ckpt\u001b[0m:\u001b[36m44\u001b[0m - \u001b[33m\u001b[1mShape of head.m.0.weight in checkpoint is torch.Size([255, 128, 1, 1]), while shape of head.m.0.weight in model is torch.Size([21, 128, 1, 1]).\u001b[0m\n",
      "\u001b[32m2023-05-03 13:30:32.717\u001b[0m | \u001b[33m\u001b[1mWARNING \u001b[0m | \u001b[36mautocare_tx_model.core.utils.checkpoint\u001b[0m:\u001b[36mload_ckpt\u001b[0m:\u001b[36m44\u001b[0m - \u001b[33m\u001b[1mShape of head.m.0.bias in checkpoint is torch.Size([255]), while shape of head.m.0.bias in model is torch.Size([21]).\u001b[0m\n",
      "\u001b[32m2023-05-03 13:30:32.717\u001b[0m | \u001b[33m\u001b[1mWARNING \u001b[0m | \u001b[36mautocare_tx_model.core.utils.checkpoint\u001b[0m:\u001b[36mload_ckpt\u001b[0m:\u001b[36m44\u001b[0m - \u001b[33m\u001b[1mShape of head.m.1.weight in checkpoint is torch.Size([255, 256, 1, 1]), while shape of head.m.1.weight in model is torch.Size([21, 256, 1, 1]).\u001b[0m\n",
      "\u001b[32m2023-05-03 13:30:32.717\u001b[0m | \u001b[33m\u001b[1mWARNING \u001b[0m | \u001b[36mautocare_tx_model.core.utils.checkpoint\u001b[0m:\u001b[36mload_ckpt\u001b[0m:\u001b[36m44\u001b[0m - \u001b[33m\u001b[1mShape of head.m.1.bias in checkpoint is torch.Size([255]), while shape of head.m.1.bias in model is torch.Size([21]).\u001b[0m\n",
      "\u001b[32m2023-05-03 13:30:32.718\u001b[0m | \u001b[33m\u001b[1mWARNING \u001b[0m | \u001b[36mautocare_tx_model.core.utils.checkpoint\u001b[0m:\u001b[36mload_ckpt\u001b[0m:\u001b[36m44\u001b[0m - \u001b[33m\u001b[1mShape of head.m.2.weight in checkpoint is torch.Size([255, 512, 1, 1]), while shape of head.m.2.weight in model is torch.Size([21, 512, 1, 1]).\u001b[0m\n",
      "\u001b[32m2023-05-03 13:30:32.718\u001b[0m | \u001b[33m\u001b[1mWARNING \u001b[0m | \u001b[36mautocare_tx_model.core.utils.checkpoint\u001b[0m:\u001b[36mload_ckpt\u001b[0m:\u001b[36m44\u001b[0m - \u001b[33m\u001b[1mShape of head.m.2.bias in checkpoint is torch.Size([255]), while shape of head.m.2.bias in model is torch.Size([21]).\u001b[0m\n"
     ]
    },
    {
     "name": "stdout",
     "output_type": "stream",
     "text": [
      "loading annotations into memory...\n",
      "Done (t=0.00s)\n",
      "creating index...\n",
      "index created!\n",
      "number of img_files in DB: 80\n"
     ]
    },
    {
     "name": "stderr",
     "output_type": "stream",
     "text": [
      "Scanning labels datasets/mnist_det/exports/COCO/train.json (80 found, 0 missing, 0 empty, 0 duplicate, for 80 images): 100%|██████████| 80/80 [00:00<00:00, 42646.71it/s]\n",
      "/home/lhj/anaconda3/envs/waffle/lib/python3.9/site-packages/albumentations/augmentations/dropout/cutout.py:49: FutureWarning: Cutout has been deprecated. Please use CoarseDropout\n",
      "  warnings.warn(\n"
     ]
    },
    {
     "name": "stdout",
     "output_type": "stream",
     "text": [
      "loading annotations into memory...\n",
      "Done (t=0.00s)\n",
      "creating index...\n",
      "index created!\n",
      "number of img_files in DB: 10\n"
     ]
    },
    {
     "name": "stderr",
     "output_type": "stream",
     "text": [
      "Scanning labels datasets/mnist_det/exports/COCO/val.json (10 found, 0 missing, 0 empty, 0 duplicate, for 10 images): 100%|██████████| 10/10 [00:00<00:00, 30240.12it/s]\n"
     ]
    },
    {
     "name": "stdout",
     "output_type": "stream",
     "text": [
      "loading annotations into memory...\n",
      "Done (t=0.00s)\n",
      "creating index...\n",
      "index created!\n",
      "number of img_files in DB: 10\n"
     ]
    },
    {
     "name": "stderr",
     "output_type": "stream",
     "text": [
      "Scanning labels datasets/mnist_det/exports/COCO/test.json (10 found, 0 missing, 0 empty, 0 duplicate, for 10 images): 100%|██████████| 10/10 [00:00<00:00, 38164.73it/s]\n",
      "/home/lhj/anaconda3/envs/waffle/lib/python3.9/site-packages/autocare_tx_model/tools/train.py:72: UserWarning: You have chosen to seed training. This will turn on the CUDNN deterministic setting, which can slow down your training considerably! You may see unexpected behavior when restarting from checkpoints.\n",
      "  warnings.warn(\n",
      "\u001b[32m2023-05-03 13:30:32.737\u001b[0m | \u001b[1mINFO    \u001b[0m | \u001b[36mautocare_tx_model.core.trainer.base_trainer\u001b[0m:\u001b[36mtrain\u001b[0m:\u001b[36m191\u001b[0m - \u001b[1mTraining start...\u001b[0m\n",
      "\u001b[32m2023-05-03 13:30:32.805\u001b[0m | \u001b[1mINFO    \u001b[0m | \u001b[36mautocare_tx_model.core.trainer.base_trainer\u001b[0m:\u001b[36m_get_optimizer\u001b[0m:\u001b[36m142\u001b[0m - \u001b[1mOptimizer groups: 60 .bias, 60 conv.weight, 57 other\u001b[0m\n",
      "\u001b[32m2023-05-03 13:30:32.839\u001b[0m | \u001b[1mINFO    \u001b[0m | \u001b[36mautocare_tx_model.core.utils.functions\u001b[0m:\u001b[36mcheck_gpu_availability\u001b[0m:\u001b[36m48\u001b[0m - \u001b[1mModel summary:\n",
      " ====================================================================================================\n",
      "Layer (type:depth-idx)                             Output Shape              Param #\n",
      "====================================================================================================\n",
      "YOLOv5                                             [1, 6300, 4]              --\n",
      "├─YOLOv5Backbone: 1-1                              [1, 128, 40, 40]          --\n",
      "│    └─Conv: 2-1                                   [1, 32, 160, 160]         --\n",
      "│    │    └─Conv2d: 3-1                            [1, 32, 160, 160]         3,456\n",
      "│    │    └─BatchNorm2d: 3-2                       [1, 32, 160, 160]         64\n",
      "│    │    └─SiLU: 3-3                              [1, 32, 160, 160]         --\n",
      "│    └─Conv: 2-2                                   [1, 64, 80, 80]           --\n",
      "│    │    └─Conv2d: 3-4                            [1, 64, 80, 80]           18,432\n",
      "│    │    └─BatchNorm2d: 3-5                       [1, 64, 80, 80]           128\n",
      "│    │    └─SiLU: 3-6                              [1, 64, 80, 80]           --\n",
      "│    └─C3: 2-3                                     [1, 64, 80, 80]           --\n",
      "│    │    └─Conv: 3-7                              [1, 32, 80, 80]           2,112\n",
      "│    │    └─Sequential: 3-8                        [1, 32, 80, 80]           10,368\n",
      "│    │    └─Conv: 3-9                              [1, 32, 80, 80]           2,112\n",
      "│    │    └─Conv: 3-10                             [1, 64, 80, 80]           4,224\n",
      "│    └─Conv: 2-4                                   [1, 128, 40, 40]          --\n",
      "│    │    └─Conv2d: 3-11                           [1, 128, 40, 40]          73,728\n",
      "│    │    └─BatchNorm2d: 3-12                      [1, 128, 40, 40]          256\n",
      "│    │    └─SiLU: 3-13                             [1, 128, 40, 40]          --\n",
      "│    └─C3: 2-5                                     [1, 128, 40, 40]          --\n",
      "│    │    └─Conv: 3-14                             [1, 64, 40, 40]           8,320\n",
      "│    │    └─Sequential: 3-15                       [1, 64, 40, 40]           82,432\n",
      "│    │    └─Conv: 3-16                             [1, 64, 40, 40]           8,320\n",
      "│    │    └─Conv: 3-17                             [1, 128, 40, 40]          16,640\n",
      "│    └─Conv: 2-6                                   [1, 256, 20, 20]          --\n",
      "│    │    └─Conv2d: 3-18                           [1, 256, 20, 20]          294,912\n",
      "│    │    └─BatchNorm2d: 3-19                      [1, 256, 20, 20]          512\n",
      "│    │    └─SiLU: 3-20                             [1, 256, 20, 20]          --\n",
      "│    └─C3: 2-7                                     [1, 256, 20, 20]          --\n",
      "│    │    └─Conv: 3-21                             [1, 128, 20, 20]          33,024\n",
      "│    │    └─Sequential: 3-22                       [1, 128, 20, 20]          493,056\n",
      "│    │    └─Conv: 3-23                             [1, 128, 20, 20]          33,024\n",
      "│    │    └─Conv: 3-24                             [1, 256, 20, 20]          66,048\n",
      "│    └─Conv: 2-8                                   [1, 512, 10, 10]          --\n",
      "│    │    └─Conv2d: 3-25                           [1, 512, 10, 10]          1,179,648\n",
      "│    │    └─BatchNorm2d: 3-26                      [1, 512, 10, 10]          1,024\n",
      "│    │    └─SiLU: 3-27                             [1, 512, 10, 10]          --\n",
      "│    └─C3: 2-9                                     [1, 512, 10, 10]          --\n",
      "│    │    └─Conv: 3-28                             [1, 256, 10, 10]          131,584\n",
      "│    │    └─Sequential: 3-29                       [1, 256, 10, 10]          656,384\n",
      "│    │    └─Conv: 3-30                             [1, 256, 10, 10]          131,584\n",
      "│    │    └─Conv: 3-31                             [1, 512, 10, 10]          263,168\n",
      "│    └─SPPF: 2-10                                  [1, 512, 10, 10]          --\n",
      "│    │    └─Conv: 3-32                             [1, 256, 10, 10]          131,584\n",
      "│    │    └─MaxPool2d: 3-33                        [1, 256, 10, 10]          --\n",
      "│    │    └─MaxPool2d: 3-34                        [1, 256, 10, 10]          --\n",
      "│    │    └─MaxPool2d: 3-35                        [1, 256, 10, 10]          --\n",
      "│    │    └─Conv: 3-36                             [1, 512, 10, 10]          525,312\n",
      "│    └─Conv: 2-11                                  [1, 256, 10, 10]          --\n",
      "│    │    └─Conv2d: 3-37                           [1, 256, 10, 10]          131,072\n",
      "│    │    └─BatchNorm2d: 3-38                      [1, 256, 10, 10]          512\n",
      "│    │    └─SiLU: 3-39                             [1, 256, 10, 10]          --\n",
      "├─YOLOv5Neck: 1-2                                  [1, 128, 40, 40]          --\n",
      "│    └─Upsample: 2-12                              [1, 256, 20, 20]          --\n",
      "│    └─Concat: 2-13                                [1, 512, 20, 20]          --\n",
      "│    └─C3: 2-14                                    [1, 256, 20, 20]          --\n",
      "│    │    └─Conv: 3-40                             [1, 128, 20, 20]          65,792\n",
      "│    │    └─Sequential: 3-41                       [1, 128, 20, 20]          164,352\n",
      "│    │    └─Conv: 3-42                             [1, 128, 20, 20]          65,792\n",
      "│    │    └─Conv: 3-43                             [1, 256, 20, 20]          66,048\n",
      "│    └─Conv: 2-15                                  [1, 128, 20, 20]          --\n",
      "│    │    └─Conv2d: 3-44                           [1, 128, 20, 20]          32,768\n",
      "│    │    └─BatchNorm2d: 3-45                      [1, 128, 20, 20]          256\n",
      "│    │    └─SiLU: 3-46                             [1, 128, 20, 20]          --\n",
      "│    └─Upsample: 2-16                              [1, 128, 40, 40]          --\n",
      "│    └─Concat: 2-17                                [1, 256, 40, 40]          --\n",
      "│    └─C3: 2-18                                    [1, 128, 40, 40]          --\n",
      "│    │    └─Conv: 3-47                             [1, 64, 40, 40]           16,512\n",
      "│    │    └─Sequential: 3-48                       [1, 64, 40, 40]           41,216\n",
      "│    │    └─Conv: 3-49                             [1, 64, 40, 40]           16,512\n",
      "│    │    └─Conv: 3-50                             [1, 128, 40, 40]          16,640\n",
      "│    └─Conv: 2-19                                  [1, 128, 20, 20]          --\n",
      "│    │    └─Conv2d: 3-51                           [1, 128, 20, 20]          147,456\n",
      "│    │    └─BatchNorm2d: 3-52                      [1, 128, 20, 20]          256\n",
      "│    │    └─SiLU: 3-53                             [1, 128, 20, 20]          --\n",
      "│    └─Concat: 2-20                                [1, 256, 20, 20]          --\n",
      "│    └─C3: 2-21                                    [1, 256, 20, 20]          --\n",
      "│    │    └─Conv: 3-54                             [1, 128, 20, 20]          33,024\n",
      "│    │    └─Sequential: 3-55                       [1, 128, 20, 20]          164,352\n",
      "│    │    └─Conv: 3-56                             [1, 128, 20, 20]          33,024\n",
      "│    │    └─Conv: 3-57                             [1, 256, 20, 20]          66,048\n",
      "│    └─Conv: 2-22                                  [1, 256, 10, 10]          --\n",
      "│    │    └─Conv2d: 3-58                           [1, 256, 10, 10]          589,824\n",
      "│    │    └─BatchNorm2d: 3-59                      [1, 256, 10, 10]          512\n",
      "│    │    └─SiLU: 3-60                             [1, 256, 10, 10]          --\n",
      "│    └─Concat: 2-23                                [1, 512, 10, 10]          --\n",
      "│    └─C3: 2-24                                    [1, 512, 10, 10]          --\n",
      "│    │    └─Conv: 3-61                             [1, 256, 10, 10]          131,584\n",
      "│    │    └─Sequential: 3-62                       [1, 256, 10, 10]          656,384\n",
      "│    │    └─Conv: 3-63                             [1, 256, 10, 10]          131,584\n",
      "│    │    └─Conv: 3-64                             [1, 512, 10, 10]          263,168\n",
      "├─YOLOv5Head: 1-3                                  [1, 6300, 4]              --\n",
      "│    └─ModuleList: 2-25                            --                        --\n",
      "│    │    └─Conv2d: 3-65                           [1, 21, 40, 40]           2,709\n",
      "│    │    └─Conv2d: 3-66                           [1, 21, 20, 20]           5,397\n",
      "│    │    └─Conv2d: 3-67                           [1, 21, 10, 10]           10,773\n",
      "====================================================================================================\n",
      "Total params: 7,025,023\n",
      "Trainable params: 7,025,023\n",
      "Non-trainable params: 0\n",
      "Total mult-adds (G): 1.97\n",
      "====================================================================================================\n",
      "Input size (MB): 1.23\n",
      "Forward/backward pass size (MB): 94.97\n",
      "Params size (MB): 28.10\n",
      "Estimated Total Size (MB): 124.30\n",
      "====================================================================================================\u001b[0m\n",
      "\u001b[32m2023-05-03 13:30:32.840\u001b[0m | \u001b[1mINFO    \u001b[0m | \u001b[36mautocare_tx_model.core.utils.functions\u001b[0m:\u001b[36mcheck_gpu_availability\u001b[0m:\u001b[36m49\u001b[0m - \u001b[1mModel total memory: 2086.32 MB\u001b[0m\n",
      "\u001b[32m2023-05-03 13:30:32.840\u001b[0m | \u001b[1mINFO    \u001b[0m | \u001b[36mautocare_tx_model.core.utils.functions\u001b[0m:\u001b[36mcheck_gpu_availability\u001b[0m:\u001b[36m50\u001b[0m - \u001b[1mGPU total memory: 24214.56 MB\u001b[0m\n",
      "\u001b[32m2023-05-03 13:30:32.841\u001b[0m | \u001b[1mINFO    \u001b[0m | \u001b[36mautocare_tx_model.core.trainer.det_trainer\u001b[0m:\u001b[36mbefore_epoch\u001b[0m:\u001b[36m143\u001b[0m - \u001b[1m---> start train epoch0\u001b[0m\n",
      "\u001b[32m2023-05-03 13:30:32.922\u001b[0m | \u001b[1mINFO    \u001b[0m | \u001b[36mautocare_tx_model.core.trainer.det_trainer\u001b[0m:\u001b[36mtrain_one_iter\u001b[0m:\u001b[36m276\u001b[0m - \u001b[1mepoch 0 [1/5] - lr: 0.005001 train loss: 4.260938 reg_loss: 0.547251 obj_loss: 0.087049 cls_loss: 3.626638\u001b[0m\n",
      "\u001b[32m2023-05-03 13:30:33.070\u001b[0m | \u001b[1mINFO    \u001b[0m | \u001b[36mautocare_tx_model.core.trainer.det_trainer\u001b[0m:\u001b[36mevaluate_and_save_model\u001b[0m:\u001b[36m201\u001b[0m - \u001b[1mValidation start...\u001b[0m\n",
      "\u001b[32m2023-05-03 13:30:33.247\u001b[0m | \u001b[1mINFO    \u001b[0m | \u001b[36mautocare_tx_model.core.trainer.det_trainer\u001b[0m:\u001b[36mevaluate_and_save_model\u001b[0m:\u001b[36m212\u001b[0m - \u001b[1mEvaluate..\u001b[0m\n",
      "\u001b[32m2023-05-03 13:30:33.248\u001b[0m | \u001b[1mINFO    \u001b[0m | \u001b[36mautocare_tx_model.core.trainer.det_trainer\u001b[0m:\u001b[36mevaluate_and_save_model\u001b[0m:\u001b[36m227\u001b[0m - \u001b[1m\n",
      "\u001b[0m\n",
      "\u001b[32m2023-05-03 13:30:33.249\u001b[0m | \u001b[1mINFO    \u001b[0m | \u001b[36mautocare_tx_model.core.trainer.base_trainer\u001b[0m:\u001b[36msave_ckpt\u001b[0m:\u001b[36m302\u001b[0m - \u001b[1mSave weights to hubs/tx_model_mnist_detection/artifacts/train\u001b[0m\n",
      "\u001b[32m2023-05-03 13:30:33.317\u001b[0m | \u001b[1mINFO    \u001b[0m | \u001b[36mautocare_tx_model.core.trainer.det_trainer\u001b[0m:\u001b[36mbefore_epoch\u001b[0m:\u001b[36m143\u001b[0m - \u001b[1m---> start train epoch1\u001b[0m\n",
      "\u001b[32m2023-05-03 13:30:33.553\u001b[0m | \u001b[1mINFO    \u001b[0m | \u001b[36mautocare_tx_model.core.trainer.det_trainer\u001b[0m:\u001b[36mtrain_one_iter\u001b[0m:\u001b[36m276\u001b[0m - \u001b[1mepoch 1 [1/5] - lr: 0.009986 train loss: 2.535333 reg_loss: 0.507368 obj_loss: 0.097771 cls_loss: 1.930194\u001b[0m\n",
      "\u001b[32m2023-05-03 13:30:33.696\u001b[0m | \u001b[1mINFO    \u001b[0m | \u001b[36mautocare_tx_model.core.trainer.det_trainer\u001b[0m:\u001b[36mevaluate_and_save_model\u001b[0m:\u001b[36m201\u001b[0m - \u001b[1mValidation start...\u001b[0m\n",
      "\u001b[32m2023-05-03 13:30:33.883\u001b[0m | \u001b[1mINFO    \u001b[0m | \u001b[36mautocare_tx_model.core.trainer.det_trainer\u001b[0m:\u001b[36mevaluate_and_save_model\u001b[0m:\u001b[36m212\u001b[0m - \u001b[1mEvaluate..\u001b[0m\n",
      "\u001b[32m2023-05-03 13:30:33.918\u001b[0m | \u001b[1mINFO    \u001b[0m | \u001b[36mautocare_tx_model.core.trainer.det_trainer\u001b[0m:\u001b[36mevaluate_and_save_model\u001b[0m:\u001b[36m227\u001b[0m - \u001b[1m\n",
      " Average Precision  (AP) @[ IoU=0.50:0.95 | area=   all | maxDets=100 ] = 0.000\n",
      " Average Precision  (AP) @[ IoU=0.50      | area=   all | maxDets=100 ] = 0.000\n",
      " Average Precision  (AP) @[ IoU=0.75      | area=   all | maxDets=100 ] = 0.000\n",
      " Average Precision  (AP) @[ IoU=0.50:0.95 | area= small | maxDets=100 ] = 0.000\n",
      " Average Precision  (AP) @[ IoU=0.50:0.95 | area=medium | maxDets=100 ] = 0.000\n",
      " Average Precision  (AP) @[ IoU=0.50:0.95 | area= large | maxDets=100 ] = -1.000\n",
      " Average Recall     (AR) @[ IoU=0.50:0.95 | area=   all | maxDets=  1 ] = 0.000\n",
      " Average Recall     (AR) @[ IoU=0.50:0.95 | area=   all | maxDets= 10 ] = 0.000\n",
      " Average Recall     (AR) @[ IoU=0.50:0.95 | area=   all | maxDets=100 ] = 0.000\n",
      " Average Recall     (AR) @[ IoU=0.50:0.95 | area= small | maxDets=100 ] = 0.000\n",
      " Average Recall     (AR) @[ IoU=0.50:0.95 | area=medium | maxDets=100 ] = 0.000\n",
      " Average Recall     (AR) @[ IoU=0.50:0.95 | area= large | maxDets=100 ] = -1.000\n",
      "\u001b[0m\n",
      "\u001b[32m2023-05-03 13:30:33.918\u001b[0m | \u001b[1mINFO    \u001b[0m | \u001b[36mautocare_tx_model.core.trainer.base_trainer\u001b[0m:\u001b[36msave_ckpt\u001b[0m:\u001b[36m302\u001b[0m - \u001b[1mSave weights to hubs/tx_model_mnist_detection/artifacts/train\u001b[0m\n",
      "\u001b[32m2023-05-03 13:30:33.984\u001b[0m | \u001b[1mINFO    \u001b[0m | \u001b[36mautocare_tx_model.core.trainer.det_trainer\u001b[0m:\u001b[36mbefore_epoch\u001b[0m:\u001b[36m143\u001b[0m - \u001b[1m---> start train epoch2\u001b[0m\n"
     ]
    },
    {
     "name": "stdout",
     "output_type": "stream",
     "text": [
      "Loading and preparing results...\n",
      "DONE (t=0.00s)\n",
      "creating index...\n",
      "index created!\n",
      "Evaluate annotation type *bbox*\n",
      "COCOeval_opt.evaluate() finished in 0.00 seconds.\n"
     ]
    },
    {
     "name": "stderr",
     "output_type": "stream",
     "text": [
      "\u001b[32m2023-05-03 13:30:34.222\u001b[0m | \u001b[1mINFO    \u001b[0m | \u001b[36mautocare_tx_model.core.trainer.det_trainer\u001b[0m:\u001b[36mtrain_one_iter\u001b[0m:\u001b[36m276\u001b[0m - \u001b[1mepoch 2 [1/5] - lr: 0.009952 train loss: 1.861379 reg_loss: 0.434899 obj_loss: 0.127667 cls_loss: 1.298813\u001b[0m\n",
      "\u001b[32m2023-05-03 13:30:34.364\u001b[0m | \u001b[1mINFO    \u001b[0m | \u001b[36mautocare_tx_model.core.trainer.det_trainer\u001b[0m:\u001b[36mevaluate_and_save_model\u001b[0m:\u001b[36m201\u001b[0m - \u001b[1mValidation start...\u001b[0m\n",
      "\u001b[32m2023-05-03 13:30:34.597\u001b[0m | \u001b[1mINFO    \u001b[0m | \u001b[36mautocare_tx_model.core.trainer.det_trainer\u001b[0m:\u001b[36mevaluate_and_save_model\u001b[0m:\u001b[36m212\u001b[0m - \u001b[1mEvaluate..\u001b[0m\n",
      "\u001b[32m2023-05-03 13:30:34.637\u001b[0m | \u001b[1mINFO    \u001b[0m | \u001b[36mautocare_tx_model.core.trainer.det_trainer\u001b[0m:\u001b[36mevaluate_and_save_model\u001b[0m:\u001b[36m227\u001b[0m - \u001b[1m\n",
      " Average Precision  (AP) @[ IoU=0.50:0.95 | area=   all | maxDets=100 ] = 0.000\n",
      " Average Precision  (AP) @[ IoU=0.50      | area=   all | maxDets=100 ] = 0.000\n",
      " Average Precision  (AP) @[ IoU=0.75      | area=   all | maxDets=100 ] = 0.000\n",
      " Average Precision  (AP) @[ IoU=0.50:0.95 | area= small | maxDets=100 ] = 0.000\n",
      " Average Precision  (AP) @[ IoU=0.50:0.95 | area=medium | maxDets=100 ] = 0.000\n",
      " Average Precision  (AP) @[ IoU=0.50:0.95 | area= large | maxDets=100 ] = -1.000\n",
      " Average Recall     (AR) @[ IoU=0.50:0.95 | area=   all | maxDets=  1 ] = 0.000\n",
      " Average Recall     (AR) @[ IoU=0.50:0.95 | area=   all | maxDets= 10 ] = 0.000\n",
      " Average Recall     (AR) @[ IoU=0.50:0.95 | area=   all | maxDets=100 ] = 0.000\n",
      " Average Recall     (AR) @[ IoU=0.50:0.95 | area= small | maxDets=100 ] = 0.000\n",
      " Average Recall     (AR) @[ IoU=0.50:0.95 | area=medium | maxDets=100 ] = 0.000\n",
      " Average Recall     (AR) @[ IoU=0.50:0.95 | area= large | maxDets=100 ] = -1.000\n",
      "\u001b[0m\n",
      "\u001b[32m2023-05-03 13:30:34.637\u001b[0m | \u001b[1mINFO    \u001b[0m | \u001b[36mautocare_tx_model.core.trainer.base_trainer\u001b[0m:\u001b[36msave_ckpt\u001b[0m:\u001b[36m302\u001b[0m - \u001b[1mSave weights to hubs/tx_model_mnist_detection/artifacts/train\u001b[0m\n",
      "\u001b[32m2023-05-03 13:30:34.702\u001b[0m | \u001b[1mINFO    \u001b[0m | \u001b[36mautocare_tx_model.core.trainer.det_trainer\u001b[0m:\u001b[36mbefore_epoch\u001b[0m:\u001b[36m143\u001b[0m - \u001b[1m---> start train epoch3\u001b[0m\n"
     ]
    },
    {
     "name": "stdout",
     "output_type": "stream",
     "text": [
      "Loading and preparing results...\n",
      "DONE (t=0.00s)\n",
      "creating index...\n",
      "index created!\n",
      "Evaluate annotation type *bbox*\n",
      "COCOeval_opt.evaluate() finished in 0.00 seconds.\n"
     ]
    },
    {
     "name": "stderr",
     "output_type": "stream",
     "text": [
      "\u001b[32m2023-05-03 13:30:34.946\u001b[0m | \u001b[1mINFO    \u001b[0m | \u001b[36mautocare_tx_model.core.trainer.det_trainer\u001b[0m:\u001b[36mtrain_one_iter\u001b[0m:\u001b[36m276\u001b[0m - \u001b[1mepoch 3 [1/5] - lr: 0.009899 train loss: 2.377210 reg_loss: 0.452500 obj_loss: 0.104163 cls_loss: 1.820547\u001b[0m\n",
      "\u001b[32m2023-05-03 13:30:35.092\u001b[0m | \u001b[1mINFO    \u001b[0m | \u001b[36mautocare_tx_model.core.trainer.det_trainer\u001b[0m:\u001b[36mevaluate_and_save_model\u001b[0m:\u001b[36m201\u001b[0m - \u001b[1mValidation start...\u001b[0m\n",
      "\u001b[32m2023-05-03 13:30:35.334\u001b[0m | \u001b[1mINFO    \u001b[0m | \u001b[36mautocare_tx_model.core.trainer.det_trainer\u001b[0m:\u001b[36mevaluate_and_save_model\u001b[0m:\u001b[36m212\u001b[0m - \u001b[1mEvaluate..\u001b[0m\n",
      "\u001b[32m2023-05-03 13:30:35.372\u001b[0m | \u001b[1mINFO    \u001b[0m | \u001b[36mautocare_tx_model.core.trainer.det_trainer\u001b[0m:\u001b[36mevaluate_and_save_model\u001b[0m:\u001b[36m227\u001b[0m - \u001b[1m\n",
      " Average Precision  (AP) @[ IoU=0.50:0.95 | area=   all | maxDets=100 ] = 0.000\n",
      " Average Precision  (AP) @[ IoU=0.50      | area=   all | maxDets=100 ] = 0.000\n",
      " Average Precision  (AP) @[ IoU=0.75      | area=   all | maxDets=100 ] = 0.000\n",
      " Average Precision  (AP) @[ IoU=0.50:0.95 | area= small | maxDets=100 ] = 0.000\n",
      " Average Precision  (AP) @[ IoU=0.50:0.95 | area=medium | maxDets=100 ] = 0.000\n",
      " Average Precision  (AP) @[ IoU=0.50:0.95 | area= large | maxDets=100 ] = -1.000\n",
      " Average Recall     (AR) @[ IoU=0.50:0.95 | area=   all | maxDets=  1 ] = 0.000\n",
      " Average Recall     (AR) @[ IoU=0.50:0.95 | area=   all | maxDets= 10 ] = 0.000\n",
      " Average Recall     (AR) @[ IoU=0.50:0.95 | area=   all | maxDets=100 ] = 0.000\n",
      " Average Recall     (AR) @[ IoU=0.50:0.95 | area= small | maxDets=100 ] = 0.000\n",
      " Average Recall     (AR) @[ IoU=0.50:0.95 | area=medium | maxDets=100 ] = 0.000\n",
      " Average Recall     (AR) @[ IoU=0.50:0.95 | area= large | maxDets=100 ] = -1.000\n",
      "\u001b[0m\n",
      "\u001b[32m2023-05-03 13:30:35.372\u001b[0m | \u001b[1mINFO    \u001b[0m | \u001b[36mautocare_tx_model.core.trainer.base_trainer\u001b[0m:\u001b[36msave_ckpt\u001b[0m:\u001b[36m302\u001b[0m - \u001b[1mSave weights to hubs/tx_model_mnist_detection/artifacts/train\u001b[0m\n",
      "\u001b[32m2023-05-03 13:30:35.432\u001b[0m | \u001b[1mINFO    \u001b[0m | \u001b[36mautocare_tx_model.core.trainer.det_trainer\u001b[0m:\u001b[36mbefore_epoch\u001b[0m:\u001b[36m143\u001b[0m - \u001b[1m---> start train epoch4\u001b[0m\n"
     ]
    },
    {
     "name": "stdout",
     "output_type": "stream",
     "text": [
      "Loading and preparing results...\n",
      "DONE (t=0.00s)\n",
      "creating index...\n",
      "index created!\n",
      "Evaluate annotation type *bbox*\n",
      "COCOeval_opt.evaluate() finished in 0.00 seconds.\n"
     ]
    },
    {
     "name": "stderr",
     "output_type": "stream",
     "text": [
      "\u001b[32m2023-05-03 13:30:35.679\u001b[0m | \u001b[1mINFO    \u001b[0m | \u001b[36mautocare_tx_model.core.trainer.det_trainer\u001b[0m:\u001b[36mtrain_one_iter\u001b[0m:\u001b[36m276\u001b[0m - \u001b[1mepoch 4 [1/5] - lr: 0.009827 train loss: 2.214077 reg_loss: 0.426855 obj_loss: 0.125183 cls_loss: 1.662040\u001b[0m\n",
      "\u001b[32m2023-05-03 13:30:35.820\u001b[0m | \u001b[1mINFO    \u001b[0m | \u001b[36mautocare_tx_model.core.trainer.det_trainer\u001b[0m:\u001b[36mevaluate_and_save_model\u001b[0m:\u001b[36m201\u001b[0m - \u001b[1mValidation start...\u001b[0m\n",
      "\u001b[32m2023-05-03 13:30:36.100\u001b[0m | \u001b[1mINFO    \u001b[0m | \u001b[36mautocare_tx_model.core.trainer.det_trainer\u001b[0m:\u001b[36mevaluate_and_save_model\u001b[0m:\u001b[36m212\u001b[0m - \u001b[1mEvaluate..\u001b[0m\n",
      "\u001b[32m2023-05-03 13:30:36.137\u001b[0m | \u001b[1mINFO    \u001b[0m | \u001b[36mautocare_tx_model.core.trainer.det_trainer\u001b[0m:\u001b[36mevaluate_and_save_model\u001b[0m:\u001b[36m227\u001b[0m - \u001b[1m\n",
      " Average Precision  (AP) @[ IoU=0.50:0.95 | area=   all | maxDets=100 ] = 0.000\n",
      " Average Precision  (AP) @[ IoU=0.50      | area=   all | maxDets=100 ] = 0.000\n",
      " Average Precision  (AP) @[ IoU=0.75      | area=   all | maxDets=100 ] = 0.000\n",
      " Average Precision  (AP) @[ IoU=0.50:0.95 | area= small | maxDets=100 ] = 0.000\n",
      " Average Precision  (AP) @[ IoU=0.50:0.95 | area=medium | maxDets=100 ] = 0.000\n",
      " Average Precision  (AP) @[ IoU=0.50:0.95 | area= large | maxDets=100 ] = -1.000\n",
      " Average Recall     (AR) @[ IoU=0.50:0.95 | area=   all | maxDets=  1 ] = 0.000\n",
      " Average Recall     (AR) @[ IoU=0.50:0.95 | area=   all | maxDets= 10 ] = 0.000\n",
      " Average Recall     (AR) @[ IoU=0.50:0.95 | area=   all | maxDets=100 ] = 0.000\n",
      " Average Recall     (AR) @[ IoU=0.50:0.95 | area= small | maxDets=100 ] = 0.000\n",
      " Average Recall     (AR) @[ IoU=0.50:0.95 | area=medium | maxDets=100 ] = 0.000\n",
      " Average Recall     (AR) @[ IoU=0.50:0.95 | area= large | maxDets=100 ] = -1.000\n",
      "\u001b[0m\n",
      "\u001b[32m2023-05-03 13:30:36.137\u001b[0m | \u001b[1mINFO    \u001b[0m | \u001b[36mautocare_tx_model.core.trainer.base_trainer\u001b[0m:\u001b[36msave_ckpt\u001b[0m:\u001b[36m302\u001b[0m - \u001b[1mSave weights to hubs/tx_model_mnist_detection/artifacts/train\u001b[0m\n",
      "\u001b[32m2023-05-03 13:30:36.188\u001b[0m | \u001b[1mINFO    \u001b[0m | \u001b[36mautocare_tx_model.core.trainer.det_trainer\u001b[0m:\u001b[36mbefore_epoch\u001b[0m:\u001b[36m143\u001b[0m - \u001b[1m---> start train epoch5\u001b[0m\n"
     ]
    },
    {
     "name": "stdout",
     "output_type": "stream",
     "text": [
      "Loading and preparing results...\n",
      "DONE (t=0.00s)\n",
      "creating index...\n",
      "index created!\n",
      "Evaluate annotation type *bbox*\n",
      "COCOeval_opt.evaluate() finished in 0.00 seconds.\n"
     ]
    },
    {
     "name": "stderr",
     "output_type": "stream",
     "text": [
      "\u001b[32m2023-05-03 13:30:36.432\u001b[0m | \u001b[1mINFO    \u001b[0m | \u001b[36mautocare_tx_model.core.trainer.det_trainer\u001b[0m:\u001b[36mtrain_one_iter\u001b[0m:\u001b[36m276\u001b[0m - \u001b[1mepoch 5 [1/5] - lr: 0.009735 train loss: 2.212755 reg_loss: 0.389770 obj_loss: 0.139339 cls_loss: 1.683646\u001b[0m\n",
      "\u001b[32m2023-05-03 13:30:36.577\u001b[0m | \u001b[1mINFO    \u001b[0m | \u001b[36mautocare_tx_model.core.trainer.det_trainer\u001b[0m:\u001b[36mevaluate_and_save_model\u001b[0m:\u001b[36m201\u001b[0m - \u001b[1mValidation start...\u001b[0m\n",
      "\u001b[32m2023-05-03 13:30:36.908\u001b[0m | \u001b[1mINFO    \u001b[0m | \u001b[36mautocare_tx_model.core.trainer.det_trainer\u001b[0m:\u001b[36mevaluate_and_save_model\u001b[0m:\u001b[36m212\u001b[0m - \u001b[1mEvaluate..\u001b[0m\n",
      "\u001b[32m2023-05-03 13:30:36.945\u001b[0m | \u001b[1mINFO    \u001b[0m | \u001b[36mautocare_tx_model.core.trainer.det_trainer\u001b[0m:\u001b[36mevaluate_and_save_model\u001b[0m:\u001b[36m227\u001b[0m - \u001b[1m\n",
      " Average Precision  (AP) @[ IoU=0.50:0.95 | area=   all | maxDets=100 ] = 0.000\n",
      " Average Precision  (AP) @[ IoU=0.50      | area=   all | maxDets=100 ] = 0.000\n",
      " Average Precision  (AP) @[ IoU=0.75      | area=   all | maxDets=100 ] = 0.000\n",
      " Average Precision  (AP) @[ IoU=0.50:0.95 | area= small | maxDets=100 ] = 0.000\n",
      " Average Precision  (AP) @[ IoU=0.50:0.95 | area=medium | maxDets=100 ] = 0.000\n",
      " Average Precision  (AP) @[ IoU=0.50:0.95 | area= large | maxDets=100 ] = -1.000\n",
      " Average Recall     (AR) @[ IoU=0.50:0.95 | area=   all | maxDets=  1 ] = 0.000\n",
      " Average Recall     (AR) @[ IoU=0.50:0.95 | area=   all | maxDets= 10 ] = 0.000\n",
      " Average Recall     (AR) @[ IoU=0.50:0.95 | area=   all | maxDets=100 ] = 0.000\n",
      " Average Recall     (AR) @[ IoU=0.50:0.95 | area= small | maxDets=100 ] = 0.000\n",
      " Average Recall     (AR) @[ IoU=0.50:0.95 | area=medium | maxDets=100 ] = 0.000\n",
      " Average Recall     (AR) @[ IoU=0.50:0.95 | area= large | maxDets=100 ] = -1.000\n",
      "\u001b[0m\n",
      "\u001b[32m2023-05-03 13:30:36.946\u001b[0m | \u001b[1mINFO    \u001b[0m | \u001b[36mautocare_tx_model.core.trainer.base_trainer\u001b[0m:\u001b[36msave_ckpt\u001b[0m:\u001b[36m302\u001b[0m - \u001b[1mSave weights to hubs/tx_model_mnist_detection/artifacts/train\u001b[0m\n",
      "\u001b[32m2023-05-03 13:30:36.996\u001b[0m | \u001b[1mINFO    \u001b[0m | \u001b[36mautocare_tx_model.core.trainer.det_trainer\u001b[0m:\u001b[36mbefore_epoch\u001b[0m:\u001b[36m143\u001b[0m - \u001b[1m---> start train epoch6\u001b[0m\n"
     ]
    },
    {
     "name": "stdout",
     "output_type": "stream",
     "text": [
      "Loading and preparing results...\n",
      "DONE (t=0.00s)\n",
      "creating index...\n",
      "index created!\n",
      "Evaluate annotation type *bbox*\n",
      "COCOeval_opt.evaluate() finished in 0.00 seconds.\n"
     ]
    },
    {
     "name": "stderr",
     "output_type": "stream",
     "text": [
      "\u001b[32m2023-05-03 13:30:37.237\u001b[0m | \u001b[1mINFO    \u001b[0m | \u001b[36mautocare_tx_model.core.trainer.det_trainer\u001b[0m:\u001b[36mtrain_one_iter\u001b[0m:\u001b[36m276\u001b[0m - \u001b[1mepoch 6 [1/5] - lr: 0.009625 train loss: 2.739835 reg_loss: 0.390177 obj_loss: 0.132937 cls_loss: 2.216721\u001b[0m\n",
      "\u001b[32m2023-05-03 13:30:37.381\u001b[0m | \u001b[1mINFO    \u001b[0m | \u001b[36mautocare_tx_model.core.trainer.det_trainer\u001b[0m:\u001b[36mevaluate_and_save_model\u001b[0m:\u001b[36m201\u001b[0m - \u001b[1mValidation start...\u001b[0m\n",
      "\u001b[32m2023-05-03 13:30:37.681\u001b[0m | \u001b[1mINFO    \u001b[0m | \u001b[36mautocare_tx_model.core.trainer.det_trainer\u001b[0m:\u001b[36mevaluate_and_save_model\u001b[0m:\u001b[36m212\u001b[0m - \u001b[1mEvaluate..\u001b[0m\n",
      "\u001b[32m2023-05-03 13:30:37.725\u001b[0m | \u001b[1mINFO    \u001b[0m | \u001b[36mautocare_tx_model.core.trainer.det_trainer\u001b[0m:\u001b[36mevaluate_and_save_model\u001b[0m:\u001b[36m227\u001b[0m - \u001b[1m\n",
      " Average Precision  (AP) @[ IoU=0.50:0.95 | area=   all | maxDets=100 ] = 0.000\n",
      " Average Precision  (AP) @[ IoU=0.50      | area=   all | maxDets=100 ] = 0.000\n",
      " Average Precision  (AP) @[ IoU=0.75      | area=   all | maxDets=100 ] = 0.000\n",
      " Average Precision  (AP) @[ IoU=0.50:0.95 | area= small | maxDets=100 ] = 0.000\n",
      " Average Precision  (AP) @[ IoU=0.50:0.95 | area=medium | maxDets=100 ] = 0.000\n",
      " Average Precision  (AP) @[ IoU=0.50:0.95 | area= large | maxDets=100 ] = -1.000\n",
      " Average Recall     (AR) @[ IoU=0.50:0.95 | area=   all | maxDets=  1 ] = 0.000\n",
      " Average Recall     (AR) @[ IoU=0.50:0.95 | area=   all | maxDets= 10 ] = 0.000\n",
      " Average Recall     (AR) @[ IoU=0.50:0.95 | area=   all | maxDets=100 ] = 0.000\n",
      " Average Recall     (AR) @[ IoU=0.50:0.95 | area= small | maxDets=100 ] = 0.000\n",
      " Average Recall     (AR) @[ IoU=0.50:0.95 | area=medium | maxDets=100 ] = 0.000\n",
      " Average Recall     (AR) @[ IoU=0.50:0.95 | area= large | maxDets=100 ] = -1.000\n",
      "\u001b[0m\n",
      "\u001b[32m2023-05-03 13:30:37.726\u001b[0m | \u001b[1mINFO    \u001b[0m | \u001b[36mautocare_tx_model.core.trainer.base_trainer\u001b[0m:\u001b[36msave_ckpt\u001b[0m:\u001b[36m302\u001b[0m - \u001b[1mSave weights to hubs/tx_model_mnist_detection/artifacts/train\u001b[0m\n",
      "\u001b[32m2023-05-03 13:30:37.778\u001b[0m | \u001b[1mINFO    \u001b[0m | \u001b[36mautocare_tx_model.core.trainer.det_trainer\u001b[0m:\u001b[36mbefore_epoch\u001b[0m:\u001b[36m143\u001b[0m - \u001b[1m---> start train epoch7\u001b[0m\n"
     ]
    },
    {
     "name": "stdout",
     "output_type": "stream",
     "text": [
      "Loading and preparing results...\n",
      "DONE (t=0.00s)\n",
      "creating index...\n",
      "index created!\n",
      "Evaluate annotation type *bbox*\n",
      "COCOeval_opt.evaluate() finished in 0.00 seconds.\n"
     ]
    },
    {
     "name": "stderr",
     "output_type": "stream",
     "text": [
      "\u001b[32m2023-05-03 13:30:38.021\u001b[0m | \u001b[1mINFO    \u001b[0m | \u001b[36mautocare_tx_model.core.trainer.det_trainer\u001b[0m:\u001b[36mtrain_one_iter\u001b[0m:\u001b[36m276\u001b[0m - \u001b[1mepoch 7 [1/5] - lr: 0.009497 train loss: 1.816361 reg_loss: 0.388400 obj_loss: 0.135012 cls_loss: 1.292949\u001b[0m\n",
      "\u001b[32m2023-05-03 13:30:38.166\u001b[0m | \u001b[1mINFO    \u001b[0m | \u001b[36mautocare_tx_model.core.trainer.det_trainer\u001b[0m:\u001b[36mevaluate_and_save_model\u001b[0m:\u001b[36m201\u001b[0m - \u001b[1mValidation start...\u001b[0m\n",
      "\u001b[32m2023-05-03 13:30:38.472\u001b[0m | \u001b[1mINFO    \u001b[0m | \u001b[36mautocare_tx_model.core.trainer.det_trainer\u001b[0m:\u001b[36mevaluate_and_save_model\u001b[0m:\u001b[36m212\u001b[0m - \u001b[1mEvaluate..\u001b[0m\n",
      "\u001b[32m2023-05-03 13:30:38.510\u001b[0m | \u001b[1mINFO    \u001b[0m | \u001b[36mautocare_tx_model.core.trainer.det_trainer\u001b[0m:\u001b[36mevaluate_and_save_model\u001b[0m:\u001b[36m227\u001b[0m - \u001b[1m\n",
      " Average Precision  (AP) @[ IoU=0.50:0.95 | area=   all | maxDets=100 ] = 0.000\n",
      " Average Precision  (AP) @[ IoU=0.50      | area=   all | maxDets=100 ] = 0.000\n",
      " Average Precision  (AP) @[ IoU=0.75      | area=   all | maxDets=100 ] = 0.000\n",
      " Average Precision  (AP) @[ IoU=0.50:0.95 | area= small | maxDets=100 ] = 0.000\n",
      " Average Precision  (AP) @[ IoU=0.50:0.95 | area=medium | maxDets=100 ] = 0.000\n",
      " Average Precision  (AP) @[ IoU=0.50:0.95 | area= large | maxDets=100 ] = -1.000\n",
      " Average Recall     (AR) @[ IoU=0.50:0.95 | area=   all | maxDets=  1 ] = 0.000\n",
      " Average Recall     (AR) @[ IoU=0.50:0.95 | area=   all | maxDets= 10 ] = 0.000\n",
      " Average Recall     (AR) @[ IoU=0.50:0.95 | area=   all | maxDets=100 ] = 0.000\n",
      " Average Recall     (AR) @[ IoU=0.50:0.95 | area= small | maxDets=100 ] = 0.000\n",
      " Average Recall     (AR) @[ IoU=0.50:0.95 | area=medium | maxDets=100 ] = 0.000\n",
      " Average Recall     (AR) @[ IoU=0.50:0.95 | area= large | maxDets=100 ] = -1.000\n",
      "\u001b[0m\n",
      "\u001b[32m2023-05-03 13:30:38.510\u001b[0m | \u001b[1mINFO    \u001b[0m | \u001b[36mautocare_tx_model.core.trainer.base_trainer\u001b[0m:\u001b[36msave_ckpt\u001b[0m:\u001b[36m302\u001b[0m - \u001b[1mSave weights to hubs/tx_model_mnist_detection/artifacts/train\u001b[0m\n",
      "\u001b[32m2023-05-03 13:30:38.563\u001b[0m | \u001b[1mINFO    \u001b[0m | \u001b[36mautocare_tx_model.core.trainer.det_trainer\u001b[0m:\u001b[36mbefore_epoch\u001b[0m:\u001b[36m143\u001b[0m - \u001b[1m---> start train epoch8\u001b[0m\n"
     ]
    },
    {
     "name": "stdout",
     "output_type": "stream",
     "text": [
      "Loading and preparing results...\n",
      "DONE (t=0.00s)\n",
      "creating index...\n",
      "index created!\n",
      "Evaluate annotation type *bbox*\n",
      "COCOeval_opt.evaluate() finished in 0.00 seconds.\n"
     ]
    },
    {
     "name": "stderr",
     "output_type": "stream",
     "text": [
      "\u001b[32m2023-05-03 13:30:38.803\u001b[0m | \u001b[1mINFO    \u001b[0m | \u001b[36mautocare_tx_model.core.trainer.det_trainer\u001b[0m:\u001b[36mtrain_one_iter\u001b[0m:\u001b[36m276\u001b[0m - \u001b[1mepoch 8 [1/5] - lr: 0.009351 train loss: 2.485471 reg_loss: 0.383999 obj_loss: 0.133637 cls_loss: 1.967834\u001b[0m\n",
      "\u001b[32m2023-05-03 13:30:38.947\u001b[0m | \u001b[1mINFO    \u001b[0m | \u001b[36mautocare_tx_model.core.trainer.det_trainer\u001b[0m:\u001b[36mevaluate_and_save_model\u001b[0m:\u001b[36m201\u001b[0m - \u001b[1mValidation start...\u001b[0m\n",
      "\u001b[32m2023-05-03 13:30:39.258\u001b[0m | \u001b[1mINFO    \u001b[0m | \u001b[36mautocare_tx_model.core.trainer.det_trainer\u001b[0m:\u001b[36mevaluate_and_save_model\u001b[0m:\u001b[36m212\u001b[0m - \u001b[1mEvaluate..\u001b[0m\n",
      "\u001b[32m2023-05-03 13:30:39.296\u001b[0m | \u001b[1mINFO    \u001b[0m | \u001b[36mautocare_tx_model.core.trainer.det_trainer\u001b[0m:\u001b[36mevaluate_and_save_model\u001b[0m:\u001b[36m227\u001b[0m - \u001b[1m\n",
      " Average Precision  (AP) @[ IoU=0.50:0.95 | area=   all | maxDets=100 ] = 0.000\n",
      " Average Precision  (AP) @[ IoU=0.50      | area=   all | maxDets=100 ] = 0.000\n",
      " Average Precision  (AP) @[ IoU=0.75      | area=   all | maxDets=100 ] = 0.000\n",
      " Average Precision  (AP) @[ IoU=0.50:0.95 | area= small | maxDets=100 ] = 0.000\n",
      " Average Precision  (AP) @[ IoU=0.50:0.95 | area=medium | maxDets=100 ] = 0.000\n",
      " Average Precision  (AP) @[ IoU=0.50:0.95 | area= large | maxDets=100 ] = -1.000\n",
      " Average Recall     (AR) @[ IoU=0.50:0.95 | area=   all | maxDets=  1 ] = 0.000\n",
      " Average Recall     (AR) @[ IoU=0.50:0.95 | area=   all | maxDets= 10 ] = 0.000\n",
      " Average Recall     (AR) @[ IoU=0.50:0.95 | area=   all | maxDets=100 ] = 0.000\n",
      " Average Recall     (AR) @[ IoU=0.50:0.95 | area= small | maxDets=100 ] = 0.000\n",
      " Average Recall     (AR) @[ IoU=0.50:0.95 | area=medium | maxDets=100 ] = 0.000\n",
      " Average Recall     (AR) @[ IoU=0.50:0.95 | area= large | maxDets=100 ] = -1.000\n",
      "\u001b[0m\n",
      "\u001b[32m2023-05-03 13:30:39.296\u001b[0m | \u001b[1mINFO    \u001b[0m | \u001b[36mautocare_tx_model.core.trainer.base_trainer\u001b[0m:\u001b[36msave_ckpt\u001b[0m:\u001b[36m302\u001b[0m - \u001b[1mSave weights to hubs/tx_model_mnist_detection/artifacts/train\u001b[0m\n",
      "\u001b[32m2023-05-03 13:30:39.346\u001b[0m | \u001b[1mINFO    \u001b[0m | \u001b[36mautocare_tx_model.core.trainer.det_trainer\u001b[0m:\u001b[36mbefore_epoch\u001b[0m:\u001b[36m143\u001b[0m - \u001b[1m---> start train epoch9\u001b[0m\n"
     ]
    },
    {
     "name": "stdout",
     "output_type": "stream",
     "text": [
      "Loading and preparing results...\n",
      "DONE (t=0.00s)\n",
      "creating index...\n",
      "index created!\n",
      "Evaluate annotation type *bbox*\n",
      "COCOeval_opt.evaluate() finished in 0.00 seconds.\n"
     ]
    },
    {
     "name": "stderr",
     "output_type": "stream",
     "text": [
      "\u001b[32m2023-05-03 13:30:39.587\u001b[0m | \u001b[1mINFO    \u001b[0m | \u001b[36mautocare_tx_model.core.trainer.det_trainer\u001b[0m:\u001b[36mtrain_one_iter\u001b[0m:\u001b[36m276\u001b[0m - \u001b[1mepoch 9 [1/5] - lr: 0.009188 train loss: 1.637083 reg_loss: 0.378643 obj_loss: 0.126540 cls_loss: 1.131900\u001b[0m\n",
      "\u001b[32m2023-05-03 13:30:39.732\u001b[0m | \u001b[1mINFO    \u001b[0m | \u001b[36mautocare_tx_model.core.trainer.det_trainer\u001b[0m:\u001b[36mevaluate_and_save_model\u001b[0m:\u001b[36m201\u001b[0m - \u001b[1mValidation start...\u001b[0m\n",
      "\u001b[32m2023-05-03 13:30:40.039\u001b[0m | \u001b[1mINFO    \u001b[0m | \u001b[36mautocare_tx_model.core.trainer.det_trainer\u001b[0m:\u001b[36mevaluate_and_save_model\u001b[0m:\u001b[36m212\u001b[0m - \u001b[1mEvaluate..\u001b[0m\n",
      "\u001b[32m2023-05-03 13:30:40.076\u001b[0m | \u001b[1mINFO    \u001b[0m | \u001b[36mautocare_tx_model.core.trainer.det_trainer\u001b[0m:\u001b[36mevaluate_and_save_model\u001b[0m:\u001b[36m227\u001b[0m - \u001b[1m\n",
      " Average Precision  (AP) @[ IoU=0.50:0.95 | area=   all | maxDets=100 ] = 0.000\n",
      " Average Precision  (AP) @[ IoU=0.50      | area=   all | maxDets=100 ] = 0.000\n",
      " Average Precision  (AP) @[ IoU=0.75      | area=   all | maxDets=100 ] = 0.000\n",
      " Average Precision  (AP) @[ IoU=0.50:0.95 | area= small | maxDets=100 ] = 0.000\n",
      " Average Precision  (AP) @[ IoU=0.50:0.95 | area=medium | maxDets=100 ] = 0.000\n",
      " Average Precision  (AP) @[ IoU=0.50:0.95 | area= large | maxDets=100 ] = -1.000\n",
      " Average Recall     (AR) @[ IoU=0.50:0.95 | area=   all | maxDets=  1 ] = 0.000\n",
      " Average Recall     (AR) @[ IoU=0.50:0.95 | area=   all | maxDets= 10 ] = 0.000\n",
      " Average Recall     (AR) @[ IoU=0.50:0.95 | area=   all | maxDets=100 ] = 0.000\n",
      " Average Recall     (AR) @[ IoU=0.50:0.95 | area= small | maxDets=100 ] = 0.000\n",
      " Average Recall     (AR) @[ IoU=0.50:0.95 | area=medium | maxDets=100 ] = 0.000\n",
      " Average Recall     (AR) @[ IoU=0.50:0.95 | area= large | maxDets=100 ] = -1.000\n",
      "\u001b[0m\n",
      "\u001b[32m2023-05-03 13:30:40.077\u001b[0m | \u001b[1mINFO    \u001b[0m | \u001b[36mautocare_tx_model.core.trainer.base_trainer\u001b[0m:\u001b[36msave_ckpt\u001b[0m:\u001b[36m302\u001b[0m - \u001b[1mSave weights to hubs/tx_model_mnist_detection/artifacts/train\u001b[0m\n",
      "\u001b[32m2023-05-03 13:30:40.127\u001b[0m | \u001b[1mINFO    \u001b[0m | \u001b[36mautocare_tx_model.core.trainer.det_trainer\u001b[0m:\u001b[36mbefore_epoch\u001b[0m:\u001b[36m143\u001b[0m - \u001b[1m---> start train epoch10\u001b[0m\n"
     ]
    },
    {
     "name": "stdout",
     "output_type": "stream",
     "text": [
      "Loading and preparing results...\n",
      "DONE (t=0.00s)\n",
      "creating index...\n",
      "index created!\n",
      "Evaluate annotation type *bbox*\n",
      "COCOeval_opt.evaluate() finished in 0.00 seconds.\n"
     ]
    },
    {
     "name": "stderr",
     "output_type": "stream",
     "text": [
      "\u001b[32m2023-05-03 13:30:40.372\u001b[0m | \u001b[1mINFO    \u001b[0m | \u001b[36mautocare_tx_model.core.trainer.det_trainer\u001b[0m:\u001b[36mtrain_one_iter\u001b[0m:\u001b[36m276\u001b[0m - \u001b[1mepoch 10 [1/5] - lr: 0.009008 train loss: 1.712753 reg_loss: 0.383835 obj_loss: 0.127124 cls_loss: 1.201795\u001b[0m\n",
      "\u001b[32m2023-05-03 13:30:40.516\u001b[0m | \u001b[1mINFO    \u001b[0m | \u001b[36mautocare_tx_model.core.trainer.det_trainer\u001b[0m:\u001b[36mevaluate_and_save_model\u001b[0m:\u001b[36m201\u001b[0m - \u001b[1mValidation start...\u001b[0m\n",
      "\u001b[32m2023-05-03 13:30:40.787\u001b[0m | \u001b[1mINFO    \u001b[0m | \u001b[36mautocare_tx_model.core.trainer.det_trainer\u001b[0m:\u001b[36mevaluate_and_save_model\u001b[0m:\u001b[36m212\u001b[0m - \u001b[1mEvaluate..\u001b[0m\n",
      "\u001b[32m2023-05-03 13:30:40.825\u001b[0m | \u001b[1mINFO    \u001b[0m | \u001b[36mautocare_tx_model.core.trainer.det_trainer\u001b[0m:\u001b[36mevaluate_and_save_model\u001b[0m:\u001b[36m227\u001b[0m - \u001b[1m\n",
      " Average Precision  (AP) @[ IoU=0.50:0.95 | area=   all | maxDets=100 ] = 0.000\n",
      " Average Precision  (AP) @[ IoU=0.50      | area=   all | maxDets=100 ] = 0.000\n",
      " Average Precision  (AP) @[ IoU=0.75      | area=   all | maxDets=100 ] = 0.000\n",
      " Average Precision  (AP) @[ IoU=0.50:0.95 | area= small | maxDets=100 ] = 0.000\n",
      " Average Precision  (AP) @[ IoU=0.50:0.95 | area=medium | maxDets=100 ] = 0.000\n",
      " Average Precision  (AP) @[ IoU=0.50:0.95 | area= large | maxDets=100 ] = -1.000\n",
      " Average Recall     (AR) @[ IoU=0.50:0.95 | area=   all | maxDets=  1 ] = 0.000\n",
      " Average Recall     (AR) @[ IoU=0.50:0.95 | area=   all | maxDets= 10 ] = 0.000\n",
      " Average Recall     (AR) @[ IoU=0.50:0.95 | area=   all | maxDets=100 ] = 0.000\n",
      " Average Recall     (AR) @[ IoU=0.50:0.95 | area= small | maxDets=100 ] = 0.000\n",
      " Average Recall     (AR) @[ IoU=0.50:0.95 | area=medium | maxDets=100 ] = 0.000\n",
      " Average Recall     (AR) @[ IoU=0.50:0.95 | area= large | maxDets=100 ] = -1.000\n",
      "\u001b[0m\n",
      "\u001b[32m2023-05-03 13:30:40.826\u001b[0m | \u001b[1mINFO    \u001b[0m | \u001b[36mautocare_tx_model.core.trainer.base_trainer\u001b[0m:\u001b[36msave_ckpt\u001b[0m:\u001b[36m302\u001b[0m - \u001b[1mSave weights to hubs/tx_model_mnist_detection/artifacts/train\u001b[0m\n",
      "\u001b[32m2023-05-03 13:30:40.876\u001b[0m | \u001b[1mINFO    \u001b[0m | \u001b[36mautocare_tx_model.core.trainer.det_trainer\u001b[0m:\u001b[36mbefore_epoch\u001b[0m:\u001b[36m143\u001b[0m - \u001b[1m---> start train epoch11\u001b[0m\n"
     ]
    },
    {
     "name": "stdout",
     "output_type": "stream",
     "text": [
      "Loading and preparing results...\n",
      "DONE (t=0.00s)\n",
      "creating index...\n",
      "index created!\n",
      "Evaluate annotation type *bbox*\n",
      "COCOeval_opt.evaluate() finished in 0.00 seconds.\n"
     ]
    },
    {
     "name": "stderr",
     "output_type": "stream",
     "text": [
      "\u001b[32m2023-05-03 13:30:41.116\u001b[0m | \u001b[1mINFO    \u001b[0m | \u001b[36mautocare_tx_model.core.trainer.det_trainer\u001b[0m:\u001b[36mtrain_one_iter\u001b[0m:\u001b[36m276\u001b[0m - \u001b[1mepoch 11 [1/5] - lr: 0.008812 train loss: 1.876652 reg_loss: 0.395753 obj_loss: 0.115975 cls_loss: 1.364924\u001b[0m\n",
      "\u001b[32m2023-05-03 13:30:41.260\u001b[0m | \u001b[1mINFO    \u001b[0m | \u001b[36mautocare_tx_model.core.trainer.det_trainer\u001b[0m:\u001b[36mevaluate_and_save_model\u001b[0m:\u001b[36m201\u001b[0m - \u001b[1mValidation start...\u001b[0m\n",
      "\u001b[32m2023-05-03 13:30:41.489\u001b[0m | \u001b[1mINFO    \u001b[0m | \u001b[36mautocare_tx_model.core.trainer.det_trainer\u001b[0m:\u001b[36mevaluate_and_save_model\u001b[0m:\u001b[36m212\u001b[0m - \u001b[1mEvaluate..\u001b[0m\n",
      "\u001b[32m2023-05-03 13:30:41.526\u001b[0m | \u001b[1mINFO    \u001b[0m | \u001b[36mautocare_tx_model.core.trainer.det_trainer\u001b[0m:\u001b[36mevaluate_and_save_model\u001b[0m:\u001b[36m227\u001b[0m - \u001b[1m\n",
      " Average Precision  (AP) @[ IoU=0.50:0.95 | area=   all | maxDets=100 ] = 0.000\n",
      " Average Precision  (AP) @[ IoU=0.50      | area=   all | maxDets=100 ] = 0.000\n",
      " Average Precision  (AP) @[ IoU=0.75      | area=   all | maxDets=100 ] = 0.000\n",
      " Average Precision  (AP) @[ IoU=0.50:0.95 | area= small | maxDets=100 ] = 0.000\n",
      " Average Precision  (AP) @[ IoU=0.50:0.95 | area=medium | maxDets=100 ] = 0.000\n",
      " Average Precision  (AP) @[ IoU=0.50:0.95 | area= large | maxDets=100 ] = -1.000\n",
      " Average Recall     (AR) @[ IoU=0.50:0.95 | area=   all | maxDets=  1 ] = 0.000\n",
      " Average Recall     (AR) @[ IoU=0.50:0.95 | area=   all | maxDets= 10 ] = 0.000\n",
      " Average Recall     (AR) @[ IoU=0.50:0.95 | area=   all | maxDets=100 ] = 0.000\n",
      " Average Recall     (AR) @[ IoU=0.50:0.95 | area= small | maxDets=100 ] = 0.000\n",
      " Average Recall     (AR) @[ IoU=0.50:0.95 | area=medium | maxDets=100 ] = 0.000\n",
      " Average Recall     (AR) @[ IoU=0.50:0.95 | area= large | maxDets=100 ] = -1.000\n",
      "\u001b[0m\n",
      "\u001b[32m2023-05-03 13:30:41.526\u001b[0m | \u001b[1mINFO    \u001b[0m | \u001b[36mautocare_tx_model.core.trainer.base_trainer\u001b[0m:\u001b[36msave_ckpt\u001b[0m:\u001b[36m302\u001b[0m - \u001b[1mSave weights to hubs/tx_model_mnist_detection/artifacts/train\u001b[0m\n",
      "\u001b[32m2023-05-03 13:30:41.577\u001b[0m | \u001b[1mINFO    \u001b[0m | \u001b[36mautocare_tx_model.core.trainer.det_trainer\u001b[0m:\u001b[36mbefore_epoch\u001b[0m:\u001b[36m143\u001b[0m - \u001b[1m---> start train epoch12\u001b[0m\n"
     ]
    },
    {
     "name": "stdout",
     "output_type": "stream",
     "text": [
      "Loading and preparing results...\n",
      "DONE (t=0.00s)\n",
      "creating index...\n",
      "index created!\n",
      "Evaluate annotation type *bbox*\n",
      "COCOeval_opt.evaluate() finished in 0.00 seconds.\n"
     ]
    },
    {
     "name": "stderr",
     "output_type": "stream",
     "text": [
      "\u001b[32m2023-05-03 13:30:41.825\u001b[0m | \u001b[1mINFO    \u001b[0m | \u001b[36mautocare_tx_model.core.trainer.det_trainer\u001b[0m:\u001b[36mtrain_one_iter\u001b[0m:\u001b[36m276\u001b[0m - \u001b[1mepoch 12 [1/5] - lr: 0.008602 train loss: 1.272865 reg_loss: 0.376073 obj_loss: 0.113510 cls_loss: 0.783283\u001b[0m\n",
      "\u001b[32m2023-05-03 13:30:41.969\u001b[0m | \u001b[1mINFO    \u001b[0m | \u001b[36mautocare_tx_model.core.trainer.det_trainer\u001b[0m:\u001b[36mevaluate_and_save_model\u001b[0m:\u001b[36m201\u001b[0m - \u001b[1mValidation start...\u001b[0m\n",
      "\u001b[32m2023-05-03 13:30:42.167\u001b[0m | \u001b[1mINFO    \u001b[0m | \u001b[36mautocare_tx_model.core.trainer.det_trainer\u001b[0m:\u001b[36mevaluate_and_save_model\u001b[0m:\u001b[36m212\u001b[0m - \u001b[1mEvaluate..\u001b[0m\n",
      "\u001b[32m2023-05-03 13:30:42.200\u001b[0m | \u001b[1mINFO    \u001b[0m | \u001b[36mautocare_tx_model.core.trainer.det_trainer\u001b[0m:\u001b[36mevaluate_and_save_model\u001b[0m:\u001b[36m227\u001b[0m - \u001b[1m\n",
      " Average Precision  (AP) @[ IoU=0.50:0.95 | area=   all | maxDets=100 ] = 0.000\n",
      " Average Precision  (AP) @[ IoU=0.50      | area=   all | maxDets=100 ] = 0.000\n",
      " Average Precision  (AP) @[ IoU=0.75      | area=   all | maxDets=100 ] = 0.000\n",
      " Average Precision  (AP) @[ IoU=0.50:0.95 | area= small | maxDets=100 ] = 0.000\n",
      " Average Precision  (AP) @[ IoU=0.50:0.95 | area=medium | maxDets=100 ] = 0.001\n",
      " Average Precision  (AP) @[ IoU=0.50:0.95 | area= large | maxDets=100 ] = -1.000\n",
      " Average Recall     (AR) @[ IoU=0.50:0.95 | area=   all | maxDets=  1 ] = 0.000\n",
      " Average Recall     (AR) @[ IoU=0.50:0.95 | area=   all | maxDets= 10 ] = 0.000\n",
      " Average Recall     (AR) @[ IoU=0.50:0.95 | area=   all | maxDets=100 ] = 0.021\n",
      " Average Recall     (AR) @[ IoU=0.50:0.95 | area= small | maxDets=100 ] = 0.000\n",
      " Average Recall     (AR) @[ IoU=0.50:0.95 | area=medium | maxDets=100 ] = 0.043\n",
      " Average Recall     (AR) @[ IoU=0.50:0.95 | area= large | maxDets=100 ] = -1.000\n",
      "\u001b[0m\n",
      "\u001b[32m2023-05-03 13:30:42.200\u001b[0m | \u001b[1mINFO    \u001b[0m | \u001b[36mautocare_tx_model.core.trainer.base_trainer\u001b[0m:\u001b[36msave_ckpt\u001b[0m:\u001b[36m302\u001b[0m - \u001b[1mSave weights to hubs/tx_model_mnist_detection/artifacts/train\u001b[0m\n",
      "\u001b[32m2023-05-03 13:30:42.275\u001b[0m | \u001b[1mINFO    \u001b[0m | \u001b[36mautocare_tx_model.core.trainer.det_trainer\u001b[0m:\u001b[36mbefore_epoch\u001b[0m:\u001b[36m143\u001b[0m - \u001b[1m---> start train epoch13\u001b[0m\n"
     ]
    },
    {
     "name": "stdout",
     "output_type": "stream",
     "text": [
      "Loading and preparing results...\n",
      "DONE (t=0.00s)\n",
      "creating index...\n",
      "index created!\n",
      "Evaluate annotation type *bbox*\n",
      "COCOeval_opt.evaluate() finished in 0.00 seconds.\n"
     ]
    },
    {
     "name": "stderr",
     "output_type": "stream",
     "text": [
      "\u001b[32m2023-05-03 13:30:42.514\u001b[0m | \u001b[1mINFO    \u001b[0m | \u001b[36mautocare_tx_model.core.trainer.det_trainer\u001b[0m:\u001b[36mtrain_one_iter\u001b[0m:\u001b[36m276\u001b[0m - \u001b[1mepoch 13 [1/5] - lr: 0.008377 train loss: 1.453691 reg_loss: 0.360330 obj_loss: 0.130844 cls_loss: 0.962517\u001b[0m\n",
      "\u001b[32m2023-05-03 13:30:42.656\u001b[0m | \u001b[1mINFO    \u001b[0m | \u001b[36mautocare_tx_model.core.trainer.det_trainer\u001b[0m:\u001b[36mevaluate_and_save_model\u001b[0m:\u001b[36m201\u001b[0m - \u001b[1mValidation start...\u001b[0m\n",
      "\u001b[32m2023-05-03 13:30:42.834\u001b[0m | \u001b[1mINFO    \u001b[0m | \u001b[36mautocare_tx_model.core.trainer.det_trainer\u001b[0m:\u001b[36mevaluate_and_save_model\u001b[0m:\u001b[36m212\u001b[0m - \u001b[1mEvaluate..\u001b[0m\n",
      "\u001b[32m2023-05-03 13:30:42.862\u001b[0m | \u001b[1mINFO    \u001b[0m | \u001b[36mautocare_tx_model.core.trainer.det_trainer\u001b[0m:\u001b[36mevaluate_and_save_model\u001b[0m:\u001b[36m227\u001b[0m - \u001b[1m\n",
      " Average Precision  (AP) @[ IoU=0.50:0.95 | area=   all | maxDets=100 ] = 0.000\n",
      " Average Precision  (AP) @[ IoU=0.50      | area=   all | maxDets=100 ] = 0.000\n",
      " Average Precision  (AP) @[ IoU=0.75      | area=   all | maxDets=100 ] = 0.000\n",
      " Average Precision  (AP) @[ IoU=0.50:0.95 | area= small | maxDets=100 ] = 0.000\n",
      " Average Precision  (AP) @[ IoU=0.50:0.95 | area=medium | maxDets=100 ] = 0.003\n",
      " Average Precision  (AP) @[ IoU=0.50:0.95 | area= large | maxDets=100 ] = -1.000\n",
      " Average Recall     (AR) @[ IoU=0.50:0.95 | area=   all | maxDets=  1 ] = 0.000\n",
      " Average Recall     (AR) @[ IoU=0.50:0.95 | area=   all | maxDets= 10 ] = 0.007\n",
      " Average Recall     (AR) @[ IoU=0.50:0.95 | area=   all | maxDets=100 ] = 0.029\n",
      " Average Recall     (AR) @[ IoU=0.50:0.95 | area= small | maxDets=100 ] = 0.000\n",
      " Average Recall     (AR) @[ IoU=0.50:0.95 | area=medium | maxDets=100 ] = 0.057\n",
      " Average Recall     (AR) @[ IoU=0.50:0.95 | area= large | maxDets=100 ] = -1.000\n",
      "\u001b[0m\n",
      "\u001b[32m2023-05-03 13:30:42.862\u001b[0m | \u001b[1mINFO    \u001b[0m | \u001b[36mautocare_tx_model.core.trainer.base_trainer\u001b[0m:\u001b[36msave_ckpt\u001b[0m:\u001b[36m302\u001b[0m - \u001b[1mSave weights to hubs/tx_model_mnist_detection/artifacts/train\u001b[0m\n",
      "\u001b[32m2023-05-03 13:30:42.939\u001b[0m | \u001b[1mINFO    \u001b[0m | \u001b[36mautocare_tx_model.core.trainer.det_trainer\u001b[0m:\u001b[36mbefore_epoch\u001b[0m:\u001b[36m143\u001b[0m - \u001b[1m---> start train epoch14\u001b[0m\n"
     ]
    },
    {
     "name": "stdout",
     "output_type": "stream",
     "text": [
      "Loading and preparing results...\n",
      "DONE (t=0.00s)\n",
      "creating index...\n",
      "index created!\n",
      "Evaluate annotation type *bbox*\n",
      "COCOeval_opt.evaluate() finished in 0.00 seconds.\n"
     ]
    },
    {
     "name": "stderr",
     "output_type": "stream",
     "text": [
      "\u001b[32m2023-05-03 13:30:43.178\u001b[0m | \u001b[1mINFO    \u001b[0m | \u001b[36mautocare_tx_model.core.trainer.det_trainer\u001b[0m:\u001b[36mtrain_one_iter\u001b[0m:\u001b[36m276\u001b[0m - \u001b[1mepoch 14 [1/5] - lr: 0.008138 train loss: 1.602840 reg_loss: 0.359602 obj_loss: 0.124560 cls_loss: 1.118678\u001b[0m\n",
      "\u001b[32m2023-05-03 13:30:43.320\u001b[0m | \u001b[1mINFO    \u001b[0m | \u001b[36mautocare_tx_model.core.trainer.det_trainer\u001b[0m:\u001b[36mevaluate_and_save_model\u001b[0m:\u001b[36m201\u001b[0m - \u001b[1mValidation start...\u001b[0m\n",
      "\u001b[32m2023-05-03 13:30:43.500\u001b[0m | \u001b[1mINFO    \u001b[0m | \u001b[36mautocare_tx_model.core.trainer.det_trainer\u001b[0m:\u001b[36mevaluate_and_save_model\u001b[0m:\u001b[36m212\u001b[0m - \u001b[1mEvaluate..\u001b[0m\n",
      "\u001b[32m2023-05-03 13:30:43.527\u001b[0m | \u001b[1mINFO    \u001b[0m | \u001b[36mautocare_tx_model.core.trainer.det_trainer\u001b[0m:\u001b[36mevaluate_and_save_model\u001b[0m:\u001b[36m227\u001b[0m - \u001b[1m\n",
      " Average Precision  (AP) @[ IoU=0.50:0.95 | area=   all | maxDets=100 ] = 0.017\n",
      " Average Precision  (AP) @[ IoU=0.50      | area=   all | maxDets=100 ] = 0.168\n",
      " Average Precision  (AP) @[ IoU=0.75      | area=   all | maxDets=100 ] = 0.000\n",
      " Average Precision  (AP) @[ IoU=0.50:0.95 | area= small | maxDets=100 ] = 0.034\n",
      " Average Precision  (AP) @[ IoU=0.50:0.95 | area=medium | maxDets=100 ] = 0.001\n",
      " Average Precision  (AP) @[ IoU=0.50:0.95 | area= large | maxDets=100 ] = -1.000\n",
      " Average Recall     (AR) @[ IoU=0.50:0.95 | area=   all | maxDets=  1 ] = 0.017\n",
      " Average Recall     (AR) @[ IoU=0.50:0.95 | area=   all | maxDets= 10 ] = 0.017\n",
      " Average Recall     (AR) @[ IoU=0.50:0.95 | area=   all | maxDets=100 ] = 0.031\n",
      " Average Recall     (AR) @[ IoU=0.50:0.95 | area= small | maxDets=100 ] = 0.033\n",
      " Average Recall     (AR) @[ IoU=0.50:0.95 | area=medium | maxDets=100 ] = 0.029\n",
      " Average Recall     (AR) @[ IoU=0.50:0.95 | area= large | maxDets=100 ] = -1.000\n",
      "\u001b[0m\n",
      "\u001b[32m2023-05-03 13:30:43.528\u001b[0m | \u001b[1mINFO    \u001b[0m | \u001b[36mautocare_tx_model.core.trainer.base_trainer\u001b[0m:\u001b[36msave_ckpt\u001b[0m:\u001b[36m302\u001b[0m - \u001b[1mSave weights to hubs/tx_model_mnist_detection/artifacts/train\u001b[0m\n",
      "\u001b[32m2023-05-03 13:30:43.603\u001b[0m | \u001b[1mINFO    \u001b[0m | \u001b[36mautocare_tx_model.core.trainer.det_trainer\u001b[0m:\u001b[36mbefore_epoch\u001b[0m:\u001b[36m143\u001b[0m - \u001b[1m---> start train epoch15\u001b[0m\n"
     ]
    },
    {
     "name": "stdout",
     "output_type": "stream",
     "text": [
      "Loading and preparing results...\n",
      "DONE (t=0.00s)\n",
      "creating index...\n",
      "index created!\n",
      "Evaluate annotation type *bbox*\n",
      "COCOeval_opt.evaluate() finished in 0.00 seconds.\n"
     ]
    },
    {
     "name": "stderr",
     "output_type": "stream",
     "text": [
      "\u001b[32m2023-05-03 13:30:43.841\u001b[0m | \u001b[1mINFO    \u001b[0m | \u001b[36mautocare_tx_model.core.trainer.det_trainer\u001b[0m:\u001b[36mtrain_one_iter\u001b[0m:\u001b[36m276\u001b[0m - \u001b[1mepoch 15 [1/5] - lr: 0.007888 train loss: 1.948870 reg_loss: 0.385194 obj_loss: 0.115228 cls_loss: 1.448448\u001b[0m\n",
      "\u001b[32m2023-05-03 13:30:43.984\u001b[0m | \u001b[1mINFO    \u001b[0m | \u001b[36mautocare_tx_model.core.trainer.det_trainer\u001b[0m:\u001b[36mevaluate_and_save_model\u001b[0m:\u001b[36m201\u001b[0m - \u001b[1mValidation start...\u001b[0m\n",
      "\u001b[32m2023-05-03 13:30:44.161\u001b[0m | \u001b[1mINFO    \u001b[0m | \u001b[36mautocare_tx_model.core.trainer.det_trainer\u001b[0m:\u001b[36mevaluate_and_save_model\u001b[0m:\u001b[36m212\u001b[0m - \u001b[1mEvaluate..\u001b[0m\n",
      "\u001b[32m2023-05-03 13:30:44.183\u001b[0m | \u001b[1mINFO    \u001b[0m | \u001b[36mautocare_tx_model.core.trainer.det_trainer\u001b[0m:\u001b[36mevaluate_and_save_model\u001b[0m:\u001b[36m227\u001b[0m - \u001b[1m\n",
      " Average Precision  (AP) @[ IoU=0.50:0.95 | area=   all | maxDets=100 ] = 0.001\n",
      " Average Precision  (AP) @[ IoU=0.50      | area=   all | maxDets=100 ] = 0.004\n",
      " Average Precision  (AP) @[ IoU=0.75      | area=   all | maxDets=100 ] = 0.000\n",
      " Average Precision  (AP) @[ IoU=0.50:0.95 | area= small | maxDets=100 ] = 0.000\n",
      " Average Precision  (AP) @[ IoU=0.50:0.95 | area=medium | maxDets=100 ] = 0.025\n",
      " Average Precision  (AP) @[ IoU=0.50:0.95 | area= large | maxDets=100 ] = -1.000\n",
      " Average Recall     (AR) @[ IoU=0.50:0.95 | area=   all | maxDets=  1 ] = 0.000\n",
      " Average Recall     (AR) @[ IoU=0.50:0.95 | area=   all | maxDets= 10 ] = 0.086\n",
      " Average Recall     (AR) @[ IoU=0.50:0.95 | area=   all | maxDets=100 ] = 0.129\n",
      " Average Recall     (AR) @[ IoU=0.50:0.95 | area= small | maxDets=100 ] = 0.000\n",
      " Average Recall     (AR) @[ IoU=0.50:0.95 | area=medium | maxDets=100 ] = 0.257\n",
      " Average Recall     (AR) @[ IoU=0.50:0.95 | area= large | maxDets=100 ] = -1.000\n",
      "\u001b[0m\n",
      "\u001b[32m2023-05-03 13:30:44.184\u001b[0m | \u001b[1mINFO    \u001b[0m | \u001b[36mautocare_tx_model.core.trainer.base_trainer\u001b[0m:\u001b[36msave_ckpt\u001b[0m:\u001b[36m302\u001b[0m - \u001b[1mSave weights to hubs/tx_model_mnist_detection/artifacts/train\u001b[0m\n",
      "\u001b[32m2023-05-03 13:30:44.234\u001b[0m | \u001b[1mINFO    \u001b[0m | \u001b[36mautocare_tx_model.core.trainer.det_trainer\u001b[0m:\u001b[36mbefore_epoch\u001b[0m:\u001b[36m143\u001b[0m - \u001b[1m---> start train epoch16\u001b[0m\n"
     ]
    },
    {
     "name": "stdout",
     "output_type": "stream",
     "text": [
      "Loading and preparing results...\n",
      "DONE (t=0.00s)\n",
      "creating index...\n",
      "index created!\n",
      "Evaluate annotation type *bbox*\n",
      "COCOeval_opt.evaluate() finished in 0.00 seconds.\n"
     ]
    },
    {
     "name": "stderr",
     "output_type": "stream",
     "text": [
      "\u001b[32m2023-05-03 13:30:44.473\u001b[0m | \u001b[1mINFO    \u001b[0m | \u001b[36mautocare_tx_model.core.trainer.det_trainer\u001b[0m:\u001b[36mtrain_one_iter\u001b[0m:\u001b[36m276\u001b[0m - \u001b[1mepoch 16 [1/5] - lr: 0.007626 train loss: 1.475740 reg_loss: 0.351324 obj_loss: 0.126045 cls_loss: 0.998371\u001b[0m\n",
      "\u001b[32m2023-05-03 13:30:44.616\u001b[0m | \u001b[1mINFO    \u001b[0m | \u001b[36mautocare_tx_model.core.trainer.det_trainer\u001b[0m:\u001b[36mevaluate_and_save_model\u001b[0m:\u001b[36m201\u001b[0m - \u001b[1mValidation start...\u001b[0m\n",
      "\u001b[32m2023-05-03 13:30:44.792\u001b[0m | \u001b[1mINFO    \u001b[0m | \u001b[36mautocare_tx_model.core.trainer.det_trainer\u001b[0m:\u001b[36mevaluate_and_save_model\u001b[0m:\u001b[36m212\u001b[0m - \u001b[1mEvaluate..\u001b[0m\n",
      "\u001b[32m2023-05-03 13:30:44.805\u001b[0m | \u001b[1mINFO    \u001b[0m | \u001b[36mautocare_tx_model.core.trainer.det_trainer\u001b[0m:\u001b[36mevaluate_and_save_model\u001b[0m:\u001b[36m227\u001b[0m - \u001b[1m\n",
      " Average Precision  (AP) @[ IoU=0.50:0.95 | area=   all | maxDets=100 ] = 0.017\n",
      " Average Precision  (AP) @[ IoU=0.50      | area=   all | maxDets=100 ] = 0.088\n",
      " Average Precision  (AP) @[ IoU=0.75      | area=   all | maxDets=100 ] = 0.000\n",
      " Average Precision  (AP) @[ IoU=0.50:0.95 | area= small | maxDets=100 ] = 0.000\n",
      " Average Precision  (AP) @[ IoU=0.50:0.95 | area=medium | maxDets=100 ] = 0.035\n",
      " Average Precision  (AP) @[ IoU=0.50:0.95 | area= large | maxDets=100 ] = -1.000\n",
      " Average Recall     (AR) @[ IoU=0.50:0.95 | area=   all | maxDets=  1 ] = 0.029\n",
      " Average Recall     (AR) @[ IoU=0.50:0.95 | area=   all | maxDets= 10 ] = 0.050\n",
      " Average Recall     (AR) @[ IoU=0.50:0.95 | area=   all | maxDets=100 ] = 0.057\n",
      " Average Recall     (AR) @[ IoU=0.50:0.95 | area= small | maxDets=100 ] = 0.000\n",
      " Average Recall     (AR) @[ IoU=0.50:0.95 | area=medium | maxDets=100 ] = 0.114\n",
      " Average Recall     (AR) @[ IoU=0.50:0.95 | area= large | maxDets=100 ] = -1.000\n",
      "\u001b[0m\n",
      "\u001b[32m2023-05-03 13:30:44.805\u001b[0m | \u001b[1mINFO    \u001b[0m | \u001b[36mautocare_tx_model.core.trainer.base_trainer\u001b[0m:\u001b[36msave_ckpt\u001b[0m:\u001b[36m302\u001b[0m - \u001b[1mSave weights to hubs/tx_model_mnist_detection/artifacts/train\u001b[0m\n",
      "\u001b[32m2023-05-03 13:30:44.883\u001b[0m | \u001b[1mINFO    \u001b[0m | \u001b[36mautocare_tx_model.core.trainer.det_trainer\u001b[0m:\u001b[36mbefore_epoch\u001b[0m:\u001b[36m143\u001b[0m - \u001b[1m---> start train epoch17\u001b[0m\n"
     ]
    },
    {
     "name": "stdout",
     "output_type": "stream",
     "text": [
      "Loading and preparing results...\n",
      "DONE (t=0.00s)\n",
      "creating index...\n",
      "index created!\n",
      "Evaluate annotation type *bbox*\n",
      "COCOeval_opt.evaluate() finished in 0.00 seconds.\n"
     ]
    },
    {
     "name": "stderr",
     "output_type": "stream",
     "text": [
      "\u001b[32m2023-05-03 13:30:45.124\u001b[0m | \u001b[1mINFO    \u001b[0m | \u001b[36mautocare_tx_model.core.trainer.det_trainer\u001b[0m:\u001b[36mtrain_one_iter\u001b[0m:\u001b[36m276\u001b[0m - \u001b[1mepoch 17 [1/5] - lr: 0.007354 train loss: 1.408423 reg_loss: 0.337550 obj_loss: 0.130415 cls_loss: 0.940458\u001b[0m\n",
      "\u001b[32m2023-05-03 13:30:45.270\u001b[0m | \u001b[1mINFO    \u001b[0m | \u001b[36mautocare_tx_model.core.trainer.det_trainer\u001b[0m:\u001b[36mevaluate_and_save_model\u001b[0m:\u001b[36m201\u001b[0m - \u001b[1mValidation start...\u001b[0m\n",
      "\u001b[32m2023-05-03 13:30:45.446\u001b[0m | \u001b[1mINFO    \u001b[0m | \u001b[36mautocare_tx_model.core.trainer.det_trainer\u001b[0m:\u001b[36mevaluate_and_save_model\u001b[0m:\u001b[36m212\u001b[0m - \u001b[1mEvaluate..\u001b[0m\n",
      "\u001b[32m2023-05-03 13:30:45.450\u001b[0m | \u001b[1mINFO    \u001b[0m | \u001b[36mautocare_tx_model.core.trainer.det_trainer\u001b[0m:\u001b[36mevaluate_and_save_model\u001b[0m:\u001b[36m227\u001b[0m - \u001b[1m\n",
      " Average Precision  (AP) @[ IoU=0.50:0.95 | area=   all | maxDets=100 ] = 0.000\n",
      " Average Precision  (AP) @[ IoU=0.50      | area=   all | maxDets=100 ] = 0.000\n",
      " Average Precision  (AP) @[ IoU=0.75      | area=   all | maxDets=100 ] = 0.000\n",
      " Average Precision  (AP) @[ IoU=0.50:0.95 | area= small | maxDets=100 ] = 0.000\n",
      " Average Precision  (AP) @[ IoU=0.50:0.95 | area=medium | maxDets=100 ] = 0.000\n",
      " Average Precision  (AP) @[ IoU=0.50:0.95 | area= large | maxDets=100 ] = -1.000\n",
      " Average Recall     (AR) @[ IoU=0.50:0.95 | area=   all | maxDets=  1 ] = 0.000\n",
      " Average Recall     (AR) @[ IoU=0.50:0.95 | area=   all | maxDets= 10 ] = 0.000\n",
      " Average Recall     (AR) @[ IoU=0.50:0.95 | area=   all | maxDets=100 ] = 0.000\n",
      " Average Recall     (AR) @[ IoU=0.50:0.95 | area= small | maxDets=100 ] = 0.000\n",
      " Average Recall     (AR) @[ IoU=0.50:0.95 | area=medium | maxDets=100 ] = 0.000\n",
      " Average Recall     (AR) @[ IoU=0.50:0.95 | area= large | maxDets=100 ] = -1.000\n",
      "\u001b[0m\n",
      "\u001b[32m2023-05-03 13:30:45.451\u001b[0m | \u001b[1mINFO    \u001b[0m | \u001b[36mautocare_tx_model.core.trainer.base_trainer\u001b[0m:\u001b[36msave_ckpt\u001b[0m:\u001b[36m302\u001b[0m - \u001b[1mSave weights to hubs/tx_model_mnist_detection/artifacts/train\u001b[0m\n",
      "\u001b[32m2023-05-03 13:30:45.502\u001b[0m | \u001b[1mINFO    \u001b[0m | \u001b[36mautocare_tx_model.core.trainer.det_trainer\u001b[0m:\u001b[36mbefore_epoch\u001b[0m:\u001b[36m143\u001b[0m - \u001b[1m---> start train epoch18\u001b[0m\n"
     ]
    },
    {
     "name": "stdout",
     "output_type": "stream",
     "text": [
      "Loading and preparing results...\n",
      "DONE (t=0.00s)\n",
      "creating index...\n",
      "index created!\n",
      "Evaluate annotation type *bbox*\n",
      "COCOeval_opt.evaluate() finished in 0.00 seconds.\n"
     ]
    },
    {
     "name": "stderr",
     "output_type": "stream",
     "text": [
      "\u001b[32m2023-05-03 13:30:45.745\u001b[0m | \u001b[1mINFO    \u001b[0m | \u001b[36mautocare_tx_model.core.trainer.det_trainer\u001b[0m:\u001b[36mtrain_one_iter\u001b[0m:\u001b[36m276\u001b[0m - \u001b[1mepoch 18 [1/5] - lr: 0.007072 train loss: 1.212992 reg_loss: 0.350253 obj_loss: 0.113476 cls_loss: 0.749263\u001b[0m\n",
      "\u001b[32m2023-05-03 13:30:45.890\u001b[0m | \u001b[1mINFO    \u001b[0m | \u001b[36mautocare_tx_model.core.trainer.det_trainer\u001b[0m:\u001b[36mevaluate_and_save_model\u001b[0m:\u001b[36m201\u001b[0m - \u001b[1mValidation start...\u001b[0m\n",
      "\u001b[32m2023-05-03 13:30:46.067\u001b[0m | \u001b[1mINFO    \u001b[0m | \u001b[36mautocare_tx_model.core.trainer.det_trainer\u001b[0m:\u001b[36mevaluate_and_save_model\u001b[0m:\u001b[36m212\u001b[0m - \u001b[1mEvaluate..\u001b[0m\n",
      "\u001b[32m2023-05-03 13:30:46.071\u001b[0m | \u001b[1mINFO    \u001b[0m | \u001b[36mautocare_tx_model.core.trainer.det_trainer\u001b[0m:\u001b[36mevaluate_and_save_model\u001b[0m:\u001b[36m227\u001b[0m - \u001b[1m\n",
      " Average Precision  (AP) @[ IoU=0.50:0.95 | area=   all | maxDets=100 ] = 0.022\n",
      " Average Precision  (AP) @[ IoU=0.50      | area=   all | maxDets=100 ] = 0.074\n",
      " Average Precision  (AP) @[ IoU=0.75      | area=   all | maxDets=100 ] = 0.000\n",
      " Average Precision  (AP) @[ IoU=0.50:0.95 | area= small | maxDets=100 ] = 0.000\n",
      " Average Precision  (AP) @[ IoU=0.50:0.95 | area=medium | maxDets=100 ] = 0.045\n",
      " Average Precision  (AP) @[ IoU=0.50:0.95 | area= large | maxDets=100 ] = -1.000\n",
      " Average Recall     (AR) @[ IoU=0.50:0.95 | area=   all | maxDets=  1 ] = 0.014\n",
      " Average Recall     (AR) @[ IoU=0.50:0.95 | area=   all | maxDets= 10 ] = 0.029\n",
      " Average Recall     (AR) @[ IoU=0.50:0.95 | area=   all | maxDets=100 ] = 0.029\n",
      " Average Recall     (AR) @[ IoU=0.50:0.95 | area= small | maxDets=100 ] = 0.000\n",
      " Average Recall     (AR) @[ IoU=0.50:0.95 | area=medium | maxDets=100 ] = 0.057\n",
      " Average Recall     (AR) @[ IoU=0.50:0.95 | area= large | maxDets=100 ] = -1.000\n",
      "\u001b[0m\n",
      "\u001b[32m2023-05-03 13:30:46.071\u001b[0m | \u001b[1mINFO    \u001b[0m | \u001b[36mautocare_tx_model.core.trainer.base_trainer\u001b[0m:\u001b[36msave_ckpt\u001b[0m:\u001b[36m302\u001b[0m - \u001b[1mSave weights to hubs/tx_model_mnist_detection/artifacts/train\u001b[0m\n",
      "\u001b[32m2023-05-03 13:30:46.147\u001b[0m | \u001b[1mINFO    \u001b[0m | \u001b[36mautocare_tx_model.core.trainer.det_trainer\u001b[0m:\u001b[36mbefore_epoch\u001b[0m:\u001b[36m143\u001b[0m - \u001b[1m---> start train epoch19\u001b[0m\n"
     ]
    },
    {
     "name": "stdout",
     "output_type": "stream",
     "text": [
      "Loading and preparing results...\n",
      "DONE (t=0.00s)\n",
      "creating index...\n",
      "index created!\n",
      "Evaluate annotation type *bbox*\n",
      "COCOeval_opt.evaluate() finished in 0.00 seconds.\n"
     ]
    },
    {
     "name": "stderr",
     "output_type": "stream",
     "text": [
      "\u001b[32m2023-05-03 13:30:46.395\u001b[0m | \u001b[1mINFO    \u001b[0m | \u001b[36mautocare_tx_model.core.trainer.det_trainer\u001b[0m:\u001b[36mtrain_one_iter\u001b[0m:\u001b[36m276\u001b[0m - \u001b[1mepoch 19 [1/5] - lr: 0.006782 train loss: 1.066566 reg_loss: 0.337678 obj_loss: 0.110229 cls_loss: 0.618660\u001b[0m\n",
      "\u001b[32m2023-05-03 13:30:46.540\u001b[0m | \u001b[1mINFO    \u001b[0m | \u001b[36mautocare_tx_model.core.trainer.det_trainer\u001b[0m:\u001b[36mevaluate_and_save_model\u001b[0m:\u001b[36m201\u001b[0m - \u001b[1mValidation start...\u001b[0m\n",
      "\u001b[32m2023-05-03 13:30:46.715\u001b[0m | \u001b[1mINFO    \u001b[0m | \u001b[36mautocare_tx_model.core.trainer.det_trainer\u001b[0m:\u001b[36mevaluate_and_save_model\u001b[0m:\u001b[36m212\u001b[0m - \u001b[1mEvaluate..\u001b[0m\n",
      "\u001b[32m2023-05-03 13:30:46.720\u001b[0m | \u001b[1mINFO    \u001b[0m | \u001b[36mautocare_tx_model.core.trainer.det_trainer\u001b[0m:\u001b[36mevaluate_and_save_model\u001b[0m:\u001b[36m227\u001b[0m - \u001b[1m\n",
      " Average Precision  (AP) @[ IoU=0.50:0.95 | area=   all | maxDets=100 ] = 0.018\n",
      " Average Precision  (AP) @[ IoU=0.50      | area=   all | maxDets=100 ] = 0.119\n",
      " Average Precision  (AP) @[ IoU=0.75      | area=   all | maxDets=100 ] = 0.000\n",
      " Average Precision  (AP) @[ IoU=0.50:0.95 | area= small | maxDets=100 ] = 0.000\n",
      " Average Precision  (AP) @[ IoU=0.50:0.95 | area=medium | maxDets=100 ] = 0.036\n",
      " Average Precision  (AP) @[ IoU=0.50:0.95 | area= large | maxDets=100 ] = -1.000\n",
      " Average Recall     (AR) @[ IoU=0.50:0.95 | area=   all | maxDets=  1 ] = 0.021\n",
      " Average Recall     (AR) @[ IoU=0.50:0.95 | area=   all | maxDets= 10 ] = 0.071\n",
      " Average Recall     (AR) @[ IoU=0.50:0.95 | area=   all | maxDets=100 ] = 0.071\n",
      " Average Recall     (AR) @[ IoU=0.50:0.95 | area= small | maxDets=100 ] = 0.000\n",
      " Average Recall     (AR) @[ IoU=0.50:0.95 | area=medium | maxDets=100 ] = 0.143\n",
      " Average Recall     (AR) @[ IoU=0.50:0.95 | area= large | maxDets=100 ] = -1.000\n",
      "\u001b[0m\n",
      "\u001b[32m2023-05-03 13:30:46.720\u001b[0m | \u001b[1mINFO    \u001b[0m | \u001b[36mautocare_tx_model.core.trainer.base_trainer\u001b[0m:\u001b[36msave_ckpt\u001b[0m:\u001b[36m302\u001b[0m - \u001b[1mSave weights to hubs/tx_model_mnist_detection/artifacts/train\u001b[0m\n",
      "\u001b[32m2023-05-03 13:30:46.771\u001b[0m | \u001b[1mINFO    \u001b[0m | \u001b[36mautocare_tx_model.core.trainer.det_trainer\u001b[0m:\u001b[36mbefore_epoch\u001b[0m:\u001b[36m143\u001b[0m - \u001b[1m---> start train epoch20\u001b[0m\n"
     ]
    },
    {
     "name": "stdout",
     "output_type": "stream",
     "text": [
      "Loading and preparing results...\n",
      "DONE (t=0.00s)\n",
      "creating index...\n",
      "index created!\n",
      "Evaluate annotation type *bbox*\n",
      "COCOeval_opt.evaluate() finished in 0.00 seconds.\n"
     ]
    },
    {
     "name": "stderr",
     "output_type": "stream",
     "text": [
      "\u001b[32m2023-05-03 13:30:47.012\u001b[0m | \u001b[1mINFO    \u001b[0m | \u001b[36mautocare_tx_model.core.trainer.det_trainer\u001b[0m:\u001b[36mtrain_one_iter\u001b[0m:\u001b[36m276\u001b[0m - \u001b[1mepoch 20 [1/5] - lr: 0.006485 train loss: 1.382436 reg_loss: 0.341666 obj_loss: 0.118334 cls_loss: 0.922435\u001b[0m\n",
      "\u001b[32m2023-05-03 13:30:47.154\u001b[0m | \u001b[1mINFO    \u001b[0m | \u001b[36mautocare_tx_model.core.trainer.det_trainer\u001b[0m:\u001b[36mevaluate_and_save_model\u001b[0m:\u001b[36m201\u001b[0m - \u001b[1mValidation start...\u001b[0m\n",
      "\u001b[32m2023-05-03 13:30:47.333\u001b[0m | \u001b[1mINFO    \u001b[0m | \u001b[36mautocare_tx_model.core.trainer.det_trainer\u001b[0m:\u001b[36mevaluate_and_save_model\u001b[0m:\u001b[36m212\u001b[0m - \u001b[1mEvaluate..\u001b[0m\n",
      "\u001b[32m2023-05-03 13:30:47.339\u001b[0m | \u001b[1mINFO    \u001b[0m | \u001b[36mautocare_tx_model.core.trainer.det_trainer\u001b[0m:\u001b[36mevaluate_and_save_model\u001b[0m:\u001b[36m227\u001b[0m - \u001b[1m\n",
      " Average Precision  (AP) @[ IoU=0.50:0.95 | area=   all | maxDets=100 ] = 0.046\n",
      " Average Precision  (AP) @[ IoU=0.50      | area=   all | maxDets=100 ] = 0.188\n",
      " Average Precision  (AP) @[ IoU=0.75      | area=   all | maxDets=100 ] = 0.003\n",
      " Average Precision  (AP) @[ IoU=0.50:0.95 | area= small | maxDets=100 ] = 0.000\n",
      " Average Precision  (AP) @[ IoU=0.50:0.95 | area=medium | maxDets=100 ] = 0.092\n",
      " Average Precision  (AP) @[ IoU=0.50:0.95 | area= large | maxDets=100 ] = -1.000\n",
      " Average Recall     (AR) @[ IoU=0.50:0.95 | area=   all | maxDets=  1 ] = 0.029\n",
      " Average Recall     (AR) @[ IoU=0.50:0.95 | area=   all | maxDets= 10 ] = 0.200\n",
      " Average Recall     (AR) @[ IoU=0.50:0.95 | area=   all | maxDets=100 ] = 0.236\n",
      " Average Recall     (AR) @[ IoU=0.50:0.95 | area= small | maxDets=100 ] = 0.000\n",
      " Average Recall     (AR) @[ IoU=0.50:0.95 | area=medium | maxDets=100 ] = 0.471\n",
      " Average Recall     (AR) @[ IoU=0.50:0.95 | area= large | maxDets=100 ] = -1.000\n",
      "\u001b[0m\n",
      "\u001b[32m2023-05-03 13:30:47.339\u001b[0m | \u001b[1mINFO    \u001b[0m | \u001b[36mautocare_tx_model.core.trainer.base_trainer\u001b[0m:\u001b[36msave_ckpt\u001b[0m:\u001b[36m302\u001b[0m - \u001b[1mSave weights to hubs/tx_model_mnist_detection/artifacts/train\u001b[0m\n",
      "\u001b[32m2023-05-03 13:30:47.416\u001b[0m | \u001b[1mINFO    \u001b[0m | \u001b[36mautocare_tx_model.core.trainer.det_trainer\u001b[0m:\u001b[36mbefore_epoch\u001b[0m:\u001b[36m143\u001b[0m - \u001b[1m---> start train epoch21\u001b[0m\n"
     ]
    },
    {
     "name": "stdout",
     "output_type": "stream",
     "text": [
      "Loading and preparing results...\n",
      "DONE (t=0.00s)\n",
      "creating index...\n",
      "index created!\n",
      "Evaluate annotation type *bbox*\n",
      "COCOeval_opt.evaluate() finished in 0.00 seconds.\n"
     ]
    },
    {
     "name": "stderr",
     "output_type": "stream",
     "text": [
      "\u001b[32m2023-05-03 13:30:47.652\u001b[0m | \u001b[1mINFO    \u001b[0m | \u001b[36mautocare_tx_model.core.trainer.det_trainer\u001b[0m:\u001b[36mtrain_one_iter\u001b[0m:\u001b[36m276\u001b[0m - \u001b[1mepoch 21 [1/5] - lr: 0.006182 train loss: 1.331800 reg_loss: 0.340527 obj_loss: 0.124111 cls_loss: 0.867162\u001b[0m\n",
      "\u001b[32m2023-05-03 13:30:47.794\u001b[0m | \u001b[1mINFO    \u001b[0m | \u001b[36mautocare_tx_model.core.trainer.det_trainer\u001b[0m:\u001b[36mevaluate_and_save_model\u001b[0m:\u001b[36m201\u001b[0m - \u001b[1mValidation start...\u001b[0m\n",
      "\u001b[32m2023-05-03 13:30:47.971\u001b[0m | \u001b[1mINFO    \u001b[0m | \u001b[36mautocare_tx_model.core.trainer.det_trainer\u001b[0m:\u001b[36mevaluate_and_save_model\u001b[0m:\u001b[36m212\u001b[0m - \u001b[1mEvaluate..\u001b[0m\n",
      "\u001b[32m2023-05-03 13:30:47.976\u001b[0m | \u001b[1mINFO    \u001b[0m | \u001b[36mautocare_tx_model.core.trainer.det_trainer\u001b[0m:\u001b[36mevaluate_and_save_model\u001b[0m:\u001b[36m227\u001b[0m - \u001b[1m\n",
      " Average Precision  (AP) @[ IoU=0.50:0.95 | area=   all | maxDets=100 ] = 0.035\n",
      " Average Precision  (AP) @[ IoU=0.50      | area=   all | maxDets=100 ] = 0.272\n",
      " Average Precision  (AP) @[ IoU=0.75      | area=   all | maxDets=100 ] = 0.000\n",
      " Average Precision  (AP) @[ IoU=0.50:0.95 | area= small | maxDets=100 ] = 0.000\n",
      " Average Precision  (AP) @[ IoU=0.50:0.95 | area=medium | maxDets=100 ] = 0.069\n",
      " Average Precision  (AP) @[ IoU=0.50:0.95 | area= large | maxDets=100 ] = -1.000\n",
      " Average Recall     (AR) @[ IoU=0.50:0.95 | area=   all | maxDets=  1 ] = 0.050\n",
      " Average Recall     (AR) @[ IoU=0.50:0.95 | area=   all | maxDets= 10 ] = 0.050\n",
      " Average Recall     (AR) @[ IoU=0.50:0.95 | area=   all | maxDets=100 ] = 0.050\n",
      " Average Recall     (AR) @[ IoU=0.50:0.95 | area= small | maxDets=100 ] = 0.000\n",
      " Average Recall     (AR) @[ IoU=0.50:0.95 | area=medium | maxDets=100 ] = 0.100\n",
      " Average Recall     (AR) @[ IoU=0.50:0.95 | area= large | maxDets=100 ] = -1.000\n",
      "\u001b[0m\n",
      "\u001b[32m2023-05-03 13:30:47.976\u001b[0m | \u001b[1mINFO    \u001b[0m | \u001b[36mautocare_tx_model.core.trainer.base_trainer\u001b[0m:\u001b[36msave_ckpt\u001b[0m:\u001b[36m302\u001b[0m - \u001b[1mSave weights to hubs/tx_model_mnist_detection/artifacts/train\u001b[0m\n",
      "\u001b[32m2023-05-03 13:30:48.027\u001b[0m | \u001b[1mINFO    \u001b[0m | \u001b[36mautocare_tx_model.core.trainer.det_trainer\u001b[0m:\u001b[36mbefore_epoch\u001b[0m:\u001b[36m143\u001b[0m - \u001b[1m---> start train epoch22\u001b[0m\n"
     ]
    },
    {
     "name": "stdout",
     "output_type": "stream",
     "text": [
      "Loading and preparing results...\n",
      "DONE (t=0.00s)\n",
      "creating index...\n",
      "index created!\n",
      "Evaluate annotation type *bbox*\n",
      "COCOeval_opt.evaluate() finished in 0.00 seconds.\n"
     ]
    },
    {
     "name": "stderr",
     "output_type": "stream",
     "text": [
      "\u001b[32m2023-05-03 13:30:48.268\u001b[0m | \u001b[1mINFO    \u001b[0m | \u001b[36mautocare_tx_model.core.trainer.det_trainer\u001b[0m:\u001b[36mtrain_one_iter\u001b[0m:\u001b[36m276\u001b[0m - \u001b[1mepoch 22 [1/5] - lr: 0.005875 train loss: 7.322730 reg_loss: 0.350574 obj_loss: 0.108606 cls_loss: 6.863550\u001b[0m\n",
      "\u001b[32m2023-05-03 13:30:48.410\u001b[0m | \u001b[1mINFO    \u001b[0m | \u001b[36mautocare_tx_model.core.trainer.det_trainer\u001b[0m:\u001b[36mevaluate_and_save_model\u001b[0m:\u001b[36m201\u001b[0m - \u001b[1mValidation start...\u001b[0m\n",
      "\u001b[32m2023-05-03 13:30:48.589\u001b[0m | \u001b[1mINFO    \u001b[0m | \u001b[36mautocare_tx_model.core.trainer.det_trainer\u001b[0m:\u001b[36mevaluate_and_save_model\u001b[0m:\u001b[36m212\u001b[0m - \u001b[1mEvaluate..\u001b[0m\n",
      "\u001b[32m2023-05-03 13:30:48.600\u001b[0m | \u001b[1mINFO    \u001b[0m | \u001b[36mautocare_tx_model.core.trainer.det_trainer\u001b[0m:\u001b[36mevaluate_and_save_model\u001b[0m:\u001b[36m227\u001b[0m - \u001b[1m\n",
      " Average Precision  (AP) @[ IoU=0.50:0.95 | area=   all | maxDets=100 ] = 0.002\n",
      " Average Precision  (AP) @[ IoU=0.50      | area=   all | maxDets=100 ] = 0.008\n",
      " Average Precision  (AP) @[ IoU=0.75      | area=   all | maxDets=100 ] = 0.000\n",
      " Average Precision  (AP) @[ IoU=0.50:0.95 | area= small | maxDets=100 ] = 0.000\n",
      " Average Precision  (AP) @[ IoU=0.50:0.95 | area=medium | maxDets=100 ] = 0.006\n",
      " Average Precision  (AP) @[ IoU=0.50:0.95 | area= large | maxDets=100 ] = -1.000\n",
      " Average Recall     (AR) @[ IoU=0.50:0.95 | area=   all | maxDets=  1 ] = 0.000\n",
      " Average Recall     (AR) @[ IoU=0.50:0.95 | area=   all | maxDets= 10 ] = 0.014\n",
      " Average Recall     (AR) @[ IoU=0.50:0.95 | area=   all | maxDets=100 ] = 0.114\n",
      " Average Recall     (AR) @[ IoU=0.50:0.95 | area= small | maxDets=100 ] = 0.000\n",
      " Average Recall     (AR) @[ IoU=0.50:0.95 | area=medium | maxDets=100 ] = 0.229\n",
      " Average Recall     (AR) @[ IoU=0.50:0.95 | area= large | maxDets=100 ] = -1.000\n",
      "\u001b[0m\n",
      "\u001b[32m2023-05-03 13:30:48.601\u001b[0m | \u001b[1mINFO    \u001b[0m | \u001b[36mautocare_tx_model.core.trainer.base_trainer\u001b[0m:\u001b[36msave_ckpt\u001b[0m:\u001b[36m302\u001b[0m - \u001b[1mSave weights to hubs/tx_model_mnist_detection/artifacts/train\u001b[0m\n",
      "\u001b[32m2023-05-03 13:30:48.652\u001b[0m | \u001b[1mINFO    \u001b[0m | \u001b[36mautocare_tx_model.core.trainer.det_trainer\u001b[0m:\u001b[36mbefore_epoch\u001b[0m:\u001b[36m143\u001b[0m - \u001b[1m---> start train epoch23\u001b[0m\n"
     ]
    },
    {
     "name": "stdout",
     "output_type": "stream",
     "text": [
      "Loading and preparing results...\n",
      "DONE (t=0.00s)\n",
      "creating index...\n",
      "index created!\n",
      "Evaluate annotation type *bbox*\n",
      "COCOeval_opt.evaluate() finished in 0.00 seconds.\n"
     ]
    },
    {
     "name": "stderr",
     "output_type": "stream",
     "text": [
      "\u001b[32m2023-05-03 13:30:48.895\u001b[0m | \u001b[1mINFO    \u001b[0m | \u001b[36mautocare_tx_model.core.trainer.det_trainer\u001b[0m:\u001b[36mtrain_one_iter\u001b[0m:\u001b[36m276\u001b[0m - \u001b[1mepoch 23 [1/5] - lr: 0.005564 train loss: 1.902880 reg_loss: 0.391556 obj_loss: 0.105856 cls_loss: 1.405467\u001b[0m\n",
      "\u001b[32m2023-05-03 13:30:49.038\u001b[0m | \u001b[1mINFO    \u001b[0m | \u001b[36mautocare_tx_model.core.trainer.det_trainer\u001b[0m:\u001b[36mevaluate_and_save_model\u001b[0m:\u001b[36m201\u001b[0m - \u001b[1mValidation start...\u001b[0m\n",
      "\u001b[32m2023-05-03 13:30:49.216\u001b[0m | \u001b[1mINFO    \u001b[0m | \u001b[36mautocare_tx_model.core.trainer.det_trainer\u001b[0m:\u001b[36mevaluate_and_save_model\u001b[0m:\u001b[36m212\u001b[0m - \u001b[1mEvaluate..\u001b[0m\n",
      "\u001b[32m2023-05-03 13:30:49.229\u001b[0m | \u001b[1mINFO    \u001b[0m | \u001b[36mautocare_tx_model.core.trainer.det_trainer\u001b[0m:\u001b[36mevaluate_and_save_model\u001b[0m:\u001b[36m227\u001b[0m - \u001b[1m\n",
      " Average Precision  (AP) @[ IoU=0.50:0.95 | area=   all | maxDets=100 ] = 0.001\n",
      " Average Precision  (AP) @[ IoU=0.50      | area=   all | maxDets=100 ] = 0.004\n",
      " Average Precision  (AP) @[ IoU=0.75      | area=   all | maxDets=100 ] = 0.000\n",
      " Average Precision  (AP) @[ IoU=0.50:0.95 | area= small | maxDets=100 ] = 0.000\n",
      " Average Precision  (AP) @[ IoU=0.50:0.95 | area=medium | maxDets=100 ] = 0.003\n",
      " Average Precision  (AP) @[ IoU=0.50:0.95 | area= large | maxDets=100 ] = -1.000\n",
      " Average Recall     (AR) @[ IoU=0.50:0.95 | area=   all | maxDets=  1 ] = 0.000\n",
      " Average Recall     (AR) @[ IoU=0.50:0.95 | area=   all | maxDets= 10 ] = 0.000\n",
      " Average Recall     (AR) @[ IoU=0.50:0.95 | area=   all | maxDets=100 ] = 0.100\n",
      " Average Recall     (AR) @[ IoU=0.50:0.95 | area= small | maxDets=100 ] = 0.000\n",
      " Average Recall     (AR) @[ IoU=0.50:0.95 | area=medium | maxDets=100 ] = 0.200\n",
      " Average Recall     (AR) @[ IoU=0.50:0.95 | area= large | maxDets=100 ] = -1.000\n",
      "\u001b[0m\n",
      "\u001b[32m2023-05-03 13:30:49.229\u001b[0m | \u001b[1mINFO    \u001b[0m | \u001b[36mautocare_tx_model.core.trainer.base_trainer\u001b[0m:\u001b[36msave_ckpt\u001b[0m:\u001b[36m302\u001b[0m - \u001b[1mSave weights to hubs/tx_model_mnist_detection/artifacts/train\u001b[0m\n",
      "\u001b[32m2023-05-03 13:30:49.280\u001b[0m | \u001b[1mINFO    \u001b[0m | \u001b[36mautocare_tx_model.core.trainer.det_trainer\u001b[0m:\u001b[36mbefore_epoch\u001b[0m:\u001b[36m143\u001b[0m - \u001b[1m---> start train epoch24\u001b[0m\n"
     ]
    },
    {
     "name": "stdout",
     "output_type": "stream",
     "text": [
      "Loading and preparing results...\n",
      "DONE (t=0.00s)\n",
      "creating index...\n",
      "index created!\n",
      "Evaluate annotation type *bbox*\n",
      "COCOeval_opt.evaluate() finished in 0.00 seconds.\n"
     ]
    },
    {
     "name": "stderr",
     "output_type": "stream",
     "text": [
      "\u001b[32m2023-05-03 13:30:49.524\u001b[0m | \u001b[1mINFO    \u001b[0m | \u001b[36mautocare_tx_model.core.trainer.det_trainer\u001b[0m:\u001b[36mtrain_one_iter\u001b[0m:\u001b[36m276\u001b[0m - \u001b[1mepoch 24 [1/5] - lr: 0.005251 train loss: 1.269053 reg_loss: 0.336419 obj_loss: 0.119170 cls_loss: 0.813465\u001b[0m\n",
      "\u001b[32m2023-05-03 13:30:49.666\u001b[0m | \u001b[1mINFO    \u001b[0m | \u001b[36mautocare_tx_model.core.trainer.det_trainer\u001b[0m:\u001b[36mevaluate_and_save_model\u001b[0m:\u001b[36m201\u001b[0m - \u001b[1mValidation start...\u001b[0m\n",
      "\u001b[32m2023-05-03 13:30:49.844\u001b[0m | \u001b[1mINFO    \u001b[0m | \u001b[36mautocare_tx_model.core.trainer.det_trainer\u001b[0m:\u001b[36mevaluate_and_save_model\u001b[0m:\u001b[36m212\u001b[0m - \u001b[1mEvaluate..\u001b[0m\n",
      "\u001b[32m2023-05-03 13:30:49.855\u001b[0m | \u001b[1mINFO    \u001b[0m | \u001b[36mautocare_tx_model.core.trainer.det_trainer\u001b[0m:\u001b[36mevaluate_and_save_model\u001b[0m:\u001b[36m227\u001b[0m - \u001b[1m\n",
      " Average Precision  (AP) @[ IoU=0.50:0.95 | area=   all | maxDets=100 ] = 0.002\n",
      " Average Precision  (AP) @[ IoU=0.50      | area=   all | maxDets=100 ] = 0.011\n",
      " Average Precision  (AP) @[ IoU=0.75      | area=   all | maxDets=100 ] = 0.000\n",
      " Average Precision  (AP) @[ IoU=0.50:0.95 | area= small | maxDets=100 ] = 0.000\n",
      " Average Precision  (AP) @[ IoU=0.50:0.95 | area=medium | maxDets=100 ] = 0.006\n",
      " Average Precision  (AP) @[ IoU=0.50:0.95 | area= large | maxDets=100 ] = -1.000\n",
      " Average Recall     (AR) @[ IoU=0.50:0.95 | area=   all | maxDets=  1 ] = 0.000\n",
      " Average Recall     (AR) @[ IoU=0.50:0.95 | area=   all | maxDets= 10 ] = 0.007\n",
      " Average Recall     (AR) @[ IoU=0.50:0.95 | area=   all | maxDets=100 ] = 0.086\n",
      " Average Recall     (AR) @[ IoU=0.50:0.95 | area= small | maxDets=100 ] = 0.000\n",
      " Average Recall     (AR) @[ IoU=0.50:0.95 | area=medium | maxDets=100 ] = 0.171\n",
      " Average Recall     (AR) @[ IoU=0.50:0.95 | area= large | maxDets=100 ] = -1.000\n",
      "\u001b[0m\n",
      "\u001b[32m2023-05-03 13:30:49.855\u001b[0m | \u001b[1mINFO    \u001b[0m | \u001b[36mautocare_tx_model.core.trainer.base_trainer\u001b[0m:\u001b[36msave_ckpt\u001b[0m:\u001b[36m302\u001b[0m - \u001b[1mSave weights to hubs/tx_model_mnist_detection/artifacts/train\u001b[0m\n",
      "\u001b[32m2023-05-03 13:30:49.907\u001b[0m | \u001b[1mINFO    \u001b[0m | \u001b[36mautocare_tx_model.core.trainer.det_trainer\u001b[0m:\u001b[36mbefore_epoch\u001b[0m:\u001b[36m143\u001b[0m - \u001b[1m---> start train epoch25\u001b[0m\n"
     ]
    },
    {
     "name": "stdout",
     "output_type": "stream",
     "text": [
      "Loading and preparing results...\n",
      "DONE (t=0.00s)\n",
      "creating index...\n",
      "index created!\n",
      "Evaluate annotation type *bbox*\n",
      "COCOeval_opt.evaluate() finished in 0.00 seconds.\n"
     ]
    },
    {
     "name": "stderr",
     "output_type": "stream",
     "text": [
      "\u001b[32m2023-05-03 13:30:50.153\u001b[0m | \u001b[1mINFO    \u001b[0m | \u001b[36mautocare_tx_model.core.trainer.det_trainer\u001b[0m:\u001b[36mtrain_one_iter\u001b[0m:\u001b[36m276\u001b[0m - \u001b[1mepoch 25 [1/5] - lr: 0.004937 train loss: 1.978267 reg_loss: 0.327972 obj_loss: 0.129118 cls_loss: 1.521177\u001b[0m\n",
      "\u001b[32m2023-05-03 13:30:50.297\u001b[0m | \u001b[1mINFO    \u001b[0m | \u001b[36mautocare_tx_model.core.trainer.det_trainer\u001b[0m:\u001b[36mevaluate_and_save_model\u001b[0m:\u001b[36m201\u001b[0m - \u001b[1mValidation start...\u001b[0m\n",
      "\u001b[32m2023-05-03 13:30:50.472\u001b[0m | \u001b[1mINFO    \u001b[0m | \u001b[36mautocare_tx_model.core.trainer.det_trainer\u001b[0m:\u001b[36mevaluate_and_save_model\u001b[0m:\u001b[36m212\u001b[0m - \u001b[1mEvaluate..\u001b[0m\n",
      "\u001b[32m2023-05-03 13:30:50.481\u001b[0m | \u001b[1mINFO    \u001b[0m | \u001b[36mautocare_tx_model.core.trainer.det_trainer\u001b[0m:\u001b[36mevaluate_and_save_model\u001b[0m:\u001b[36m227\u001b[0m - \u001b[1m\n",
      " Average Precision  (AP) @[ IoU=0.50:0.95 | area=   all | maxDets=100 ] = 0.000\n",
      " Average Precision  (AP) @[ IoU=0.50      | area=   all | maxDets=100 ] = 0.002\n",
      " Average Precision  (AP) @[ IoU=0.75      | area=   all | maxDets=100 ] = 0.000\n",
      " Average Precision  (AP) @[ IoU=0.50:0.95 | area= small | maxDets=100 ] = 0.000\n",
      " Average Precision  (AP) @[ IoU=0.50:0.95 | area=medium | maxDets=100 ] = 0.001\n",
      " Average Precision  (AP) @[ IoU=0.50:0.95 | area= large | maxDets=100 ] = -1.000\n",
      " Average Recall     (AR) @[ IoU=0.50:0.95 | area=   all | maxDets=  1 ] = 0.000\n",
      " Average Recall     (AR) @[ IoU=0.50:0.95 | area=   all | maxDets= 10 ] = 0.000\n",
      " Average Recall     (AR) @[ IoU=0.50:0.95 | area=   all | maxDets=100 ] = 0.021\n",
      " Average Recall     (AR) @[ IoU=0.50:0.95 | area= small | maxDets=100 ] = 0.000\n",
      " Average Recall     (AR) @[ IoU=0.50:0.95 | area=medium | maxDets=100 ] = 0.043\n",
      " Average Recall     (AR) @[ IoU=0.50:0.95 | area= large | maxDets=100 ] = -1.000\n",
      "\u001b[0m\n",
      "\u001b[32m2023-05-03 13:30:50.481\u001b[0m | \u001b[1mINFO    \u001b[0m | \u001b[36mautocare_tx_model.core.trainer.base_trainer\u001b[0m:\u001b[36msave_ckpt\u001b[0m:\u001b[36m302\u001b[0m - \u001b[1mSave weights to hubs/tx_model_mnist_detection/artifacts/train\u001b[0m\n",
      "\u001b[32m2023-05-03 13:30:50.533\u001b[0m | \u001b[1mINFO    \u001b[0m | \u001b[36mautocare_tx_model.core.trainer.det_trainer\u001b[0m:\u001b[36mbefore_epoch\u001b[0m:\u001b[36m143\u001b[0m - \u001b[1m---> start train epoch26\u001b[0m\n"
     ]
    },
    {
     "name": "stdout",
     "output_type": "stream",
     "text": [
      "Loading and preparing results...\n",
      "DONE (t=0.00s)\n",
      "creating index...\n",
      "index created!\n",
      "Evaluate annotation type *bbox*\n",
      "COCOeval_opt.evaluate() finished in 0.00 seconds.\n"
     ]
    },
    {
     "name": "stderr",
     "output_type": "stream",
     "text": [
      "\u001b[32m2023-05-03 13:30:50.777\u001b[0m | \u001b[1mINFO    \u001b[0m | \u001b[36mautocare_tx_model.core.trainer.det_trainer\u001b[0m:\u001b[36mtrain_one_iter\u001b[0m:\u001b[36m276\u001b[0m - \u001b[1mepoch 26 [1/5] - lr: 0.004623 train loss: 1.441909 reg_loss: 0.369785 obj_loss: 0.118597 cls_loss: 0.953527\u001b[0m\n",
      "\u001b[32m2023-05-03 13:30:50.918\u001b[0m | \u001b[1mINFO    \u001b[0m | \u001b[36mautocare_tx_model.core.trainer.det_trainer\u001b[0m:\u001b[36mevaluate_and_save_model\u001b[0m:\u001b[36m201\u001b[0m - \u001b[1mValidation start...\u001b[0m\n",
      "\u001b[32m2023-05-03 13:30:51.096\u001b[0m | \u001b[1mINFO    \u001b[0m | \u001b[36mautocare_tx_model.core.trainer.det_trainer\u001b[0m:\u001b[36mevaluate_and_save_model\u001b[0m:\u001b[36m212\u001b[0m - \u001b[1mEvaluate..\u001b[0m\n",
      "\u001b[32m2023-05-03 13:30:51.103\u001b[0m | \u001b[1mINFO    \u001b[0m | \u001b[36mautocare_tx_model.core.trainer.det_trainer\u001b[0m:\u001b[36mevaluate_and_save_model\u001b[0m:\u001b[36m227\u001b[0m - \u001b[1m\n",
      " Average Precision  (AP) @[ IoU=0.50:0.95 | area=   all | maxDets=100 ] = 0.002\n",
      " Average Precision  (AP) @[ IoU=0.50      | area=   all | maxDets=100 ] = 0.008\n",
      " Average Precision  (AP) @[ IoU=0.75      | area=   all | maxDets=100 ] = 0.000\n",
      " Average Precision  (AP) @[ IoU=0.50:0.95 | area= small | maxDets=100 ] = 0.000\n",
      " Average Precision  (AP) @[ IoU=0.50:0.95 | area=medium | maxDets=100 ] = 0.005\n",
      " Average Precision  (AP) @[ IoU=0.50:0.95 | area= large | maxDets=100 ] = -1.000\n",
      " Average Recall     (AR) @[ IoU=0.50:0.95 | area=   all | maxDets=  1 ] = 0.000\n",
      " Average Recall     (AR) @[ IoU=0.50:0.95 | area=   all | maxDets= 10 ] = 0.050\n",
      " Average Recall     (AR) @[ IoU=0.50:0.95 | area=   all | maxDets=100 ] = 0.093\n",
      " Average Recall     (AR) @[ IoU=0.50:0.95 | area= small | maxDets=100 ] = 0.000\n",
      " Average Recall     (AR) @[ IoU=0.50:0.95 | area=medium | maxDets=100 ] = 0.186\n",
      " Average Recall     (AR) @[ IoU=0.50:0.95 | area= large | maxDets=100 ] = -1.000\n",
      "\u001b[0m\n",
      "\u001b[32m2023-05-03 13:30:51.103\u001b[0m | \u001b[1mINFO    \u001b[0m | \u001b[36mautocare_tx_model.core.trainer.base_trainer\u001b[0m:\u001b[36msave_ckpt\u001b[0m:\u001b[36m302\u001b[0m - \u001b[1mSave weights to hubs/tx_model_mnist_detection/artifacts/train\u001b[0m\n",
      "\u001b[32m2023-05-03 13:30:51.155\u001b[0m | \u001b[1mINFO    \u001b[0m | \u001b[36mautocare_tx_model.core.trainer.det_trainer\u001b[0m:\u001b[36mbefore_epoch\u001b[0m:\u001b[36m143\u001b[0m - \u001b[1m---> start train epoch27\u001b[0m\n"
     ]
    },
    {
     "name": "stdout",
     "output_type": "stream",
     "text": [
      "Loading and preparing results...\n",
      "DONE (t=0.00s)\n",
      "creating index...\n",
      "index created!\n",
      "Evaluate annotation type *bbox*\n",
      "COCOeval_opt.evaluate() finished in 0.00 seconds.\n"
     ]
    },
    {
     "name": "stderr",
     "output_type": "stream",
     "text": [
      "\u001b[32m2023-05-03 13:30:51.392\u001b[0m | \u001b[1mINFO    \u001b[0m | \u001b[36mautocare_tx_model.core.trainer.det_trainer\u001b[0m:\u001b[36mtrain_one_iter\u001b[0m:\u001b[36m276\u001b[0m - \u001b[1mepoch 27 [1/5] - lr: 0.004311 train loss: 1.528049 reg_loss: 0.328164 obj_loss: 0.117330 cls_loss: 1.082555\u001b[0m\n",
      "\u001b[32m2023-05-03 13:30:51.534\u001b[0m | \u001b[1mINFO    \u001b[0m | \u001b[36mautocare_tx_model.core.trainer.det_trainer\u001b[0m:\u001b[36mevaluate_and_save_model\u001b[0m:\u001b[36m201\u001b[0m - \u001b[1mValidation start...\u001b[0m\n",
      "\u001b[32m2023-05-03 13:30:51.710\u001b[0m | \u001b[1mINFO    \u001b[0m | \u001b[36mautocare_tx_model.core.trainer.det_trainer\u001b[0m:\u001b[36mevaluate_and_save_model\u001b[0m:\u001b[36m212\u001b[0m - \u001b[1mEvaluate..\u001b[0m\n",
      "\u001b[32m2023-05-03 13:30:51.716\u001b[0m | \u001b[1mINFO    \u001b[0m | \u001b[36mautocare_tx_model.core.trainer.det_trainer\u001b[0m:\u001b[36mevaluate_and_save_model\u001b[0m:\u001b[36m227\u001b[0m - \u001b[1m\n",
      " Average Precision  (AP) @[ IoU=0.50:0.95 | area=   all | maxDets=100 ] = 0.010\n",
      " Average Precision  (AP) @[ IoU=0.50      | area=   all | maxDets=100 ] = 0.034\n",
      " Average Precision  (AP) @[ IoU=0.75      | area=   all | maxDets=100 ] = 0.001\n",
      " Average Precision  (AP) @[ IoU=0.50:0.95 | area= small | maxDets=100 ] = 0.000\n",
      " Average Precision  (AP) @[ IoU=0.50:0.95 | area=medium | maxDets=100 ] = 0.031\n",
      " Average Precision  (AP) @[ IoU=0.50:0.95 | area= large | maxDets=100 ] = -1.000\n",
      " Average Recall     (AR) @[ IoU=0.50:0.95 | area=   all | maxDets=  1 ] = 0.000\n",
      " Average Recall     (AR) @[ IoU=0.50:0.95 | area=   all | maxDets= 10 ] = 0.114\n",
      " Average Recall     (AR) @[ IoU=0.50:0.95 | area=   all | maxDets=100 ] = 0.200\n",
      " Average Recall     (AR) @[ IoU=0.50:0.95 | area= small | maxDets=100 ] = 0.000\n",
      " Average Recall     (AR) @[ IoU=0.50:0.95 | area=medium | maxDets=100 ] = 0.400\n",
      " Average Recall     (AR) @[ IoU=0.50:0.95 | area= large | maxDets=100 ] = -1.000\n",
      "\u001b[0m\n",
      "\u001b[32m2023-05-03 13:30:51.716\u001b[0m | \u001b[1mINFO    \u001b[0m | \u001b[36mautocare_tx_model.core.trainer.base_trainer\u001b[0m:\u001b[36msave_ckpt\u001b[0m:\u001b[36m302\u001b[0m - \u001b[1mSave weights to hubs/tx_model_mnist_detection/artifacts/train\u001b[0m\n",
      "\u001b[32m2023-05-03 13:30:51.768\u001b[0m | \u001b[1mINFO    \u001b[0m | \u001b[36mautocare_tx_model.core.trainer.det_trainer\u001b[0m:\u001b[36mbefore_epoch\u001b[0m:\u001b[36m143\u001b[0m - \u001b[1m---> start train epoch28\u001b[0m\n"
     ]
    },
    {
     "name": "stdout",
     "output_type": "stream",
     "text": [
      "Loading and preparing results...\n",
      "DONE (t=0.00s)\n",
      "creating index...\n",
      "index created!\n",
      "Evaluate annotation type *bbox*\n",
      "COCOeval_opt.evaluate() finished in 0.00 seconds.\n"
     ]
    },
    {
     "name": "stderr",
     "output_type": "stream",
     "text": [
      "\u001b[32m2023-05-03 13:30:52.013\u001b[0m | \u001b[1mINFO    \u001b[0m | \u001b[36mautocare_tx_model.core.trainer.det_trainer\u001b[0m:\u001b[36mtrain_one_iter\u001b[0m:\u001b[36m276\u001b[0m - \u001b[1mepoch 28 [1/5] - lr: 0.004001 train loss: 1.392124 reg_loss: 0.326118 obj_loss: 0.116129 cls_loss: 0.949877\u001b[0m\n",
      "\u001b[32m2023-05-03 13:30:52.156\u001b[0m | \u001b[1mINFO    \u001b[0m | \u001b[36mautocare_tx_model.core.trainer.det_trainer\u001b[0m:\u001b[36mevaluate_and_save_model\u001b[0m:\u001b[36m201\u001b[0m - \u001b[1mValidation start...\u001b[0m\n",
      "\u001b[32m2023-05-03 13:30:52.333\u001b[0m | \u001b[1mINFO    \u001b[0m | \u001b[36mautocare_tx_model.core.trainer.det_trainer\u001b[0m:\u001b[36mevaluate_and_save_model\u001b[0m:\u001b[36m212\u001b[0m - \u001b[1mEvaluate..\u001b[0m\n",
      "\u001b[32m2023-05-03 13:30:52.338\u001b[0m | \u001b[1mINFO    \u001b[0m | \u001b[36mautocare_tx_model.core.trainer.det_trainer\u001b[0m:\u001b[36mevaluate_and_save_model\u001b[0m:\u001b[36m227\u001b[0m - \u001b[1m\n",
      " Average Precision  (AP) @[ IoU=0.50:0.95 | area=   all | maxDets=100 ] = 0.049\n",
      " Average Precision  (AP) @[ IoU=0.50      | area=   all | maxDets=100 ] = 0.105\n",
      " Average Precision  (AP) @[ IoU=0.75      | area=   all | maxDets=100 ] = 0.000\n",
      " Average Precision  (AP) @[ IoU=0.50:0.95 | area= small | maxDets=100 ] = 0.168\n",
      " Average Precision  (AP) @[ IoU=0.50:0.95 | area=medium | maxDets=100 ] = 0.016\n",
      " Average Precision  (AP) @[ IoU=0.50:0.95 | area= large | maxDets=100 ] = -1.000\n",
      " Average Recall     (AR) @[ IoU=0.50:0.95 | area=   all | maxDets=  1 ] = 0.000\n",
      " Average Recall     (AR) @[ IoU=0.50:0.95 | area=   all | maxDets= 10 ] = 0.140\n",
      " Average Recall     (AR) @[ IoU=0.50:0.95 | area=   all | maxDets=100 ] = 0.155\n",
      " Average Recall     (AR) @[ IoU=0.50:0.95 | area= small | maxDets=100 ] = 0.167\n",
      " Average Recall     (AR) @[ IoU=0.50:0.95 | area=medium | maxDets=100 ] = 0.143\n",
      " Average Recall     (AR) @[ IoU=0.50:0.95 | area= large | maxDets=100 ] = -1.000\n",
      "\u001b[0m\n",
      "\u001b[32m2023-05-03 13:30:52.339\u001b[0m | \u001b[1mINFO    \u001b[0m | \u001b[36mautocare_tx_model.core.trainer.base_trainer\u001b[0m:\u001b[36msave_ckpt\u001b[0m:\u001b[36m302\u001b[0m - \u001b[1mSave weights to hubs/tx_model_mnist_detection/artifacts/train\u001b[0m\n",
      "\u001b[32m2023-05-03 13:30:52.415\u001b[0m | \u001b[1mINFO    \u001b[0m | \u001b[36mautocare_tx_model.core.trainer.det_trainer\u001b[0m:\u001b[36mbefore_epoch\u001b[0m:\u001b[36m143\u001b[0m - \u001b[1m---> start train epoch29\u001b[0m\n"
     ]
    },
    {
     "name": "stdout",
     "output_type": "stream",
     "text": [
      "Loading and preparing results...\n",
      "DONE (t=0.00s)\n",
      "creating index...\n",
      "index created!\n",
      "Evaluate annotation type *bbox*\n",
      "COCOeval_opt.evaluate() finished in 0.00 seconds.\n"
     ]
    },
    {
     "name": "stderr",
     "output_type": "stream",
     "text": [
      "\u001b[32m2023-05-03 13:30:52.656\u001b[0m | \u001b[1mINFO    \u001b[0m | \u001b[36mautocare_tx_model.core.trainer.det_trainer\u001b[0m:\u001b[36mtrain_one_iter\u001b[0m:\u001b[36m276\u001b[0m - \u001b[1mepoch 29 [1/5] - lr: 0.003696 train loss: 1.884687 reg_loss: 0.325858 obj_loss: 0.126104 cls_loss: 1.432726\u001b[0m\n",
      "\u001b[32m2023-05-03 13:30:52.801\u001b[0m | \u001b[1mINFO    \u001b[0m | \u001b[36mautocare_tx_model.core.trainer.det_trainer\u001b[0m:\u001b[36mevaluate_and_save_model\u001b[0m:\u001b[36m201\u001b[0m - \u001b[1mValidation start...\u001b[0m\n",
      "\u001b[32m2023-05-03 13:30:52.978\u001b[0m | \u001b[1mINFO    \u001b[0m | \u001b[36mautocare_tx_model.core.trainer.det_trainer\u001b[0m:\u001b[36mevaluate_and_save_model\u001b[0m:\u001b[36m212\u001b[0m - \u001b[1mEvaluate..\u001b[0m\n",
      "\u001b[32m2023-05-03 13:30:52.983\u001b[0m | \u001b[1mINFO    \u001b[0m | \u001b[36mautocare_tx_model.core.trainer.det_trainer\u001b[0m:\u001b[36mevaluate_and_save_model\u001b[0m:\u001b[36m227\u001b[0m - \u001b[1m\n",
      " Average Precision  (AP) @[ IoU=0.50:0.95 | area=   all | maxDets=100 ] = 0.019\n",
      " Average Precision  (AP) @[ IoU=0.50      | area=   all | maxDets=100 ] = 0.082\n",
      " Average Precision  (AP) @[ IoU=0.75      | area=   all | maxDets=100 ] = 0.000\n",
      " Average Precision  (AP) @[ IoU=0.50:0.95 | area= small | maxDets=100 ] = 0.000\n",
      " Average Precision  (AP) @[ IoU=0.50:0.95 | area=medium | maxDets=100 ] = 0.043\n",
      " Average Precision  (AP) @[ IoU=0.50:0.95 | area= large | maxDets=100 ] = -1.000\n",
      " Average Recall     (AR) @[ IoU=0.50:0.95 | area=   all | maxDets=  1 ] = 0.007\n",
      " Average Recall     (AR) @[ IoU=0.50:0.95 | area=   all | maxDets= 10 ] = 0.100\n",
      " Average Recall     (AR) @[ IoU=0.50:0.95 | area=   all | maxDets=100 ] = 0.100\n",
      " Average Recall     (AR) @[ IoU=0.50:0.95 | area= small | maxDets=100 ] = 0.000\n",
      " Average Recall     (AR) @[ IoU=0.50:0.95 | area=medium | maxDets=100 ] = 0.200\n",
      " Average Recall     (AR) @[ IoU=0.50:0.95 | area= large | maxDets=100 ] = -1.000\n",
      "\u001b[0m\n",
      "\u001b[32m2023-05-03 13:30:52.983\u001b[0m | \u001b[1mINFO    \u001b[0m | \u001b[36mautocare_tx_model.core.trainer.base_trainer\u001b[0m:\u001b[36msave_ckpt\u001b[0m:\u001b[36m302\u001b[0m - \u001b[1mSave weights to hubs/tx_model_mnist_detection/artifacts/train\u001b[0m\n",
      "\u001b[32m2023-05-03 13:30:53.036\u001b[0m | \u001b[1mINFO    \u001b[0m | \u001b[36mautocare_tx_model.core.trainer.det_trainer\u001b[0m:\u001b[36mbefore_epoch\u001b[0m:\u001b[36m143\u001b[0m - \u001b[1m---> start train epoch30\u001b[0m\n"
     ]
    },
    {
     "name": "stdout",
     "output_type": "stream",
     "text": [
      "Loading and preparing results...\n",
      "DONE (t=0.00s)\n",
      "creating index...\n",
      "index created!\n",
      "Evaluate annotation type *bbox*\n",
      "COCOeval_opt.evaluate() finished in 0.00 seconds.\n"
     ]
    },
    {
     "name": "stderr",
     "output_type": "stream",
     "text": [
      "\u001b[32m2023-05-03 13:30:53.280\u001b[0m | \u001b[1mINFO    \u001b[0m | \u001b[36mautocare_tx_model.core.trainer.det_trainer\u001b[0m:\u001b[36mtrain_one_iter\u001b[0m:\u001b[36m276\u001b[0m - \u001b[1mepoch 30 [1/5] - lr: 0.003395 train loss: 1.362706 reg_loss: 0.324126 obj_loss: 0.123358 cls_loss: 0.915222\u001b[0m\n",
      "\u001b[32m2023-05-03 13:30:53.423\u001b[0m | \u001b[1mINFO    \u001b[0m | \u001b[36mautocare_tx_model.core.trainer.det_trainer\u001b[0m:\u001b[36mevaluate_and_save_model\u001b[0m:\u001b[36m201\u001b[0m - \u001b[1mValidation start...\u001b[0m\n",
      "\u001b[32m2023-05-03 13:30:53.600\u001b[0m | \u001b[1mINFO    \u001b[0m | \u001b[36mautocare_tx_model.core.trainer.det_trainer\u001b[0m:\u001b[36mevaluate_and_save_model\u001b[0m:\u001b[36m212\u001b[0m - \u001b[1mEvaluate..\u001b[0m\n",
      "\u001b[32m2023-05-03 13:30:53.604\u001b[0m | \u001b[1mINFO    \u001b[0m | \u001b[36mautocare_tx_model.core.trainer.det_trainer\u001b[0m:\u001b[36mevaluate_and_save_model\u001b[0m:\u001b[36m227\u001b[0m - \u001b[1m\n",
      " Average Precision  (AP) @[ IoU=0.50:0.95 | area=   all | maxDets=100 ] = 0.025\n",
      " Average Precision  (AP) @[ IoU=0.50      | area=   all | maxDets=100 ] = 0.075\n",
      " Average Precision  (AP) @[ IoU=0.75      | area=   all | maxDets=100 ] = 0.000\n",
      " Average Precision  (AP) @[ IoU=0.50:0.95 | area= small | maxDets=100 ] = 0.000\n",
      " Average Precision  (AP) @[ IoU=0.50:0.95 | area=medium | maxDets=100 ] = 0.049\n",
      " Average Precision  (AP) @[ IoU=0.50:0.95 | area= large | maxDets=100 ] = -1.000\n",
      " Average Recall     (AR) @[ IoU=0.50:0.95 | area=   all | maxDets=  1 ] = 0.000\n",
      " Average Recall     (AR) @[ IoU=0.50:0.95 | area=   all | maxDets= 10 ] = 0.121\n",
      " Average Recall     (AR) @[ IoU=0.50:0.95 | area=   all | maxDets=100 ] = 0.121\n",
      " Average Recall     (AR) @[ IoU=0.50:0.95 | area= small | maxDets=100 ] = 0.000\n",
      " Average Recall     (AR) @[ IoU=0.50:0.95 | area=medium | maxDets=100 ] = 0.243\n",
      " Average Recall     (AR) @[ IoU=0.50:0.95 | area= large | maxDets=100 ] = -1.000\n",
      "\u001b[0m\n",
      "\u001b[32m2023-05-03 13:30:53.605\u001b[0m | \u001b[1mINFO    \u001b[0m | \u001b[36mautocare_tx_model.core.trainer.base_trainer\u001b[0m:\u001b[36msave_ckpt\u001b[0m:\u001b[36m302\u001b[0m - \u001b[1mSave weights to hubs/tx_model_mnist_detection/artifacts/train\u001b[0m\n",
      "\u001b[32m2023-05-03 13:30:53.658\u001b[0m | \u001b[1mINFO    \u001b[0m | \u001b[36mautocare_tx_model.core.trainer.det_trainer\u001b[0m:\u001b[36mbefore_epoch\u001b[0m:\u001b[36m143\u001b[0m - \u001b[1m---> start train epoch31\u001b[0m\n"
     ]
    },
    {
     "name": "stdout",
     "output_type": "stream",
     "text": [
      "Loading and preparing results...\n",
      "DONE (t=0.00s)\n",
      "creating index...\n",
      "index created!\n",
      "Evaluate annotation type *bbox*\n",
      "COCOeval_opt.evaluate() finished in 0.00 seconds.\n"
     ]
    },
    {
     "name": "stderr",
     "output_type": "stream",
     "text": [
      "\u001b[32m2023-05-03 13:30:53.904\u001b[0m | \u001b[1mINFO    \u001b[0m | \u001b[36mautocare_tx_model.core.trainer.det_trainer\u001b[0m:\u001b[36mtrain_one_iter\u001b[0m:\u001b[36m276\u001b[0m - \u001b[1mepoch 31 [1/5] - lr: 0.003101 train loss: 3.074873 reg_loss: 0.323089 obj_loss: 0.123856 cls_loss: 2.627928\u001b[0m\n",
      "\u001b[32m2023-05-03 13:30:54.048\u001b[0m | \u001b[1mINFO    \u001b[0m | \u001b[36mautocare_tx_model.core.trainer.det_trainer\u001b[0m:\u001b[36mevaluate_and_save_model\u001b[0m:\u001b[36m201\u001b[0m - \u001b[1mValidation start...\u001b[0m\n",
      "\u001b[32m2023-05-03 13:30:54.224\u001b[0m | \u001b[1mINFO    \u001b[0m | \u001b[36mautocare_tx_model.core.trainer.det_trainer\u001b[0m:\u001b[36mevaluate_and_save_model\u001b[0m:\u001b[36m212\u001b[0m - \u001b[1mEvaluate..\u001b[0m\n",
      "\u001b[32m2023-05-03 13:30:54.229\u001b[0m | \u001b[1mINFO    \u001b[0m | \u001b[36mautocare_tx_model.core.trainer.det_trainer\u001b[0m:\u001b[36mevaluate_and_save_model\u001b[0m:\u001b[36m227\u001b[0m - \u001b[1m\n",
      " Average Precision  (AP) @[ IoU=0.50:0.95 | area=   all | maxDets=100 ] = 0.025\n",
      " Average Precision  (AP) @[ IoU=0.50      | area=   all | maxDets=100 ] = 0.119\n",
      " Average Precision  (AP) @[ IoU=0.75      | area=   all | maxDets=100 ] = 0.000\n",
      " Average Precision  (AP) @[ IoU=0.50:0.95 | area= small | maxDets=100 ] = 0.167\n",
      " Average Precision  (AP) @[ IoU=0.50:0.95 | area=medium | maxDets=100 ] = 0.025\n",
      " Average Precision  (AP) @[ IoU=0.50:0.95 | area= large | maxDets=100 ] = -1.000\n",
      " Average Recall     (AR) @[ IoU=0.50:0.95 | area=   all | maxDets=  1 ] = 0.017\n",
      " Average Recall     (AR) @[ IoU=0.50:0.95 | area=   all | maxDets= 10 ] = 0.133\n",
      " Average Recall     (AR) @[ IoU=0.50:0.95 | area=   all | maxDets=100 ] = 0.133\n",
      " Average Recall     (AR) @[ IoU=0.50:0.95 | area= small | maxDets=100 ] = 0.167\n",
      " Average Recall     (AR) @[ IoU=0.50:0.95 | area=medium | maxDets=100 ] = 0.100\n",
      " Average Recall     (AR) @[ IoU=0.50:0.95 | area= large | maxDets=100 ] = -1.000\n",
      "\u001b[0m\n",
      "\u001b[32m2023-05-03 13:30:54.229\u001b[0m | \u001b[1mINFO    \u001b[0m | \u001b[36mautocare_tx_model.core.trainer.base_trainer\u001b[0m:\u001b[36msave_ckpt\u001b[0m:\u001b[36m302\u001b[0m - \u001b[1mSave weights to hubs/tx_model_mnist_detection/artifacts/train\u001b[0m\n",
      "\u001b[32m2023-05-03 13:30:54.281\u001b[0m | \u001b[1mINFO    \u001b[0m | \u001b[36mautocare_tx_model.core.trainer.det_trainer\u001b[0m:\u001b[36mbefore_epoch\u001b[0m:\u001b[36m143\u001b[0m - \u001b[1m---> start train epoch32\u001b[0m\n"
     ]
    },
    {
     "name": "stdout",
     "output_type": "stream",
     "text": [
      "Loading and preparing results...\n",
      "DONE (t=0.00s)\n",
      "creating index...\n",
      "index created!\n",
      "Evaluate annotation type *bbox*\n",
      "COCOeval_opt.evaluate() finished in 0.00 seconds.\n"
     ]
    },
    {
     "name": "stderr",
     "output_type": "stream",
     "text": [
      "\u001b[32m2023-05-03 13:30:54.526\u001b[0m | \u001b[1mINFO    \u001b[0m | \u001b[36mautocare_tx_model.core.trainer.det_trainer\u001b[0m:\u001b[36mtrain_one_iter\u001b[0m:\u001b[36m276\u001b[0m - \u001b[1mepoch 32 [1/5] - lr: 0.002814 train loss: 2.036371 reg_loss: 0.335416 obj_loss: 0.120887 cls_loss: 1.580068\u001b[0m\n",
      "\u001b[32m2023-05-03 13:30:54.668\u001b[0m | \u001b[1mINFO    \u001b[0m | \u001b[36mautocare_tx_model.core.trainer.det_trainer\u001b[0m:\u001b[36mevaluate_and_save_model\u001b[0m:\u001b[36m201\u001b[0m - \u001b[1mValidation start...\u001b[0m\n",
      "\u001b[32m2023-05-03 13:30:54.845\u001b[0m | \u001b[1mINFO    \u001b[0m | \u001b[36mautocare_tx_model.core.trainer.det_trainer\u001b[0m:\u001b[36mevaluate_and_save_model\u001b[0m:\u001b[36m212\u001b[0m - \u001b[1mEvaluate..\u001b[0m\n",
      "\u001b[32m2023-05-03 13:30:54.850\u001b[0m | \u001b[1mINFO    \u001b[0m | \u001b[36mautocare_tx_model.core.trainer.det_trainer\u001b[0m:\u001b[36mevaluate_and_save_model\u001b[0m:\u001b[36m227\u001b[0m - \u001b[1m\n",
      " Average Precision  (AP) @[ IoU=0.50:0.95 | area=   all | maxDets=100 ] = 0.021\n",
      " Average Precision  (AP) @[ IoU=0.50      | area=   all | maxDets=100 ] = 0.081\n",
      " Average Precision  (AP) @[ IoU=0.75      | area=   all | maxDets=100 ] = 0.011\n",
      " Average Precision  (AP) @[ IoU=0.50:0.95 | area= small | maxDets=100 ] = 0.000\n",
      " Average Precision  (AP) @[ IoU=0.50:0.95 | area=medium | maxDets=100 ] = 0.041\n",
      " Average Precision  (AP) @[ IoU=0.50:0.95 | area= large | maxDets=100 ] = -1.000\n",
      " Average Recall     (AR) @[ IoU=0.50:0.95 | area=   all | maxDets=  1 ] = 0.007\n",
      " Average Recall     (AR) @[ IoU=0.50:0.95 | area=   all | maxDets= 10 ] = 0.143\n",
      " Average Recall     (AR) @[ IoU=0.50:0.95 | area=   all | maxDets=100 ] = 0.143\n",
      " Average Recall     (AR) @[ IoU=0.50:0.95 | area= small | maxDets=100 ] = 0.000\n",
      " Average Recall     (AR) @[ IoU=0.50:0.95 | area=medium | maxDets=100 ] = 0.286\n",
      " Average Recall     (AR) @[ IoU=0.50:0.95 | area= large | maxDets=100 ] = -1.000\n",
      "\u001b[0m\n",
      "\u001b[32m2023-05-03 13:30:54.851\u001b[0m | \u001b[1mINFO    \u001b[0m | \u001b[36mautocare_tx_model.core.trainer.base_trainer\u001b[0m:\u001b[36msave_ckpt\u001b[0m:\u001b[36m302\u001b[0m - \u001b[1mSave weights to hubs/tx_model_mnist_detection/artifacts/train\u001b[0m\n",
      "\u001b[32m2023-05-03 13:30:54.904\u001b[0m | \u001b[1mINFO    \u001b[0m | \u001b[36mautocare_tx_model.core.trainer.det_trainer\u001b[0m:\u001b[36mbefore_epoch\u001b[0m:\u001b[36m143\u001b[0m - \u001b[1m---> start train epoch33\u001b[0m\n"
     ]
    },
    {
     "name": "stdout",
     "output_type": "stream",
     "text": [
      "Loading and preparing results...\n",
      "DONE (t=0.00s)\n",
      "creating index...\n",
      "index created!\n",
      "Evaluate annotation type *bbox*\n",
      "COCOeval_opt.evaluate() finished in 0.00 seconds.\n"
     ]
    },
    {
     "name": "stderr",
     "output_type": "stream",
     "text": [
      "\u001b[32m2023-05-03 13:30:55.151\u001b[0m | \u001b[1mINFO    \u001b[0m | \u001b[36mautocare_tx_model.core.trainer.det_trainer\u001b[0m:\u001b[36mtrain_one_iter\u001b[0m:\u001b[36m276\u001b[0m - \u001b[1mepoch 33 [1/5] - lr: 0.002536 train loss: 0.944887 reg_loss: 0.319766 obj_loss: 0.113722 cls_loss: 0.511399\u001b[0m\n",
      "\u001b[32m2023-05-03 13:30:55.293\u001b[0m | \u001b[1mINFO    \u001b[0m | \u001b[36mautocare_tx_model.core.trainer.det_trainer\u001b[0m:\u001b[36mevaluate_and_save_model\u001b[0m:\u001b[36m201\u001b[0m - \u001b[1mValidation start...\u001b[0m\n",
      "\u001b[32m2023-05-03 13:30:55.471\u001b[0m | \u001b[1mINFO    \u001b[0m | \u001b[36mautocare_tx_model.core.trainer.det_trainer\u001b[0m:\u001b[36mevaluate_and_save_model\u001b[0m:\u001b[36m212\u001b[0m - \u001b[1mEvaluate..\u001b[0m\n",
      "\u001b[32m2023-05-03 13:30:55.476\u001b[0m | \u001b[1mINFO    \u001b[0m | \u001b[36mautocare_tx_model.core.trainer.det_trainer\u001b[0m:\u001b[36mevaluate_and_save_model\u001b[0m:\u001b[36m227\u001b[0m - \u001b[1m\n",
      " Average Precision  (AP) @[ IoU=0.50:0.95 | area=   all | maxDets=100 ] = 0.020\n",
      " Average Precision  (AP) @[ IoU=0.50      | area=   all | maxDets=100 ] = 0.069\n",
      " Average Precision  (AP) @[ IoU=0.75      | area=   all | maxDets=100 ] = 0.000\n",
      " Average Precision  (AP) @[ IoU=0.50:0.95 | area= small | maxDets=100 ] = 0.000\n",
      " Average Precision  (AP) @[ IoU=0.50:0.95 | area=medium | maxDets=100 ] = 0.039\n",
      " Average Precision  (AP) @[ IoU=0.50:0.95 | area= large | maxDets=100 ] = -1.000\n",
      " Average Recall     (AR) @[ IoU=0.50:0.95 | area=   all | maxDets=  1 ] = 0.021\n",
      " Average Recall     (AR) @[ IoU=0.50:0.95 | area=   all | maxDets= 10 ] = 0.107\n",
      " Average Recall     (AR) @[ IoU=0.50:0.95 | area=   all | maxDets=100 ] = 0.107\n",
      " Average Recall     (AR) @[ IoU=0.50:0.95 | area= small | maxDets=100 ] = 0.000\n",
      " Average Recall     (AR) @[ IoU=0.50:0.95 | area=medium | maxDets=100 ] = 0.214\n",
      " Average Recall     (AR) @[ IoU=0.50:0.95 | area= large | maxDets=100 ] = -1.000\n",
      "\u001b[0m\n",
      "\u001b[32m2023-05-03 13:30:55.477\u001b[0m | \u001b[1mINFO    \u001b[0m | \u001b[36mautocare_tx_model.core.trainer.base_trainer\u001b[0m:\u001b[36msave_ckpt\u001b[0m:\u001b[36m302\u001b[0m - \u001b[1mSave weights to hubs/tx_model_mnist_detection/artifacts/train\u001b[0m\n",
      "\u001b[32m2023-05-03 13:30:55.531\u001b[0m | \u001b[1mINFO    \u001b[0m | \u001b[36mautocare_tx_model.core.trainer.det_trainer\u001b[0m:\u001b[36mbefore_epoch\u001b[0m:\u001b[36m143\u001b[0m - \u001b[1m---> start train epoch34\u001b[0m\n"
     ]
    },
    {
     "name": "stdout",
     "output_type": "stream",
     "text": [
      "Loading and preparing results...\n",
      "DONE (t=0.00s)\n",
      "creating index...\n",
      "index created!\n",
      "Evaluate annotation type *bbox*\n",
      "COCOeval_opt.evaluate() finished in 0.00 seconds.\n"
     ]
    },
    {
     "name": "stderr",
     "output_type": "stream",
     "text": [
      "\u001b[32m2023-05-03 13:30:55.775\u001b[0m | \u001b[1mINFO    \u001b[0m | \u001b[36mautocare_tx_model.core.trainer.det_trainer\u001b[0m:\u001b[36mtrain_one_iter\u001b[0m:\u001b[36m276\u001b[0m - \u001b[1mepoch 34 [1/5] - lr: 0.002268 train loss: 0.708682 reg_loss: 0.308316 obj_loss: 0.115699 cls_loss: 0.284667\u001b[0m\n",
      "\u001b[32m2023-05-03 13:30:55.918\u001b[0m | \u001b[1mINFO    \u001b[0m | \u001b[36mautocare_tx_model.core.trainer.det_trainer\u001b[0m:\u001b[36mevaluate_and_save_model\u001b[0m:\u001b[36m201\u001b[0m - \u001b[1mValidation start...\u001b[0m\n",
      "\u001b[32m2023-05-03 13:30:56.097\u001b[0m | \u001b[1mINFO    \u001b[0m | \u001b[36mautocare_tx_model.core.trainer.det_trainer\u001b[0m:\u001b[36mevaluate_and_save_model\u001b[0m:\u001b[36m212\u001b[0m - \u001b[1mEvaluate..\u001b[0m\n",
      "\u001b[32m2023-05-03 13:30:56.101\u001b[0m | \u001b[1mINFO    \u001b[0m | \u001b[36mautocare_tx_model.core.trainer.det_trainer\u001b[0m:\u001b[36mevaluate_and_save_model\u001b[0m:\u001b[36m227\u001b[0m - \u001b[1m\n",
      " Average Precision  (AP) @[ IoU=0.50:0.95 | area=   all | maxDets=100 ] = 0.012\n",
      " Average Precision  (AP) @[ IoU=0.50      | area=   all | maxDets=100 ] = 0.064\n",
      " Average Precision  (AP) @[ IoU=0.75      | area=   all | maxDets=100 ] = 0.000\n",
      " Average Precision  (AP) @[ IoU=0.50:0.95 | area= small | maxDets=100 ] = 0.000\n",
      " Average Precision  (AP) @[ IoU=0.50:0.95 | area=medium | maxDets=100 ] = 0.024\n",
      " Average Precision  (AP) @[ IoU=0.50:0.95 | area= large | maxDets=100 ] = -1.000\n",
      " Average Recall     (AR) @[ IoU=0.50:0.95 | area=   all | maxDets=  1 ] = 0.014\n",
      " Average Recall     (AR) @[ IoU=0.50:0.95 | area=   all | maxDets= 10 ] = 0.057\n",
      " Average Recall     (AR) @[ IoU=0.50:0.95 | area=   all | maxDets=100 ] = 0.057\n",
      " Average Recall     (AR) @[ IoU=0.50:0.95 | area= small | maxDets=100 ] = 0.000\n",
      " Average Recall     (AR) @[ IoU=0.50:0.95 | area=medium | maxDets=100 ] = 0.114\n",
      " Average Recall     (AR) @[ IoU=0.50:0.95 | area= large | maxDets=100 ] = -1.000\n",
      "\u001b[0m\n",
      "\u001b[32m2023-05-03 13:30:56.102\u001b[0m | \u001b[1mINFO    \u001b[0m | \u001b[36mautocare_tx_model.core.trainer.base_trainer\u001b[0m:\u001b[36msave_ckpt\u001b[0m:\u001b[36m302\u001b[0m - \u001b[1mSave weights to hubs/tx_model_mnist_detection/artifacts/train\u001b[0m\n",
      "\u001b[32m2023-05-03 13:30:56.155\u001b[0m | \u001b[1mINFO    \u001b[0m | \u001b[36mautocare_tx_model.core.trainer.det_trainer\u001b[0m:\u001b[36mbefore_epoch\u001b[0m:\u001b[36m143\u001b[0m - \u001b[1m---> start train epoch35\u001b[0m\n"
     ]
    },
    {
     "name": "stdout",
     "output_type": "stream",
     "text": [
      "Loading and preparing results...\n",
      "DONE (t=0.00s)\n",
      "creating index...\n",
      "index created!\n",
      "Evaluate annotation type *bbox*\n",
      "COCOeval_opt.evaluate() finished in 0.00 seconds.\n"
     ]
    },
    {
     "name": "stderr",
     "output_type": "stream",
     "text": [
      "\u001b[32m2023-05-03 13:30:56.395\u001b[0m | \u001b[1mINFO    \u001b[0m | \u001b[36mautocare_tx_model.core.trainer.det_trainer\u001b[0m:\u001b[36mtrain_one_iter\u001b[0m:\u001b[36m276\u001b[0m - \u001b[1mepoch 35 [1/5] - lr: 0.002010 train loss: 1.337399 reg_loss: 0.318800 obj_loss: 0.120668 cls_loss: 0.897931\u001b[0m\n",
      "\u001b[32m2023-05-03 13:30:56.539\u001b[0m | \u001b[1mINFO    \u001b[0m | \u001b[36mautocare_tx_model.core.trainer.det_trainer\u001b[0m:\u001b[36mevaluate_and_save_model\u001b[0m:\u001b[36m201\u001b[0m - \u001b[1mValidation start...\u001b[0m\n",
      "\u001b[32m2023-05-03 13:30:56.717\u001b[0m | \u001b[1mINFO    \u001b[0m | \u001b[36mautocare_tx_model.core.trainer.det_trainer\u001b[0m:\u001b[36mevaluate_and_save_model\u001b[0m:\u001b[36m212\u001b[0m - \u001b[1mEvaluate..\u001b[0m\n",
      "\u001b[32m2023-05-03 13:30:56.721\u001b[0m | \u001b[1mINFO    \u001b[0m | \u001b[36mautocare_tx_model.core.trainer.det_trainer\u001b[0m:\u001b[36mevaluate_and_save_model\u001b[0m:\u001b[36m227\u001b[0m - \u001b[1m\n",
      " Average Precision  (AP) @[ IoU=0.50:0.95 | area=   all | maxDets=100 ] = 0.033\n",
      " Average Precision  (AP) @[ IoU=0.50      | area=   all | maxDets=100 ] = 0.104\n",
      " Average Precision  (AP) @[ IoU=0.75      | area=   all | maxDets=100 ] = 0.000\n",
      " Average Precision  (AP) @[ IoU=0.50:0.95 | area= small | maxDets=100 ] = 0.000\n",
      " Average Precision  (AP) @[ IoU=0.50:0.95 | area=medium | maxDets=100 ] = 0.066\n",
      " Average Precision  (AP) @[ IoU=0.50:0.95 | area= large | maxDets=100 ] = -1.000\n",
      " Average Recall     (AR) @[ IoU=0.50:0.95 | area=   all | maxDets=  1 ] = 0.007\n",
      " Average Recall     (AR) @[ IoU=0.50:0.95 | area=   all | maxDets= 10 ] = 0.107\n",
      " Average Recall     (AR) @[ IoU=0.50:0.95 | area=   all | maxDets=100 ] = 0.107\n",
      " Average Recall     (AR) @[ IoU=0.50:0.95 | area= small | maxDets=100 ] = 0.000\n",
      " Average Recall     (AR) @[ IoU=0.50:0.95 | area=medium | maxDets=100 ] = 0.214\n",
      " Average Recall     (AR) @[ IoU=0.50:0.95 | area= large | maxDets=100 ] = -1.000\n",
      "\u001b[0m\n",
      "\u001b[32m2023-05-03 13:30:56.722\u001b[0m | \u001b[1mINFO    \u001b[0m | \u001b[36mautocare_tx_model.core.trainer.base_trainer\u001b[0m:\u001b[36msave_ckpt\u001b[0m:\u001b[36m302\u001b[0m - \u001b[1mSave weights to hubs/tx_model_mnist_detection/artifacts/train\u001b[0m\n",
      "\u001b[32m2023-05-03 13:30:56.776\u001b[0m | \u001b[1mINFO    \u001b[0m | \u001b[36mautocare_tx_model.core.trainer.det_trainer\u001b[0m:\u001b[36mbefore_epoch\u001b[0m:\u001b[36m143\u001b[0m - \u001b[1m---> start train epoch36\u001b[0m\n"
     ]
    },
    {
     "name": "stdout",
     "output_type": "stream",
     "text": [
      "Loading and preparing results...\n",
      "DONE (t=0.00s)\n",
      "creating index...\n",
      "index created!\n",
      "Evaluate annotation type *bbox*\n",
      "COCOeval_opt.evaluate() finished in 0.00 seconds.\n"
     ]
    },
    {
     "name": "stderr",
     "output_type": "stream",
     "text": [
      "\u001b[32m2023-05-03 13:30:57.013\u001b[0m | \u001b[1mINFO    \u001b[0m | \u001b[36mautocare_tx_model.core.trainer.det_trainer\u001b[0m:\u001b[36mtrain_one_iter\u001b[0m:\u001b[36m276\u001b[0m - \u001b[1mepoch 36 [1/5] - lr: 0.001765 train loss: 1.631153 reg_loss: 0.321505 obj_loss: 0.119930 cls_loss: 1.189718\u001b[0m\n",
      "\u001b[32m2023-05-03 13:30:57.160\u001b[0m | \u001b[1mINFO    \u001b[0m | \u001b[36mautocare_tx_model.core.trainer.det_trainer\u001b[0m:\u001b[36mevaluate_and_save_model\u001b[0m:\u001b[36m201\u001b[0m - \u001b[1mValidation start...\u001b[0m\n",
      "\u001b[32m2023-05-03 13:30:57.337\u001b[0m | \u001b[1mINFO    \u001b[0m | \u001b[36mautocare_tx_model.core.trainer.det_trainer\u001b[0m:\u001b[36mevaluate_and_save_model\u001b[0m:\u001b[36m212\u001b[0m - \u001b[1mEvaluate..\u001b[0m\n",
      "\u001b[32m2023-05-03 13:30:57.342\u001b[0m | \u001b[1mINFO    \u001b[0m | \u001b[36mautocare_tx_model.core.trainer.det_trainer\u001b[0m:\u001b[36mevaluate_and_save_model\u001b[0m:\u001b[36m227\u001b[0m - \u001b[1m\n",
      " Average Precision  (AP) @[ IoU=0.50:0.95 | area=   all | maxDets=100 ] = 0.043\n",
      " Average Precision  (AP) @[ IoU=0.50      | area=   all | maxDets=100 ] = 0.152\n",
      " Average Precision  (AP) @[ IoU=0.75      | area=   all | maxDets=100 ] = 0.015\n",
      " Average Precision  (AP) @[ IoU=0.50:0.95 | area= small | maxDets=100 ] = 0.000\n",
      " Average Precision  (AP) @[ IoU=0.50:0.95 | area=medium | maxDets=100 ] = 0.087\n",
      " Average Precision  (AP) @[ IoU=0.50:0.95 | area= large | maxDets=100 ] = -1.000\n",
      " Average Recall     (AR) @[ IoU=0.50:0.95 | area=   all | maxDets=  1 ] = 0.057\n",
      " Average Recall     (AR) @[ IoU=0.50:0.95 | area=   all | maxDets= 10 ] = 0.129\n",
      " Average Recall     (AR) @[ IoU=0.50:0.95 | area=   all | maxDets=100 ] = 0.129\n",
      " Average Recall     (AR) @[ IoU=0.50:0.95 | area= small | maxDets=100 ] = 0.000\n",
      " Average Recall     (AR) @[ IoU=0.50:0.95 | area=medium | maxDets=100 ] = 0.257\n",
      " Average Recall     (AR) @[ IoU=0.50:0.95 | area= large | maxDets=100 ] = -1.000\n",
      "\u001b[0m\n",
      "\u001b[32m2023-05-03 13:30:57.342\u001b[0m | \u001b[1mINFO    \u001b[0m | \u001b[36mautocare_tx_model.core.trainer.base_trainer\u001b[0m:\u001b[36msave_ckpt\u001b[0m:\u001b[36m302\u001b[0m - \u001b[1mSave weights to hubs/tx_model_mnist_detection/artifacts/train\u001b[0m\n",
      "\u001b[32m2023-05-03 13:30:57.395\u001b[0m | \u001b[1mINFO    \u001b[0m | \u001b[36mautocare_tx_model.core.trainer.det_trainer\u001b[0m:\u001b[36mbefore_epoch\u001b[0m:\u001b[36m143\u001b[0m - \u001b[1m---> start train epoch37\u001b[0m\n"
     ]
    },
    {
     "name": "stdout",
     "output_type": "stream",
     "text": [
      "Loading and preparing results...\n",
      "DONE (t=0.00s)\n",
      "creating index...\n",
      "index created!\n",
      "Evaluate annotation type *bbox*\n",
      "COCOeval_opt.evaluate() finished in 0.00 seconds.\n"
     ]
    },
    {
     "name": "stderr",
     "output_type": "stream",
     "text": [
      "\u001b[32m2023-05-03 13:30:57.642\u001b[0m | \u001b[1mINFO    \u001b[0m | \u001b[36mautocare_tx_model.core.trainer.det_trainer\u001b[0m:\u001b[36mtrain_one_iter\u001b[0m:\u001b[36m276\u001b[0m - \u001b[1mepoch 37 [1/5] - lr: 0.001532 train loss: 0.697975 reg_loss: 0.314334 obj_loss: 0.114642 cls_loss: 0.268999\u001b[0m\n",
      "\u001b[32m2023-05-03 13:30:57.789\u001b[0m | \u001b[1mINFO    \u001b[0m | \u001b[36mautocare_tx_model.core.trainer.det_trainer\u001b[0m:\u001b[36mevaluate_and_save_model\u001b[0m:\u001b[36m201\u001b[0m - \u001b[1mValidation start...\u001b[0m\n",
      "\u001b[32m2023-05-03 13:30:57.966\u001b[0m | \u001b[1mINFO    \u001b[0m | \u001b[36mautocare_tx_model.core.trainer.det_trainer\u001b[0m:\u001b[36mevaluate_and_save_model\u001b[0m:\u001b[36m212\u001b[0m - \u001b[1mEvaluate..\u001b[0m\n",
      "\u001b[32m2023-05-03 13:30:57.970\u001b[0m | \u001b[1mINFO    \u001b[0m | \u001b[36mautocare_tx_model.core.trainer.det_trainer\u001b[0m:\u001b[36mevaluate_and_save_model\u001b[0m:\u001b[36m227\u001b[0m - \u001b[1m\n",
      " Average Precision  (AP) @[ IoU=0.50:0.95 | area=   all | maxDets=100 ] = 0.011\n",
      " Average Precision  (AP) @[ IoU=0.50      | area=   all | maxDets=100 ] = 0.048\n",
      " Average Precision  (AP) @[ IoU=0.75      | area=   all | maxDets=100 ] = 0.000\n",
      " Average Precision  (AP) @[ IoU=0.50:0.95 | area= small | maxDets=100 ] = 0.000\n",
      " Average Precision  (AP) @[ IoU=0.50:0.95 | area=medium | maxDets=100 ] = 0.023\n",
      " Average Precision  (AP) @[ IoU=0.50:0.95 | area= large | maxDets=100 ] = -1.000\n",
      " Average Recall     (AR) @[ IoU=0.50:0.95 | area=   all | maxDets=  1 ] = 0.000\n",
      " Average Recall     (AR) @[ IoU=0.50:0.95 | area=   all | maxDets= 10 ] = 0.036\n",
      " Average Recall     (AR) @[ IoU=0.50:0.95 | area=   all | maxDets=100 ] = 0.036\n",
      " Average Recall     (AR) @[ IoU=0.50:0.95 | area= small | maxDets=100 ] = 0.000\n",
      " Average Recall     (AR) @[ IoU=0.50:0.95 | area=medium | maxDets=100 ] = 0.071\n",
      " Average Recall     (AR) @[ IoU=0.50:0.95 | area= large | maxDets=100 ] = -1.000\n",
      "\u001b[0m\n",
      "\u001b[32m2023-05-03 13:30:57.970\u001b[0m | \u001b[1mINFO    \u001b[0m | \u001b[36mautocare_tx_model.core.trainer.base_trainer\u001b[0m:\u001b[36msave_ckpt\u001b[0m:\u001b[36m302\u001b[0m - \u001b[1mSave weights to hubs/tx_model_mnist_detection/artifacts/train\u001b[0m\n",
      "\u001b[32m2023-05-03 13:30:58.023\u001b[0m | \u001b[1mINFO    \u001b[0m | \u001b[36mautocare_tx_model.core.trainer.det_trainer\u001b[0m:\u001b[36mbefore_epoch\u001b[0m:\u001b[36m143\u001b[0m - \u001b[1m---> start train epoch38\u001b[0m\n"
     ]
    },
    {
     "name": "stdout",
     "output_type": "stream",
     "text": [
      "Loading and preparing results...\n",
      "DONE (t=0.00s)\n",
      "creating index...\n",
      "index created!\n",
      "Evaluate annotation type *bbox*\n",
      "COCOeval_opt.evaluate() finished in 0.00 seconds.\n"
     ]
    },
    {
     "name": "stderr",
     "output_type": "stream",
     "text": [
      "\u001b[32m2023-05-03 13:30:58.272\u001b[0m | \u001b[1mINFO    \u001b[0m | \u001b[36mautocare_tx_model.core.trainer.det_trainer\u001b[0m:\u001b[36mtrain_one_iter\u001b[0m:\u001b[36m276\u001b[0m - \u001b[1mepoch 38 [1/5] - lr: 0.001312 train loss: 1.240886 reg_loss: 0.326866 obj_loss: 0.119011 cls_loss: 0.795009\u001b[0m\n",
      "\u001b[32m2023-05-03 13:30:58.415\u001b[0m | \u001b[1mINFO    \u001b[0m | \u001b[36mautocare_tx_model.core.trainer.det_trainer\u001b[0m:\u001b[36mevaluate_and_save_model\u001b[0m:\u001b[36m201\u001b[0m - \u001b[1mValidation start...\u001b[0m\n",
      "\u001b[32m2023-05-03 13:30:58.591\u001b[0m | \u001b[1mINFO    \u001b[0m | \u001b[36mautocare_tx_model.core.trainer.det_trainer\u001b[0m:\u001b[36mevaluate_and_save_model\u001b[0m:\u001b[36m212\u001b[0m - \u001b[1mEvaluate..\u001b[0m\n",
      "\u001b[32m2023-05-03 13:30:58.596\u001b[0m | \u001b[1mINFO    \u001b[0m | \u001b[36mautocare_tx_model.core.trainer.det_trainer\u001b[0m:\u001b[36mevaluate_and_save_model\u001b[0m:\u001b[36m227\u001b[0m - \u001b[1m\n",
      " Average Precision  (AP) @[ IoU=0.50:0.95 | area=   all | maxDets=100 ] = 0.064\n",
      " Average Precision  (AP) @[ IoU=0.50      | area=   all | maxDets=100 ] = 0.196\n",
      " Average Precision  (AP) @[ IoU=0.75      | area=   all | maxDets=100 ] = 0.000\n",
      " Average Precision  (AP) @[ IoU=0.50:0.95 | area= small | maxDets=100 ] = 0.142\n",
      " Average Precision  (AP) @[ IoU=0.50:0.95 | area=medium | maxDets=100 ] = 0.101\n",
      " Average Precision  (AP) @[ IoU=0.50:0.95 | area= large | maxDets=100 ] = -1.000\n",
      " Average Recall     (AR) @[ IoU=0.50:0.95 | area=   all | maxDets=  1 ] = 0.100\n",
      " Average Recall     (AR) @[ IoU=0.50:0.95 | area=   all | maxDets= 10 ] = 0.167\n",
      " Average Recall     (AR) @[ IoU=0.50:0.95 | area=   all | maxDets=100 ] = 0.167\n",
      " Average Recall     (AR) @[ IoU=0.50:0.95 | area= small | maxDets=100 ] = 0.233\n",
      " Average Recall     (AR) @[ IoU=0.50:0.95 | area=medium | maxDets=100 ] = 0.100\n",
      " Average Recall     (AR) @[ IoU=0.50:0.95 | area= large | maxDets=100 ] = -1.000\n",
      "\u001b[0m\n",
      "\u001b[32m2023-05-03 13:30:58.596\u001b[0m | \u001b[1mINFO    \u001b[0m | \u001b[36mautocare_tx_model.core.trainer.base_trainer\u001b[0m:\u001b[36msave_ckpt\u001b[0m:\u001b[36m302\u001b[0m - \u001b[1mSave weights to hubs/tx_model_mnist_detection/artifacts/train\u001b[0m\n",
      "\u001b[32m2023-05-03 13:30:58.676\u001b[0m | \u001b[1mINFO    \u001b[0m | \u001b[36mautocare_tx_model.core.trainer.det_trainer\u001b[0m:\u001b[36mbefore_epoch\u001b[0m:\u001b[36m143\u001b[0m - \u001b[1m---> start train epoch39\u001b[0m\n"
     ]
    },
    {
     "name": "stdout",
     "output_type": "stream",
     "text": [
      "Loading and preparing results...\n",
      "DONE (t=0.00s)\n",
      "creating index...\n",
      "index created!\n",
      "Evaluate annotation type *bbox*\n",
      "COCOeval_opt.evaluate() finished in 0.00 seconds.\n"
     ]
    },
    {
     "name": "stderr",
     "output_type": "stream",
     "text": [
      "\u001b[32m2023-05-03 13:30:58.925\u001b[0m | \u001b[1mINFO    \u001b[0m | \u001b[36mautocare_tx_model.core.trainer.det_trainer\u001b[0m:\u001b[36mtrain_one_iter\u001b[0m:\u001b[36m276\u001b[0m - \u001b[1mepoch 39 [1/5] - lr: 0.001108 train loss: 1.794280 reg_loss: 0.362008 obj_loss: 0.103507 cls_loss: 1.328765\u001b[0m\n",
      "\u001b[32m2023-05-03 13:30:59.070\u001b[0m | \u001b[1mINFO    \u001b[0m | \u001b[36mautocare_tx_model.core.trainer.det_trainer\u001b[0m:\u001b[36mevaluate_and_save_model\u001b[0m:\u001b[36m201\u001b[0m - \u001b[1mValidation start...\u001b[0m\n",
      "\u001b[32m2023-05-03 13:30:59.246\u001b[0m | \u001b[1mINFO    \u001b[0m | \u001b[36mautocare_tx_model.core.trainer.det_trainer\u001b[0m:\u001b[36mevaluate_and_save_model\u001b[0m:\u001b[36m212\u001b[0m - \u001b[1mEvaluate..\u001b[0m\n",
      "\u001b[32m2023-05-03 13:30:59.251\u001b[0m | \u001b[1mINFO    \u001b[0m | \u001b[36mautocare_tx_model.core.trainer.det_trainer\u001b[0m:\u001b[36mevaluate_and_save_model\u001b[0m:\u001b[36m227\u001b[0m - \u001b[1m\n",
      " Average Precision  (AP) @[ IoU=0.50:0.95 | area=   all | maxDets=100 ] = 0.042\n",
      " Average Precision  (AP) @[ IoU=0.50      | area=   all | maxDets=100 ] = 0.199\n",
      " Average Precision  (AP) @[ IoU=0.75      | area=   all | maxDets=100 ] = 0.000\n",
      " Average Precision  (AP) @[ IoU=0.50:0.95 | area= small | maxDets=100 ] = 0.000\n",
      " Average Precision  (AP) @[ IoU=0.50:0.95 | area=medium | maxDets=100 ] = 0.084\n",
      " Average Precision  (AP) @[ IoU=0.50:0.95 | area= large | maxDets=100 ] = -1.000\n",
      " Average Recall     (AR) @[ IoU=0.50:0.95 | area=   all | maxDets=  1 ] = 0.057\n",
      " Average Recall     (AR) @[ IoU=0.50:0.95 | area=   all | maxDets= 10 ] = 0.057\n",
      " Average Recall     (AR) @[ IoU=0.50:0.95 | area=   all | maxDets=100 ] = 0.057\n",
      " Average Recall     (AR) @[ IoU=0.50:0.95 | area= small | maxDets=100 ] = 0.000\n",
      " Average Recall     (AR) @[ IoU=0.50:0.95 | area=medium | maxDets=100 ] = 0.114\n",
      " Average Recall     (AR) @[ IoU=0.50:0.95 | area= large | maxDets=100 ] = -1.000\n",
      "\u001b[0m\n",
      "\u001b[32m2023-05-03 13:30:59.252\u001b[0m | \u001b[1mINFO    \u001b[0m | \u001b[36mautocare_tx_model.core.trainer.base_trainer\u001b[0m:\u001b[36msave_ckpt\u001b[0m:\u001b[36m302\u001b[0m - \u001b[1mSave weights to hubs/tx_model_mnist_detection/artifacts/train\u001b[0m\n",
      "\u001b[32m2023-05-03 13:30:59.305\u001b[0m | \u001b[1mINFO    \u001b[0m | \u001b[36mautocare_tx_model.core.trainer.det_trainer\u001b[0m:\u001b[36mbefore_epoch\u001b[0m:\u001b[36m143\u001b[0m - \u001b[1m---> start train epoch40\u001b[0m\n"
     ]
    },
    {
     "name": "stdout",
     "output_type": "stream",
     "text": [
      "Loading and preparing results...\n",
      "DONE (t=0.00s)\n",
      "creating index...\n",
      "index created!\n",
      "Evaluate annotation type *bbox*\n",
      "COCOeval_opt.evaluate() finished in 0.00 seconds.\n"
     ]
    },
    {
     "name": "stderr",
     "output_type": "stream",
     "text": [
      "\u001b[32m2023-05-03 13:30:59.550\u001b[0m | \u001b[1mINFO    \u001b[0m | \u001b[36mautocare_tx_model.core.trainer.det_trainer\u001b[0m:\u001b[36mtrain_one_iter\u001b[0m:\u001b[36m276\u001b[0m - \u001b[1mepoch 40 [1/5] - lr: 0.000918 train loss: 1.460464 reg_loss: 0.310488 obj_loss: 0.126525 cls_loss: 1.023451\u001b[0m\n",
      "\u001b[32m2023-05-03 13:30:59.693\u001b[0m | \u001b[1mINFO    \u001b[0m | \u001b[36mautocare_tx_model.core.trainer.det_trainer\u001b[0m:\u001b[36mevaluate_and_save_model\u001b[0m:\u001b[36m201\u001b[0m - \u001b[1mValidation start...\u001b[0m\n",
      "\u001b[32m2023-05-03 13:30:59.869\u001b[0m | \u001b[1mINFO    \u001b[0m | \u001b[36mautocare_tx_model.core.trainer.det_trainer\u001b[0m:\u001b[36mevaluate_and_save_model\u001b[0m:\u001b[36m212\u001b[0m - \u001b[1mEvaluate..\u001b[0m\n",
      "\u001b[32m2023-05-03 13:30:59.874\u001b[0m | \u001b[1mINFO    \u001b[0m | \u001b[36mautocare_tx_model.core.trainer.det_trainer\u001b[0m:\u001b[36mevaluate_and_save_model\u001b[0m:\u001b[36m227\u001b[0m - \u001b[1m\n",
      " Average Precision  (AP) @[ IoU=0.50:0.95 | area=   all | maxDets=100 ] = 0.057\n",
      " Average Precision  (AP) @[ IoU=0.50      | area=   all | maxDets=100 ] = 0.287\n",
      " Average Precision  (AP) @[ IoU=0.75      | area=   all | maxDets=100 ] = 0.000\n",
      " Average Precision  (AP) @[ IoU=0.50:0.95 | area= small | maxDets=100 ] = 0.000\n",
      " Average Precision  (AP) @[ IoU=0.50:0.95 | area=medium | maxDets=100 ] = 0.114\n",
      " Average Precision  (AP) @[ IoU=0.50:0.95 | area= large | maxDets=100 ] = -1.000\n",
      " Average Recall     (AR) @[ IoU=0.50:0.95 | area=   all | maxDets=  1 ] = 0.064\n",
      " Average Recall     (AR) @[ IoU=0.50:0.95 | area=   all | maxDets= 10 ] = 0.093\n",
      " Average Recall     (AR) @[ IoU=0.50:0.95 | area=   all | maxDets=100 ] = 0.093\n",
      " Average Recall     (AR) @[ IoU=0.50:0.95 | area= small | maxDets=100 ] = 0.000\n",
      " Average Recall     (AR) @[ IoU=0.50:0.95 | area=medium | maxDets=100 ] = 0.186\n",
      " Average Recall     (AR) @[ IoU=0.50:0.95 | area= large | maxDets=100 ] = -1.000\n",
      "\u001b[0m\n",
      "\u001b[32m2023-05-03 13:30:59.874\u001b[0m | \u001b[1mINFO    \u001b[0m | \u001b[36mautocare_tx_model.core.trainer.base_trainer\u001b[0m:\u001b[36msave_ckpt\u001b[0m:\u001b[36m302\u001b[0m - \u001b[1mSave weights to hubs/tx_model_mnist_detection/artifacts/train\u001b[0m\n",
      "\u001b[32m2023-05-03 13:30:59.928\u001b[0m | \u001b[1mINFO    \u001b[0m | \u001b[36mautocare_tx_model.core.trainer.det_trainer\u001b[0m:\u001b[36mbefore_epoch\u001b[0m:\u001b[36m143\u001b[0m - \u001b[1m---> start train epoch41\u001b[0m\n"
     ]
    },
    {
     "name": "stdout",
     "output_type": "stream",
     "text": [
      "Loading and preparing results...\n",
      "DONE (t=0.00s)\n",
      "creating index...\n",
      "index created!\n",
      "Evaluate annotation type *bbox*\n",
      "COCOeval_opt.evaluate() finished in 0.00 seconds.\n"
     ]
    },
    {
     "name": "stderr",
     "output_type": "stream",
     "text": [
      "\u001b[32m2023-05-03 13:31:00.165\u001b[0m | \u001b[1mINFO    \u001b[0m | \u001b[36mautocare_tx_model.core.trainer.det_trainer\u001b[0m:\u001b[36mtrain_one_iter\u001b[0m:\u001b[36m276\u001b[0m - \u001b[1mepoch 41 [1/5] - lr: 0.000745 train loss: 1.492581 reg_loss: 0.316655 obj_loss: 0.116548 cls_loss: 1.059378\u001b[0m\n",
      "\u001b[32m2023-05-03 13:31:00.319\u001b[0m | \u001b[1mINFO    \u001b[0m | \u001b[36mautocare_tx_model.core.trainer.det_trainer\u001b[0m:\u001b[36mevaluate_and_save_model\u001b[0m:\u001b[36m201\u001b[0m - \u001b[1mValidation start...\u001b[0m\n",
      "\u001b[32m2023-05-03 13:31:00.496\u001b[0m | \u001b[1mINFO    \u001b[0m | \u001b[36mautocare_tx_model.core.trainer.det_trainer\u001b[0m:\u001b[36mevaluate_and_save_model\u001b[0m:\u001b[36m212\u001b[0m - \u001b[1mEvaluate..\u001b[0m\n",
      "\u001b[32m2023-05-03 13:31:00.501\u001b[0m | \u001b[1mINFO    \u001b[0m | \u001b[36mautocare_tx_model.core.trainer.det_trainer\u001b[0m:\u001b[36mevaluate_and_save_model\u001b[0m:\u001b[36m227\u001b[0m - \u001b[1m\n",
      " Average Precision  (AP) @[ IoU=0.50:0.95 | area=   all | maxDets=100 ] = 0.065\n",
      " Average Precision  (AP) @[ IoU=0.50      | area=   all | maxDets=100 ] = 0.287\n",
      " Average Precision  (AP) @[ IoU=0.75      | area=   all | maxDets=100 ] = 0.000\n",
      " Average Precision  (AP) @[ IoU=0.50:0.95 | area= small | maxDets=100 ] = 0.000\n",
      " Average Precision  (AP) @[ IoU=0.50:0.95 | area=medium | maxDets=100 ] = 0.130\n",
      " Average Precision  (AP) @[ IoU=0.50:0.95 | area= large | maxDets=100 ] = -1.000\n",
      " Average Recall     (AR) @[ IoU=0.50:0.95 | area=   all | maxDets=  1 ] = 0.086\n",
      " Average Recall     (AR) @[ IoU=0.50:0.95 | area=   all | maxDets= 10 ] = 0.114\n",
      " Average Recall     (AR) @[ IoU=0.50:0.95 | area=   all | maxDets=100 ] = 0.114\n",
      " Average Recall     (AR) @[ IoU=0.50:0.95 | area= small | maxDets=100 ] = 0.000\n",
      " Average Recall     (AR) @[ IoU=0.50:0.95 | area=medium | maxDets=100 ] = 0.229\n",
      " Average Recall     (AR) @[ IoU=0.50:0.95 | area= large | maxDets=100 ] = -1.000\n",
      "\u001b[0m\n",
      "\u001b[32m2023-05-03 13:31:00.501\u001b[0m | \u001b[1mINFO    \u001b[0m | \u001b[36mautocare_tx_model.core.trainer.base_trainer\u001b[0m:\u001b[36msave_ckpt\u001b[0m:\u001b[36m302\u001b[0m - \u001b[1mSave weights to hubs/tx_model_mnist_detection/artifacts/train\u001b[0m\n",
      "\u001b[32m2023-05-03 13:31:00.577\u001b[0m | \u001b[1mINFO    \u001b[0m | \u001b[36mautocare_tx_model.core.trainer.det_trainer\u001b[0m:\u001b[36mbefore_epoch\u001b[0m:\u001b[36m143\u001b[0m - \u001b[1m---> start train epoch42\u001b[0m\n"
     ]
    },
    {
     "name": "stdout",
     "output_type": "stream",
     "text": [
      "Loading and preparing results...\n",
      "DONE (t=0.00s)\n",
      "creating index...\n",
      "index created!\n",
      "Evaluate annotation type *bbox*\n",
      "COCOeval_opt.evaluate() finished in 0.00 seconds.\n"
     ]
    },
    {
     "name": "stderr",
     "output_type": "stream",
     "text": [
      "\u001b[32m2023-05-03 13:31:00.829\u001b[0m | \u001b[1mINFO    \u001b[0m | \u001b[36mautocare_tx_model.core.trainer.det_trainer\u001b[0m:\u001b[36mtrain_one_iter\u001b[0m:\u001b[36m276\u001b[0m - \u001b[1mepoch 42 [1/5] - lr: 0.000589 train loss: 0.700948 reg_loss: 0.297589 obj_loss: 0.123728 cls_loss: 0.279631\u001b[0m\n",
      "\u001b[32m2023-05-03 13:31:00.977\u001b[0m | \u001b[1mINFO    \u001b[0m | \u001b[36mautocare_tx_model.core.trainer.det_trainer\u001b[0m:\u001b[36mevaluate_and_save_model\u001b[0m:\u001b[36m201\u001b[0m - \u001b[1mValidation start...\u001b[0m\n",
      "\u001b[32m2023-05-03 13:31:01.152\u001b[0m | \u001b[1mINFO    \u001b[0m | \u001b[36mautocare_tx_model.core.trainer.det_trainer\u001b[0m:\u001b[36mevaluate_and_save_model\u001b[0m:\u001b[36m212\u001b[0m - \u001b[1mEvaluate..\u001b[0m\n",
      "\u001b[32m2023-05-03 13:31:01.156\u001b[0m | \u001b[1mINFO    \u001b[0m | \u001b[36mautocare_tx_model.core.trainer.det_trainer\u001b[0m:\u001b[36mevaluate_and_save_model\u001b[0m:\u001b[36m227\u001b[0m - \u001b[1m\n",
      " Average Precision  (AP) @[ IoU=0.50:0.95 | area=   all | maxDets=100 ] = 0.070\n",
      " Average Precision  (AP) @[ IoU=0.50      | area=   all | maxDets=100 ] = 0.202\n",
      " Average Precision  (AP) @[ IoU=0.75      | area=   all | maxDets=100 ] = 0.019\n",
      " Average Precision  (AP) @[ IoU=0.50:0.95 | area= small | maxDets=100 ] = 0.000\n",
      " Average Precision  (AP) @[ IoU=0.50:0.95 | area=medium | maxDets=100 ] = 0.141\n",
      " Average Precision  (AP) @[ IoU=0.50:0.95 | area= large | maxDets=100 ] = -1.000\n",
      " Average Recall     (AR) @[ IoU=0.50:0.95 | area=   all | maxDets=  1 ] = 0.086\n",
      " Average Recall     (AR) @[ IoU=0.50:0.95 | area=   all | maxDets= 10 ] = 0.129\n",
      " Average Recall     (AR) @[ IoU=0.50:0.95 | area=   all | maxDets=100 ] = 0.129\n",
      " Average Recall     (AR) @[ IoU=0.50:0.95 | area= small | maxDets=100 ] = 0.000\n",
      " Average Recall     (AR) @[ IoU=0.50:0.95 | area=medium | maxDets=100 ] = 0.257\n",
      " Average Recall     (AR) @[ IoU=0.50:0.95 | area= large | maxDets=100 ] = -1.000\n",
      "\u001b[0m\n",
      "\u001b[32m2023-05-03 13:31:01.157\u001b[0m | \u001b[1mINFO    \u001b[0m | \u001b[36mautocare_tx_model.core.trainer.base_trainer\u001b[0m:\u001b[36msave_ckpt\u001b[0m:\u001b[36m302\u001b[0m - \u001b[1mSave weights to hubs/tx_model_mnist_detection/artifacts/train\u001b[0m\n",
      "\u001b[32m2023-05-03 13:31:01.236\u001b[0m | \u001b[1mINFO    \u001b[0m | \u001b[36mautocare_tx_model.core.trainer.det_trainer\u001b[0m:\u001b[36mbefore_epoch\u001b[0m:\u001b[36m143\u001b[0m - \u001b[1m---> start train epoch43\u001b[0m\n"
     ]
    },
    {
     "name": "stdout",
     "output_type": "stream",
     "text": [
      "Loading and preparing results...\n",
      "DONE (t=0.00s)\n",
      "creating index...\n",
      "index created!\n",
      "Evaluate annotation type *bbox*\n",
      "COCOeval_opt.evaluate() finished in 0.00 seconds.\n"
     ]
    },
    {
     "name": "stderr",
     "output_type": "stream",
     "text": [
      "\u001b[32m2023-05-03 13:31:01.480\u001b[0m | \u001b[1mINFO    \u001b[0m | \u001b[36mautocare_tx_model.core.trainer.det_trainer\u001b[0m:\u001b[36mtrain_one_iter\u001b[0m:\u001b[36m276\u001b[0m - \u001b[1mepoch 43 [1/5] - lr: 0.000449 train loss: 2.074418 reg_loss: 0.316617 obj_loss: 0.110579 cls_loss: 1.647222\u001b[0m\n",
      "\u001b[32m2023-05-03 13:31:01.627\u001b[0m | \u001b[1mINFO    \u001b[0m | \u001b[36mautocare_tx_model.core.trainer.det_trainer\u001b[0m:\u001b[36mevaluate_and_save_model\u001b[0m:\u001b[36m201\u001b[0m - \u001b[1mValidation start...\u001b[0m\n",
      "\u001b[32m2023-05-03 13:31:01.804\u001b[0m | \u001b[1mINFO    \u001b[0m | \u001b[36mautocare_tx_model.core.trainer.det_trainer\u001b[0m:\u001b[36mevaluate_and_save_model\u001b[0m:\u001b[36m212\u001b[0m - \u001b[1mEvaluate..\u001b[0m\n",
      "\u001b[32m2023-05-03 13:31:01.809\u001b[0m | \u001b[1mINFO    \u001b[0m | \u001b[36mautocare_tx_model.core.trainer.det_trainer\u001b[0m:\u001b[36mevaluate_and_save_model\u001b[0m:\u001b[36m227\u001b[0m - \u001b[1m\n",
      " Average Precision  (AP) @[ IoU=0.50:0.95 | area=   all | maxDets=100 ] = 0.073\n",
      " Average Precision  (AP) @[ IoU=0.50      | area=   all | maxDets=100 ] = 0.367\n",
      " Average Precision  (AP) @[ IoU=0.75      | area=   all | maxDets=100 ] = 0.005\n",
      " Average Precision  (AP) @[ IoU=0.50:0.95 | area= small | maxDets=100 ] = 0.000\n",
      " Average Precision  (AP) @[ IoU=0.50:0.95 | area=medium | maxDets=100 ] = 0.147\n",
      " Average Precision  (AP) @[ IoU=0.50:0.95 | area= large | maxDets=100 ] = -1.000\n",
      " Average Recall     (AR) @[ IoU=0.50:0.95 | area=   all | maxDets=  1 ] = 0.114\n",
      " Average Recall     (AR) @[ IoU=0.50:0.95 | area=   all | maxDets= 10 ] = 0.171\n",
      " Average Recall     (AR) @[ IoU=0.50:0.95 | area=   all | maxDets=100 ] = 0.171\n",
      " Average Recall     (AR) @[ IoU=0.50:0.95 | area= small | maxDets=100 ] = 0.000\n",
      " Average Recall     (AR) @[ IoU=0.50:0.95 | area=medium | maxDets=100 ] = 0.343\n",
      " Average Recall     (AR) @[ IoU=0.50:0.95 | area= large | maxDets=100 ] = -1.000\n",
      "\u001b[0m\n",
      "\u001b[32m2023-05-03 13:31:01.809\u001b[0m | \u001b[1mINFO    \u001b[0m | \u001b[36mautocare_tx_model.core.trainer.base_trainer\u001b[0m:\u001b[36msave_ckpt\u001b[0m:\u001b[36m302\u001b[0m - \u001b[1mSave weights to hubs/tx_model_mnist_detection/artifacts/train\u001b[0m\n",
      "\u001b[32m2023-05-03 13:31:01.885\u001b[0m | \u001b[1mINFO    \u001b[0m | \u001b[36mautocare_tx_model.core.trainer.det_trainer\u001b[0m:\u001b[36mbefore_epoch\u001b[0m:\u001b[36m143\u001b[0m - \u001b[1m---> start train epoch44\u001b[0m\n"
     ]
    },
    {
     "name": "stdout",
     "output_type": "stream",
     "text": [
      "Loading and preparing results...\n",
      "DONE (t=0.00s)\n",
      "creating index...\n",
      "index created!\n",
      "Evaluate annotation type *bbox*\n",
      "COCOeval_opt.evaluate() finished in 0.00 seconds.\n"
     ]
    },
    {
     "name": "stderr",
     "output_type": "stream",
     "text": [
      "\u001b[32m2023-05-03 13:31:02.126\u001b[0m | \u001b[1mINFO    \u001b[0m | \u001b[36mautocare_tx_model.core.trainer.det_trainer\u001b[0m:\u001b[36mtrain_one_iter\u001b[0m:\u001b[36m276\u001b[0m - \u001b[1mepoch 44 [1/5] - lr: 0.000328 train loss: 0.984528 reg_loss: 0.327558 obj_loss: 0.116939 cls_loss: 0.540032\u001b[0m\n",
      "\u001b[32m2023-05-03 13:31:02.271\u001b[0m | \u001b[1mINFO    \u001b[0m | \u001b[36mautocare_tx_model.core.trainer.det_trainer\u001b[0m:\u001b[36mevaluate_and_save_model\u001b[0m:\u001b[36m201\u001b[0m - \u001b[1mValidation start...\u001b[0m\n",
      "\u001b[32m2023-05-03 13:31:02.449\u001b[0m | \u001b[1mINFO    \u001b[0m | \u001b[36mautocare_tx_model.core.trainer.det_trainer\u001b[0m:\u001b[36mevaluate_and_save_model\u001b[0m:\u001b[36m212\u001b[0m - \u001b[1mEvaluate..\u001b[0m\n",
      "\u001b[32m2023-05-03 13:31:02.454\u001b[0m | \u001b[1mINFO    \u001b[0m | \u001b[36mautocare_tx_model.core.trainer.det_trainer\u001b[0m:\u001b[36mevaluate_and_save_model\u001b[0m:\u001b[36m227\u001b[0m - \u001b[1m\n",
      " Average Precision  (AP) @[ IoU=0.50:0.95 | area=   all | maxDets=100 ] = 0.060\n",
      " Average Precision  (AP) @[ IoU=0.50      | area=   all | maxDets=100 ] = 0.276\n",
      " Average Precision  (AP) @[ IoU=0.75      | area=   all | maxDets=100 ] = 0.005\n",
      " Average Precision  (AP) @[ IoU=0.50:0.95 | area= small | maxDets=100 ] = 0.000\n",
      " Average Precision  (AP) @[ IoU=0.50:0.95 | area=medium | maxDets=100 ] = 0.121\n",
      " Average Precision  (AP) @[ IoU=0.50:0.95 | area= large | maxDets=100 ] = -1.000\n",
      " Average Recall     (AR) @[ IoU=0.50:0.95 | area=   all | maxDets=  1 ] = 0.100\n",
      " Average Recall     (AR) @[ IoU=0.50:0.95 | area=   all | maxDets= 10 ] = 0.171\n",
      " Average Recall     (AR) @[ IoU=0.50:0.95 | area=   all | maxDets=100 ] = 0.171\n",
      " Average Recall     (AR) @[ IoU=0.50:0.95 | area= small | maxDets=100 ] = 0.000\n",
      " Average Recall     (AR) @[ IoU=0.50:0.95 | area=medium | maxDets=100 ] = 0.343\n",
      " Average Recall     (AR) @[ IoU=0.50:0.95 | area= large | maxDets=100 ] = -1.000\n",
      "\u001b[0m\n",
      "\u001b[32m2023-05-03 13:31:02.454\u001b[0m | \u001b[1mINFO    \u001b[0m | \u001b[36mautocare_tx_model.core.trainer.base_trainer\u001b[0m:\u001b[36msave_ckpt\u001b[0m:\u001b[36m302\u001b[0m - \u001b[1mSave weights to hubs/tx_model_mnist_detection/artifacts/train\u001b[0m\n",
      "\u001b[32m2023-05-03 13:31:02.508\u001b[0m | \u001b[1mINFO    \u001b[0m | \u001b[36mautocare_tx_model.core.trainer.det_trainer\u001b[0m:\u001b[36mbefore_epoch\u001b[0m:\u001b[36m143\u001b[0m - \u001b[1m---> start train epoch45\u001b[0m\n"
     ]
    },
    {
     "name": "stdout",
     "output_type": "stream",
     "text": [
      "Loading and preparing results...\n",
      "DONE (t=0.00s)\n",
      "creating index...\n",
      "index created!\n",
      "Evaluate annotation type *bbox*\n",
      "COCOeval_opt.evaluate() finished in 0.00 seconds.\n"
     ]
    },
    {
     "name": "stderr",
     "output_type": "stream",
     "text": [
      "\u001b[32m2023-05-03 13:31:02.787\u001b[0m | \u001b[1mINFO    \u001b[0m | \u001b[36mautocare_tx_model.core.trainer.det_trainer\u001b[0m:\u001b[36mtrain_one_iter\u001b[0m:\u001b[36m276\u001b[0m - \u001b[1mepoch 45 [1/5] - lr: 0.000226 train loss: 0.590837 reg_loss: 0.311869 obj_loss: 0.111279 cls_loss: 0.167689\u001b[0m\n",
      "\u001b[32m2023-05-03 13:31:02.929\u001b[0m | \u001b[1mINFO    \u001b[0m | \u001b[36mautocare_tx_model.core.trainer.det_trainer\u001b[0m:\u001b[36mevaluate_and_save_model\u001b[0m:\u001b[36m201\u001b[0m - \u001b[1mValidation start...\u001b[0m\n",
      "\u001b[32m2023-05-03 13:31:03.107\u001b[0m | \u001b[1mINFO    \u001b[0m | \u001b[36mautocare_tx_model.core.trainer.det_trainer\u001b[0m:\u001b[36mevaluate_and_save_model\u001b[0m:\u001b[36m212\u001b[0m - \u001b[1mEvaluate..\u001b[0m\n",
      "\u001b[32m2023-05-03 13:31:03.112\u001b[0m | \u001b[1mINFO    \u001b[0m | \u001b[36mautocare_tx_model.core.trainer.det_trainer\u001b[0m:\u001b[36mevaluate_and_save_model\u001b[0m:\u001b[36m227\u001b[0m - \u001b[1m\n",
      " Average Precision  (AP) @[ IoU=0.50:0.95 | area=   all | maxDets=100 ] = 0.058\n",
      " Average Precision  (AP) @[ IoU=0.50      | area=   all | maxDets=100 ] = 0.304\n",
      " Average Precision  (AP) @[ IoU=0.75      | area=   all | maxDets=100 ] = 0.005\n",
      " Average Precision  (AP) @[ IoU=0.50:0.95 | area= small | maxDets=100 ] = 0.000\n",
      " Average Precision  (AP) @[ IoU=0.50:0.95 | area=medium | maxDets=100 ] = 0.115\n",
      " Average Precision  (AP) @[ IoU=0.50:0.95 | area= large | maxDets=100 ] = -1.000\n",
      " Average Recall     (AR) @[ IoU=0.50:0.95 | area=   all | maxDets=  1 ] = 0.100\n",
      " Average Recall     (AR) @[ IoU=0.50:0.95 | area=   all | maxDets= 10 ] = 0.129\n",
      " Average Recall     (AR) @[ IoU=0.50:0.95 | area=   all | maxDets=100 ] = 0.129\n",
      " Average Recall     (AR) @[ IoU=0.50:0.95 | area= small | maxDets=100 ] = 0.000\n",
      " Average Recall     (AR) @[ IoU=0.50:0.95 | area=medium | maxDets=100 ] = 0.257\n",
      " Average Recall     (AR) @[ IoU=0.50:0.95 | area= large | maxDets=100 ] = -1.000\n",
      "\u001b[0m\n",
      "\u001b[32m2023-05-03 13:31:03.112\u001b[0m | \u001b[1mINFO    \u001b[0m | \u001b[36mautocare_tx_model.core.trainer.base_trainer\u001b[0m:\u001b[36msave_ckpt\u001b[0m:\u001b[36m302\u001b[0m - \u001b[1mSave weights to hubs/tx_model_mnist_detection/artifacts/train\u001b[0m\n",
      "\u001b[32m2023-05-03 13:31:03.164\u001b[0m | \u001b[1mINFO    \u001b[0m | \u001b[36mautocare_tx_model.core.trainer.det_trainer\u001b[0m:\u001b[36mbefore_epoch\u001b[0m:\u001b[36m143\u001b[0m - \u001b[1m---> start train epoch46\u001b[0m\n"
     ]
    },
    {
     "name": "stdout",
     "output_type": "stream",
     "text": [
      "Loading and preparing results...\n",
      "DONE (t=0.00s)\n",
      "creating index...\n",
      "index created!\n",
      "Evaluate annotation type *bbox*\n",
      "COCOeval_opt.evaluate() finished in 0.00 seconds.\n"
     ]
    },
    {
     "name": "stderr",
     "output_type": "stream",
     "text": [
      "\u001b[32m2023-05-03 13:31:03.427\u001b[0m | \u001b[1mINFO    \u001b[0m | \u001b[36mautocare_tx_model.core.trainer.det_trainer\u001b[0m:\u001b[36mtrain_one_iter\u001b[0m:\u001b[36m276\u001b[0m - \u001b[1mepoch 46 [1/5] - lr: 0.000142 train loss: 1.244600 reg_loss: 0.301033 obj_loss: 0.114694 cls_loss: 0.828873\u001b[0m\n",
      "\u001b[32m2023-05-03 13:31:03.568\u001b[0m | \u001b[1mINFO    \u001b[0m | \u001b[36mautocare_tx_model.core.trainer.det_trainer\u001b[0m:\u001b[36mevaluate_and_save_model\u001b[0m:\u001b[36m201\u001b[0m - \u001b[1mValidation start...\u001b[0m\n",
      "\u001b[32m2023-05-03 13:31:03.745\u001b[0m | \u001b[1mINFO    \u001b[0m | \u001b[36mautocare_tx_model.core.trainer.det_trainer\u001b[0m:\u001b[36mevaluate_and_save_model\u001b[0m:\u001b[36m212\u001b[0m - \u001b[1mEvaluate..\u001b[0m\n",
      "\u001b[32m2023-05-03 13:31:03.750\u001b[0m | \u001b[1mINFO    \u001b[0m | \u001b[36mautocare_tx_model.core.trainer.det_trainer\u001b[0m:\u001b[36mevaluate_and_save_model\u001b[0m:\u001b[36m227\u001b[0m - \u001b[1m\n",
      " Average Precision  (AP) @[ IoU=0.50:0.95 | area=   all | maxDets=100 ] = 0.058\n",
      " Average Precision  (AP) @[ IoU=0.50      | area=   all | maxDets=100 ] = 0.302\n",
      " Average Precision  (AP) @[ IoU=0.75      | area=   all | maxDets=100 ] = 0.005\n",
      " Average Precision  (AP) @[ IoU=0.50:0.95 | area= small | maxDets=100 ] = 0.000\n",
      " Average Precision  (AP) @[ IoU=0.50:0.95 | area=medium | maxDets=100 ] = 0.116\n",
      " Average Precision  (AP) @[ IoU=0.50:0.95 | area= large | maxDets=100 ] = -1.000\n",
      " Average Recall     (AR) @[ IoU=0.50:0.95 | area=   all | maxDets=  1 ] = 0.100\n",
      " Average Recall     (AR) @[ IoU=0.50:0.95 | area=   all | maxDets= 10 ] = 0.129\n",
      " Average Recall     (AR) @[ IoU=0.50:0.95 | area=   all | maxDets=100 ] = 0.129\n",
      " Average Recall     (AR) @[ IoU=0.50:0.95 | area= small | maxDets=100 ] = 0.000\n",
      " Average Recall     (AR) @[ IoU=0.50:0.95 | area=medium | maxDets=100 ] = 0.257\n",
      " Average Recall     (AR) @[ IoU=0.50:0.95 | area= large | maxDets=100 ] = -1.000\n",
      "\u001b[0m\n",
      "\u001b[32m2023-05-03 13:31:03.750\u001b[0m | \u001b[1mINFO    \u001b[0m | \u001b[36mautocare_tx_model.core.trainer.base_trainer\u001b[0m:\u001b[36msave_ckpt\u001b[0m:\u001b[36m302\u001b[0m - \u001b[1mSave weights to hubs/tx_model_mnist_detection/artifacts/train\u001b[0m\n",
      "\u001b[32m2023-05-03 13:31:03.802\u001b[0m | \u001b[1mINFO    \u001b[0m | \u001b[36mautocare_tx_model.core.trainer.det_trainer\u001b[0m:\u001b[36mbefore_epoch\u001b[0m:\u001b[36m143\u001b[0m - \u001b[1m---> start train epoch47\u001b[0m\n"
     ]
    },
    {
     "name": "stdout",
     "output_type": "stream",
     "text": [
      "Loading and preparing results...\n",
      "DONE (t=0.00s)\n",
      "creating index...\n",
      "index created!\n",
      "Evaluate annotation type *bbox*\n",
      "COCOeval_opt.evaluate() finished in 0.00 seconds.\n"
     ]
    },
    {
     "name": "stderr",
     "output_type": "stream",
     "text": [
      "\u001b[32m2023-05-03 13:31:04.037\u001b[0m | \u001b[1mINFO    \u001b[0m | \u001b[36mautocare_tx_model.core.trainer.det_trainer\u001b[0m:\u001b[36mtrain_one_iter\u001b[0m:\u001b[36m276\u001b[0m - \u001b[1mepoch 47 [1/5] - lr: 0.000077 train loss: 0.728842 reg_loss: 0.308844 obj_loss: 0.111722 cls_loss: 0.308275\u001b[0m\n",
      "\u001b[32m2023-05-03 13:31:04.183\u001b[0m | \u001b[1mINFO    \u001b[0m | \u001b[36mautocare_tx_model.core.trainer.det_trainer\u001b[0m:\u001b[36mevaluate_and_save_model\u001b[0m:\u001b[36m201\u001b[0m - \u001b[1mValidation start...\u001b[0m\n",
      "\u001b[32m2023-05-03 13:31:04.358\u001b[0m | \u001b[1mINFO    \u001b[0m | \u001b[36mautocare_tx_model.core.trainer.det_trainer\u001b[0m:\u001b[36mevaluate_and_save_model\u001b[0m:\u001b[36m212\u001b[0m - \u001b[1mEvaluate..\u001b[0m\n",
      "\u001b[32m2023-05-03 13:31:04.362\u001b[0m | \u001b[1mINFO    \u001b[0m | \u001b[36mautocare_tx_model.core.trainer.det_trainer\u001b[0m:\u001b[36mevaluate_and_save_model\u001b[0m:\u001b[36m227\u001b[0m - \u001b[1m\n",
      " Average Precision  (AP) @[ IoU=0.50:0.95 | area=   all | maxDets=100 ] = 0.057\n",
      " Average Precision  (AP) @[ IoU=0.50      | area=   all | maxDets=100 ] = 0.299\n",
      " Average Precision  (AP) @[ IoU=0.75      | area=   all | maxDets=100 ] = 0.000\n",
      " Average Precision  (AP) @[ IoU=0.50:0.95 | area= small | maxDets=100 ] = 0.000\n",
      " Average Precision  (AP) @[ IoU=0.50:0.95 | area=medium | maxDets=100 ] = 0.114\n",
      " Average Precision  (AP) @[ IoU=0.50:0.95 | area= large | maxDets=100 ] = -1.000\n",
      " Average Recall     (AR) @[ IoU=0.50:0.95 | area=   all | maxDets=  1 ] = 0.100\n",
      " Average Recall     (AR) @[ IoU=0.50:0.95 | area=   all | maxDets= 10 ] = 0.121\n",
      " Average Recall     (AR) @[ IoU=0.50:0.95 | area=   all | maxDets=100 ] = 0.121\n",
      " Average Recall     (AR) @[ IoU=0.50:0.95 | area= small | maxDets=100 ] = 0.000\n",
      " Average Recall     (AR) @[ IoU=0.50:0.95 | area=medium | maxDets=100 ] = 0.243\n",
      " Average Recall     (AR) @[ IoU=0.50:0.95 | area= large | maxDets=100 ] = -1.000\n",
      "\u001b[0m\n",
      "\u001b[32m2023-05-03 13:31:04.363\u001b[0m | \u001b[1mINFO    \u001b[0m | \u001b[36mautocare_tx_model.core.trainer.base_trainer\u001b[0m:\u001b[36msave_ckpt\u001b[0m:\u001b[36m302\u001b[0m - \u001b[1mSave weights to hubs/tx_model_mnist_detection/artifacts/train\u001b[0m\n",
      "\u001b[32m2023-05-03 13:31:04.414\u001b[0m | \u001b[1mINFO    \u001b[0m | \u001b[36mautocare_tx_model.core.trainer.det_trainer\u001b[0m:\u001b[36mbefore_epoch\u001b[0m:\u001b[36m143\u001b[0m - \u001b[1m---> start train epoch48\u001b[0m\n"
     ]
    },
    {
     "name": "stdout",
     "output_type": "stream",
     "text": [
      "Loading and preparing results...\n",
      "DONE (t=0.00s)\n",
      "creating index...\n",
      "index created!\n",
      "Evaluate annotation type *bbox*\n",
      "COCOeval_opt.evaluate() finished in 0.00 seconds.\n"
     ]
    },
    {
     "name": "stderr",
     "output_type": "stream",
     "text": [
      "\u001b[32m2023-05-03 13:31:04.694\u001b[0m | \u001b[1mINFO    \u001b[0m | \u001b[36mautocare_tx_model.core.trainer.det_trainer\u001b[0m:\u001b[36mtrain_one_iter\u001b[0m:\u001b[36m276\u001b[0m - \u001b[1mepoch 48 [1/5] - lr: 0.000032 train loss: 0.653236 reg_loss: 0.302315 obj_loss: 0.114320 cls_loss: 0.236601\u001b[0m\n",
      "\u001b[32m2023-05-03 13:31:04.838\u001b[0m | \u001b[1mINFO    \u001b[0m | \u001b[36mautocare_tx_model.core.trainer.det_trainer\u001b[0m:\u001b[36mevaluate_and_save_model\u001b[0m:\u001b[36m201\u001b[0m - \u001b[1mValidation start...\u001b[0m\n",
      "\u001b[32m2023-05-03 13:31:05.015\u001b[0m | \u001b[1mINFO    \u001b[0m | \u001b[36mautocare_tx_model.core.trainer.det_trainer\u001b[0m:\u001b[36mevaluate_and_save_model\u001b[0m:\u001b[36m212\u001b[0m - \u001b[1mEvaluate..\u001b[0m\n",
      "\u001b[32m2023-05-03 13:31:05.020\u001b[0m | \u001b[1mINFO    \u001b[0m | \u001b[36mautocare_tx_model.core.trainer.det_trainer\u001b[0m:\u001b[36mevaluate_and_save_model\u001b[0m:\u001b[36m227\u001b[0m - \u001b[1m\n",
      " Average Precision  (AP) @[ IoU=0.50:0.95 | area=   all | maxDets=100 ] = 0.069\n",
      " Average Precision  (AP) @[ IoU=0.50      | area=   all | maxDets=100 ] = 0.293\n",
      " Average Precision  (AP) @[ IoU=0.75      | area=   all | maxDets=100 ] = 0.000\n",
      " Average Precision  (AP) @[ IoU=0.50:0.95 | area= small | maxDets=100 ] = 0.000\n",
      " Average Precision  (AP) @[ IoU=0.50:0.95 | area=medium | maxDets=100 ] = 0.138\n",
      " Average Precision  (AP) @[ IoU=0.50:0.95 | area= large | maxDets=100 ] = -1.000\n",
      " Average Recall     (AR) @[ IoU=0.50:0.95 | area=   all | maxDets=  1 ] = 0.107\n",
      " Average Recall     (AR) @[ IoU=0.50:0.95 | area=   all | maxDets= 10 ] = 0.129\n",
      " Average Recall     (AR) @[ IoU=0.50:0.95 | area=   all | maxDets=100 ] = 0.129\n",
      " Average Recall     (AR) @[ IoU=0.50:0.95 | area= small | maxDets=100 ] = 0.000\n",
      " Average Recall     (AR) @[ IoU=0.50:0.95 | area=medium | maxDets=100 ] = 0.257\n",
      " Average Recall     (AR) @[ IoU=0.50:0.95 | area= large | maxDets=100 ] = -1.000\n",
      "\u001b[0m\n",
      "\u001b[32m2023-05-03 13:31:05.020\u001b[0m | \u001b[1mINFO    \u001b[0m | \u001b[36mautocare_tx_model.core.trainer.base_trainer\u001b[0m:\u001b[36msave_ckpt\u001b[0m:\u001b[36m302\u001b[0m - \u001b[1mSave weights to hubs/tx_model_mnist_detection/artifacts/train\u001b[0m\n",
      "\u001b[32m2023-05-03 13:31:05.074\u001b[0m | \u001b[1mINFO    \u001b[0m | \u001b[36mautocare_tx_model.core.trainer.det_trainer\u001b[0m:\u001b[36mbefore_epoch\u001b[0m:\u001b[36m143\u001b[0m - \u001b[1m---> start train epoch49\u001b[0m\n"
     ]
    },
    {
     "name": "stdout",
     "output_type": "stream",
     "text": [
      "Loading and preparing results...\n",
      "DONE (t=0.00s)\n",
      "creating index...\n",
      "index created!\n",
      "Evaluate annotation type *bbox*\n",
      "COCOeval_opt.evaluate() finished in 0.00 seconds.\n"
     ]
    },
    {
     "name": "stderr",
     "output_type": "stream",
     "text": [
      "\u001b[32m2023-05-03 13:31:05.346\u001b[0m | \u001b[1mINFO    \u001b[0m | \u001b[36mautocare_tx_model.core.trainer.det_trainer\u001b[0m:\u001b[36mtrain_one_iter\u001b[0m:\u001b[36m276\u001b[0m - \u001b[1mepoch 49 [1/5] - lr: 0.000006 train loss: 0.927646 reg_loss: 0.295947 obj_loss: 0.114584 cls_loss: 0.517115\u001b[0m\n",
      "\u001b[32m2023-05-03 13:31:05.490\u001b[0m | \u001b[1mINFO    \u001b[0m | \u001b[36mautocare_tx_model.core.trainer.det_trainer\u001b[0m:\u001b[36mevaluate_and_save_model\u001b[0m:\u001b[36m201\u001b[0m - \u001b[1mValidation start...\u001b[0m\n",
      "\u001b[32m2023-05-03 13:31:05.667\u001b[0m | \u001b[1mINFO    \u001b[0m | \u001b[36mautocare_tx_model.core.trainer.det_trainer\u001b[0m:\u001b[36mevaluate_and_save_model\u001b[0m:\u001b[36m212\u001b[0m - \u001b[1mEvaluate..\u001b[0m\n",
      "\u001b[32m2023-05-03 13:31:05.672\u001b[0m | \u001b[1mINFO    \u001b[0m | \u001b[36mautocare_tx_model.core.trainer.det_trainer\u001b[0m:\u001b[36mevaluate_and_save_model\u001b[0m:\u001b[36m227\u001b[0m - \u001b[1m\n",
      " Average Precision  (AP) @[ IoU=0.50:0.95 | area=   all | maxDets=100 ] = 0.069\n",
      " Average Precision  (AP) @[ IoU=0.50      | area=   all | maxDets=100 ] = 0.293\n",
      " Average Precision  (AP) @[ IoU=0.75      | area=   all | maxDets=100 ] = 0.000\n",
      " Average Precision  (AP) @[ IoU=0.50:0.95 | area= small | maxDets=100 ] = 0.000\n",
      " Average Precision  (AP) @[ IoU=0.50:0.95 | area=medium | maxDets=100 ] = 0.138\n",
      " Average Precision  (AP) @[ IoU=0.50:0.95 | area= large | maxDets=100 ] = -1.000\n",
      " Average Recall     (AR) @[ IoU=0.50:0.95 | area=   all | maxDets=  1 ] = 0.107\n",
      " Average Recall     (AR) @[ IoU=0.50:0.95 | area=   all | maxDets= 10 ] = 0.129\n",
      " Average Recall     (AR) @[ IoU=0.50:0.95 | area=   all | maxDets=100 ] = 0.129\n",
      " Average Recall     (AR) @[ IoU=0.50:0.95 | area= small | maxDets=100 ] = 0.000\n",
      " Average Recall     (AR) @[ IoU=0.50:0.95 | area=medium | maxDets=100 ] = 0.257\n",
      " Average Recall     (AR) @[ IoU=0.50:0.95 | area= large | maxDets=100 ] = -1.000\n",
      "\u001b[0m\n",
      "\u001b[32m2023-05-03 13:31:05.672\u001b[0m | \u001b[1mINFO    \u001b[0m | \u001b[36mautocare_tx_model.core.trainer.base_trainer\u001b[0m:\u001b[36msave_ckpt\u001b[0m:\u001b[36m302\u001b[0m - \u001b[1mSave weights to hubs/tx_model_mnist_detection/artifacts/train\u001b[0m\n",
      "\u001b[32m2023-05-03 13:31:05.726\u001b[0m | \u001b[1mINFO    \u001b[0m | \u001b[36mautocare_tx_model.core.trainer.det_trainer\u001b[0m:\u001b[36mafter_train\u001b[0m:\u001b[36m131\u001b[0m - \u001b[1mTraining of experiment is done and the best validation AP is 7.33\u001b[0m\n",
      "\u001b[32m2023-05-03 13:31:05.726\u001b[0m | \u001b[1mINFO    \u001b[0m | \u001b[36mautocare_tx_model.core.trainer.det_trainer\u001b[0m:\u001b[36mtest_model\u001b[0m:\u001b[36m166\u001b[0m - \u001b[1mTest start...\u001b[0m\n"
     ]
    },
    {
     "name": "stdout",
     "output_type": "stream",
     "text": [
      "Loading and preparing results...\n",
      "DONE (t=0.00s)\n",
      "creating index...\n",
      "index created!\n",
      "Evaluate annotation type *bbox*\n",
      "COCOeval_opt.evaluate() finished in 0.00 seconds.\n"
     ]
    },
    {
     "name": "stderr",
     "output_type": "stream",
     "text": [
      "\u001b[32m2023-05-03 13:31:05.921\u001b[0m | \u001b[1mINFO    \u001b[0m | \u001b[36mautocare_tx_model.core.trainer.det_trainer\u001b[0m:\u001b[36mtest_model\u001b[0m:\u001b[36m187\u001b[0m - \u001b[1mEvaluate..\u001b[0m\n",
      "\u001b[32m2023-05-03 13:31:05.926\u001b[0m | \u001b[1mINFO    \u001b[0m | \u001b[36mautocare_tx_model.core.trainer.det_trainer\u001b[0m:\u001b[36mtest_model\u001b[0m:\u001b[36m197\u001b[0m - \u001b[1m\n",
      " Average Precision  (AP) @[ IoU=0.50:0.95 | area=   all | maxDets=100 ] = 0.189\n",
      " Average Precision  (AP) @[ IoU=0.50      | area=   all | maxDets=100 ] = 0.417\n",
      " Average Precision  (AP) @[ IoU=0.75      | area=   all | maxDets=100 ] = 0.019\n",
      " Average Precision  (AP) @[ IoU=0.50:0.95 | area= small | maxDets=100 ] = 0.000\n",
      " Average Precision  (AP) @[ IoU=0.50:0.95 | area=medium | maxDets=100 ] = 0.189\n",
      " Average Precision  (AP) @[ IoU=0.50:0.95 | area= large | maxDets=100 ] = -1.000\n",
      " Average Recall     (AR) @[ IoU=0.50:0.95 | area=   all | maxDets=  1 ] = 0.217\n",
      " Average Recall     (AR) @[ IoU=0.50:0.95 | area=   all | maxDets= 10 ] = 0.267\n",
      " Average Recall     (AR) @[ IoU=0.50:0.95 | area=   all | maxDets=100 ] = 0.267\n",
      " Average Recall     (AR) @[ IoU=0.50:0.95 | area= small | maxDets=100 ] = 0.000\n",
      " Average Recall     (AR) @[ IoU=0.50:0.95 | area=medium | maxDets=100 ] = 0.267\n",
      " Average Recall     (AR) @[ IoU=0.50:0.95 | area= large | maxDets=100 ] = -1.000\n",
      " AP50:95 per classes\n",
      " 1                   0.000000, 2                   0.378988,\n",
      " AP50 per classes\n",
      " 1                   0.000000, 2                   0.834158,\u001b[0m\n"
     ]
    },
    {
     "name": "stdout",
     "output_type": "stream",
     "text": [
      "Loading and preparing results...\n",
      "DONE (t=0.00s)\n",
      "creating index...\n",
      "index created!\n",
      "Evaluate annotation type *bbox*\n",
      "COCOeval_opt.evaluate() finished in 0.00 seconds.\n"
     ]
    },
    {
     "data": {
      "text/plain": [
       "TrainResult(best_ckpt_file=PosixPath('hubs/tx_model_mnist_detection/weights/best_ckpt.pt'), last_ckpt_file=PosixPath('hubs/tx_model_mnist_detection/weights/last_ckpt.pt'), metrics=[])"
      ]
     },
     "execution_count": 15,
     "metadata": {},
     "output_type": "execute_result"
    }
   ],
   "source": [
    "dataset_dir = dataset.export(DataType.TX_MODEL)\n",
    "train_result = tx_model_hub.train(\n",
    "    dataset_dir,\n",
    "    image_size=320,\n",
    "    epochs=50,\n",
    "    batch_size=16,\n",
    "    pretrained_model=\"base_models/detectors/small/model.pth\"\n",
    ")\n",
    "train_result"
   ]
  },
  {
   "attachments": {},
   "cell_type": "markdown",
   "metadata": {},
   "source": [
    "## Evaluate"
   ]
  },
  {
   "cell_type": "code",
   "execution_count": 16,
   "metadata": {},
   "outputs": [
    {
     "name": "stderr",
     "output_type": "stream",
     "text": [
      "100%|██████████| 3/3 [00:00<00:00, 25.25it/s]\n"
     ]
    },
    {
     "data": {
      "text/plain": [
       "EvaluateResult(metrics=[{'tag': 'mAP', 'value': 0.8066571950912476}])"
      ]
     },
     "execution_count": 16,
     "metadata": {},
     "output_type": "execute_result"
    }
   ],
   "source": [
    "ultralytics_hub = UltralyticsHub.load(\"ultralytics_mnist_detection\")\n",
    "ultralytics_hub.evaluate(\"mnist_det\", set_name=\"test\")"
   ]
  },
  {
   "cell_type": "code",
   "execution_count": 17,
   "metadata": {},
   "outputs": [
    {
     "name": "stderr",
     "output_type": "stream",
     "text": [
      "100%|██████████| 3/3 [00:00<00:00, 21.73it/s]\n"
     ]
    },
    {
     "data": {
      "text/plain": [
       "EvaluateResult(metrics=[{'tag': 'mAP', 'value': 0.18526874482631683}])"
      ]
     },
     "execution_count": 17,
     "metadata": {},
     "output_type": "execute_result"
    }
   ],
   "source": [
    "huggingface_hub = HuggingFaceHub.load(\"huggingface_mnist_detection\")\n",
    "huggingface_hub.evaluate(\"mnist_det\", set_name=\"test\")"
   ]
  },
  {
   "cell_type": "code",
   "execution_count": 25,
   "metadata": {},
   "outputs": [
    {
     "name": "stderr",
     "output_type": "stream",
     "text": [
      "100%|██████████| 3/3 [00:00<00:00, 25.43it/s]\n"
     ]
    },
    {
     "data": {
      "text/plain": [
       "EvaluateResult(metrics=[{'tag': 'mAP', 'value': 0.1792079210281372}])"
      ]
     },
     "execution_count": 25,
     "metadata": {},
     "output_type": "execute_result"
    }
   ],
   "source": [
    "tx_model_hub = TxModelHub.load(\"tx_model_mnist_detection\")\n",
    "tx_model_hub.evaluate(\"mnist_det\", set_name=\"test\")"
   ]
  },
  {
   "attachments": {},
   "cell_type": "markdown",
   "metadata": {},
   "source": [
    "## Inference"
   ]
  },
  {
   "cell_type": "code",
   "execution_count": 18,
   "metadata": {},
   "outputs": [],
   "source": [
    "import PIL.Image"
   ]
  },
  {
   "cell_type": "code",
   "execution_count": 19,
   "metadata": {},
   "outputs": [
    {
     "name": "stderr",
     "output_type": "stream",
     "text": [
      "100%|██████████| 25/25 [00:00<00:00, 54.73it/s]\n"
     ]
    },
    {
     "data": {
      "image/png": "[encoded data removed]",
      "text/plain": [
       "<PIL.PngImagePlugin.PngImageFile image mode=RGB size=300x300>"
      ]
     },
     "execution_count": 19,
     "metadata": {},
     "output_type": "execute_result"
    }
   ],
   "source": [
    "ultralytics_hub = UltralyticsHub.load(\"ultralytics_mnist_detection\")\n",
    "ultralytics_hub.inference(\"mnist/images\", draw=True)\n",
    "PIL.Image.open(ultralytics_hub.draw_dir / \"1.png\")"
   ]
  },
  {
   "cell_type": "code",
   "execution_count": 20,
   "metadata": {},
   "outputs": [
    {
     "name": "stderr",
     "output_type": "stream",
     "text": [
      "100%|██████████| 25/25 [00:00<00:00, 42.81it/s]\n"
     ]
    },
    {
     "data": {
      "image/png": "[encoded data removed]",
      "text/plain": [
       "<PIL.PngImagePlugin.PngImageFile image mode=RGB size=300x300>"
      ]
     },
     "execution_count": 20,
     "metadata": {},
     "output_type": "execute_result"
    }
   ],
   "source": [
    "huggingface_hub = HuggingFaceHub.load(\"huggingface_mnist_detection\")\n",
    "huggingface_hub.inference(\"mnist/images\", draw=True)\n",
    "PIL.Image.open(huggingface_hub.draw_dir / \"1.png\")"
   ]
  },
  {
   "cell_type": "code",
   "execution_count": 21,
   "metadata": {},
   "outputs": [
    {
     "name": "stderr",
     "output_type": "stream",
     "text": [
      "100%|██████████| 25/25 [00:00<00:00, 62.38it/s]\n"
     ]
    },
    {
     "data": {
      "image/png": "[encoded data removed]",
      "text/plain": [
       "<PIL.PngImagePlugin.PngImageFile image mode=RGB size=300x300>"
      ]
     },
     "execution_count": 21,
     "metadata": {},
     "output_type": "execute_result"
    }
   ],
   "source": [
    "tx_model_hub = TxModelHub.load(\"tx_model_mnist_detection\")\n",
    "tx_model_hub.inference(\"mnist/images\", draw=True)\n",
    "PIL.Image.open(tx_model_hub.draw_dir / \"1.png\")"
   ]
  },
  {
   "attachments": {},
   "cell_type": "markdown",
   "metadata": {},
   "source": [
    "## Export to onnx"
   ]
  },
  {
   "cell_type": "code",
   "execution_count": 22,
   "metadata": {},
   "outputs": [
    {
     "name": "stderr",
     "output_type": "stream",
     "text": [
      "/home/lhj/anaconda3/envs/waffle/lib/python3.9/site-packages/ultralytics/nn/modules.py:474: TracerWarning: Converting a tensor to a Python boolean might cause the trace to be incorrect. We can't record the data flow of Python values, so this value will be treated as a constant in the future. This means that the trace might not generalize to other inputs!\n",
      "  elif self.dynamic or self.shape != shape:\n",
      "/home/lhj/anaconda3/envs/waffle/lib/python3.9/site-packages/ultralytics/yolo/utils/tal.py:241: TracerWarning: Iterating over a tensor might cause the trace to be incorrect. Passing a tensor of different shape won't change the number of iterations executed (and might lead to errors or silently give incorrect results).\n",
      "  for i, stride in enumerate(strides):\n",
      "/home/lhj/anaconda3/envs/waffle/lib/python3.9/site-packages/torch/onnx/utils.py:617: UserWarning: ONNX Preprocess - Removing mutation from node aten::sub_ on block input: 'tensor.1'. This changes graph semantics. (Triggered internally at ../torch/csrc/jit/passes/onnx/remove_inplace_ops_for_onnx.cpp:335.)\n",
      "  _C._jit_pass_onnx_remove_inplace_ops_for_onnx(graph, module)\n"
     ]
    },
    {
     "data": {
      "text/plain": [
       "ExportResult(export_file=PosixPath('hubs/ultralytics_mnist_detection/weights/model.onnx'))"
      ]
     },
     "execution_count": 22,
     "metadata": {},
     "output_type": "execute_result"
    }
   ],
   "source": [
    "ultralytics_hub.export()"
   ]
  },
  {
   "cell_type": "code",
   "execution_count": 23,
   "metadata": {},
   "outputs": [
    {
     "name": "stderr",
     "output_type": "stream",
     "text": [
      "/home/lhj/anaconda3/envs/waffle/lib/python3.9/site-packages/transformers/models/detr/modeling_detr.py:575: TracerWarning: Converting a tensor to a Python boolean might cause the trace to be incorrect. We can't record the data flow of Python values, so this value will be treated as a constant in the future. This means that the trace might not generalize to other inputs!\n",
      "  if attn_weights.size() != (batch_size * self.num_heads, target_len, source_len):\n",
      "/home/lhj/anaconda3/envs/waffle/lib/python3.9/site-packages/transformers/models/detr/modeling_detr.py:582: TracerWarning: Converting a tensor to a Python boolean might cause the trace to be incorrect. We can't record the data flow of Python values, so this value will be treated as a constant in the future. This means that the trace might not generalize to other inputs!\n",
      "  if attention_mask.size() != (batch_size, 1, target_len, source_len):\n",
      "/home/lhj/anaconda3/envs/waffle/lib/python3.9/site-packages/transformers/models/detr/modeling_detr.py:606: TracerWarning: Converting a tensor to a Python boolean might cause the trace to be incorrect. We can't record the data flow of Python values, so this value will be treated as a constant in the future. This means that the trace might not generalize to other inputs!\n",
      "  if attn_output.size() != (batch_size * self.num_heads, target_len, self.head_dim):\n",
      "/home/lhj/anaconda3/envs/waffle/lib/python3.9/site-packages/transformers/models/detr/image_processing_detr.py:1567: TracerWarning: Iterating over a tensor might cause the trace to be incorrect. Passing a tensor of different shape won't change the number of iterations executed (and might lead to errors or silently give incorrect results).\n",
      "  for s, l, b in zip(scores, labels, boxes):\n"
     ]
    },
    {
     "data": {
      "text/plain": [
       "ExportResult(export_file=PosixPath('hubs/huggingface_mnist_detection/weights/model.onnx'))"
      ]
     },
     "execution_count": 23,
     "metadata": {},
     "output_type": "execute_result"
    }
   ],
   "source": [
    "huggingface_hub.export()"
   ]
  },
  {
   "cell_type": "code",
   "execution_count": 26,
   "metadata": {},
   "outputs": [
    {
     "name": "stderr",
     "output_type": "stream",
     "text": [
      "/home/lhj/anaconda3/envs/waffle/lib/python3.9/site-packages/torch/onnx/utils.py:617: UserWarning: ONNX Preprocess - Removing mutation from node aten::sub_ on block input: 'tensor.1'. This changes graph semantics. (Triggered internally at ../torch/csrc/jit/passes/onnx/remove_inplace_ops_for_onnx.cpp:335.)\n",
      "  _C._jit_pass_onnx_remove_inplace_ops_for_onnx(graph, module)\n"
     ]
    },
    {
     "data": {
      "text/plain": [
       "ExportResult(export_file=PosixPath('hubs/tx_model_mnist_detection/weights/model.onnx'))"
      ]
     },
     "execution_count": 26,
     "metadata": {},
     "output_type": "execute_result"
    }
   ],
   "source": [
    "tx_model_hub.export(device=\"cpu\")"
   ]
  },
  {
   "attachments": {},
   "cell_type": "markdown",
   "metadata": {},
   "source": [
    "## Benchmark"
   ]
  },
  {
   "cell_type": "code",
   "execution_count": 27,
   "metadata": {},
   "outputs": [
    {
     "name": "stderr",
     "output_type": "stream",
     "text": [
      "100%|██████████| 100/100 [00:01<00:00, 97.22it/s]\n"
     ]
    },
    {
     "data": {
      "text/plain": [
       "{'inference_time': 1.0294418334960938,\n",
       " 'fps': 1554.2403154204742,\n",
       " 'image_size': [320, 320],\n",
       " 'batch_size': 16,\n",
       " 'precision': 'fp32',\n",
       " 'device': 'cuda:0',\n",
       " 'cpu_name': '13th Gen Intel(R) Core(TM) i9-13900KF',\n",
       " 'gpu_name': 'NVIDIA GeForce RTX 4090'}"
      ]
     },
     "execution_count": 27,
     "metadata": {},
     "output_type": "execute_result"
    }
   ],
   "source": [
    "ultralytics_hub.benchmark(image_size=320, batch_size=16)"
   ]
  },
  {
   "cell_type": "code",
   "execution_count": 28,
   "metadata": {},
   "outputs": [
    {
     "name": "stderr",
     "output_type": "stream",
     "text": [
      "100%|██████████| 100/100 [00:02<00:00, 42.96it/s]\n"
     ]
    },
    {
     "data": {
      "text/plain": [
       "{'inference_time': 2.328606128692627,\n",
       " 'fps': 687.1063252325563,\n",
       " 'image_size': [320, 320],\n",
       " 'batch_size': 16,\n",
       " 'precision': 'fp32',\n",
       " 'device': 'cuda:0',\n",
       " 'cpu_name': '13th Gen Intel(R) Core(TM) i9-13900KF',\n",
       " 'gpu_name': 'NVIDIA GeForce RTX 4090'}"
      ]
     },
     "execution_count": 28,
     "metadata": {},
     "output_type": "execute_result"
    }
   ],
   "source": [
    "huggingface_hub.benchmark(image_size=320, batch_size=16)"
   ]
  },
  {
   "cell_type": "code",
   "execution_count": 29,
   "metadata": {},
   "outputs": [
    {
     "name": "stderr",
     "output_type": "stream",
     "text": [
      "100%|██████████| 100/100 [00:00<00:00, 113.23it/s]\n"
     ]
    },
    {
     "data": {
      "text/plain": [
       "{'inference_time': 0.8841898441314697,\n",
       " 'fps': 1809.5661362992278,\n",
       " 'image_size': [320, 320],\n",
       " 'batch_size': 16,\n",
       " 'precision': 'fp32',\n",
       " 'device': 'cuda:0',\n",
       " 'cpu_name': '13th Gen Intel(R) Core(TM) i9-13900KF',\n",
       " 'gpu_name': 'NVIDIA GeForce RTX 4090'}"
      ]
     },
     "execution_count": 29,
     "metadata": {},
     "output_type": "execute_result"
    }
   ],
   "source": [
    "tx_model_hub.benchmark(image_size=320, batch_size=16)"
   ]
  },
  {
   "cell_type": "code",
   "execution_count": null,
   "metadata": {},
   "outputs": [],
   "source": []
  }
 ],
 "metadata": {
  "kernelspec": {
   "display_name": "waffle",
   "language": "python",
   "name": "python3"
  },
  "language_info": {
   "codemirror_mode": {
    "name": "ipython",
    "version": 3
   },
   "file_extension": ".py",
   "mimetype": "text/x-python",
   "name": "python",
   "nbconvert_exporter": "python",
   "pygments_lexer": "ipython3",
   "version": "3.9.16"
  },
  "orig_nbformat": 4
 },
 "nbformat": 4,
 "nbformat_minor": 2
}
